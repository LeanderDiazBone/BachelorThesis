{
 "cells": [
  {
   "cell_type": "code",
   "execution_count": 15,
   "metadata": {},
   "outputs": [],
   "source": [
    "import numpy as np\n",
    "import scanpy as sc\n",
    "import anndata\n",
    "import scvi\n",
    "from scib_metrics.benchmark import Benchmarker\n",
    "%matplotlib inline\n",
    "import torch"
   ]
  },
  {
   "cell_type": "code",
   "execution_count": 16,
   "metadata": {},
   "outputs": [],
   "source": [
    "adata = sc.read(\n",
    "    \"data/lung_atlas.h5ad\",\n",
    "    backup_url=\"https://figshare.com/ndownloader/files/24539942\",\n",
    ")"
   ]
  },
  {
   "cell_type": "code",
   "execution_count": 17,
   "metadata": {},
   "outputs": [
    {
     "ename": "KeyboardInterrupt",
     "evalue": "",
     "output_type": "error",
     "traceback": [
      "\u001b[0;31m---------------------------------------------------------------------------\u001b[0m",
      "\u001b[0;31mKeyboardInterrupt\u001b[0m                         Traceback (most recent call last)",
      "Cell \u001b[0;32mIn[17], line 2\u001b[0m\n\u001b[1;32m      1\u001b[0m sc\u001b[39m.\u001b[39mpp\u001b[39m.\u001b[39mhighly_variable_genes(adata, n_top_genes\u001b[39m=\u001b[39m\u001b[39m2000\u001b[39m, flavor\u001b[39m=\u001b[39m\u001b[39m\"\u001b[39m\u001b[39mcell_ranger\u001b[39m\u001b[39m\"\u001b[39m, batch_key\u001b[39m=\u001b[39m\u001b[39m\"\u001b[39m\u001b[39mbatch\u001b[39m\u001b[39m\"\u001b[39m)\n\u001b[0;32m----> 2\u001b[0m sc\u001b[39m.\u001b[39;49mtl\u001b[39m.\u001b[39;49mpca(adata, n_comps\u001b[39m=\u001b[39;49m\u001b[39m30\u001b[39;49m, use_highly_variable\u001b[39m=\u001b[39;49m\u001b[39mTrue\u001b[39;49;00m)\n",
      "File \u001b[0;32m/local/data/anaconda3/envs/BT/lib/python3.11/site-packages/scanpy/preprocessing/_pca.py:200\u001b[0m, in \u001b[0;36mpca\u001b[0;34m(data, n_comps, zero_center, svd_solver, random_state, return_info, use_highly_variable, dtype, copy, chunked, chunk_size)\u001b[0m\n\u001b[1;32m    194\u001b[0m \u001b[39mif\u001b[39;00m svd_solver \u001b[39mnot\u001b[39;00m \u001b[39min\u001b[39;00m {\u001b[39m'\u001b[39m\u001b[39mlobpcg\u001b[39m\u001b[39m'\u001b[39m, \u001b[39m'\u001b[39m\u001b[39marpack\u001b[39m\u001b[39m'\u001b[39m}:\n\u001b[1;32m    195\u001b[0m     \u001b[39mraise\u001b[39;00m \u001b[39mValueError\u001b[39;00m(\n\u001b[1;32m    196\u001b[0m         \u001b[39m'\u001b[39m\u001b[39msvd_solver: \u001b[39m\u001b[39m{svd_solver}\u001b[39;00m\u001b[39m can not be used with sparse input.\u001b[39m\u001b[39m\\n\u001b[39;00m\u001b[39m'\u001b[39m\n\u001b[1;32m    197\u001b[0m         \u001b[39m'\u001b[39m\u001b[39mUse \u001b[39m\u001b[39m\"\u001b[39m\u001b[39marpack\u001b[39m\u001b[39m\"\u001b[39m\u001b[39m (the default) or \u001b[39m\u001b[39m\"\u001b[39m\u001b[39mlobpcg\u001b[39m\u001b[39m\"\u001b[39m\u001b[39m instead.\u001b[39m\u001b[39m'\u001b[39m\n\u001b[1;32m    198\u001b[0m     )\n\u001b[0;32m--> 200\u001b[0m output \u001b[39m=\u001b[39m _pca_with_sparse(\n\u001b[1;32m    201\u001b[0m     X, n_comps, solver\u001b[39m=\u001b[39;49msvd_solver, random_state\u001b[39m=\u001b[39;49mrandom_state\n\u001b[1;32m    202\u001b[0m )\n\u001b[1;32m    203\u001b[0m \u001b[39m# this is just a wrapper for the results\u001b[39;00m\n\u001b[1;32m    204\u001b[0m X_pca \u001b[39m=\u001b[39m output[\u001b[39m'\u001b[39m\u001b[39mX_pca\u001b[39m\u001b[39m'\u001b[39m]\n",
      "File \u001b[0;32m/local/data/anaconda3/envs/BT/lib/python3.11/site-packages/scanpy/preprocessing/_pca.py:303\u001b[0m, in \u001b[0;36m_pca_with_sparse\u001b[0;34m(X, npcs, solver, mu, random_state)\u001b[0m\n\u001b[1;32m    292\u001b[0m     \u001b[39mreturn\u001b[39;00m XHmat(x) \u001b[39m-\u001b[39m mhmat(ones(x))\n\u001b[1;32m    294\u001b[0m XL \u001b[39m=\u001b[39m LinearOperator(\n\u001b[1;32m    295\u001b[0m     matvec\u001b[39m=\u001b[39mmatvec,\n\u001b[1;32m    296\u001b[0m     dtype\u001b[39m=\u001b[39mX\u001b[39m.\u001b[39mdtype,\n\u001b[0;32m   (...)\u001b[0m\n\u001b[1;32m    300\u001b[0m     rmatmat\u001b[39m=\u001b[39mrmatmat,\n\u001b[1;32m    301\u001b[0m )\n\u001b[0;32m--> 303\u001b[0m u, s, v \u001b[39m=\u001b[39m svds(XL, solver\u001b[39m=\u001b[39;49msolver, k\u001b[39m=\u001b[39;49mnpcs, v0\u001b[39m=\u001b[39;49mrandom_init)\n\u001b[1;32m    304\u001b[0m u, v \u001b[39m=\u001b[39m svd_flip(u, v)\n\u001b[1;32m    305\u001b[0m idx \u001b[39m=\u001b[39m np\u001b[39m.\u001b[39margsort(\u001b[39m-\u001b[39ms)\n",
      "File \u001b[0;32m/local/data/anaconda3/envs/BT/lib/python3.11/site-packages/scipy/sparse/linalg/_eigen/_svds.py:525\u001b[0m, in \u001b[0;36msvds\u001b[0;34m(A, k, ncv, tol, which, v0, maxiter, return_singular_vectors, solver, random_state, options)\u001b[0m\n\u001b[1;32m    523\u001b[0m \u001b[39mif\u001b[39;00m v0 \u001b[39mis\u001b[39;00m \u001b[39mNone\u001b[39;00m:\n\u001b[1;32m    524\u001b[0m     v0 \u001b[39m=\u001b[39m random_state\u001b[39m.\u001b[39mstandard_normal(size\u001b[39m=\u001b[39m(\u001b[39mmin\u001b[39m(A\u001b[39m.\u001b[39mshape),))\n\u001b[0;32m--> 525\u001b[0m _, eigvec \u001b[39m=\u001b[39m eigsh(XH_X, k\u001b[39m=\u001b[39;49mk, tol\u001b[39m=\u001b[39;49mtol \u001b[39m*\u001b[39;49m\u001b[39m*\u001b[39;49m \u001b[39m2\u001b[39;49m, maxiter\u001b[39m=\u001b[39;49mmaxiter,\n\u001b[1;32m    526\u001b[0m                   ncv\u001b[39m=\u001b[39;49mncv, which\u001b[39m=\u001b[39;49mwhich, v0\u001b[39m=\u001b[39;49mv0)\n\u001b[1;32m    527\u001b[0m \u001b[39m# arpack do not guarantee exactly orthonormal eigenvectors\u001b[39;00m\n\u001b[1;32m    528\u001b[0m \u001b[39m# for clustered eigenvalues, especially in complex arithmetic\u001b[39;00m\n\u001b[1;32m    529\u001b[0m eigvec, _ \u001b[39m=\u001b[39m np\u001b[39m.\u001b[39mlinalg\u001b[39m.\u001b[39mqr(eigvec)\n",
      "File \u001b[0;32m/local/data/anaconda3/envs/BT/lib/python3.11/site-packages/scipy/sparse/linalg/_eigen/arpack/arpack.py:1697\u001b[0m, in \u001b[0;36meigsh\u001b[0;34m(A, k, M, sigma, which, v0, ncv, maxiter, tol, return_eigenvectors, Minv, OPinv, mode)\u001b[0m\n\u001b[1;32m   1695\u001b[0m \u001b[39mwith\u001b[39;00m _ARPACK_LOCK:\n\u001b[1;32m   1696\u001b[0m     \u001b[39mwhile\u001b[39;00m \u001b[39mnot\u001b[39;00m params\u001b[39m.\u001b[39mconverged:\n\u001b[0;32m-> 1697\u001b[0m         params\u001b[39m.\u001b[39;49miterate()\n\u001b[1;32m   1699\u001b[0m     \u001b[39mreturn\u001b[39;00m params\u001b[39m.\u001b[39mextract(return_eigenvectors)\n",
      "File \u001b[0;32m/local/data/anaconda3/envs/BT/lib/python3.11/site-packages/scipy/sparse/linalg/_eigen/arpack/arpack.py:549\u001b[0m, in \u001b[0;36m_SymmetricArpackParams.iterate\u001b[0;34m(self)\u001b[0m\n\u001b[1;32m    546\u001b[0m \u001b[39melif\u001b[39;00m \u001b[39mself\u001b[39m\u001b[39m.\u001b[39mido \u001b[39m==\u001b[39m \u001b[39m1\u001b[39m:\n\u001b[1;32m    547\u001b[0m     \u001b[39m# compute y = Op*x\u001b[39;00m\n\u001b[1;32m    548\u001b[0m     \u001b[39mif\u001b[39;00m \u001b[39mself\u001b[39m\u001b[39m.\u001b[39mmode \u001b[39m==\u001b[39m \u001b[39m1\u001b[39m:\n\u001b[0;32m--> 549\u001b[0m         \u001b[39mself\u001b[39m\u001b[39m.\u001b[39mworkd[yslice] \u001b[39m=\u001b[39m \u001b[39mself\u001b[39;49m\u001b[39m.\u001b[39;49mOP(\u001b[39mself\u001b[39;49m\u001b[39m.\u001b[39;49mworkd[xslice])\n\u001b[1;32m    550\u001b[0m     \u001b[39melif\u001b[39;00m \u001b[39mself\u001b[39m\u001b[39m.\u001b[39mmode \u001b[39m==\u001b[39m \u001b[39m2\u001b[39m:\n\u001b[1;32m    551\u001b[0m         \u001b[39mself\u001b[39m\u001b[39m.\u001b[39mworkd[xslice] \u001b[39m=\u001b[39m \u001b[39mself\u001b[39m\u001b[39m.\u001b[39mOPb(\u001b[39mself\u001b[39m\u001b[39m.\u001b[39mworkd[xslice])\n",
      "File \u001b[0;32m/local/data/anaconda3/envs/BT/lib/python3.11/site-packages/scipy/sparse/linalg/_interface.py:234\u001b[0m, in \u001b[0;36mLinearOperator.matvec\u001b[0;34m(self, x)\u001b[0m\n\u001b[1;32m    231\u001b[0m \u001b[39mif\u001b[39;00m x\u001b[39m.\u001b[39mshape \u001b[39m!=\u001b[39m (N,) \u001b[39mand\u001b[39;00m x\u001b[39m.\u001b[39mshape \u001b[39m!=\u001b[39m (N,\u001b[39m1\u001b[39m):\n\u001b[1;32m    232\u001b[0m     \u001b[39mraise\u001b[39;00m \u001b[39mValueError\u001b[39;00m(\u001b[39m'\u001b[39m\u001b[39mdimension mismatch\u001b[39m\u001b[39m'\u001b[39m)\n\u001b[0;32m--> 234\u001b[0m y \u001b[39m=\u001b[39m \u001b[39mself\u001b[39;49m\u001b[39m.\u001b[39;49m_matvec(x)\n\u001b[1;32m    236\u001b[0m \u001b[39mif\u001b[39;00m \u001b[39misinstance\u001b[39m(x, np\u001b[39m.\u001b[39mmatrix):\n\u001b[1;32m    237\u001b[0m     y \u001b[39m=\u001b[39m asmatrix(y)\n",
      "File \u001b[0;32m/local/data/anaconda3/envs/BT/lib/python3.11/site-packages/scipy/sparse/linalg/_interface.py:591\u001b[0m, in \u001b[0;36m_CustomLinearOperator._matvec\u001b[0;34m(self, x)\u001b[0m\n\u001b[1;32m    590\u001b[0m \u001b[39mdef\u001b[39;00m \u001b[39m_matvec\u001b[39m(\u001b[39mself\u001b[39m, x):\n\u001b[0;32m--> 591\u001b[0m     \u001b[39mreturn\u001b[39;00m \u001b[39mself\u001b[39;49m\u001b[39m.\u001b[39;49m__matvec_impl(x)\n",
      "File \u001b[0;32m/local/data/anaconda3/envs/BT/lib/python3.11/site-packages/scipy/sparse/linalg/_eigen/_svds.py:469\u001b[0m, in \u001b[0;36msvds.<locals>.matvec_XH_X\u001b[0;34m(x)\u001b[0m\n\u001b[1;32m    468\u001b[0m \u001b[39mdef\u001b[39;00m \u001b[39mmatvec_XH_X\u001b[39m(x):\n\u001b[0;32m--> 469\u001b[0m     \u001b[39mreturn\u001b[39;00m XH_dot(X_dot(x))\n",
      "File \u001b[0;32m/local/data/anaconda3/envs/BT/lib/python3.11/site-packages/scipy/sparse/linalg/_interface.py:281\u001b[0m, in \u001b[0;36mLinearOperator.rmatvec\u001b[0;34m(self, x)\u001b[0m\n\u001b[1;32m    278\u001b[0m \u001b[39mif\u001b[39;00m x\u001b[39m.\u001b[39mshape \u001b[39m!=\u001b[39m (M,) \u001b[39mand\u001b[39;00m x\u001b[39m.\u001b[39mshape \u001b[39m!=\u001b[39m (M,\u001b[39m1\u001b[39m):\n\u001b[1;32m    279\u001b[0m     \u001b[39mraise\u001b[39;00m \u001b[39mValueError\u001b[39;00m(\u001b[39m'\u001b[39m\u001b[39mdimension mismatch\u001b[39m\u001b[39m'\u001b[39m)\n\u001b[0;32m--> 281\u001b[0m y \u001b[39m=\u001b[39m \u001b[39mself\u001b[39;49m\u001b[39m.\u001b[39;49m_rmatvec(x)\n\u001b[1;32m    283\u001b[0m \u001b[39mif\u001b[39;00m \u001b[39misinstance\u001b[39m(x, np\u001b[39m.\u001b[39mmatrix):\n\u001b[1;32m    284\u001b[0m     y \u001b[39m=\u001b[39m asmatrix(y)\n",
      "File \u001b[0;32m/local/data/anaconda3/envs/BT/lib/python3.11/site-packages/scipy/sparse/linalg/_interface.py:597\u001b[0m, in \u001b[0;36m_CustomLinearOperator._rmatvec\u001b[0;34m(self, x)\u001b[0m\n\u001b[1;32m    595\u001b[0m \u001b[39mif\u001b[39;00m func \u001b[39mis\u001b[39;00m \u001b[39mNone\u001b[39;00m:\n\u001b[1;32m    596\u001b[0m     \u001b[39mraise\u001b[39;00m \u001b[39mNotImplementedError\u001b[39;00m(\u001b[39m\"\u001b[39m\u001b[39mrmatvec is not defined\u001b[39m\u001b[39m\"\u001b[39m)\n\u001b[0;32m--> 597\u001b[0m \u001b[39mreturn\u001b[39;00m \u001b[39mself\u001b[39;49m\u001b[39m.\u001b[39;49m__rmatvec_impl(x)\n",
      "File \u001b[0;32m/local/data/anaconda3/envs/BT/lib/python3.11/site-packages/scanpy/preprocessing/_pca.py:289\u001b[0m, in \u001b[0;36m_pca_with_sparse.<locals>.rmatvec\u001b[0;34m(x)\u001b[0m\n\u001b[1;32m    288\u001b[0m \u001b[39mdef\u001b[39;00m \u001b[39mrmatvec\u001b[39m(x):\n\u001b[0;32m--> 289\u001b[0m     \u001b[39mreturn\u001b[39;00m XHdot(x) \u001b[39m-\u001b[39m mhdot(ones(x))\n",
      "File \u001b[0;32m/local/data/anaconda3/envs/BT/lib/python3.11/site-packages/scipy/sparse/_base.py:411\u001b[0m, in \u001b[0;36m_spbase.dot\u001b[0;34m(self, other)\u001b[0m\n\u001b[1;32m    409\u001b[0m     \u001b[39mreturn\u001b[39;00m \u001b[39mself\u001b[39m \u001b[39m*\u001b[39m other\n\u001b[1;32m    410\u001b[0m \u001b[39melse\u001b[39;00m:\n\u001b[0;32m--> 411\u001b[0m     \u001b[39mreturn\u001b[39;00m \u001b[39mself\u001b[39;49m \u001b[39m@\u001b[39;49m other\n",
      "File \u001b[0;32m/local/data/anaconda3/envs/BT/lib/python3.11/site-packages/scipy/sparse/_base.py:624\u001b[0m, in \u001b[0;36m_spbase.__matmul__\u001b[0;34m(self, other)\u001b[0m\n\u001b[1;32m    621\u001b[0m \u001b[39mif\u001b[39;00m isscalarlike(other):\n\u001b[1;32m    622\u001b[0m     \u001b[39mraise\u001b[39;00m \u001b[39mValueError\u001b[39;00m(\u001b[39m\"\u001b[39m\u001b[39mScalar operands are not allowed, \u001b[39m\u001b[39m\"\u001b[39m\n\u001b[1;32m    623\u001b[0m                      \u001b[39m\"\u001b[39m\u001b[39muse \u001b[39m\u001b[39m'\u001b[39m\u001b[39m*\u001b[39m\u001b[39m'\u001b[39m\u001b[39m instead\u001b[39m\u001b[39m\"\u001b[39m)\n\u001b[0;32m--> 624\u001b[0m \u001b[39mreturn\u001b[39;00m \u001b[39mself\u001b[39;49m\u001b[39m.\u001b[39;49m_mul_dispatch(other)\n",
      "File \u001b[0;32m/local/data/anaconda3/envs/BT/lib/python3.11/site-packages/scipy/sparse/_base.py:522\u001b[0m, in \u001b[0;36m_spbase._mul_dispatch\u001b[0;34m(self, other)\u001b[0m\n\u001b[1;32m    519\u001b[0m \u001b[39mif\u001b[39;00m other\u001b[39m.\u001b[39m\u001b[39m__class__\u001b[39m \u001b[39mis\u001b[39;00m np\u001b[39m.\u001b[39mndarray:\n\u001b[1;32m    520\u001b[0m     \u001b[39m# Fast path for the most common case\u001b[39;00m\n\u001b[1;32m    521\u001b[0m     \u001b[39mif\u001b[39;00m other\u001b[39m.\u001b[39mshape \u001b[39m==\u001b[39m (N,):\n\u001b[0;32m--> 522\u001b[0m         \u001b[39mreturn\u001b[39;00m \u001b[39mself\u001b[39;49m\u001b[39m.\u001b[39;49m_mul_vector(other)\n\u001b[1;32m    523\u001b[0m     \u001b[39melif\u001b[39;00m other\u001b[39m.\u001b[39mshape \u001b[39m==\u001b[39m (N, \u001b[39m1\u001b[39m):\n\u001b[1;32m    524\u001b[0m         \u001b[39mreturn\u001b[39;00m \u001b[39mself\u001b[39m\u001b[39m.\u001b[39m_mul_vector(other\u001b[39m.\u001b[39mravel())\u001b[39m.\u001b[39mreshape(M, \u001b[39m1\u001b[39m)\n",
      "File \u001b[0;32m/local/data/anaconda3/envs/BT/lib/python3.11/site-packages/scipy/sparse/_compressed.py:488\u001b[0m, in \u001b[0;36m_cs_matrix._mul_vector\u001b[0;34m(self, other)\u001b[0m\n\u001b[1;32m    486\u001b[0m \u001b[39m# csr_matvec or csc_matvec\u001b[39;00m\n\u001b[1;32m    487\u001b[0m fn \u001b[39m=\u001b[39m \u001b[39mgetattr\u001b[39m(_sparsetools, \u001b[39mself\u001b[39m\u001b[39m.\u001b[39mformat \u001b[39m+\u001b[39m \u001b[39m'\u001b[39m\u001b[39m_matvec\u001b[39m\u001b[39m'\u001b[39m)\n\u001b[0;32m--> 488\u001b[0m fn(M, N, \u001b[39mself\u001b[39;49m\u001b[39m.\u001b[39;49mindptr, \u001b[39mself\u001b[39;49m\u001b[39m.\u001b[39;49mindices, \u001b[39mself\u001b[39;49m\u001b[39m.\u001b[39;49mdata, other, result)\n\u001b[1;32m    490\u001b[0m \u001b[39mreturn\u001b[39;00m result\n",
      "\u001b[0;31mKeyboardInterrupt\u001b[0m: "
     ]
    }
   ],
   "source": [
    "sc.pp.highly_variable_genes(adata, n_top_genes=2000, flavor=\"cell_ranger\", batch_key=\"batch\")\n",
    "sc.tl.pca(adata, n_comps=30, use_highly_variable=True)"
   ]
  },
  {
   "cell_type": "code",
   "execution_count": null,
   "metadata": {},
   "outputs": [],
   "source": [
    "adata = adata[:, adata.var.highly_variable].copy()"
   ]
  },
  {
   "cell_type": "code",
   "execution_count": null,
   "metadata": {},
   "outputs": [],
   "source": [
    "adata.obsm[\"Unintegrated\"] = adata.obsm[\"X_pca\"]"
   ]
  },
  {
   "cell_type": "code",
   "execution_count": null,
   "metadata": {},
   "outputs": [],
   "source": [
    "%%capture\n",
    "import scanorama\n",
    "\n",
    "# List of adata per batch\n",
    "batch_cats = adata.obs.batch.cat.categories\n",
    "adata_list = [adata[adata.obs.batch == b].copy() for b in batch_cats]\n",
    "scanorama.integrate_scanpy(adata_list)\n",
    "\n",
    "adata.obsm[\"Scanorama\"] = np.zeros((adata.shape[0], adata_list[0].obsm[\"X_scanorama\"].shape[1]))\n",
    "for i, b in enumerate(batch_cats):\n",
    "    adata.obsm[\"Scanorama\"][adata.obs.batch == b] = adata_list[i].obsm[\"X_scanorama\"]"
   ]
  },
  {
   "cell_type": "code",
   "execution_count": null,
   "metadata": {},
   "outputs": [
    {
     "name": "stderr",
     "output_type": "stream",
     "text": [
      "/local/data/anaconda3/envs/BT/lib/python3.11/site-packages/pyliger/preprocessing/_scale.py:88: RuntimeWarning: divide by zero encountered in divide\n",
      "100%|██████████| 30/30 [10:19<00:00, 20.65s/it]\n"
     ]
    }
   ],
   "source": [
    "import pyliger\n",
    "\n",
    "bdata = adata.copy()\n",
    "# Pyliger normalizes by library size with a size factor of 1\n",
    "# So here we give it the count data\n",
    "bdata.X = bdata.layers[\"counts\"]\n",
    "# List of adata per batch\n",
    "adata_list = [bdata[bdata.obs.batch == b].copy() for b in batch_cats]\n",
    "for i, ad in enumerate(adata_list):\n",
    "    ad.uns[\"sample_name\"] = batch_cats[i]\n",
    "    # Hack to make sure each method uses the same genes\n",
    "    ad.uns[\"var_gene_idx\"] = np.arange(bdata.n_vars)\n",
    "\n",
    "\n",
    "liger_data = pyliger.create_liger(adata_list, remove_missing=False, make_sparse=False)\n",
    "# Hack to make sure each method uses the same genes\n",
    "liger_data.var_genes = bdata.var_names\n",
    "pyliger.normalize(liger_data)\n",
    "pyliger.scale_not_center(liger_data)\n",
    "pyliger.optimize_ALS(liger_data, k=30)\n",
    "pyliger.quantile_norm(liger_data)\n",
    "\n",
    "\n",
    "adata.obsm[\"LIGER\"] = np.zeros((adata.shape[0], liger_data.adata_list[0].obsm[\"H_norm\"].shape[1]))\n",
    "for i, b in enumerate(batch_cats):\n",
    "    adata.obsm[\"LIGER\"][adata.obs.batch == b] = liger_data.adata_list[i].obsm[\"H_norm\"]"
   ]
  },
  {
   "cell_type": "code",
   "execution_count": null,
   "metadata": {},
   "outputs": [],
   "source": [
    "adata.write_h5ad(filename=\"data/adataw.h5ad\")"
   ]
  },
  {
   "cell_type": "code",
   "execution_count": 18,
   "metadata": {},
   "outputs": [],
   "source": [
    "adata = anndata.read_h5ad(filename=\"data/adataw.h5ad\")"
   ]
  },
  {
   "cell_type": "code",
   "execution_count": 19,
   "metadata": {},
   "outputs": [],
   "source": [
    "def trainModel(adata, prior, prior_kwargs = None, max_epochs = 100):\n",
    "    scvi.model.SCVI.setup_anndata(adata, layer=\"counts\", batch_key=\"batch\")\n",
    "    vae = scvi.model.SCVI(adata, prior_distribution = prior,prior_kwargs=prior_kwargs, n_layers=2, n_latent=30)\n",
    "    vae.train(max_epochs=max_epochs,check_val_every_n_epoch=5)\n",
    "    adata.obsm[\"scVI\"] = vae.get_latent_representation()\n",
    "    return adata, vae\n",
    "\n",
    "def plotBenchmarkResults(adata,keys=None):\n",
    "    if keys == None:\n",
    "        bm = Benchmarker(\n",
    "        adata,\n",
    "        batch_key=\"batch\",\n",
    "        label_key=\"cell_type\",\n",
    "        embedding_obsm_keys=[\"Unintegrated\", \"LIGER\", \"Scanorama\", \"scVI\"],\n",
    "        n_jobs=6,\n",
    "        )\n",
    "    else:\n",
    "        bm = Benchmarker(\n",
    "        adata,\n",
    "        batch_key=\"batch\",\n",
    "        label_key=\"cell_type\",\n",
    "        embedding_obsm_keys=keys,\n",
    "        n_jobs=6,\n",
    "        )\n",
    "    bm.benchmark()\n",
    "    bm.plot_results_table(min_max_scale=False)"
   ]
  },
  {
   "cell_type": "code",
   "execution_count": 20,
   "metadata": {},
   "outputs": [
    {
     "name": "stderr",
     "output_type": "stream",
     "text": [
      "/local/data/scvi-tools/scvi/data/fields/_base_field.py:64: UserWarning: adata.layers[counts] does not contain unnormalized count data. Are you sure this is what you want?\n",
      "  self.validate_field(adata)\n",
      "GPU available: True (cuda), used: True\n",
      "TPU available: False, using: 0 TPU cores\n",
      "IPU available: False, using: 0 IPUs\n",
      "HPU available: False, using: 0 HPUs\n",
      "LOCAL_RANK: 0 - CUDA_VISIBLE_DEVICES: [0]\n"
     ]
    },
    {
     "name": "stdout",
     "output_type": "stream",
     "text": [
      "Epoch 1/100:   0%|          | 0/100 [00:00<?, ?it/s]"
     ]
    },
    {
     "name": "stderr",
     "output_type": "stream",
     "text": [
      "/local/data/scvi-tools/scvi/module/_vae.py:519: UserWarning: The value argument must be within the support of the distribution\n",
      "  reconst_loss = -generative_outputs[\"px\"].log_prob(x).sum(-1)\n",
      "/local/data/scvi-tools/scvi/module/_vae.py:519: UserWarning: The value argument must be within the support of the distribution\n",
      "  reconst_loss = -generative_outputs[\"px\"].log_prob(x).sum(-1)\n"
     ]
    },
    {
     "name": "stdout",
     "output_type": "stream",
     "text": [
      "Epoch 2/100:   1%|          | 1/100 [00:01<02:48,  1.70s/it, v_num=1, train_loss_step=614, train_loss_epoch=662]"
     ]
    },
    {
     "name": "stderr",
     "output_type": "stream",
     "text": [
      "/local/data/scvi-tools/scvi/module/_vae.py:519: UserWarning: The value argument must be within the support of the distribution\n",
      "  reconst_loss = -generative_outputs[\"px\"].log_prob(x).sum(-1)\n"
     ]
    },
    {
     "name": "stdout",
     "output_type": "stream",
     "text": [
      "Epoch 6/100:   5%|▌         | 5/100 [00:08<02:50,  1.79s/it, v_num=1, train_loss_step=553, train_loss_epoch=562]"
     ]
    },
    {
     "name": "stderr",
     "output_type": "stream",
     "text": [
      "/local/data/scvi-tools/scvi/module/_vae.py:519: UserWarning: The value argument must be within the support of the distribution\n",
      "  reconst_loss = -generative_outputs[\"px\"].log_prob(x).sum(-1)\n"
     ]
    },
    {
     "name": "stdout",
     "output_type": "stream",
     "text": [
      "Epoch 49/100:  48%|████▊     | 48/100 [01:22<01:28,  1.69s/it, v_num=1, train_loss_step=560, train_loss_epoch=514]"
     ]
    },
    {
     "name": "stderr",
     "output_type": "stream",
     "text": [
      "/local/data/anaconda3/envs/BT/lib/python3.11/site-packages/lightning/pytorch/trainer/call.py:52: UserWarning: Detected KeyboardInterrupt, attempting graceful shutdown...\n",
      "  rank_zero_warn(\"Detected KeyboardInterrupt, attempting graceful shutdown...\")\n"
     ]
    }
   ],
   "source": [
    "sdnormalAdata, vaeSD = trainModel(anndata.read_h5ad(filename=\"data/adataw.h5ad\"), \"sdnormal\",max_epochs=100)"
   ]
  },
  {
   "cell_type": "code",
   "execution_count": null,
   "metadata": {},
   "outputs": [
    {
     "name": "stderr",
     "output_type": "stream",
     "text": [
      "/local/data/scvi-tools/scvi/data/fields/_base_field.py:64: UserWarning: adata.layers[counts] does not contain unnormalized count data. Are you sure this is what you want?\n",
      "  self.validate_field(adata)\n",
      "GPU available: True (cuda), used: True\n",
      "TPU available: False, using: 0 TPU cores\n",
      "IPU available: False, using: 0 IPUs\n",
      "HPU available: False, using: 0 HPUs\n",
      "LOCAL_RANK: 0 - CUDA_VISIBLE_DEVICES: [0]\n"
     ]
    },
    {
     "name": "stdout",
     "output_type": "stream",
     "text": [
      "Epoch 1/200:   0%|          | 0/200 [00:00<?, ?it/s]"
     ]
    },
    {
     "name": "stderr",
     "output_type": "stream",
     "text": [
      "/local/data/scvi-tools/scvi/module/_vae.py:519: UserWarning: The value argument must be within the support of the distribution\n",
      "  reconst_loss = -generative_outputs[\"px\"].log_prob(x).sum(-1)\n",
      "/local/data/scvi-tools/scvi/module/_vae.py:519: UserWarning: The value argument must be within the support of the distribution\n",
      "  reconst_loss = -generative_outputs[\"px\"].log_prob(x).sum(-1)\n"
     ]
    },
    {
     "name": "stdout",
     "output_type": "stream",
     "text": [
      "Epoch 2/200:   0%|          | 1/200 [00:01<05:43,  1.72s/it, v_num=1, train_loss_step=571, train_loss_epoch=660]"
     ]
    },
    {
     "name": "stderr",
     "output_type": "stream",
     "text": [
      "/local/data/scvi-tools/scvi/module/_vae.py:519: UserWarning: The value argument must be within the support of the distribution\n",
      "  reconst_loss = -generative_outputs[\"px\"].log_prob(x).sum(-1)\n"
     ]
    },
    {
     "name": "stdout",
     "output_type": "stream",
     "text": [
      "Epoch 200/200: 100%|██████████| 200/200 [05:26<00:00,  1.64s/it, v_num=1, train_loss_step=529, train_loss_epoch=517]"
     ]
    },
    {
     "name": "stderr",
     "output_type": "stream",
     "text": [
      "`Trainer.fit` stopped: `max_epochs=200` reached.\n"
     ]
    },
    {
     "name": "stdout",
     "output_type": "stream",
     "text": [
      "Epoch 200/200: 100%|██████████| 200/200 [05:26<00:00,  1.63s/it, v_num=1, train_loss_step=529, train_loss_epoch=517]\n"
     ]
    }
   ],
   "source": [
    "normalAdata, vaeN = trainModel(anndata.read_h5ad(filename=\"data/adataw.h5ad\"), \"normal\",max_epochs=200)"
   ]
  },
  {
   "cell_type": "code",
   "execution_count": null,
   "metadata": {},
   "outputs": [
    {
     "name": "stderr",
     "output_type": "stream",
     "text": [
      "/local/data/scvi-tools/scvi/data/fields/_base_field.py:64: UserWarning: adata.layers[counts] does not contain unnormalized count data. Are you sure this is what you want?\n",
      "  self.validate_field(adata)\n",
      "GPU available: True (cuda), used: True\n",
      "TPU available: False, using: 0 TPU cores\n",
      "IPU available: False, using: 0 IPUs\n",
      "HPU available: False, using: 0 HPUs\n",
      "LOCAL_RANK: 0 - CUDA_VISIBLE_DEVICES: [0]\n"
     ]
    },
    {
     "name": "stdout",
     "output_type": "stream",
     "text": [
      "Epoch 1/200:   0%|          | 0/200 [00:00<?, ?it/s]"
     ]
    },
    {
     "name": "stderr",
     "output_type": "stream",
     "text": [
      "/local/data/scvi-tools/scvi/module/_vae.py:519: UserWarning: The value argument must be within the support of the distribution\n",
      "  reconst_loss = -generative_outputs[\"px\"].log_prob(x).sum(-1)\n",
      "/local/data/scvi-tools/scvi/module/_vae.py:519: UserWarning: The value argument must be within the support of the distribution\n",
      "  reconst_loss = -generative_outputs[\"px\"].log_prob(x).sum(-1)\n"
     ]
    },
    {
     "name": "stdout",
     "output_type": "stream",
     "text": [
      "Epoch 2/200:   0%|          | 1/200 [00:01<06:26,  1.94s/it, v_num=1, train_loss_step=558, train_loss_epoch=662]"
     ]
    },
    {
     "name": "stderr",
     "output_type": "stream",
     "text": [
      "/local/data/scvi-tools/scvi/module/_vae.py:519: UserWarning: The value argument must be within the support of the distribution\n",
      "  reconst_loss = -generative_outputs[\"px\"].log_prob(x).sum(-1)\n"
     ]
    },
    {
     "name": "stdout",
     "output_type": "stream",
     "text": [
      "Epoch 200/200: 100%|██████████| 200/200 [06:21<00:00,  1.92s/it, v_num=1, train_loss_step=539, train_loss_epoch=517]"
     ]
    },
    {
     "name": "stderr",
     "output_type": "stream",
     "text": [
      "`Trainer.fit` stopped: `max_epochs=200` reached.\n"
     ]
    },
    {
     "name": "stdout",
     "output_type": "stream",
     "text": [
      "Epoch 200/200: 100%|██████████| 200/200 [06:21<00:00,  1.91s/it, v_num=1, train_loss_step=539, train_loss_epoch=517]\n"
     ]
    }
   ],
   "source": [
    "mogAdata, vaeMG = trainModel(anndata.read_h5ad(filename=\"data/adataw.h5ad\"), \"mixofgaus\",max_epochs=200)"
   ]
  },
  {
   "cell_type": "code",
   "execution_count": null,
   "metadata": {},
   "outputs": [
    {
     "name": "stderr",
     "output_type": "stream",
     "text": [
      "/local/data/scvi-tools/scvi/data/fields/_base_field.py:64: UserWarning: adata.layers[counts] does not contain unnormalized count data. Are you sure this is what you want?\n",
      "  self.validate_field(adata)\n",
      "GPU available: True (cuda), used: True\n",
      "TPU available: False, using: 0 TPU cores\n",
      "IPU available: False, using: 0 IPUs\n",
      "HPU available: False, using: 0 HPUs\n",
      "LOCAL_RANK: 0 - CUDA_VISIBLE_DEVICES: [0]\n"
     ]
    },
    {
     "name": "stdout",
     "output_type": "stream",
     "text": [
      "Epoch 1/100:   0%|          | 0/100 [00:00<?, ?it/s]"
     ]
    },
    {
     "name": "stderr",
     "output_type": "stream",
     "text": [
      "/local/data/scvi-tools/scvi/module/_vae.py:519: UserWarning: The value argument must be within the support of the distribution\n",
      "  reconst_loss = -generative_outputs[\"px\"].log_prob(x).sum(-1)\n",
      "/local/data/scvi-tools/scvi/module/_vae.py:519: UserWarning: The value argument must be within the support of the distribution\n",
      "  reconst_loss = -generative_outputs[\"px\"].log_prob(x).sum(-1)\n"
     ]
    },
    {
     "name": "stdout",
     "output_type": "stream",
     "text": [
      "Epoch 2/100:   1%|          | 1/100 [00:02<03:45,  2.28s/it, v_num=1, train_loss_step=556, train_loss_epoch=660]"
     ]
    },
    {
     "name": "stderr",
     "output_type": "stream",
     "text": [
      "/local/data/scvi-tools/scvi/module/_vae.py:519: UserWarning: The value argument must be within the support of the distribution\n",
      "  reconst_loss = -generative_outputs[\"px\"].log_prob(x).sum(-1)\n"
     ]
    },
    {
     "name": "stdout",
     "output_type": "stream",
     "text": [
      "Epoch 100/100: 100%|██████████| 100/100 [03:35<00:00,  2.16s/it, v_num=1, train_loss_step=483, train_loss_epoch=513]"
     ]
    },
    {
     "name": "stderr",
     "output_type": "stream",
     "text": [
      "`Trainer.fit` stopped: `max_epochs=100` reached.\n"
     ]
    },
    {
     "name": "stdout",
     "output_type": "stream",
     "text": [
      "Epoch 100/100: 100%|██████████| 100/100 [03:35<00:00,  2.15s/it, v_num=1, train_loss_step=483, train_loss_epoch=513]\n"
     ]
    }
   ],
   "source": [
    "vampAdata, vaeVP = trainModel(anndata.read_h5ad(filename=\"data/adataw.h5ad\"), \"vamp\",max_epochs=100)"
   ]
  },
  {
   "cell_type": "code",
   "execution_count": null,
   "metadata": {},
   "outputs": [],
   "source": [
    "def plotBenchmarkResultsAll():\n",
    "    adataAll = normalAdata\n",
    "    adataAll.obsm[\"scVISDNormal\"] = sdnormalAdata.obsm[\"scVI\"]\n",
    "    adataAll.obsm[\"scVINormal\"] = normalAdata.obsm[\"scVI\"]\n",
    "    adataAll.obsm[\"scVIMoG\"] = mogAdata.obsm[\"scVI\"]\n",
    "    adataAll.obsm[\"scVIVamp\"] = vampAdata.obsm[\"scVI\"]\n",
    "    plotBenchmarkResults(adataAll,[\"Unintegrated\", \"LIGER\", \"Scanorama\", \"scVINormal\",\"scVIMoG\",\"scVIVamp\",\"scVISDNormal\"])"
   ]
  },
  {
   "cell_type": "code",
   "execution_count": null,
   "metadata": {},
   "outputs": [],
   "source": [
    "def plotTrainingHistory(model):\n",
    "    train_elbo = model.history[\"elbo_train\"][1:]\n",
    "    test_elbo = model.history[\"elbo_validation\"]\n",
    "    ax = train_elbo.plot()\n",
    "    test_elbo.plot(ax=ax)\n",
    "\n",
    "def plotReconstructionLoss(model):\n",
    "    train_elbo = model.history[\"reconstruction_loss_train\"][1:]\n",
    "    test_elbo = model.history[\"reconstruction_loss_validation\"]\n",
    "    ax = train_elbo.plot()\n",
    "    test_elbo.plot(ax=ax)\n",
    "\n",
    "def plotKLLocalLoss(model):\n",
    "    train_elbo = model.history[\"kl_local_train\"][1:]\n",
    "    test_elbo = model.history[\"kl_local_validation\"]\n",
    "    ax = train_elbo.plot()\n",
    "    test_elbo.plot(ax=ax)\n",
    "\n",
    "def plotKLGlobalLoss(model):\n",
    "    train_elbo = model.history[\"kl_global_train\"][1:]\n",
    "    test_elbo = model.history[\"kl_global_validation\"]\n",
    "    ax = train_elbo.plot()\n",
    "    test_elbo.plot(ax=ax)"
   ]
  },
  {
   "cell_type": "code",
   "execution_count": null,
   "metadata": {},
   "outputs": [],
   "source": []
  }
 ],
 "metadata": {
  "kernelspec": {
   "display_name": "scvi-tools-dev-n",
   "language": "python",
   "name": "python3"
  },
  "language_info": {
   "codemirror_mode": {
    "name": "ipython",
    "version": 3
   },
   "file_extension": ".py",
   "mimetype": "text/x-python",
   "name": "python",
   "nbconvert_exporter": "python",
   "pygments_lexer": "ipython3",
   "version": "3.11.4"
  },
  "orig_nbformat": 4
 },
 "nbformat": 4,
 "nbformat_minor": 2
}
