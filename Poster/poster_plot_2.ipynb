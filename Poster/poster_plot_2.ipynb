{
 "cells": [
  {
   "cell_type": "code",
   "execution_count": 2,
   "metadata": {},
   "outputs": [
    {
     "name": "stderr",
     "output_type": "stream",
     "text": [
      "/local/data/scvi-tools/scvi/_settings.py:63: UserWarning: Since v1.0.0, scvi-tools no longer uses a random seed by default. Run `scvi.settings.seed = 0` to reproduce results from previous versions.\n",
      "  self.seed = seed\n",
      "/local/data/scvi-tools/scvi/_settings.py:70: UserWarning: Setting `dl_pin_memory_gpu_training` is deprecated in v1.0 and will be removed in v1.1. Please pass in `pin_memory` to the data loaders instead.\n",
      "  self.dl_pin_memory_gpu_training = (\n",
      "/local/data/anaconda3/envs/BT/lib/python3.11/site-packages/numba/np/ufunc/dufunc.py:84: NumbaDeprecationWarning: \u001b[1mThe 'nopython' keyword argument was not supplied to the 'numba.jit' decorator. The implicit default value for this argument is currently False, but it will be changed to True in Numba 0.59.0. See https://numba.readthedocs.io/en/stable/reference/deprecation.html#deprecation-of-object-mode-fall-back-behaviour-when-using-jit for details.\u001b[0m\n",
      "  dispatcher = jit(_target='npyufunc',\n",
      "/local/data/anaconda3/envs/BT/lib/python3.11/site-packages/numba/np/ufunc/dufunc.py:84: NumbaDeprecationWarning: \u001b[1mThe 'nopython' keyword argument was not supplied to the 'numba.jit' decorator. The implicit default value for this argument is currently False, but it will be changed to True in Numba 0.59.0. See https://numba.readthedocs.io/en/stable/reference/deprecation.html#deprecation-of-object-mode-fall-back-behaviour-when-using-jit for details.\u001b[0m\n",
      "  dispatcher = jit(_target='npyufunc',\n",
      "/local/data/anaconda3/envs/BT/lib/python3.11/site-packages/numba/np/ufunc/dufunc.py:84: NumbaDeprecationWarning: \u001b[1mThe 'nopython' keyword argument was not supplied to the 'numba.jit' decorator. The implicit default value for this argument is currently False, but it will be changed to True in Numba 0.59.0. See https://numba.readthedocs.io/en/stable/reference/deprecation.html#deprecation-of-object-mode-fall-back-behaviour-when-using-jit for details.\u001b[0m\n",
      "  dispatcher = jit(_target='npyufunc',\n",
      "/local/data/anaconda3/envs/BT/lib/python3.11/site-packages/numba/np/ufunc/dufunc.py:84: NumbaDeprecationWarning: \u001b[1mThe 'nopython' keyword argument was not supplied to the 'numba.jit' decorator. The implicit default value for this argument is currently False, but it will be changed to True in Numba 0.59.0. See https://numba.readthedocs.io/en/stable/reference/deprecation.html#deprecation-of-object-mode-fall-back-behaviour-when-using-jit for details.\u001b[0m\n",
      "  dispatcher = jit(_target='npyufunc',\n",
      "/local/data/anaconda3/envs/BT/lib/python3.11/site-packages/umap/distances.py:1063: NumbaDeprecationWarning: \u001b[1mThe 'nopython' keyword argument was not supplied to the 'numba.jit' decorator. The implicit default value for this argument is currently False, but it will be changed to True in Numba 0.59.0. See https://numba.readthedocs.io/en/stable/reference/deprecation.html#deprecation-of-object-mode-fall-back-behaviour-when-using-jit for details.\u001b[0m\n",
      "/local/data/anaconda3/envs/BT/lib/python3.11/site-packages/umap/distances.py:1071: NumbaDeprecationWarning: \u001b[1mThe 'nopython' keyword argument was not supplied to the 'numba.jit' decorator. The implicit default value for this argument is currently False, but it will be changed to True in Numba 0.59.0. See https://numba.readthedocs.io/en/stable/reference/deprecation.html#deprecation-of-object-mode-fall-back-behaviour-when-using-jit for details.\u001b[0m\n",
      "/local/data/anaconda3/envs/BT/lib/python3.11/site-packages/umap/distances.py:1086: NumbaDeprecationWarning: \u001b[1mThe 'nopython' keyword argument was not supplied to the 'numba.jit' decorator. The implicit default value for this argument is currently False, but it will be changed to True in Numba 0.59.0. See https://numba.readthedocs.io/en/stable/reference/deprecation.html#deprecation-of-object-mode-fall-back-behaviour-when-using-jit for details.\u001b[0m\n",
      "/local/data/anaconda3/envs/BT/lib/python3.11/site-packages/umap/umap_.py:660: NumbaDeprecationWarning: \u001b[1mThe 'nopython' keyword argument was not supplied to the 'numba.jit' decorator. The implicit default value for this argument is currently False, but it will be changed to True in Numba 0.59.0. See https://numba.readthedocs.io/en/stable/reference/deprecation.html#deprecation-of-object-mode-fall-back-behaviour-when-using-jit for details.\u001b[0m\n",
      "2023-09-28 15:19:52.505110: W tensorflow/compiler/tf2tensorrt/utils/py_utils.cc:38] TF-TRT Warning: Could not find TensorRT\n",
      "/local/data/anaconda3/envs/BT/lib/python3.11/site-packages/numba/np/ufunc/dufunc.py:84: NumbaDeprecationWarning: \u001b[1mThe 'nopython' keyword argument was not supplied to the 'numba.jit' decorator. The implicit default value for this argument is currently False, but it will be changed to True in Numba 0.59.0. See https://numba.readthedocs.io/en/stable/reference/deprecation.html#deprecation-of-object-mode-fall-back-behaviour-when-using-jit for details.\u001b[0m\n",
      "/local/data/anaconda3/envs/BT/lib/python3.11/site-packages/numba/np/ufunc/dufunc.py:84: NumbaDeprecationWarning: \u001b[1mThe 'nopython' keyword argument was not supplied to the 'numba.jit' decorator. The implicit default value for this argument is currently False, but it will be changed to True in Numba 0.59.0. See https://numba.readthedocs.io/en/stable/reference/deprecation.html#deprecation-of-object-mode-fall-back-behaviour-when-using-jit for details.\u001b[0m\n",
      "/local/data/anaconda3/envs/BT/lib/python3.11/site-packages/numba/np/ufunc/dufunc.py:84: NumbaDeprecationWarning: \u001b[1mThe 'nopython' keyword argument was not supplied to the 'numba.jit' decorator. The implicit default value for this argument is currently False, but it will be changed to True in Numba 0.59.0. See https://numba.readthedocs.io/en/stable/reference/deprecation.html#deprecation-of-object-mode-fall-back-behaviour-when-using-jit for details.\u001b[0m\n",
      "/local/data/anaconda3/envs/BT/lib/python3.11/site-packages/umap/plot.py:203: NumbaDeprecationWarning: \u001b[1mThe 'nopython' keyword argument was not supplied to the 'numba.jit' decorator. The implicit default value for this argument is currently False, but it will be changed to True in Numba 0.59.0. See https://numba.readthedocs.io/en/stable/reference/deprecation.html#deprecation-of-object-mode-fall-back-behaviour-when-using-jit for details.\u001b[0m\n"
     ]
    }
   ],
   "source": [
    "import numpy as np\n",
    "import scanpy as sc\n",
    "import anndata\n",
    "import scvi\n",
    "from scib_metrics.benchmark import Benchmarker\n",
    "import torch\n",
    "import scib_metrics\n",
    "from lightning.pytorch.callbacks import ModelCheckpoint\n",
    "import copy\n",
    "%matplotlib inline\n",
    "import sys\n",
    "sys.path.append('..')\n",
    "from functions import *\n",
    "from SCVIModelCheckpoint import SCVIModelCheckpoint "
   ]
  },
  {
   "cell_type": "code",
   "execution_count": 3,
   "metadata": {},
   "outputs": [],
   "source": [
    "adata = anndata.read_h5ad(filename=\"../data/adataLung4.h5ad\")"
   ]
  },
  {
   "cell_type": "code",
   "execution_count": 4,
   "metadata": {},
   "outputs": [],
   "source": [
    "resultsSD = pd.read_csv(\"results/result_SD.csv\")\n",
    "resultsMG = pd.read_csv(\"results/result_MG.csv\")\n",
    "resultsVP = pd.read_csv(\"results/result_VP.csv\")\n",
    "resultsNF = pd.read_csv(\"results/result_NF.csv\")"
   ]
  },
  {
   "cell_type": "code",
   "execution_count": 5,
   "metadata": {},
   "outputs": [],
   "source": [
    "def computeMeanStandardDeviation(results, prior, n):\n",
    "    resultsMSD = results[[\"Unnamed: 0\"]]\n",
    "    resultsMSD[\"NMI Mean\"] = np.zeros(39)\n",
    "    resultsMSD[\"ARI Mean\"] = np.zeros(39)\n",
    "    resultsMSD[\"KBET Mean\"] = np.zeros(39)\n",
    "    for i in range(5):\n",
    "        resultsMSD[\"NMI Mean\"] += results[f\"{prior}Leiden NMI{i}\"]\n",
    "        resultsMSD[\"ARI Mean\"] += results[f\"{prior}Leiden ARI{i}\"]\n",
    "        resultsMSD[\"KBET Mean\"] += results[f\"{prior}KBET{i}\"]\n",
    "    resultsMSD = resultsMSD * 1/n\n",
    "    resultsMSD = resultsMSD.drop(\"Unnamed: 0\",axis=1)\n",
    "    resultsMSD[\"NMI SD\"] = np.zeros(39)\n",
    "    resultsMSD[\"ARI SD\"] = np.zeros(39)\n",
    "    resultsMSD[\"KBET SD\"] = np.zeros(39)\n",
    "    for i in range(5):\n",
    "        resultsMSD[\"NMI SD\"] += (results[f\"{prior}Leiden NMI{i}\"]-resultsMSD[\"NMI Mean\"])**2\n",
    "        resultsMSD[\"ARI SD\"] += (results[f\"{prior}Leiden ARI{i}\"]-resultsMSD[\"ARI Mean\"])**2\n",
    "        resultsMSD[\"KBET SD\"] += (results[f\"{prior}KBET{i}\"]-resultsMSD[\"KBET Mean\"])**2\n",
    "    resultsMSD[[\"NMI SD\", \"ARI SD\",\"KBET SD\"]] = (resultsMSD[[\"NMI SD\", \"ARI SD\",\"KBET SD\"]] * 1/(n-1))**0.5\n",
    "    max_epochs = 390; n_eps = 10\n",
    "    resultsMSD[\"index\"] = np.linspace(n_eps-1,max_epochs-1, int(max_epochs/n_eps)).astype(np.int16)\n",
    "    return resultsMSD"
   ]
  },
  {
   "cell_type": "code",
   "execution_count": 6,
   "metadata": {},
   "outputs": [],
   "source": [
    "resultsSD_MSD = computeMeanStandardDeviation(resultsSD,\"sdnormal\",5)\n",
    "resultsMG_MSD = computeMeanStandardDeviation(resultsMG,\"mixofgaus\",5)\n",
    "resultsVP_MSD = computeMeanStandardDeviation(resultsVP,\"vamp\",5)\n",
    "resultsNF_MSD = computeMeanStandardDeviation(resultsNF,\"normalflow\",5)"
   ]
  },
  {
   "cell_type": "code",
   "execution_count": 7,
   "metadata": {},
   "outputs": [],
   "source": [
    "def plotEpochs(resultsSD, resultsMG, resultsVP, resultsNF):\n",
    "    fig, axes = plt.subplots(1,3,figsize=(15,4))\n",
    "    metrics = [\"NMI Mean\", \"ARI Mean\", \"KBET Mean\"]\n",
    "    metrics2 = [\"NMI\",\"ARI\",\"KBET\"]\n",
    "    for i in range(3):\n",
    "        data = pd.DataFrame(np.array([resultsSD[metrics[i]],resultsMG[metrics[i]],resultsVP[metrics[i]],resultsNF[metrics[i]]]).T,columns=[\"SD\", \"MG\", \"VP\", \"NF\"])\n",
    "        data.set_index(resultsSD[\"index\"]*10)\n",
    "        plot = sns.lineplot(data,ax=axes[i],legend=True)\n",
    "        plot.set_title(metrics2[i])\n",
    "    fig.supxlabel('Epoch')\n",
    "    plt.savefig(f\"plots/epochs_plots\")\n",
    "    plt.show()"
   ]
  },
  {
   "cell_type": "code",
   "execution_count": 8,
   "metadata": {},
   "outputs": [],
   "source": [
    "plotEpochs(resultsSD_MSD,resultsMG_MSD,resultsVP_MSD,resultsNF_MSD)"
   ]
  },
  {
   "cell_type": "code",
   "execution_count": 9,
   "metadata": {},
   "outputs": [],
   "source": [
    "def makeDataBarPlot(resultsSD, resultsMG, resultsVP, resultsNF):\n",
    "    results = [resultsSD, resultsMG, resultsVP, resultsNF]\n",
    "    priors = [\"SD\",\"MG\",\"VP\",\"NF\"]\n",
    "    metrics = [\"NMI\",\"ARI\",\"KBET\"]\n",
    "    res = resultsSD_MSD\n",
    "    val = []\n",
    "    prior = []\n",
    "    metric = []\n",
    "    error = []\n",
    "    for j in range(4):\n",
    "        for k in range(3):\n",
    "            val.append(results[j][f\"{metrics[k]} Mean\"].iloc[38])\n",
    "            prior.append(priors[j])\n",
    "            metric.append(metrics[k])\n",
    "            error.append(results[j][f\"{metrics[k]} SD\"].iloc[38])\n",
    "    data = {'Value': val,'Prior': prior,'Metric': metric,'error': error}\n",
    "    return data"
   ]
  },
  {
   "cell_type": "code",
   "execution_count": 10,
   "metadata": {},
   "outputs": [],
   "source": [
    "df = makeDataBarPlot(resultsSD_MSD,resultsMG_MSD,resultsVP_MSD,resultsNF_MSD)"
   ]
  },
  {
   "cell_type": "code",
   "execution_count": 11,
   "metadata": {},
   "outputs": [],
   "source": [
    "dataframe = pd.DataFrame(df)\n",
    "dfNMI = dataframe.loc[dataframe[\"Metric\"]==\"NMI\"]\n",
    "dfARI = dataframe.loc[dataframe[\"Metric\"]==\"ARI\"]\n",
    "dfKBET = dataframe.loc[dataframe[\"Metric\"]==\"KBET\"]"
   ]
  },
  {
   "cell_type": "code",
   "execution_count": 12,
   "metadata": {},
   "outputs": [],
   "source": [
    "fig, axes = plt.subplots(3,1,figsize=(4,15))\n",
    "df = [dfNMI, dfARI, dfKBET]\n",
    "lims = [(0.5,None),(0.4,None),(0.2,None)]\n",
    "for i in range(3):\n",
    "    plot = sns.barplot(x='Metric', y='Value', data=df[i], hue='Prior',ax=axes[i])\n",
    "    plt.xticks(visible=False)\n",
    "    x_coords = [p.get_x() + 0.5 * p.get_width() for p in plot.patches]\n",
    "    y_coords = [p.get_height() for p in plot.patches]\n",
    "    plot.errorbar(x=x_coords, y=y_coords, yerr=df[i][\"error\"], fmt=\"none\", c=\"k\")\n",
    "    plot.set_ylim(lims[i])\n",
    "    plot.set(xlabel=None)\n",
    "    plot.set(ylabel=None)\n",
    "    plot.set(title=df[i]['Metric'].iloc[0])\n",
    "    plot.set(xticks=[])\n",
    "    plot.legend(loc=4)\n",
    "    \n",
    "plt.savefig(\"plots/barplot\")\n",
    "plt.show()"
   ]
  },
  {
   "cell_type": "code",
   "execution_count": null,
   "metadata": {},
   "outputs": [],
   "source": []
  }
 ],
 "metadata": {
  "kernelspec": {
   "display_name": "Python 3",
   "language": "python",
   "name": "python3"
  },
  "language_info": {
   "codemirror_mode": {
    "name": "ipython",
    "version": 3
   },
   "file_extension": ".py",
   "mimetype": "text/x-python",
   "name": "python",
   "nbconvert_exporter": "python",
   "pygments_lexer": "ipython3",
   "version": "3.11.4"
  },
  "orig_nbformat": 4
 },
 "nbformat": 4,
 "nbformat_minor": 2
}
