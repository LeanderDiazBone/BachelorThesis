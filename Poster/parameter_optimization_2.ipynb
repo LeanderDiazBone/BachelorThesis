{
 "cells": [
  {
   "cell_type": "code",
   "execution_count": 85,
   "metadata": {},
   "outputs": [],
   "source": [
    "import numpy as np\n",
    "import scanpy as sc\n",
    "import anndata\n",
    "import scvi\n",
    "from scib_metrics.benchmark import Benchmarker\n",
    "import torch\n",
    "import scib_metrics\n",
    "from lightning.pytorch.callbacks import ModelCheckpoint\n",
    "import copy\n",
    "#%matplotlib inline\n",
    "import sys\n",
    "sys.path.append('..')\n",
    "from functions import *\n",
    "from SCVIModelCheckpoint import SCVIModelCheckpoint"
   ]
  },
  {
   "cell_type": "code",
   "execution_count": 90,
   "metadata": {},
   "outputs": [
    {
     "name": "stdout",
     "output_type": "stream",
     "text": [
      "AnnData object with n_obs × n_vars = 33506 × 4000\n",
      "    obs: 'batch', 'chemistry', 'data_type', 'dpt_pseudotime', 'final_annotation', 'mt_frac', 'n_counts', 'n_genes', 'sample_ID', 'size_factors', 'species', 'study', 'tissue'\n",
      "    var: 'highly_variable', 'means', 'dispersions', 'dispersions_norm', 'highly_variable_nbatches', 'highly_variable_intersection'\n",
      "    uns: 'hvg', 'pca'\n",
      "    obsm: 'Scanorama', 'Unintegrated', 'X_pca'\n",
      "    varm: 'PCs'\n",
      "    layers: 'counts'\n"
     ]
    }
   ],
   "source": [
    "adata = anndata.read_h5ad(filename=\"../data/adataImmHum4.h5ad\")\n",
    "ks = [2, 5, 10, 50, 100, 200, 500]\n",
    "print(adata)"
   ]
  },
  {
   "cell_type": "code",
   "execution_count": 91,
   "metadata": {},
   "outputs": [],
   "source": [
    "nindex = np.random.permutation(adata.obs.index)\n",
    "adata = adata[nindex,:]"
   ]
  },
  {
   "cell_type": "code",
   "execution_count": 92,
   "metadata": {},
   "outputs": [],
   "source": [
    "train_adata = adata[:int(33506*0.95)]\n",
    "test_adata = adata[int(33506*0.95):]\n",
    "#scvi.model.SCVI.setup_anndata(test_adata, layer=\"counts\",batch_key=\"batch\")"
   ]
  },
  {
   "cell_type": "code",
   "execution_count": 93,
   "metadata": {},
   "outputs": [],
   "source": [
    "def hyperTraining2(adata, prior, hyperpar, ks, n_epochs_kl_warmup=300, max_epochs=400, beta = 5, early_stopping=False):\n",
    "    adatac = adata.copy()\n",
    "    keys = []\n",
    "    vaes = []\n",
    "    for k in ks:\n",
    "        adataPrior, vae = trainModel(adata, prior, beta, n_epochs_kl_warmup=n_epochs_kl_warmup,max_epochs=max_epochs,early_stopping=early_stopping,prior_kwargs={hyperpar:k},log=True,logname=f\"hyperTrainingMGk={k}\")\n",
    "        keys.append(f\"scVI_k={k}\")\n",
    "        adatac.obsm[f\"scVI_k={k}\"] = vae.get_latent_representation()\n",
    "        vaes.append(vae)\n",
    "    return adatac, keys, vaes"
   ]
  },
  {
   "cell_type": "code",
   "execution_count": 95,
   "metadata": {},
   "outputs": [
    {
     "name": "stderr",
     "output_type": "stream",
     "text": [
      "GPU available: True (cuda), used: True\n",
      "TPU available: False, using: 0 TPU cores\n",
      "IPU available: False, using: 0 IPUs\n",
      "HPU available: False, using: 0 HPUs\n",
      "LOCAL_RANK: 0 - CUDA_VISIBLE_DEVICES: [0]\n"
     ]
    },
    {
     "name": "stdout",
     "output_type": "stream",
     "text": [
      "Epoch 400/400: 100%|██████████| 400/400 [17:32<00:00,  2.35s/it, v_num=13, train_loss_step=1.65e+3, train_loss_epoch=1.47e+3]"
     ]
    },
    {
     "name": "stderr",
     "output_type": "stream",
     "text": [
      "`Trainer.fit` stopped: `max_epochs=400` reached.\n"
     ]
    },
    {
     "name": "stdout",
     "output_type": "stream",
     "text": [
      "Epoch 400/400: 100%|██████████| 400/400 [17:32<00:00,  2.63s/it, v_num=13, train_loss_step=1.65e+3, train_loss_epoch=1.47e+3]\n"
     ]
    },
    {
     "name": "stderr",
     "output_type": "stream",
     "text": [
      "GPU available: True (cuda), used: True\n",
      "TPU available: False, using: 0 TPU cores\n",
      "IPU available: False, using: 0 IPUs\n",
      "HPU available: False, using: 0 HPUs\n",
      "LOCAL_RANK: 0 - CUDA_VISIBLE_DEVICES: [0]\n"
     ]
    },
    {
     "name": "stdout",
     "output_type": "stream",
     "text": [
      "Epoch 80/400:  20%|█▉        | 79/400 [03:14<13:39,  2.55s/it, v_num=5, train_loss_step=1.62e+3, train_loss_epoch=1.45e+3]"
     ]
    }
   ],
   "source": [
    "adataMG, keysMG, vaes = hyperTraining2(train_adata, \"mixofgaus\", \"k\", ks)\n",
    "bmMG = runBenchmark(adataMG, keysMG, nmi_ari_cluster_labels_leiden=True, nmi_ari_cluster_labels_kmeans = True, silhouette_label=True, silhouette_batch = True, kbet_per_label=True, label_key='final_annotation')\n",
    "results = bmMG.get_results(min_max_scale=False)\n",
    "#results.to_csv(\"results/parameter_optimization_MG_2.csv\")"
   ]
  },
  {
   "cell_type": "code",
   "execution_count": null,
   "metadata": {},
   "outputs": [],
   "source": [
    "results.to_csv(\"results/parameter_optimization_MG_3.csv\")"
   ]
  },
  {
   "cell_type": "code",
   "execution_count": null,
   "metadata": {},
   "outputs": [
    {
     "name": "stdout",
     "output_type": "stream",
     "text": [
      "\u001b[34mINFO    \u001b[0m Received view of anndata, making copy.                                                                    \n",
      "\u001b[34mINFO    \u001b[0m Input AnnData not setup with scvi-tools. attempting to transfer AnnData setup                             \n"
     ]
    },
    {
     "ename": "type",
     "evalue": "\"['Metric Type'] not found in axis\"",
     "output_type": "error",
     "traceback": [
      "\u001b[0;31m---------------------------------------------------------------------------\u001b[0m",
      "\u001b[0;31mKeyError\u001b[0m                                  Traceback (most recent call last)",
      "\u001b[1;32m/local/data/BachelorThesis/Poster/parameter_optimization_2.ipynb Cell 9\u001b[0m line \u001b[0;36m4\n\u001b[1;32m      <a href='vscode-notebook-cell:/local/data/BachelorThesis/Poster/parameter_optimization_2.ipynb#X13sZmlsZQ%3D%3D?line=1'>2</a>\u001b[0m \u001b[39mfor\u001b[39;00m i \u001b[39min\u001b[39;00m \u001b[39mrange\u001b[39m(\u001b[39mlen\u001b[39m(ks)):\n\u001b[1;32m      <a href='vscode-notebook-cell:/local/data/BachelorThesis/Poster/parameter_optimization_2.ipynb#X13sZmlsZQ%3D%3D?line=2'>3</a>\u001b[0m     lls\u001b[39m.\u001b[39mappend(vaes[i]\u001b[39m.\u001b[39mget_marginal_ll(test_adata))\n\u001b[0;32m----> <a href='vscode-notebook-cell:/local/data/BachelorThesis/Poster/parameter_optimization_2.ipynb#X13sZmlsZQ%3D%3D?line=3'>4</a>\u001b[0m results\u001b[39m.\u001b[39;49mdrop(\u001b[39m'\u001b[39;49m\u001b[39mMetric Type\u001b[39;49m\u001b[39m'\u001b[39;49m, axis\u001b[39m=\u001b[39;49m\u001b[39m1\u001b[39;49m)\n\u001b[1;32m      <a href='vscode-notebook-cell:/local/data/BachelorThesis/Poster/parameter_optimization_2.ipynb#X13sZmlsZQ%3D%3D?line=4'>5</a>\u001b[0m results[\u001b[39m\"\u001b[39m\u001b[39mloglik\u001b[39m\u001b[39m\"\u001b[39m] \u001b[39m=\u001b[39m lls\n\u001b[1;32m      <a href='vscode-notebook-cell:/local/data/BachelorThesis/Poster/parameter_optimization_2.ipynb#X13sZmlsZQ%3D%3D?line=5'>6</a>\u001b[0m results[\u001b[39m\"\u001b[39m\u001b[39mk\u001b[39m\u001b[39m\"\u001b[39m] \u001b[39m=\u001b[39m ks\n",
      "File \u001b[0;32m/local/data/anaconda3/envs/BT/lib/python3.11/site-packages/pandas/core/frame.py:5258\u001b[0m, in \u001b[0;36mDataFrame.drop\u001b[0;34m(self, labels, axis, index, columns, level, inplace, errors)\u001b[0m\n\u001b[1;32m   5110\u001b[0m \u001b[39mdef\u001b[39;00m \u001b[39mdrop\u001b[39m(\n\u001b[1;32m   5111\u001b[0m     \u001b[39mself\u001b[39m,\n\u001b[1;32m   5112\u001b[0m     labels: IndexLabel \u001b[39m=\u001b[39m \u001b[39mNone\u001b[39;00m,\n\u001b[0;32m   (...)\u001b[0m\n\u001b[1;32m   5119\u001b[0m     errors: IgnoreRaise \u001b[39m=\u001b[39m \u001b[39m\"\u001b[39m\u001b[39mraise\u001b[39m\u001b[39m\"\u001b[39m,\n\u001b[1;32m   5120\u001b[0m ) \u001b[39m-\u001b[39m\u001b[39m>\u001b[39m DataFrame \u001b[39m|\u001b[39m \u001b[39mNone\u001b[39;00m:\n\u001b[1;32m   5121\u001b[0m \u001b[39m    \u001b[39m\u001b[39m\"\"\"\u001b[39;00m\n\u001b[1;32m   5122\u001b[0m \u001b[39m    Drop specified labels from rows or columns.\u001b[39;00m\n\u001b[1;32m   5123\u001b[0m \n\u001b[0;32m   (...)\u001b[0m\n\u001b[1;32m   5256\u001b[0m \u001b[39m            weight  1.0     0.8\u001b[39;00m\n\u001b[1;32m   5257\u001b[0m \u001b[39m    \"\"\"\u001b[39;00m\n\u001b[0;32m-> 5258\u001b[0m     \u001b[39mreturn\u001b[39;00m \u001b[39msuper\u001b[39;49m()\u001b[39m.\u001b[39;49mdrop(\n\u001b[1;32m   5259\u001b[0m         labels\u001b[39m=\u001b[39;49mlabels,\n\u001b[1;32m   5260\u001b[0m         axis\u001b[39m=\u001b[39;49maxis,\n\u001b[1;32m   5261\u001b[0m         index\u001b[39m=\u001b[39;49mindex,\n\u001b[1;32m   5262\u001b[0m         columns\u001b[39m=\u001b[39;49mcolumns,\n\u001b[1;32m   5263\u001b[0m         level\u001b[39m=\u001b[39;49mlevel,\n\u001b[1;32m   5264\u001b[0m         inplace\u001b[39m=\u001b[39;49minplace,\n\u001b[1;32m   5265\u001b[0m         errors\u001b[39m=\u001b[39;49merrors,\n\u001b[1;32m   5266\u001b[0m     )\n",
      "File \u001b[0;32m/local/data/anaconda3/envs/BT/lib/python3.11/site-packages/pandas/core/generic.py:4549\u001b[0m, in \u001b[0;36mNDFrame.drop\u001b[0;34m(self, labels, axis, index, columns, level, inplace, errors)\u001b[0m\n\u001b[1;32m   4547\u001b[0m \u001b[39mfor\u001b[39;00m axis, labels \u001b[39min\u001b[39;00m axes\u001b[39m.\u001b[39mitems():\n\u001b[1;32m   4548\u001b[0m     \u001b[39mif\u001b[39;00m labels \u001b[39mis\u001b[39;00m \u001b[39mnot\u001b[39;00m \u001b[39mNone\u001b[39;00m:\n\u001b[0;32m-> 4549\u001b[0m         obj \u001b[39m=\u001b[39m obj\u001b[39m.\u001b[39;49m_drop_axis(labels, axis, level\u001b[39m=\u001b[39;49mlevel, errors\u001b[39m=\u001b[39;49merrors)\n\u001b[1;32m   4551\u001b[0m \u001b[39mif\u001b[39;00m inplace:\n\u001b[1;32m   4552\u001b[0m     \u001b[39mself\u001b[39m\u001b[39m.\u001b[39m_update_inplace(obj)\n",
      "File \u001b[0;32m/local/data/anaconda3/envs/BT/lib/python3.11/site-packages/pandas/core/generic.py:4591\u001b[0m, in \u001b[0;36mNDFrame._drop_axis\u001b[0;34m(self, labels, axis, level, errors, only_slice)\u001b[0m\n\u001b[1;32m   4589\u001b[0m         new_axis \u001b[39m=\u001b[39m axis\u001b[39m.\u001b[39mdrop(labels, level\u001b[39m=\u001b[39mlevel, errors\u001b[39m=\u001b[39merrors)\n\u001b[1;32m   4590\u001b[0m     \u001b[39melse\u001b[39;00m:\n\u001b[0;32m-> 4591\u001b[0m         new_axis \u001b[39m=\u001b[39m axis\u001b[39m.\u001b[39;49mdrop(labels, errors\u001b[39m=\u001b[39;49merrors)\n\u001b[1;32m   4592\u001b[0m     indexer \u001b[39m=\u001b[39m axis\u001b[39m.\u001b[39mget_indexer(new_axis)\n\u001b[1;32m   4594\u001b[0m \u001b[39m# Case for non-unique axis\u001b[39;00m\n\u001b[1;32m   4595\u001b[0m \u001b[39melse\u001b[39;00m:\n",
      "File \u001b[0;32m/local/data/anaconda3/envs/BT/lib/python3.11/site-packages/pandas/core/indexes/base.py:6696\u001b[0m, in \u001b[0;36mIndex.drop\u001b[0;34m(self, labels, errors)\u001b[0m\n\u001b[1;32m   6694\u001b[0m \u001b[39mif\u001b[39;00m mask\u001b[39m.\u001b[39many():\n\u001b[1;32m   6695\u001b[0m     \u001b[39mif\u001b[39;00m errors \u001b[39m!=\u001b[39m \u001b[39m\"\u001b[39m\u001b[39mignore\u001b[39m\u001b[39m\"\u001b[39m:\n\u001b[0;32m-> 6696\u001b[0m         \u001b[39mraise\u001b[39;00m \u001b[39mKeyError\u001b[39;00m(\u001b[39mf\u001b[39m\u001b[39m\"\u001b[39m\u001b[39m{\u001b[39;00m\u001b[39mlist\u001b[39m(labels[mask])\u001b[39m}\u001b[39;00m\u001b[39m not found in axis\u001b[39m\u001b[39m\"\u001b[39m)\n\u001b[1;32m   6697\u001b[0m     indexer \u001b[39m=\u001b[39m indexer[\u001b[39m~\u001b[39mmask]\n\u001b[1;32m   6698\u001b[0m \u001b[39mreturn\u001b[39;00m \u001b[39mself\u001b[39m\u001b[39m.\u001b[39mdelete(indexer)\n",
      "\u001b[0;31mKeyError\u001b[0m: \"['Metric Type'] not found in axis\""
     ]
    }
   ],
   "source": [
    "lls = []\n",
    "for i in range(len(ks)):\n",
    "    lls.append(vaes[i].get_marginal_ll(test_adata))\n",
    "results[\"loglik\"] = lls\n",
    "results[\"k\"] = ks\n",
    "results.to_csv(\"results/parameter_optimization_MG_3.csv\")"
   ]
  },
  {
   "cell_type": "code",
   "execution_count": null,
   "metadata": {},
   "outputs": [],
   "source": [
    "plot = sns.relplot(data = results, x=\"loglik\", y=\"Total\")\n",
    "for i in range(results.shape[0]):\n",
    "    plt.annotate(results[\"k\"][i],(results[\"loglik\"][i],results[\"Total\"][i]+0.001))\n",
    "plot.set(title=\"Parameter Tuning\")\n",
    "plot.savefig(\"plots/prior_optimization_2\")"
   ]
  },
  {
   "cell_type": "code",
   "execution_count": 83,
   "metadata": {},
   "outputs": [],
   "source": [
    "results = pd.read_csv(\"results/parameter_optimization_MG_2.csv\")\n",
    "results = results.set_index(results[\"Embedding\"]).drop(\"Metric Type\")"
   ]
  },
  {
   "cell_type": "code",
   "execution_count": 94,
   "metadata": {},
   "outputs": [
    {
     "name": "stdout",
     "output_type": "stream",
     "text": [
      "\u001b[34mINFO    \u001b[0m File models/Hyper_Exp/HyperExp_mixofgaus_2/model.pt already downloaded                                    \n",
      "\u001b[34mINFO    \u001b[0m File models/Hyper_Exp/HyperExp_mixofgaus_5/model.pt already downloaded                                    \n",
      "\u001b[34mINFO    \u001b[0m File models/Hyper_Exp/HyperExp_mixofgaus_10/model.pt already downloaded                                   \n",
      "\u001b[34mINFO    \u001b[0m File models/Hyper_Exp/HyperExp_mixofgaus_50/model.pt already downloaded                                   \n",
      "\u001b[34mINFO    \u001b[0m File models/Hyper_Exp/HyperExp_mixofgaus_100/model.pt already downloaded                                  \n",
      "\u001b[34mINFO    \u001b[0m File models/Hyper_Exp/HyperExp_mixofgaus_200/model.pt already downloaded                                  \n",
      "\u001b[34mINFO    \u001b[0m File models/Hyper_Exp/HyperExp_mixofgaus_500/model.pt already downloaded                                  \n"
     ]
    },
    {
     "ename": "KeyboardInterrupt",
     "evalue": "",
     "output_type": "error",
     "traceback": [
      "\u001b[0;31m---------------------------------------------------------------------------\u001b[0m",
      "\u001b[0;31mKeyboardInterrupt\u001b[0m                         Traceback (most recent call last)",
      "\u001b[1;32m/local/data/BachelorThesis/Poster/parameter_optimization_2.ipynb Cell 6\u001b[0m line \u001b[0;36m3\n\u001b[1;32m      <a href='vscode-notebook-cell:/local/data/BachelorThesis/Poster/parameter_optimization_2.ipynb#X12sZmlsZQ%3D%3D?line=0'>1</a>\u001b[0m vaes \u001b[39m=\u001b[39m []\n\u001b[1;32m      <a href='vscode-notebook-cell:/local/data/BachelorThesis/Poster/parameter_optimization_2.ipynb#X12sZmlsZQ%3D%3D?line=1'>2</a>\u001b[0m \u001b[39mfor\u001b[39;00m k \u001b[39min\u001b[39;00m ks:\n\u001b[0;32m----> <a href='vscode-notebook-cell:/local/data/BachelorThesis/Poster/parameter_optimization_2.ipynb#X12sZmlsZQ%3D%3D?line=2'>3</a>\u001b[0m     vaes\u001b[39m.\u001b[39mappend(scvi\u001b[39m.\u001b[39;49mmodel\u001b[39m.\u001b[39;49mSCVI\u001b[39m.\u001b[39;49mload(\u001b[39mf\u001b[39;49m\u001b[39m\"\u001b[39;49m\u001b[39mmodels/Hyper_Exp/HyperExp_mixofgaus_\u001b[39;49m\u001b[39m{\u001b[39;49;00mk\u001b[39m}\u001b[39;49;00m\u001b[39m\"\u001b[39;49m))\n",
      "File \u001b[0;32m/local/data/scvi-tools/scvi/model/base/_base_model.py:682\u001b[0m, in \u001b[0;36mBaseModelClass.load\u001b[0;34m(cls, dir_path, adata, use_gpu, accelerator, device, prefix, backup_url)\u001b[0m\n\u001b[1;32m    668\u001b[0m load_adata \u001b[39m=\u001b[39m adata \u001b[39mis\u001b[39;00m \u001b[39mNone\u001b[39;00m\n\u001b[1;32m    669\u001b[0m _, _, device \u001b[39m=\u001b[39m parse_device_args(\n\u001b[1;32m    670\u001b[0m     use_gpu\u001b[39m=\u001b[39muse_gpu,\n\u001b[1;32m    671\u001b[0m     accelerator\u001b[39m=\u001b[39maccelerator,\n\u001b[0;32m   (...)\u001b[0m\n\u001b[1;32m    674\u001b[0m     validate_single_device\u001b[39m=\u001b[39m\u001b[39mTrue\u001b[39;00m,\n\u001b[1;32m    675\u001b[0m )\n\u001b[1;32m    677\u001b[0m (\n\u001b[1;32m    678\u001b[0m     attr_dict,\n\u001b[1;32m    679\u001b[0m     var_names,\n\u001b[1;32m    680\u001b[0m     model_state_dict,\n\u001b[1;32m    681\u001b[0m     new_adata,\n\u001b[0;32m--> 682\u001b[0m ) \u001b[39m=\u001b[39m _load_saved_files(\n\u001b[1;32m    683\u001b[0m     dir_path,\n\u001b[1;32m    684\u001b[0m     load_adata,\n\u001b[1;32m    685\u001b[0m     map_location\u001b[39m=\u001b[39;49mdevice,\n\u001b[1;32m    686\u001b[0m     prefix\u001b[39m=\u001b[39;49mprefix,\n\u001b[1;32m    687\u001b[0m     backup_url\u001b[39m=\u001b[39;49mbackup_url,\n\u001b[1;32m    688\u001b[0m )\n\u001b[1;32m    689\u001b[0m adata \u001b[39m=\u001b[39m new_adata \u001b[39mif\u001b[39;00m new_adata \u001b[39mis\u001b[39;00m \u001b[39mnot\u001b[39;00m \u001b[39mNone\u001b[39;00m \u001b[39melse\u001b[39;00m adata\n\u001b[1;32m    691\u001b[0m _validate_var_names(adata, var_names)\n",
      "File \u001b[0;32m/local/data/scvi-tools/scvi/model/base/_utils.py:89\u001b[0m, in \u001b[0;36m_load_saved_files\u001b[0;34m(dir_path, load_adata, prefix, map_location, backup_url)\u001b[0m\n\u001b[1;32m     87\u001b[0m         adata \u001b[39m=\u001b[39m mudata\u001b[39m.\u001b[39mread(adata_path)\n\u001b[1;32m     88\u001b[0m     \u001b[39melse\u001b[39;00m:\n\u001b[0;32m---> 89\u001b[0m         adata \u001b[39m=\u001b[39m anndata\u001b[39m.\u001b[39;49mread(adata_path)\n\u001b[1;32m     90\u001b[0m \u001b[39melse\u001b[39;00m:\n\u001b[1;32m     91\u001b[0m     \u001b[39mraise\u001b[39;00m \u001b[39mValueError\u001b[39;00m(\n\u001b[1;32m     92\u001b[0m         \u001b[39m\"\u001b[39m\u001b[39mSave path contains no saved anndata and no adata was passed.\u001b[39m\u001b[39m\"\u001b[39m\n\u001b[1;32m     93\u001b[0m     )\n",
      "File \u001b[0;32m/local/data/anaconda3/envs/BT/lib/python3.11/site-packages/anndata/_io/h5ad.py:243\u001b[0m, in \u001b[0;36mread_h5ad\u001b[0;34m(filename, backed, as_sparse, as_sparse_fmt, chunk_size)\u001b[0m\n\u001b[1;32m    240\u001b[0m         \u001b[39mreturn\u001b[39;00m read_dataframe(elem)\n\u001b[1;32m    241\u001b[0m     \u001b[39mreturn\u001b[39;00m func(elem)\n\u001b[0;32m--> 243\u001b[0m adata \u001b[39m=\u001b[39m read_dispatched(f, callback\u001b[39m=\u001b[39;49mcallback)\n\u001b[1;32m    245\u001b[0m \u001b[39m# Backwards compat (should figure out which version)\u001b[39;00m\n\u001b[1;32m    246\u001b[0m \u001b[39mif\u001b[39;00m \u001b[39m\"\u001b[39m\u001b[39mraw.X\u001b[39m\u001b[39m\"\u001b[39m \u001b[39min\u001b[39;00m f:\n",
      "File \u001b[0;32m/local/data/anaconda3/envs/BT/lib/python3.11/site-packages/anndata/experimental/__init__.py:58\u001b[0m, in \u001b[0;36mread_dispatched\u001b[0;34m(elem, callback)\u001b[0m\n\u001b[1;32m     54\u001b[0m \u001b[39mfrom\u001b[39;00m \u001b[39manndata\u001b[39;00m\u001b[39m.\u001b[39;00m\u001b[39m_io\u001b[39;00m\u001b[39m.\u001b[39;00m\u001b[39mspecs\u001b[39;00m \u001b[39mimport\u001b[39;00m Reader, _REGISTRY\n\u001b[1;32m     56\u001b[0m reader \u001b[39m=\u001b[39m Reader(_REGISTRY, callback\u001b[39m=\u001b[39mcallback)\n\u001b[0;32m---> 58\u001b[0m \u001b[39mreturn\u001b[39;00m reader\u001b[39m.\u001b[39;49mread_elem(elem)\n",
      "File \u001b[0;32m/local/data/anaconda3/envs/BT/lib/python3.11/site-packages/anndata/_io/utils.py:202\u001b[0m, in \u001b[0;36mreport_read_key_on_error.<locals>.func_wrapper\u001b[0;34m(*args, **kwargs)\u001b[0m\n\u001b[1;32m    200\u001b[0m         \u001b[39mbreak\u001b[39;00m\n\u001b[1;32m    201\u001b[0m \u001b[39mtry\u001b[39;00m:\n\u001b[0;32m--> 202\u001b[0m     \u001b[39mreturn\u001b[39;00m func(\u001b[39m*\u001b[39;49margs, \u001b[39m*\u001b[39;49m\u001b[39m*\u001b[39;49mkwargs)\n\u001b[1;32m    203\u001b[0m \u001b[39mexcept\u001b[39;00m \u001b[39mException\u001b[39;00m \u001b[39mas\u001b[39;00m e:\n\u001b[1;32m    204\u001b[0m     re_raise_error(e, elem)\n",
      "File \u001b[0;32m/local/data/anaconda3/envs/BT/lib/python3.11/site-packages/anndata/_io/specs/registry.py:235\u001b[0m, in \u001b[0;36mReader.read_elem\u001b[0;34m(self, elem, modifiers)\u001b[0m\n\u001b[1;32m    233\u001b[0m read_func \u001b[39m=\u001b[39m partial(read_func, _reader\u001b[39m=\u001b[39m\u001b[39mself\u001b[39m)\n\u001b[1;32m    234\u001b[0m \u001b[39mif\u001b[39;00m \u001b[39mself\u001b[39m\u001b[39m.\u001b[39mcallback \u001b[39mis\u001b[39;00m \u001b[39mnot\u001b[39;00m \u001b[39mNone\u001b[39;00m:\n\u001b[0;32m--> 235\u001b[0m     \u001b[39mreturn\u001b[39;00m \u001b[39mself\u001b[39;49m\u001b[39m.\u001b[39;49mcallback(read_func, elem\u001b[39m.\u001b[39;49mname, elem, iospec\u001b[39m=\u001b[39;49mget_spec(elem))\n\u001b[1;32m    236\u001b[0m \u001b[39melse\u001b[39;00m:\n\u001b[1;32m    237\u001b[0m     \u001b[39mreturn\u001b[39;00m read_func(elem)\n",
      "File \u001b[0;32m/local/data/anaconda3/envs/BT/lib/python3.11/site-packages/anndata/_io/h5ad.py:224\u001b[0m, in \u001b[0;36mread_h5ad.<locals>.callback\u001b[0;34m(func, elem_name, elem, iospec)\u001b[0m\n\u001b[1;32m    221\u001b[0m \u001b[39mdef\u001b[39;00m \u001b[39mcallback\u001b[39m(func, elem_name: \u001b[39mstr\u001b[39m, elem, iospec):\n\u001b[1;32m    222\u001b[0m     \u001b[39mif\u001b[39;00m iospec\u001b[39m.\u001b[39mencoding_type \u001b[39m==\u001b[39m \u001b[39m\"\u001b[39m\u001b[39manndata\u001b[39m\u001b[39m\"\u001b[39m \u001b[39mor\u001b[39;00m elem_name\u001b[39m.\u001b[39mendswith(\u001b[39m\"\u001b[39m\u001b[39m/\u001b[39m\u001b[39m\"\u001b[39m):\n\u001b[1;32m    223\u001b[0m         \u001b[39mreturn\u001b[39;00m AnnData(\n\u001b[0;32m--> 224\u001b[0m             \u001b[39m*\u001b[39m\u001b[39m*\u001b[39m{\n\u001b[1;32m    225\u001b[0m                 \u001b[39m# This is covering up backwards compat in the anndata initializer\u001b[39;49;00m\n\u001b[1;32m    226\u001b[0m                 \u001b[39m# In most cases we should be able to call `func(elen[k])` instead\u001b[39;49;00m\n\u001b[1;32m    227\u001b[0m                 k: read_dispatched(elem[k], callback)\n\u001b[1;32m    228\u001b[0m                 \u001b[39mfor\u001b[39;49;00m k \u001b[39min\u001b[39;49;00m elem\u001b[39m.\u001b[39;49mkeys()\n\u001b[1;32m    229\u001b[0m                 \u001b[39mif\u001b[39;49;00m \u001b[39mnot\u001b[39;49;00m k\u001b[39m.\u001b[39;49mstartswith(\u001b[39m\"\u001b[39;49m\u001b[39mraw.\u001b[39;49m\u001b[39m\"\u001b[39;49m)\n\u001b[1;32m    230\u001b[0m             }\n\u001b[1;32m    231\u001b[0m         )\n\u001b[1;32m    232\u001b[0m     \u001b[39melif\u001b[39;00m elem_name\u001b[39m.\u001b[39mstartswith(\u001b[39m\"\u001b[39m\u001b[39m/raw.\u001b[39m\u001b[39m\"\u001b[39m):\n\u001b[1;32m    233\u001b[0m         \u001b[39mreturn\u001b[39;00m \u001b[39mNone\u001b[39;00m\n",
      "File \u001b[0;32m/local/data/anaconda3/envs/BT/lib/python3.11/site-packages/anndata/_io/h5ad.py:227\u001b[0m, in \u001b[0;36m<dictcomp>\u001b[0;34m(.0)\u001b[0m\n\u001b[1;32m    221\u001b[0m \u001b[39mdef\u001b[39;00m \u001b[39mcallback\u001b[39m(func, elem_name: \u001b[39mstr\u001b[39m, elem, iospec):\n\u001b[1;32m    222\u001b[0m     \u001b[39mif\u001b[39;00m iospec\u001b[39m.\u001b[39mencoding_type \u001b[39m==\u001b[39m \u001b[39m\"\u001b[39m\u001b[39manndata\u001b[39m\u001b[39m\"\u001b[39m \u001b[39mor\u001b[39;00m elem_name\u001b[39m.\u001b[39mendswith(\u001b[39m\"\u001b[39m\u001b[39m/\u001b[39m\u001b[39m\"\u001b[39m):\n\u001b[1;32m    223\u001b[0m         \u001b[39mreturn\u001b[39;00m AnnData(\n\u001b[1;32m    224\u001b[0m             \u001b[39m*\u001b[39m\u001b[39m*\u001b[39m{\n\u001b[1;32m    225\u001b[0m                 \u001b[39m# This is covering up backwards compat in the anndata initializer\u001b[39;00m\n\u001b[1;32m    226\u001b[0m                 \u001b[39m# In most cases we should be able to call `func(elen[k])` instead\u001b[39;00m\n\u001b[0;32m--> 227\u001b[0m                 k: read_dispatched(elem[k], callback)\n\u001b[1;32m    228\u001b[0m                 \u001b[39mfor\u001b[39;00m k \u001b[39min\u001b[39;00m elem\u001b[39m.\u001b[39mkeys()\n\u001b[1;32m    229\u001b[0m                 \u001b[39mif\u001b[39;00m \u001b[39mnot\u001b[39;00m k\u001b[39m.\u001b[39mstartswith(\u001b[39m\"\u001b[39m\u001b[39mraw.\u001b[39m\u001b[39m\"\u001b[39m)\n\u001b[1;32m    230\u001b[0m             }\n\u001b[1;32m    231\u001b[0m         )\n\u001b[1;32m    232\u001b[0m     \u001b[39melif\u001b[39;00m elem_name\u001b[39m.\u001b[39mstartswith(\u001b[39m\"\u001b[39m\u001b[39m/raw.\u001b[39m\u001b[39m\"\u001b[39m):\n\u001b[1;32m    233\u001b[0m         \u001b[39mreturn\u001b[39;00m \u001b[39mNone\u001b[39;00m\n",
      "File \u001b[0;32m/local/data/anaconda3/envs/BT/lib/python3.11/site-packages/anndata/experimental/__init__.py:58\u001b[0m, in \u001b[0;36mread_dispatched\u001b[0;34m(elem, callback)\u001b[0m\n\u001b[1;32m     54\u001b[0m \u001b[39mfrom\u001b[39;00m \u001b[39manndata\u001b[39;00m\u001b[39m.\u001b[39;00m\u001b[39m_io\u001b[39;00m\u001b[39m.\u001b[39;00m\u001b[39mspecs\u001b[39;00m \u001b[39mimport\u001b[39;00m Reader, _REGISTRY\n\u001b[1;32m     56\u001b[0m reader \u001b[39m=\u001b[39m Reader(_REGISTRY, callback\u001b[39m=\u001b[39mcallback)\n\u001b[0;32m---> 58\u001b[0m \u001b[39mreturn\u001b[39;00m reader\u001b[39m.\u001b[39;49mread_elem(elem)\n",
      "File \u001b[0;32m/local/data/anaconda3/envs/BT/lib/python3.11/site-packages/anndata/_io/utils.py:202\u001b[0m, in \u001b[0;36mreport_read_key_on_error.<locals>.func_wrapper\u001b[0;34m(*args, **kwargs)\u001b[0m\n\u001b[1;32m    200\u001b[0m         \u001b[39mbreak\u001b[39;00m\n\u001b[1;32m    201\u001b[0m \u001b[39mtry\u001b[39;00m:\n\u001b[0;32m--> 202\u001b[0m     \u001b[39mreturn\u001b[39;00m func(\u001b[39m*\u001b[39;49margs, \u001b[39m*\u001b[39;49m\u001b[39m*\u001b[39;49mkwargs)\n\u001b[1;32m    203\u001b[0m \u001b[39mexcept\u001b[39;00m \u001b[39mException\u001b[39;00m \u001b[39mas\u001b[39;00m e:\n\u001b[1;32m    204\u001b[0m     re_raise_error(e, elem)\n",
      "File \u001b[0;32m/local/data/anaconda3/envs/BT/lib/python3.11/site-packages/anndata/_io/specs/registry.py:235\u001b[0m, in \u001b[0;36mReader.read_elem\u001b[0;34m(self, elem, modifiers)\u001b[0m\n\u001b[1;32m    233\u001b[0m read_func \u001b[39m=\u001b[39m partial(read_func, _reader\u001b[39m=\u001b[39m\u001b[39mself\u001b[39m)\n\u001b[1;32m    234\u001b[0m \u001b[39mif\u001b[39;00m \u001b[39mself\u001b[39m\u001b[39m.\u001b[39mcallback \u001b[39mis\u001b[39;00m \u001b[39mnot\u001b[39;00m \u001b[39mNone\u001b[39;00m:\n\u001b[0;32m--> 235\u001b[0m     \u001b[39mreturn\u001b[39;00m \u001b[39mself\u001b[39;49m\u001b[39m.\u001b[39;49mcallback(read_func, elem\u001b[39m.\u001b[39;49mname, elem, iospec\u001b[39m=\u001b[39;49mget_spec(elem))\n\u001b[1;32m    236\u001b[0m \u001b[39melse\u001b[39;00m:\n\u001b[1;32m    237\u001b[0m     \u001b[39mreturn\u001b[39;00m read_func(elem)\n",
      "File \u001b[0;32m/local/data/anaconda3/envs/BT/lib/python3.11/site-packages/anndata/_io/h5ad.py:241\u001b[0m, in \u001b[0;36mread_h5ad.<locals>.callback\u001b[0;34m(func, elem_name, elem, iospec)\u001b[0m\n\u001b[1;32m    238\u001b[0m \u001b[39melif\u001b[39;00m elem_name \u001b[39min\u001b[39;00m {\u001b[39m\"\u001b[39m\u001b[39m/obs\u001b[39m\u001b[39m\"\u001b[39m, \u001b[39m\"\u001b[39m\u001b[39m/var\u001b[39m\u001b[39m\"\u001b[39m}:\n\u001b[1;32m    239\u001b[0m     \u001b[39m# Backwards compat\u001b[39;00m\n\u001b[1;32m    240\u001b[0m     \u001b[39mreturn\u001b[39;00m read_dataframe(elem)\n\u001b[0;32m--> 241\u001b[0m \u001b[39mreturn\u001b[39;00m func(elem)\n",
      "File \u001b[0;32m/local/data/anaconda3/envs/BT/lib/python3.11/site-packages/anndata/_io/specs/methods.py:273\u001b[0m, in \u001b[0;36mread_mapping\u001b[0;34m(elem, _reader)\u001b[0m\n\u001b[1;32m    270\u001b[0m \u001b[39m@_REGISTRY\u001b[39m\u001b[39m.\u001b[39mregister_read(H5Group, IOSpec(\u001b[39m\"\u001b[39m\u001b[39mdict\u001b[39m\u001b[39m\"\u001b[39m, \u001b[39m\"\u001b[39m\u001b[39m0.1.0\u001b[39m\u001b[39m\"\u001b[39m))\n\u001b[1;32m    271\u001b[0m \u001b[39m@_REGISTRY\u001b[39m\u001b[39m.\u001b[39mregister_read(ZarrGroup, IOSpec(\u001b[39m\"\u001b[39m\u001b[39mdict\u001b[39m\u001b[39m\"\u001b[39m, \u001b[39m\"\u001b[39m\u001b[39m0.1.0\u001b[39m\u001b[39m\"\u001b[39m))\n\u001b[1;32m    272\u001b[0m \u001b[39mdef\u001b[39;00m \u001b[39mread_mapping\u001b[39m(elem, _reader):\n\u001b[0;32m--> 273\u001b[0m     \u001b[39mreturn\u001b[39;00m {k: _reader\u001b[39m.\u001b[39;49mread_elem(v) \u001b[39mfor\u001b[39;49;00m k, v \u001b[39min\u001b[39;49;00m elem\u001b[39m.\u001b[39;49mitems()}\n",
      "File \u001b[0;32m/local/data/anaconda3/envs/BT/lib/python3.11/site-packages/anndata/_io/specs/methods.py:273\u001b[0m, in \u001b[0;36m<dictcomp>\u001b[0;34m(.0)\u001b[0m\n\u001b[1;32m    270\u001b[0m \u001b[39m@_REGISTRY\u001b[39m\u001b[39m.\u001b[39mregister_read(H5Group, IOSpec(\u001b[39m\"\u001b[39m\u001b[39mdict\u001b[39m\u001b[39m\"\u001b[39m, \u001b[39m\"\u001b[39m\u001b[39m0.1.0\u001b[39m\u001b[39m\"\u001b[39m))\n\u001b[1;32m    271\u001b[0m \u001b[39m@_REGISTRY\u001b[39m\u001b[39m.\u001b[39mregister_read(ZarrGroup, IOSpec(\u001b[39m\"\u001b[39m\u001b[39mdict\u001b[39m\u001b[39m\"\u001b[39m, \u001b[39m\"\u001b[39m\u001b[39m0.1.0\u001b[39m\u001b[39m\"\u001b[39m))\n\u001b[1;32m    272\u001b[0m \u001b[39mdef\u001b[39;00m \u001b[39mread_mapping\u001b[39m(elem, _reader):\n\u001b[0;32m--> 273\u001b[0m     \u001b[39mreturn\u001b[39;00m {k: _reader\u001b[39m.\u001b[39;49mread_elem(v) \u001b[39mfor\u001b[39;00m k, v \u001b[39min\u001b[39;00m elem\u001b[39m.\u001b[39mitems()}\n",
      "File \u001b[0;32m/local/data/anaconda3/envs/BT/lib/python3.11/site-packages/anndata/_io/utils.py:202\u001b[0m, in \u001b[0;36mreport_read_key_on_error.<locals>.func_wrapper\u001b[0;34m(*args, **kwargs)\u001b[0m\n\u001b[1;32m    200\u001b[0m         \u001b[39mbreak\u001b[39;00m\n\u001b[1;32m    201\u001b[0m \u001b[39mtry\u001b[39;00m:\n\u001b[0;32m--> 202\u001b[0m     \u001b[39mreturn\u001b[39;00m func(\u001b[39m*\u001b[39;49margs, \u001b[39m*\u001b[39;49m\u001b[39m*\u001b[39;49mkwargs)\n\u001b[1;32m    203\u001b[0m \u001b[39mexcept\u001b[39;00m \u001b[39mException\u001b[39;00m \u001b[39mas\u001b[39;00m e:\n\u001b[1;32m    204\u001b[0m     re_raise_error(e, elem)\n",
      "File \u001b[0;32m/local/data/anaconda3/envs/BT/lib/python3.11/site-packages/anndata/_io/specs/registry.py:235\u001b[0m, in \u001b[0;36mReader.read_elem\u001b[0;34m(self, elem, modifiers)\u001b[0m\n\u001b[1;32m    233\u001b[0m read_func \u001b[39m=\u001b[39m partial(read_func, _reader\u001b[39m=\u001b[39m\u001b[39mself\u001b[39m)\n\u001b[1;32m    234\u001b[0m \u001b[39mif\u001b[39;00m \u001b[39mself\u001b[39m\u001b[39m.\u001b[39mcallback \u001b[39mis\u001b[39;00m \u001b[39mnot\u001b[39;00m \u001b[39mNone\u001b[39;00m:\n\u001b[0;32m--> 235\u001b[0m     \u001b[39mreturn\u001b[39;00m \u001b[39mself\u001b[39;49m\u001b[39m.\u001b[39;49mcallback(read_func, elem\u001b[39m.\u001b[39;49mname, elem, iospec\u001b[39m=\u001b[39;49mget_spec(elem))\n\u001b[1;32m    236\u001b[0m \u001b[39melse\u001b[39;00m:\n\u001b[1;32m    237\u001b[0m     \u001b[39mreturn\u001b[39;00m read_func(elem)\n",
      "File \u001b[0;32m/local/data/anaconda3/envs/BT/lib/python3.11/site-packages/anndata/_io/h5ad.py:241\u001b[0m, in \u001b[0;36mread_h5ad.<locals>.callback\u001b[0;34m(func, elem_name, elem, iospec)\u001b[0m\n\u001b[1;32m    238\u001b[0m \u001b[39melif\u001b[39;00m elem_name \u001b[39min\u001b[39;00m {\u001b[39m\"\u001b[39m\u001b[39m/obs\u001b[39m\u001b[39m\"\u001b[39m, \u001b[39m\"\u001b[39m\u001b[39m/var\u001b[39m\u001b[39m\"\u001b[39m}:\n\u001b[1;32m    239\u001b[0m     \u001b[39m# Backwards compat\u001b[39;00m\n\u001b[1;32m    240\u001b[0m     \u001b[39mreturn\u001b[39;00m read_dataframe(elem)\n\u001b[0;32m--> 241\u001b[0m \u001b[39mreturn\u001b[39;00m func(elem)\n",
      "File \u001b[0;32m/local/data/anaconda3/envs/BT/lib/python3.11/site-packages/anndata/_io/specs/methods.py:323\u001b[0m, in \u001b[0;36mread_array\u001b[0;34m(elem, _reader)\u001b[0m\n\u001b[1;32m    319\u001b[0m \u001b[39m@_REGISTRY\u001b[39m\u001b[39m.\u001b[39mregister_read(H5Array, IOSpec(\u001b[39m\"\u001b[39m\u001b[39marray\u001b[39m\u001b[39m\"\u001b[39m, \u001b[39m\"\u001b[39m\u001b[39m0.2.0\u001b[39m\u001b[39m\"\u001b[39m))\n\u001b[1;32m    320\u001b[0m \u001b[39m@_REGISTRY\u001b[39m\u001b[39m.\u001b[39mregister_read(ZarrArray, IOSpec(\u001b[39m\"\u001b[39m\u001b[39marray\u001b[39m\u001b[39m\"\u001b[39m, \u001b[39m\"\u001b[39m\u001b[39m0.2.0\u001b[39m\u001b[39m\"\u001b[39m))\n\u001b[1;32m    321\u001b[0m \u001b[39m@_REGISTRY\u001b[39m\u001b[39m.\u001b[39mregister_read(ZarrArray, IOSpec(\u001b[39m\"\u001b[39m\u001b[39mstring-array\u001b[39m\u001b[39m\"\u001b[39m, \u001b[39m\"\u001b[39m\u001b[39m0.2.0\u001b[39m\u001b[39m\"\u001b[39m))\n\u001b[1;32m    322\u001b[0m \u001b[39mdef\u001b[39;00m \u001b[39mread_array\u001b[39m(elem, _reader):\n\u001b[0;32m--> 323\u001b[0m     \u001b[39mreturn\u001b[39;00m elem[()]\n",
      "File \u001b[0;32mh5py/_objects.pyx:54\u001b[0m, in \u001b[0;36mh5py._objects.with_phil.wrapper\u001b[0;34m()\u001b[0m\n",
      "File \u001b[0;32mh5py/_objects.pyx:55\u001b[0m, in \u001b[0;36mh5py._objects.with_phil.wrapper\u001b[0;34m()\u001b[0m\n",
      "File \u001b[0;32m/local/data/anaconda3/envs/BT/lib/python3.11/site-packages/h5py/_hl/dataset.py:758\u001b[0m, in \u001b[0;36mDataset.__getitem__\u001b[0;34m(self, args, new_dtype)\u001b[0m\n\u001b[1;32m    756\u001b[0m \u001b[39mif\u001b[39;00m \u001b[39mself\u001b[39m\u001b[39m.\u001b[39m_fast_read_ok \u001b[39mand\u001b[39;00m (new_dtype \u001b[39mis\u001b[39;00m \u001b[39mNone\u001b[39;00m):\n\u001b[1;32m    757\u001b[0m     \u001b[39mtry\u001b[39;00m:\n\u001b[0;32m--> 758\u001b[0m         \u001b[39mreturn\u001b[39;00m \u001b[39mself\u001b[39m\u001b[39m.\u001b[39m_fast_reader\u001b[39m.\u001b[39mread(args)\n\u001b[1;32m    759\u001b[0m     \u001b[39mexcept\u001b[39;00m \u001b[39mTypeError\u001b[39;00m:\n\u001b[1;32m    760\u001b[0m         \u001b[39mpass\u001b[39;00m  \u001b[39m# Fall back to Python read pathway below\u001b[39;00m\n",
      "\u001b[0;31mKeyboardInterrupt\u001b[0m: "
     ]
    }
   ],
   "source": [
    "vaes = []\n",
    "for k in ks:\n",
    "    vaes.append(scvi.model.SCVI.load(f\"models/Hyper_Exp/HyperExp_mixofgaus_{k}\"))"
   ]
  },
  {
   "cell_type": "code",
   "execution_count": null,
   "metadata": {},
   "outputs": [],
   "source": []
  }
 ],
 "metadata": {
  "kernelspec": {
   "display_name": "Python 3",
   "language": "python",
   "name": "python3"
  },
  "language_info": {
   "codemirror_mode": {
    "name": "ipython",
    "version": 3
   },
   "file_extension": ".py",
   "mimetype": "text/x-python",
   "name": "python",
   "nbconvert_exporter": "python",
   "pygments_lexer": "ipython3",
   "version": "3.11.4"
  },
  "orig_nbformat": 4
 },
 "nbformat": 4,
 "nbformat_minor": 2
}
