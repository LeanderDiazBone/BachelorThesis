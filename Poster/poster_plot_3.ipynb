{
 "cells": [
  {
   "cell_type": "code",
   "execution_count": 10,
   "metadata": {},
   "outputs": [],
   "source": [
    "import numpy as np\n",
    "import scanpy as sc\n",
    "import anndata\n",
    "import scvi\n",
    "from scib_metrics.benchmark import Benchmarker\n",
    "import torch\n",
    "import scib_metrics\n",
    "from lightning.pytorch.callbacks import ModelCheckpoint\n",
    "import copy\n",
    "%matplotlib inline\n",
    "import sys\n",
    "sys.path.append('..')\n",
    "from functions import *\n",
    "from SCVIModelCheckpoint import SCVIModelCheckpoint "
   ]
  },
  {
   "cell_type": "code",
   "execution_count": 11,
   "metadata": {},
   "outputs": [
    {
     "data": {
      "text/plain": [
       "AnnData object with n_obs × n_vars = 33506 × 4000\n",
       "    obs: 'batch', 'chemistry', 'data_type', 'dpt_pseudotime', 'final_annotation', 'mt_frac', 'n_counts', 'n_genes', 'sample_ID', 'size_factors', 'species', 'study', 'tissue'\n",
       "    var: 'highly_variable', 'means', 'dispersions', 'dispersions_norm', 'highly_variable_nbatches', 'highly_variable_intersection'\n",
       "    uns: 'hvg', 'pca'\n",
       "    obsm: 'Scanorama', 'Unintegrated', 'X_pca'\n",
       "    varm: 'PCs'\n",
       "    layers: 'counts'"
      ]
     },
     "execution_count": 11,
     "metadata": {},
     "output_type": "execute_result"
    }
   ],
   "source": [
    "adata = anndata.read_h5ad(filename=\"../data/adataImmHum4.h5ad\")\n",
    "adata"
   ]
  },
  {
   "cell_type": "code",
   "execution_count": 12,
   "metadata": {},
   "outputs": [],
   "source": [
    "def trainN(adata, prior, checkpoint, checkpointFolder, N, save = None):\n",
    "    for i in range(N):\n",
    "        adata, vae = trainModel(adata, prior, checkpoint = checkpoint, checkpointFolder = checkpointFolder + f\"{prior}t{i}/\", every_n=390, log=False, logname=\"MetEps400MG\")\n",
    "        if save:\n",
    "            vae.save(f\"models/{prior}_2\")"
   ]
  },
  {
   "cell_type": "code",
   "execution_count": 13,
   "metadata": {},
   "outputs": [],
   "source": [
    "n = 5"
   ]
  },
  {
   "cell_type": "code",
   "execution_count": 14,
   "metadata": {},
   "outputs": [
    {
     "name": "stderr",
     "output_type": "stream",
     "text": [
      "GPU available: True (cuda), used: True\n",
      "TPU available: False, using: 0 TPU cores\n",
      "IPU available: False, using: 0 IPUs\n",
      "HPU available: False, using: 0 HPUs\n",
      "LOCAL_RANK: 0 - CUDA_VISIBLE_DEVICES: [0]\n"
     ]
    },
    {
     "name": "stdout",
     "output_type": "stream",
     "text": [
      "Epoch 400/400: 100%|██████████| 400/400 [15:25<00:00,  2.33s/it, v_num=1, train_loss_step=1.5e+3, train_loss_epoch=1.46e+3] "
     ]
    },
    {
     "name": "stderr",
     "output_type": "stream",
     "text": [
      "`Trainer.fit` stopped: `max_epochs=400` reached.\n"
     ]
    },
    {
     "name": "stdout",
     "output_type": "stream",
     "text": [
      "Epoch 400/400: 100%|██████████| 400/400 [15:25<00:00,  2.31s/it, v_num=1, train_loss_step=1.5e+3, train_loss_epoch=1.46e+3]\n"
     ]
    },
    {
     "name": "stderr",
     "output_type": "stream",
     "text": [
      "GPU available: True (cuda), used: True\n",
      "TPU available: False, using: 0 TPU cores\n",
      "IPU available: False, using: 0 IPUs\n",
      "HPU available: False, using: 0 HPUs\n",
      "LOCAL_RANK: 0 - CUDA_VISIBLE_DEVICES: [0]\n"
     ]
    },
    {
     "name": "stdout",
     "output_type": "stream",
     "text": [
      "Epoch 400/400: 100%|██████████| 400/400 [14:10<00:00,  2.09s/it, v_num=1, train_loss_step=1.44e+3, train_loss_epoch=1.47e+3]"
     ]
    },
    {
     "name": "stderr",
     "output_type": "stream",
     "text": [
      "`Trainer.fit` stopped: `max_epochs=400` reached.\n"
     ]
    },
    {
     "name": "stdout",
     "output_type": "stream",
     "text": [
      "Epoch 400/400: 100%|██████████| 400/400 [14:10<00:00,  2.13s/it, v_num=1, train_loss_step=1.44e+3, train_loss_epoch=1.47e+3]\n"
     ]
    },
    {
     "name": "stderr",
     "output_type": "stream",
     "text": [
      "GPU available: True (cuda), used: True\n",
      "TPU available: False, using: 0 TPU cores\n",
      "IPU available: False, using: 0 IPUs\n",
      "HPU available: False, using: 0 HPUs\n",
      "LOCAL_RANK: 0 - CUDA_VISIBLE_DEVICES: [0]\n"
     ]
    },
    {
     "name": "stdout",
     "output_type": "stream",
     "text": [
      "Epoch 400/400: 100%|██████████| 400/400 [13:55<00:00,  2.10s/it, v_num=1, train_loss_step=1.64e+3, train_loss_epoch=1.46e+3]"
     ]
    },
    {
     "name": "stderr",
     "output_type": "stream",
     "text": [
      "`Trainer.fit` stopped: `max_epochs=400` reached.\n"
     ]
    },
    {
     "name": "stdout",
     "output_type": "stream",
     "text": [
      "Epoch 400/400: 100%|██████████| 400/400 [13:55<00:00,  2.09s/it, v_num=1, train_loss_step=1.64e+3, train_loss_epoch=1.46e+3]\n"
     ]
    },
    {
     "name": "stderr",
     "output_type": "stream",
     "text": [
      "GPU available: True (cuda), used: True\n",
      "TPU available: False, using: 0 TPU cores\n",
      "IPU available: False, using: 0 IPUs\n",
      "HPU available: False, using: 0 HPUs\n",
      "LOCAL_RANK: 0 - CUDA_VISIBLE_DEVICES: [0]\n"
     ]
    },
    {
     "name": "stdout",
     "output_type": "stream",
     "text": [
      "Epoch 400/400: 100%|██████████| 400/400 [13:09<00:00,  1.73s/it, v_num=1, train_loss_step=1.27e+3, train_loss_epoch=1.47e+3]"
     ]
    },
    {
     "name": "stderr",
     "output_type": "stream",
     "text": [
      "`Trainer.fit` stopped: `max_epochs=400` reached.\n"
     ]
    },
    {
     "name": "stdout",
     "output_type": "stream",
     "text": [
      "Epoch 400/400: 100%|██████████| 400/400 [13:09<00:00,  1.97s/it, v_num=1, train_loss_step=1.27e+3, train_loss_epoch=1.47e+3]\n"
     ]
    },
    {
     "name": "stderr",
     "output_type": "stream",
     "text": [
      "GPU available: True (cuda), used: True\n",
      "TPU available: False, using: 0 TPU cores\n",
      "IPU available: False, using: 0 IPUs\n",
      "HPU available: False, using: 0 HPUs\n",
      "LOCAL_RANK: 0 - CUDA_VISIBLE_DEVICES: [0]\n"
     ]
    },
    {
     "name": "stdout",
     "output_type": "stream",
     "text": [
      "Epoch 400/400: 100%|██████████| 400/400 [11:47<00:00,  1.67s/it, v_num=1, train_loss_step=1.58e+3, train_loss_epoch=1.47e+3]"
     ]
    },
    {
     "name": "stderr",
     "output_type": "stream",
     "text": [
      "`Trainer.fit` stopped: `max_epochs=400` reached.\n"
     ]
    },
    {
     "name": "stdout",
     "output_type": "stream",
     "text": [
      "Epoch 400/400: 100%|██████████| 400/400 [11:47<00:00,  1.77s/it, v_num=1, train_loss_step=1.58e+3, train_loss_epoch=1.47e+3]\n"
     ]
    }
   ],
   "source": [
    "trainN(adata, \"sdnormal\", True, \"../../Poster/models/mean_var_2/\",n)"
   ]
  },
  {
   "cell_type": "code",
   "execution_count": 15,
   "metadata": {},
   "outputs": [
    {
     "name": "stderr",
     "output_type": "stream",
     "text": [
      "GPU available: True (cuda), used: True\n",
      "TPU available: False, using: 0 TPU cores\n",
      "IPU available: False, using: 0 IPUs\n",
      "HPU available: False, using: 0 HPUs\n",
      "LOCAL_RANK: 0 - CUDA_VISIBLE_DEVICES: [0]\n"
     ]
    },
    {
     "name": "stdout",
     "output_type": "stream",
     "text": [
      "Epoch 400/400: 100%|██████████| 400/400 [13:59<00:00,  2.08s/it, v_num=1, train_loss_step=1.42e+3, train_loss_epoch=1.46e+3]"
     ]
    },
    {
     "name": "stderr",
     "output_type": "stream",
     "text": [
      "`Trainer.fit` stopped: `max_epochs=400` reached.\n"
     ]
    },
    {
     "name": "stdout",
     "output_type": "stream",
     "text": [
      "Epoch 400/400: 100%|██████████| 400/400 [13:59<00:00,  2.10s/it, v_num=1, train_loss_step=1.42e+3, train_loss_epoch=1.46e+3]\n"
     ]
    },
    {
     "name": "stderr",
     "output_type": "stream",
     "text": [
      "GPU available: True (cuda), used: True\n",
      "TPU available: False, using: 0 TPU cores\n",
      "IPU available: False, using: 0 IPUs\n",
      "HPU available: False, using: 0 HPUs\n",
      "LOCAL_RANK: 0 - CUDA_VISIBLE_DEVICES: [0]\n"
     ]
    },
    {
     "name": "stdout",
     "output_type": "stream",
     "text": [
      "Epoch 400/400: 100%|██████████| 400/400 [14:11<00:00,  2.07s/it, v_num=1, train_loss_step=1.68e+3, train_loss_epoch=1.46e+3]"
     ]
    },
    {
     "name": "stderr",
     "output_type": "stream",
     "text": [
      "`Trainer.fit` stopped: `max_epochs=400` reached.\n"
     ]
    },
    {
     "name": "stdout",
     "output_type": "stream",
     "text": [
      "Epoch 400/400: 100%|██████████| 400/400 [14:11<00:00,  2.13s/it, v_num=1, train_loss_step=1.68e+3, train_loss_epoch=1.46e+3]\n"
     ]
    },
    {
     "name": "stderr",
     "output_type": "stream",
     "text": [
      "GPU available: True (cuda), used: True\n",
      "TPU available: False, using: 0 TPU cores\n",
      "IPU available: False, using: 0 IPUs\n",
      "HPU available: False, using: 0 HPUs\n",
      "LOCAL_RANK: 0 - CUDA_VISIBLE_DEVICES: [0]\n"
     ]
    },
    {
     "name": "stdout",
     "output_type": "stream",
     "text": [
      "Epoch 400/400: 100%|██████████| 400/400 [14:05<00:00,  2.14s/it, v_num=1, train_loss_step=1.47e+3, train_loss_epoch=1.46e+3]"
     ]
    },
    {
     "name": "stderr",
     "output_type": "stream",
     "text": [
      "`Trainer.fit` stopped: `max_epochs=400` reached.\n"
     ]
    },
    {
     "name": "stdout",
     "output_type": "stream",
     "text": [
      "Epoch 400/400: 100%|██████████| 400/400 [14:05<00:00,  2.11s/it, v_num=1, train_loss_step=1.47e+3, train_loss_epoch=1.46e+3]\n"
     ]
    },
    {
     "name": "stderr",
     "output_type": "stream",
     "text": [
      "GPU available: True (cuda), used: True\n",
      "TPU available: False, using: 0 TPU cores\n",
      "IPU available: False, using: 0 IPUs\n",
      "HPU available: False, using: 0 HPUs\n",
      "LOCAL_RANK: 0 - CUDA_VISIBLE_DEVICES: [0]\n"
     ]
    },
    {
     "name": "stdout",
     "output_type": "stream",
     "text": [
      "Epoch 400/400: 100%|██████████| 400/400 [15:29<00:00,  2.04s/it, v_num=1, train_loss_step=1.53e+3, train_loss_epoch=1.46e+3]"
     ]
    },
    {
     "name": "stderr",
     "output_type": "stream",
     "text": [
      "`Trainer.fit` stopped: `max_epochs=400` reached.\n"
     ]
    },
    {
     "name": "stdout",
     "output_type": "stream",
     "text": [
      "Epoch 400/400: 100%|██████████| 400/400 [15:29<00:00,  2.32s/it, v_num=1, train_loss_step=1.53e+3, train_loss_epoch=1.46e+3]\n"
     ]
    },
    {
     "name": "stderr",
     "output_type": "stream",
     "text": [
      "GPU available: True (cuda), used: True\n",
      "TPU available: False, using: 0 TPU cores\n",
      "IPU available: False, using: 0 IPUs\n",
      "HPU available: False, using: 0 HPUs\n",
      "LOCAL_RANK: 0 - CUDA_VISIBLE_DEVICES: [0]\n"
     ]
    },
    {
     "name": "stdout",
     "output_type": "stream",
     "text": [
      "Epoch 400/400: 100%|██████████| 400/400 [17:43<00:00,  2.64s/it, v_num=1, train_loss_step=1.5e+3, train_loss_epoch=1.46e+3] "
     ]
    },
    {
     "name": "stderr",
     "output_type": "stream",
     "text": [
      "`Trainer.fit` stopped: `max_epochs=400` reached.\n"
     ]
    },
    {
     "name": "stdout",
     "output_type": "stream",
     "text": [
      "Epoch 400/400: 100%|██████████| 400/400 [17:43<00:00,  2.66s/it, v_num=1, train_loss_step=1.5e+3, train_loss_epoch=1.46e+3]\n"
     ]
    }
   ],
   "source": [
    "trainN(adata, \"mixofgaus\", True, \"../../Poster/models/mean_var_2/\",n)"
   ]
  },
  {
   "cell_type": "code",
   "execution_count": 17,
   "metadata": {},
   "outputs": [
    {
     "name": "stderr",
     "output_type": "stream",
     "text": [
      "GPU available: True (cuda), used: True\n",
      "TPU available: False, using: 0 TPU cores\n",
      "IPU available: False, using: 0 IPUs\n",
      "HPU available: False, using: 0 HPUs\n",
      "LOCAL_RANK: 0 - CUDA_VISIBLE_DEVICES: [0]\n"
     ]
    },
    {
     "name": "stdout",
     "output_type": "stream",
     "text": [
      "Epoch 400/400: 100%|██████████| 400/400 [13:38<00:00,  2.05s/it, v_num=1, train_loss_step=1.52e+3, train_loss_epoch=1.46e+3]"
     ]
    },
    {
     "name": "stderr",
     "output_type": "stream",
     "text": [
      "`Trainer.fit` stopped: `max_epochs=400` reached.\n"
     ]
    },
    {
     "name": "stdout",
     "output_type": "stream",
     "text": [
      "Epoch 400/400: 100%|██████████| 400/400 [13:38<00:00,  2.05s/it, v_num=1, train_loss_step=1.52e+3, train_loss_epoch=1.46e+3]\n"
     ]
    },
    {
     "name": "stderr",
     "output_type": "stream",
     "text": [
      "GPU available: True (cuda), used: True\n",
      "TPU available: False, using: 0 TPU cores\n",
      "IPU available: False, using: 0 IPUs\n",
      "HPU available: False, using: 0 HPUs\n",
      "LOCAL_RANK: 0 - CUDA_VISIBLE_DEVICES: [0]\n"
     ]
    },
    {
     "name": "stdout",
     "output_type": "stream",
     "text": [
      "Epoch 400/400: 100%|██████████| 400/400 [13:36<00:00,  2.10s/it, v_num=1, train_loss_step=1.39e+3, train_loss_epoch=1.46e+3]"
     ]
    },
    {
     "name": "stderr",
     "output_type": "stream",
     "text": [
      "`Trainer.fit` stopped: `max_epochs=400` reached.\n"
     ]
    },
    {
     "name": "stdout",
     "output_type": "stream",
     "text": [
      "Epoch 400/400: 100%|██████████| 400/400 [13:36<00:00,  2.04s/it, v_num=1, train_loss_step=1.39e+3, train_loss_epoch=1.46e+3]\n"
     ]
    },
    {
     "name": "stderr",
     "output_type": "stream",
     "text": [
      "GPU available: True (cuda), used: True\n",
      "TPU available: False, using: 0 TPU cores\n",
      "IPU available: False, using: 0 IPUs\n",
      "HPU available: False, using: 0 HPUs\n",
      "LOCAL_RANK: 0 - CUDA_VISIBLE_DEVICES: [0]\n"
     ]
    },
    {
     "name": "stdout",
     "output_type": "stream",
     "text": [
      "Epoch 400/400: 100%|██████████| 400/400 [14:04<00:00,  2.09s/it, v_num=1, train_loss_step=1.33e+3, train_loss_epoch=1.46e+3]"
     ]
    },
    {
     "name": "stderr",
     "output_type": "stream",
     "text": [
      "`Trainer.fit` stopped: `max_epochs=400` reached.\n"
     ]
    },
    {
     "name": "stdout",
     "output_type": "stream",
     "text": [
      "Epoch 400/400: 100%|██████████| 400/400 [14:04<00:00,  2.11s/it, v_num=1, train_loss_step=1.33e+3, train_loss_epoch=1.46e+3]\n"
     ]
    },
    {
     "name": "stderr",
     "output_type": "stream",
     "text": [
      "GPU available: True (cuda), used: True\n",
      "TPU available: False, using: 0 TPU cores\n",
      "IPU available: False, using: 0 IPUs\n",
      "HPU available: False, using: 0 HPUs\n",
      "LOCAL_RANK: 0 - CUDA_VISIBLE_DEVICES: [0]\n"
     ]
    },
    {
     "name": "stdout",
     "output_type": "stream",
     "text": [
      "Epoch 400/400: 100%|██████████| 400/400 [13:45<00:00,  2.04s/it, v_num=1, train_loss_step=1.61e+3, train_loss_epoch=1.46e+3]"
     ]
    },
    {
     "name": "stderr",
     "output_type": "stream",
     "text": [
      "`Trainer.fit` stopped: `max_epochs=400` reached.\n"
     ]
    },
    {
     "name": "stdout",
     "output_type": "stream",
     "text": [
      "Epoch 400/400: 100%|██████████| 400/400 [13:45<00:00,  2.06s/it, v_num=1, train_loss_step=1.61e+3, train_loss_epoch=1.46e+3]\n"
     ]
    },
    {
     "name": "stderr",
     "output_type": "stream",
     "text": [
      "GPU available: True (cuda), used: True\n",
      "TPU available: False, using: 0 TPU cores\n",
      "IPU available: False, using: 0 IPUs\n",
      "HPU available: False, using: 0 HPUs\n",
      "LOCAL_RANK: 0 - CUDA_VISIBLE_DEVICES: [0]\n"
     ]
    },
    {
     "name": "stdout",
     "output_type": "stream",
     "text": [
      "Epoch 400/400: 100%|██████████| 400/400 [13:43<00:00,  2.06s/it, v_num=1, train_loss_step=1.44e+3, train_loss_epoch=1.45e+3]"
     ]
    },
    {
     "name": "stderr",
     "output_type": "stream",
     "text": [
      "`Trainer.fit` stopped: `max_epochs=400` reached.\n"
     ]
    },
    {
     "name": "stdout",
     "output_type": "stream",
     "text": [
      "Epoch 400/400: 100%|██████████| 400/400 [13:43<00:00,  2.06s/it, v_num=1, train_loss_step=1.44e+3, train_loss_epoch=1.45e+3]\n"
     ]
    }
   ],
   "source": [
    "trainN(adata, \"vamp\", True, \"../../Poster/models/mean_var_2/\",n)"
   ]
  },
  {
   "cell_type": "code",
   "execution_count": 16,
   "metadata": {},
   "outputs": [
    {
     "name": "stderr",
     "output_type": "stream",
     "text": [
      "GPU available: True (cuda), used: True\n",
      "TPU available: False, using: 0 TPU cores\n",
      "IPU available: False, using: 0 IPUs\n",
      "HPU available: False, using: 0 HPUs\n",
      "LOCAL_RANK: 0 - CUDA_VISIBLE_DEVICES: [0]\n"
     ]
    },
    {
     "name": "stdout",
     "output_type": "stream",
     "text": [
      "Epoch 400/400: 100%|██████████| 400/400 [25:03<00:00,  3.75s/it, v_num=1, train_loss_step=1.44e+3, train_loss_epoch=1.46e+3]"
     ]
    },
    {
     "name": "stderr",
     "output_type": "stream",
     "text": [
      "`Trainer.fit` stopped: `max_epochs=400` reached.\n"
     ]
    },
    {
     "name": "stdout",
     "output_type": "stream",
     "text": [
      "Epoch 400/400: 100%|██████████| 400/400 [25:03<00:00,  3.76s/it, v_num=1, train_loss_step=1.44e+3, train_loss_epoch=1.46e+3]\n"
     ]
    },
    {
     "name": "stderr",
     "output_type": "stream",
     "text": [
      "GPU available: True (cuda), used: True\n",
      "TPU available: False, using: 0 TPU cores\n",
      "IPU available: False, using: 0 IPUs\n",
      "HPU available: False, using: 0 HPUs\n",
      "LOCAL_RANK: 0 - CUDA_VISIBLE_DEVICES: [0]\n"
     ]
    },
    {
     "name": "stdout",
     "output_type": "stream",
     "text": [
      "Epoch 400/400: 100%|██████████| 400/400 [24:59<00:00,  3.78s/it, v_num=1, train_loss_step=1.48e+3, train_loss_epoch=1.46e+3]"
     ]
    },
    {
     "name": "stderr",
     "output_type": "stream",
     "text": [
      "`Trainer.fit` stopped: `max_epochs=400` reached.\n"
     ]
    },
    {
     "name": "stdout",
     "output_type": "stream",
     "text": [
      "Epoch 400/400: 100%|██████████| 400/400 [24:59<00:00,  3.75s/it, v_num=1, train_loss_step=1.48e+3, train_loss_epoch=1.46e+3]\n"
     ]
    },
    {
     "name": "stderr",
     "output_type": "stream",
     "text": [
      "GPU available: True (cuda), used: True\n",
      "TPU available: False, using: 0 TPU cores\n",
      "IPU available: False, using: 0 IPUs\n",
      "HPU available: False, using: 0 HPUs\n",
      "LOCAL_RANK: 0 - CUDA_VISIBLE_DEVICES: [0]\n"
     ]
    },
    {
     "name": "stdout",
     "output_type": "stream",
     "text": [
      "Epoch 400/400: 100%|██████████| 400/400 [21:14<00:00,  3.16s/it, v_num=1, train_loss_step=1.43e+3, train_loss_epoch=1.46e+3]"
     ]
    },
    {
     "name": "stderr",
     "output_type": "stream",
     "text": [
      "`Trainer.fit` stopped: `max_epochs=400` reached.\n"
     ]
    },
    {
     "name": "stdout",
     "output_type": "stream",
     "text": [
      "Epoch 400/400: 100%|██████████| 400/400 [21:14<00:00,  3.19s/it, v_num=1, train_loss_step=1.43e+3, train_loss_epoch=1.46e+3]\n"
     ]
    },
    {
     "name": "stderr",
     "output_type": "stream",
     "text": [
      "GPU available: True (cuda), used: True\n",
      "TPU available: False, using: 0 TPU cores\n",
      "IPU available: False, using: 0 IPUs\n",
      "HPU available: False, using: 0 HPUs\n",
      "LOCAL_RANK: 0 - CUDA_VISIBLE_DEVICES: [0]\n"
     ]
    },
    {
     "name": "stdout",
     "output_type": "stream",
     "text": [
      "Epoch 400/400: 100%|██████████| 400/400 [21:21<00:00,  3.26s/it, v_num=1, train_loss_step=1.5e+3, train_loss_epoch=1.46e+3] "
     ]
    },
    {
     "name": "stderr",
     "output_type": "stream",
     "text": [
      "`Trainer.fit` stopped: `max_epochs=400` reached.\n"
     ]
    },
    {
     "name": "stdout",
     "output_type": "stream",
     "text": [
      "Epoch 400/400: 100%|██████████| 400/400 [21:21<00:00,  3.20s/it, v_num=1, train_loss_step=1.5e+3, train_loss_epoch=1.46e+3]\n"
     ]
    },
    {
     "name": "stderr",
     "output_type": "stream",
     "text": [
      "GPU available: True (cuda), used: True\n",
      "TPU available: False, using: 0 TPU cores\n",
      "IPU available: False, using: 0 IPUs\n",
      "HPU available: False, using: 0 HPUs\n",
      "LOCAL_RANK: 0 - CUDA_VISIBLE_DEVICES: [0]\n"
     ]
    },
    {
     "name": "stdout",
     "output_type": "stream",
     "text": [
      "Epoch 400/400: 100%|██████████| 400/400 [21:19<00:00,  3.20s/it, v_num=1, train_loss_step=1.57e+3, train_loss_epoch=1.46e+3]"
     ]
    },
    {
     "name": "stderr",
     "output_type": "stream",
     "text": [
      "`Trainer.fit` stopped: `max_epochs=400` reached.\n"
     ]
    },
    {
     "name": "stdout",
     "output_type": "stream",
     "text": [
      "Epoch 400/400: 100%|██████████| 400/400 [21:19<00:00,  3.20s/it, v_num=1, train_loss_step=1.57e+3, train_loss_epoch=1.46e+3]\n"
     ]
    }
   ],
   "source": [
    "trainN(adata, \"normalflow\", True, \"../../Poster/models/mean_var_2/\",n)"
   ]
  },
  {
   "cell_type": "code",
   "execution_count": 18,
   "metadata": {},
   "outputs": [],
   "source": [
    "def benchmarkN(prior, N, max_epochs = 395, n_eps = 10):\n",
    "    results = pd.DataFrame()\n",
    "    for i in range(N):\n",
    "        bmi = getBenchmarkResultsEpochs(adata,\"models/mean_var_2/\"+ f\"{prior}t{i}/\",400,n_eps)\n",
    "        benchmark_resultsi = bmi.get_results(min_max_scale=False)\n",
    "        metrics = benchmark_resultsi.keys()\n",
    "        for k in range(3):\n",
    "            metrics_results = []\n",
    "            for j in range(int(max_epochs/n_eps)):\n",
    "                metrics_results.append(benchmark_resultsi[metrics[k]][f\"scVIepoch={n_eps*j+n_eps-1}\"])\n",
    "            results[f\"{prior}{metrics[k]}{i}\"] = metrics_results\n",
    "    results.set_index(np.linspace(n_eps-1,max_epochs-1, int(max_epochs/n_eps)))\n",
    "    return results  "
   ]
  },
  {
   "cell_type": "code",
   "execution_count": 37,
   "metadata": {},
   "outputs": [],
   "source": [
    "def method(adata, prior):\n",
    "    keys = []\n",
    "    for i in range(5):\n",
    "        vae = scvi.model.SCVI.load(f\"models/mean_var_2/{prior}t{i}/epoch=389\",adata=adata)\n",
    "        adata.obsm[f\"{prior}_{i}\"] = vae.get_latent_representation()\n",
    "        keys.append(f\"{prior}_{i}\")\n",
    "    return adata, keys "
   ]
  },
  {
   "cell_type": "code",
   "execution_count": 38,
   "metadata": {},
   "outputs": [
    {
     "name": "stdout",
     "output_type": "stream",
     "text": [
      "\u001b[34mINFO    \u001b[0m File models/mean_var_2/sdnormalt0/\u001b[33mepoch\u001b[0m=\u001b[1;36m389\u001b[0m/model.pt already downloaded                                   \n",
      "\u001b[34mINFO    \u001b[0m File models/mean_var_2/sdnormalt1/\u001b[33mepoch\u001b[0m=\u001b[1;36m389\u001b[0m/model.pt already downloaded                                   \n",
      "\u001b[34mINFO    \u001b[0m File models/mean_var_2/sdnormalt2/\u001b[33mepoch\u001b[0m=\u001b[1;36m389\u001b[0m/model.pt already downloaded                                   \n",
      "\u001b[34mINFO    \u001b[0m File models/mean_var_2/sdnormalt3/\u001b[33mepoch\u001b[0m=\u001b[1;36m389\u001b[0m/model.pt already downloaded                                   \n",
      "\u001b[34mINFO    \u001b[0m File models/mean_var_2/sdnormalt4/\u001b[33mepoch\u001b[0m=\u001b[1;36m389\u001b[0m/model.pt already downloaded                                   \n"
     ]
    }
   ],
   "source": []
  },
  {
   "cell_type": "code",
   "execution_count": 40,
   "metadata": {},
   "outputs": [
    {
     "name": "stderr",
     "output_type": "stream",
     "text": [
      "Computing neighbors: 100%|██████████| 5/5 [03:15<00:00, 39.07s/it]\n",
      "Embeddings: 100%|\u001b[32m██████████\u001b[0m| 5/5 [02:51<00:00, 34.39s/it]\n"
     ]
    }
   ],
   "source": [
    "adataSD, keysSD = method(adata.copy(), \"sdnormal\")\n",
    "bmSD = runBenchmark(adataSD, keysSD,label_key=\"final_annotation\",nmi_ari_cluster_labels_leiden=True, kbet_per_label=True)\n",
    "resultsSD = bmSD.get_results(min_max_scale=False).drop(\"Metric Type\")"
   ]
  },
  {
   "cell_type": "code",
   "execution_count": 41,
   "metadata": {},
   "outputs": [
    {
     "name": "stdout",
     "output_type": "stream",
     "text": [
      "\u001b[34mINFO    \u001b[0m File models/mean_var_2/mixofgaust0/\u001b[33mepoch\u001b[0m=\u001b[1;36m389\u001b[0m/model.pt already downloaded                                  \n",
      "\u001b[34mINFO    \u001b[0m File models/mean_var_2/mixofgaust1/\u001b[33mepoch\u001b[0m=\u001b[1;36m389\u001b[0m/model.pt already downloaded                                  \n",
      "\u001b[34mINFO    \u001b[0m File models/mean_var_2/mixofgaust2/\u001b[33mepoch\u001b[0m=\u001b[1;36m389\u001b[0m/model.pt already downloaded                                  \n",
      "\u001b[34mINFO    \u001b[0m File models/mean_var_2/mixofgaust3/\u001b[33mepoch\u001b[0m=\u001b[1;36m389\u001b[0m/model.pt already downloaded                                  \n",
      "\u001b[34mINFO    \u001b[0m File models/mean_var_2/mixofgaust4/\u001b[33mepoch\u001b[0m=\u001b[1;36m389\u001b[0m/model.pt already downloaded                                  \n"
     ]
    },
    {
     "name": "stderr",
     "output_type": "stream",
     "text": [
      "Computing neighbors: 100%|██████████| 5/5 [02:43<00:00, 32.74s/it]\n",
      "Embeddings: 100%|\u001b[32m██████████\u001b[0m| 5/5 [02:31<00:00, 30.31s/it]\n"
     ]
    }
   ],
   "source": [
    "adataMG, keysMG = method(adata.copy(), \"mixofgaus\")\n",
    "bmMG = runBenchmark(adataMG, keysMG,label_key=\"final_annotation\",nmi_ari_cluster_labels_leiden=True, kbet_per_label=True)\n",
    "resultsMG = bmMG.get_results(min_max_scale=False).drop(\"Metric Type\")"
   ]
  },
  {
   "cell_type": "code",
   "execution_count": 46,
   "metadata": {},
   "outputs": [
    {
     "name": "stdout",
     "output_type": "stream",
     "text": [
      "\u001b[34mINFO    \u001b[0m File models/mean_var_2/vampt0/\u001b[33mepoch\u001b[0m=\u001b[1;36m389\u001b[0m/model.pt already downloaded                                       \n",
      "\u001b[34mINFO    \u001b[0m File models/mean_var_2/vampt1/\u001b[33mepoch\u001b[0m=\u001b[1;36m389\u001b[0m/model.pt already downloaded                                       \n",
      "\u001b[34mINFO    \u001b[0m File models/mean_var_2/vampt2/\u001b[33mepoch\u001b[0m=\u001b[1;36m389\u001b[0m/model.pt already downloaded                                       \n",
      "\u001b[34mINFO    \u001b[0m File models/mean_var_2/vampt3/\u001b[33mepoch\u001b[0m=\u001b[1;36m389\u001b[0m/model.pt already downloaded                                       \n",
      "\u001b[34mINFO    \u001b[0m File models/mean_var_2/vampt4/\u001b[33mepoch\u001b[0m=\u001b[1;36m389\u001b[0m/model.pt already downloaded                                       \n"
     ]
    },
    {
     "name": "stderr",
     "output_type": "stream",
     "text": [
      "Computing neighbors: 100%|██████████| 5/5 [02:46<00:00, 33.33s/it]\n",
      "Embeddings: 100%|\u001b[32m██████████\u001b[0m| 5/5 [02:42<00:00, 32.59s/it]\n"
     ]
    }
   ],
   "source": [
    "adataVP, keysVP = method(adata.copy(), \"vamp\")\n",
    "bmVP = runBenchmark(adataVP, keysVP,label_key=\"final_annotation\",nmi_ari_cluster_labels_leiden=True, kbet_per_label=True)\n",
    "resultsVP = bmVP.get_results(min_max_scale=False).drop(\"Metric Type\")"
   ]
  },
  {
   "cell_type": "code",
   "execution_count": 47,
   "metadata": {},
   "outputs": [
    {
     "name": "stdout",
     "output_type": "stream",
     "text": [
      "\u001b[34mINFO    \u001b[0m File models/mean_var_2/normalflowt0/\u001b[33mepoch\u001b[0m=\u001b[1;36m389\u001b[0m/model.pt already downloaded                                 \n",
      "\u001b[34mINFO    \u001b[0m File models/mean_var_2/normalflowt1/\u001b[33mepoch\u001b[0m=\u001b[1;36m389\u001b[0m/model.pt already downloaded                                 \n",
      "\u001b[34mINFO    \u001b[0m File models/mean_var_2/normalflowt2/\u001b[33mepoch\u001b[0m=\u001b[1;36m389\u001b[0m/model.pt already downloaded                                 \n",
      "\u001b[34mINFO    \u001b[0m File models/mean_var_2/normalflowt3/\u001b[33mepoch\u001b[0m=\u001b[1;36m389\u001b[0m/model.pt already downloaded                                 \n",
      "\u001b[34mINFO    \u001b[0m File models/mean_var_2/normalflowt4/\u001b[33mepoch\u001b[0m=\u001b[1;36m389\u001b[0m/model.pt already downloaded                                 \n"
     ]
    },
    {
     "name": "stderr",
     "output_type": "stream",
     "text": [
      "Computing neighbors: 100%|██████████| 5/5 [02:48<00:00, 33.65s/it]\n",
      "Embeddings: 100%|\u001b[32m██████████\u001b[0m| 5/5 [02:32<00:00, 30.49s/it]\n"
     ]
    }
   ],
   "source": [
    "adataNF, keysNF = method(adata.copy(), \"normalflow\")\n",
    "bmNF = runBenchmark(adataNF, keysNF,label_key=\"final_annotation\",nmi_ari_cluster_labels_leiden=True, kbet_per_label=True)\n",
    "resultsNF = bmNF.get_results(min_max_scale=False).drop(\"Metric Type\")"
   ]
  },
  {
   "cell_type": "code",
   "execution_count": 63,
   "metadata": {},
   "outputs": [],
   "source": [
    "def computeMeanStandardDeviation(results, prior, n):\n",
    "    resultsMSD = pd.DataFrame(np.zeros((1,3)), columns=[\"NMI Mean\", \"ARI Mean\", \"KBET Mean\"])\n",
    "    #resultsMSD[\"NMI Mean\"] = np.zeros(1)\n",
    "    #resultsMSD[\"ARI Mean\"] = np.zeros(1)\n",
    "    #resultsMSD[\"KBET Mean\"] = np.zeros(1)\n",
    "    for i in range(5):\n",
    "        resultsMSD[\"NMI Mean\"] += results[f\"Leiden NMI\"][f\"{prior}_{i}\"]\n",
    "        resultsMSD[\"ARI Mean\"] += results[f\"Leiden ARI\"][f\"{prior}_{i}\"]\n",
    "        resultsMSD[\"KBET Mean\"] += results[f\"KBET\"][f\"{prior}_{i}\"]\n",
    "    resultsMSD = resultsMSD * 1/n\n",
    "    #resultsMSD = resultsMSD.drop(\"Unnamed: 0\",axis=1)\n",
    "    resultsMSD[\"NMI SD\"] = np.zeros(1)\n",
    "    resultsMSD[\"ARI SD\"] = np.zeros(1)\n",
    "    resultsMSD[\"KBET SD\"] = np.zeros(1)\n",
    "    for i in range(5):\n",
    "        resultsMSD[\"NMI SD\"] += (results[f\"Leiden NMI\"][f\"{prior}_{i}\"]-resultsMSD[\"NMI Mean\"])**2\n",
    "        resultsMSD[\"ARI SD\"] += (results[f\"Leiden ARI\"][f\"{prior}_{i}\"]-resultsMSD[\"ARI Mean\"])**2\n",
    "        resultsMSD[\"KBET SD\"] += (results[f\"KBET\"][f\"{prior}_{i}\"]-resultsMSD[\"KBET Mean\"])**2\n",
    "    resultsMSD[[\"NMI SD\", \"ARI SD\",\"KBET SD\"]] = (resultsMSD[[\"NMI SD\", \"ARI SD\",\"KBET SD\"]] * 1/(n-1))**0.5\n",
    "    #max_epochs = 390; n_eps = 10\n",
    "    #resultsMSD[\"index\"] = np.linspace(n_eps-1,max_epochs-1, int(max_epochs/n_eps)).astype(np.int16)\n",
    "    return resultsMSD"
   ]
  },
  {
   "cell_type": "code",
   "execution_count": 56,
   "metadata": {},
   "outputs": [
    {
     "data": {
      "text/html": [
       "<div>\n",
       "<style scoped>\n",
       "    .dataframe tbody tr th:only-of-type {\n",
       "        vertical-align: middle;\n",
       "    }\n",
       "\n",
       "    .dataframe tbody tr th {\n",
       "        vertical-align: top;\n",
       "    }\n",
       "\n",
       "    .dataframe thead th {\n",
       "        text-align: right;\n",
       "    }\n",
       "</style>\n",
       "<table border=\"1\" class=\"dataframe\">\n",
       "  <thead>\n",
       "    <tr style=\"text-align: right;\">\n",
       "      <th></th>\n",
       "      <th>Leiden NMI</th>\n",
       "      <th>Leiden ARI</th>\n",
       "      <th>KBET</th>\n",
       "      <th>Batch correction</th>\n",
       "      <th>Bio conservation</th>\n",
       "      <th>Total</th>\n",
       "    </tr>\n",
       "    <tr>\n",
       "      <th>Embedding</th>\n",
       "      <th></th>\n",
       "      <th></th>\n",
       "      <th></th>\n",
       "      <th></th>\n",
       "      <th></th>\n",
       "      <th></th>\n",
       "    </tr>\n",
       "  </thead>\n",
       "  <tbody>\n",
       "    <tr>\n",
       "      <th>sdnormal_0</th>\n",
       "      <td>0.760304</td>\n",
       "      <td>0.612208</td>\n",
       "      <td>0.190848</td>\n",
       "      <td>0.190848</td>\n",
       "      <td>0.686256</td>\n",
       "      <td>0.488093</td>\n",
       "    </tr>\n",
       "    <tr>\n",
       "      <th>sdnormal_1</th>\n",
       "      <td>0.769048</td>\n",
       "      <td>0.615313</td>\n",
       "      <td>0.162564</td>\n",
       "      <td>0.162564</td>\n",
       "      <td>0.69218</td>\n",
       "      <td>0.480334</td>\n",
       "    </tr>\n",
       "    <tr>\n",
       "      <th>sdnormal_2</th>\n",
       "      <td>0.770555</td>\n",
       "      <td>0.61792</td>\n",
       "      <td>0.193326</td>\n",
       "      <td>0.193326</td>\n",
       "      <td>0.694238</td>\n",
       "      <td>0.493873</td>\n",
       "    </tr>\n",
       "    <tr>\n",
       "      <th>sdnormal_3</th>\n",
       "      <td>0.771397</td>\n",
       "      <td>0.636047</td>\n",
       "      <td>0.169965</td>\n",
       "      <td>0.169965</td>\n",
       "      <td>0.703722</td>\n",
       "      <td>0.490219</td>\n",
       "    </tr>\n",
       "    <tr>\n",
       "      <th>sdnormal_4</th>\n",
       "      <td>0.769505</td>\n",
       "      <td>0.624467</td>\n",
       "      <td>0.159715</td>\n",
       "      <td>0.159715</td>\n",
       "      <td>0.696986</td>\n",
       "      <td>0.482077</td>\n",
       "    </tr>\n",
       "  </tbody>\n",
       "</table>\n",
       "</div>"
      ],
      "text/plain": [
       "           Leiden NMI Leiden ARI      KBET Batch correction Bio conservation  \\\n",
       "Embedding                                                                      \n",
       "sdnormal_0   0.760304   0.612208  0.190848         0.190848         0.686256   \n",
       "sdnormal_1   0.769048   0.615313  0.162564         0.162564          0.69218   \n",
       "sdnormal_2   0.770555    0.61792  0.193326         0.193326         0.694238   \n",
       "sdnormal_3   0.771397   0.636047  0.169965         0.169965         0.703722   \n",
       "sdnormal_4   0.769505   0.624467  0.159715         0.159715         0.696986   \n",
       "\n",
       "               Total  \n",
       "Embedding             \n",
       "sdnormal_0  0.488093  \n",
       "sdnormal_1  0.480334  \n",
       "sdnormal_2  0.493873  \n",
       "sdnormal_3  0.490219  \n",
       "sdnormal_4  0.482077  "
      ]
     },
     "execution_count": 56,
     "metadata": {},
     "output_type": "execute_result"
    }
   ],
   "source": [
    "resultsSD"
   ]
  },
  {
   "cell_type": "code",
   "execution_count": 64,
   "metadata": {},
   "outputs": [],
   "source": [
    "resultsSD_MSD = computeMeanStandardDeviation(resultsSD, \"sdnormal\", n)\n",
    "resultsMG_MSD = computeMeanStandardDeviation(resultsMG, \"mixofgaus\", n)\n",
    "resultsVP_MSD = computeMeanStandardDeviation(resultsVP, \"vamp\", n)\n",
    "resultsNF_MSD = computeMeanStandardDeviation(resultsNF, \"normalflow\", n)"
   ]
  },
  {
   "cell_type": "code",
   "execution_count": 65,
   "metadata": {},
   "outputs": [
    {
     "data": {
      "text/html": [
       "<div>\n",
       "<style scoped>\n",
       "    .dataframe tbody tr th:only-of-type {\n",
       "        vertical-align: middle;\n",
       "    }\n",
       "\n",
       "    .dataframe tbody tr th {\n",
       "        vertical-align: top;\n",
       "    }\n",
       "\n",
       "    .dataframe thead th {\n",
       "        text-align: right;\n",
       "    }\n",
       "</style>\n",
       "<table border=\"1\" class=\"dataframe\">\n",
       "  <thead>\n",
       "    <tr style=\"text-align: right;\">\n",
       "      <th></th>\n",
       "      <th>NMI Mean</th>\n",
       "      <th>ARI Mean</th>\n",
       "      <th>KBET Mean</th>\n",
       "      <th>NMI SD</th>\n",
       "      <th>ARI SD</th>\n",
       "      <th>KBET SD</th>\n",
       "    </tr>\n",
       "  </thead>\n",
       "  <tbody>\n",
       "    <tr>\n",
       "      <th>0</th>\n",
       "      <td>0.768162</td>\n",
       "      <td>0.621191</td>\n",
       "      <td>0.175284</td>\n",
       "      <td>0.004487</td>\n",
       "      <td>0.009452</td>\n",
       "      <td>0.015813</td>\n",
       "    </tr>\n",
       "  </tbody>\n",
       "</table>\n",
       "</div>"
      ],
      "text/plain": [
       "   NMI Mean  ARI Mean  KBET Mean    NMI SD    ARI SD   KBET SD\n",
       "0  0.768162  0.621191   0.175284  0.004487  0.009452  0.015813"
      ]
     },
     "execution_count": 65,
     "metadata": {},
     "output_type": "execute_result"
    }
   ],
   "source": [
    "resultsSD_MSD"
   ]
  },
  {
   "cell_type": "code",
   "execution_count": 68,
   "metadata": {},
   "outputs": [],
   "source": [
    "def makeDataBarPlot(resultsSD, resultsMG, resultsVP, resultsNF):\n",
    "    results = [resultsSD, resultsMG, resultsVP, resultsNF]\n",
    "    priors = [\"SD\",\"MG\",\"VP\",\"NF\"]\n",
    "    metrics = [\"NMI\",\"ARI\",\"KBET\"]\n",
    "    val = []\n",
    "    prior = []\n",
    "    metric = []\n",
    "    error = []\n",
    "    for j in range(4):\n",
    "        for k in range(3):\n",
    "            val.append(results[j][f\"{metrics[k]} Mean\"].iloc[0])\n",
    "            prior.append(priors[j])\n",
    "            metric.append(metrics[k])\n",
    "            error.append(results[j][f\"{metrics[k]} SD\"].iloc[0])\n",
    "    data = {'Value': val,'Prior': prior,'Metric': metric,'error': error}\n",
    "    return data"
   ]
  },
  {
   "cell_type": "code",
   "execution_count": 70,
   "metadata": {},
   "outputs": [],
   "source": [
    "dataBarPlot = makeDataBarPlot(resultsSD_MSD, resultsMG_MSD, resultsVP_MSD, resultsNF_MSD)"
   ]
  },
  {
   "cell_type": "code",
   "execution_count": 71,
   "metadata": {},
   "outputs": [],
   "source": [
    "dataframe = pd.DataFrame(dataBarPlot)\n",
    "dfNMI = dataframe.loc[dataframe[\"Metric\"]==\"NMI\"]\n",
    "dfARI = dataframe.loc[dataframe[\"Metric\"]==\"ARI\"]\n",
    "dfKBET = dataframe.loc[dataframe[\"Metric\"]==\"KBET\"]"
   ]
  },
  {
   "cell_type": "code",
   "execution_count": 73,
   "metadata": {},
   "outputs": [
    {
     "data": {
      "image/png": "[encoded data removed]",
      "text/plain": [
       "<Figure size 400x1500 with 3 Axes>"
      ]
     },
     "metadata": {},
     "output_type": "display_data"
    }
   ],
   "source": [
    "fig, axes = plt.subplots(3,1,figsize=(4,15))\n",
    "df = [dfNMI, dfARI, dfKBET]\n",
    "lims = [(0.6,None),(0.5,None),(0.1,None)]\n",
    "for i in range(3):\n",
    "    plot = sns.barplot(x='Metric', y='Value', data=df[i], hue='Prior',ax=axes[i])\n",
    "    plt.xticks(visible=False)\n",
    "    x_coords = [p.get_x() + 0.5 * p.get_width() for p in plot.patches]\n",
    "    y_coords = [p.get_height() for p in plot.patches]\n",
    "    plot.errorbar(x=x_coords, y=y_coords, yerr=df[i][\"error\"], fmt=\"none\", c=\"k\")\n",
    "    plot.set_ylim(lims[i])\n",
    "    plot.set(xlabel=None)\n",
    "    plot.set(ylabel=None)\n",
    "    plot.set(title=df[i]['Metric'].iloc[0])\n",
    "    plot.set(xticks=[])\n",
    "    plot.legend(loc=4)\n",
    "    \n",
    "plt.savefig(\"plots/barplot2\")\n",
    "plt.show()"
   ]
  },
  {
   "cell_type": "code",
   "execution_count": null,
   "metadata": {},
   "outputs": [],
   "source": []
  }
 ],
 "metadata": {
  "kernelspec": {
   "display_name": "Python 3",
   "language": "python",
   "name": "python3"
  },
  "language_info": {
   "codemirror_mode": {
    "name": "ipython",
    "version": 3
   },
   "file_extension": ".py",
   "mimetype": "text/x-python",
   "name": "python",
   "nbconvert_exporter": "python",
   "pygments_lexer": "ipython3",
   "version": "3.11.4"
  },
  "orig_nbformat": 4
 },
 "nbformat": 4,
 "nbformat_minor": 2
}
