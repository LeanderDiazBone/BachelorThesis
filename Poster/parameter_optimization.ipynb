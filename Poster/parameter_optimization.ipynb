{
 "cells": [
  {
   "cell_type": "code",
   "execution_count": 1,
   "metadata": {},
   "outputs": [
    {
     "name": "stderr",
     "output_type": "stream",
     "text": [
      "/local/data/scvi-tools/scvi/_settings.py:63: UserWarning: Since v1.0.0, scvi-tools no longer uses a random seed by default. Run `scvi.settings.seed = 0` to reproduce results from previous versions.\n",
      "  self.seed = seed\n",
      "/local/data/scvi-tools/scvi/_settings.py:70: UserWarning: Setting `dl_pin_memory_gpu_training` is deprecated in v1.0 and will be removed in v1.1. Please pass in `pin_memory` to the data loaders instead.\n",
      "  self.dl_pin_memory_gpu_training = (\n",
      "/local/data/anaconda3/envs/BT/lib/python3.11/site-packages/numba/np/ufunc/dufunc.py:84: NumbaDeprecationWarning: \u001b[1mThe 'nopython' keyword argument was not supplied to the 'numba.jit' decorator. The implicit default value for this argument is currently False, but it will be changed to True in Numba 0.59.0. See https://numba.readthedocs.io/en/stable/reference/deprecation.html#deprecation-of-object-mode-fall-back-behaviour-when-using-jit for details.\u001b[0m\n",
      "  dispatcher = jit(_target='npyufunc',\n",
      "/local/data/anaconda3/envs/BT/lib/python3.11/site-packages/numba/np/ufunc/dufunc.py:84: NumbaDeprecationWarning: \u001b[1mThe 'nopython' keyword argument was not supplied to the 'numba.jit' decorator. The implicit default value for this argument is currently False, but it will be changed to True in Numba 0.59.0. See https://numba.readthedocs.io/en/stable/reference/deprecation.html#deprecation-of-object-mode-fall-back-behaviour-when-using-jit for details.\u001b[0m\n",
      "  dispatcher = jit(_target='npyufunc',\n",
      "/local/data/anaconda3/envs/BT/lib/python3.11/site-packages/numba/np/ufunc/dufunc.py:84: NumbaDeprecationWarning: \u001b[1mThe 'nopython' keyword argument was not supplied to the 'numba.jit' decorator. The implicit default value for this argument is currently False, but it will be changed to True in Numba 0.59.0. See https://numba.readthedocs.io/en/stable/reference/deprecation.html#deprecation-of-object-mode-fall-back-behaviour-when-using-jit for details.\u001b[0m\n",
      "  dispatcher = jit(_target='npyufunc',\n",
      "/local/data/anaconda3/envs/BT/lib/python3.11/site-packages/numba/np/ufunc/dufunc.py:84: NumbaDeprecationWarning: \u001b[1mThe 'nopython' keyword argument was not supplied to the 'numba.jit' decorator. The implicit default value for this argument is currently False, but it will be changed to True in Numba 0.59.0. See https://numba.readthedocs.io/en/stable/reference/deprecation.html#deprecation-of-object-mode-fall-back-behaviour-when-using-jit for details.\u001b[0m\n",
      "  dispatcher = jit(_target='npyufunc',\n",
      "/local/data/anaconda3/envs/BT/lib/python3.11/site-packages/umap/distances.py:1063: NumbaDeprecationWarning: \u001b[1mThe 'nopython' keyword argument was not supplied to the 'numba.jit' decorator. The implicit default value for this argument is currently False, but it will be changed to True in Numba 0.59.0. See https://numba.readthedocs.io/en/stable/reference/deprecation.html#deprecation-of-object-mode-fall-back-behaviour-when-using-jit for details.\u001b[0m\n",
      "/local/data/anaconda3/envs/BT/lib/python3.11/site-packages/umap/distances.py:1071: NumbaDeprecationWarning: \u001b[1mThe 'nopython' keyword argument was not supplied to the 'numba.jit' decorator. The implicit default value for this argument is currently False, but it will be changed to True in Numba 0.59.0. See https://numba.readthedocs.io/en/stable/reference/deprecation.html#deprecation-of-object-mode-fall-back-behaviour-when-using-jit for details.\u001b[0m\n",
      "/local/data/anaconda3/envs/BT/lib/python3.11/site-packages/umap/distances.py:1086: NumbaDeprecationWarning: \u001b[1mThe 'nopython' keyword argument was not supplied to the 'numba.jit' decorator. The implicit default value for this argument is currently False, but it will be changed to True in Numba 0.59.0. See https://numba.readthedocs.io/en/stable/reference/deprecation.html#deprecation-of-object-mode-fall-back-behaviour-when-using-jit for details.\u001b[0m\n",
      "/local/data/anaconda3/envs/BT/lib/python3.11/site-packages/umap/umap_.py:660: NumbaDeprecationWarning: \u001b[1mThe 'nopython' keyword argument was not supplied to the 'numba.jit' decorator. The implicit default value for this argument is currently False, but it will be changed to True in Numba 0.59.0. See https://numba.readthedocs.io/en/stable/reference/deprecation.html#deprecation-of-object-mode-fall-back-behaviour-when-using-jit for details.\u001b[0m\n",
      "2023-09-27 10:47:25.412904: W tensorflow/compiler/tf2tensorrt/utils/py_utils.cc:38] TF-TRT Warning: Could not find TensorRT\n",
      "/local/data/anaconda3/envs/BT/lib/python3.11/site-packages/numba/np/ufunc/dufunc.py:84: NumbaDeprecationWarning: \u001b[1mThe 'nopython' keyword argument was not supplied to the 'numba.jit' decorator. The implicit default value for this argument is currently False, but it will be changed to True in Numba 0.59.0. See https://numba.readthedocs.io/en/stable/reference/deprecation.html#deprecation-of-object-mode-fall-back-behaviour-when-using-jit for details.\u001b[0m\n",
      "/local/data/anaconda3/envs/BT/lib/python3.11/site-packages/numba/np/ufunc/dufunc.py:84: NumbaDeprecationWarning: \u001b[1mThe 'nopython' keyword argument was not supplied to the 'numba.jit' decorator. The implicit default value for this argument is currently False, but it will be changed to True in Numba 0.59.0. See https://numba.readthedocs.io/en/stable/reference/deprecation.html#deprecation-of-object-mode-fall-back-behaviour-when-using-jit for details.\u001b[0m\n",
      "/local/data/anaconda3/envs/BT/lib/python3.11/site-packages/numba/np/ufunc/dufunc.py:84: NumbaDeprecationWarning: \u001b[1mThe 'nopython' keyword argument was not supplied to the 'numba.jit' decorator. The implicit default value for this argument is currently False, but it will be changed to True in Numba 0.59.0. See https://numba.readthedocs.io/en/stable/reference/deprecation.html#deprecation-of-object-mode-fall-back-behaviour-when-using-jit for details.\u001b[0m\n",
      "/local/data/anaconda3/envs/BT/lib/python3.11/site-packages/umap/plot.py:203: NumbaDeprecationWarning: \u001b[1mThe 'nopython' keyword argument was not supplied to the 'numba.jit' decorator. The implicit default value for this argument is currently False, but it will be changed to True in Numba 0.59.0. See https://numba.readthedocs.io/en/stable/reference/deprecation.html#deprecation-of-object-mode-fall-back-behaviour-when-using-jit for details.\u001b[0m\n"
     ]
    }
   ],
   "source": [
    "import numpy as np\n",
    "import scanpy as sc\n",
    "import anndata\n",
    "import scvi\n",
    "from scib_metrics.benchmark import Benchmarker\n",
    "import torch\n",
    "import scib_metrics\n",
    "from lightning.pytorch.callbacks import ModelCheckpoint\n",
    "import copy\n",
    "%matplotlib inline\n",
    "import sys\n",
    "sys.path.append('..')\n",
    "from functions import *\n",
    "from SCVIModelCheckpoint import SCVIModelCheckpoint "
   ]
  },
  {
   "cell_type": "code",
   "execution_count": 30,
   "metadata": {},
   "outputs": [],
   "source": [
    "adata = anndata.read_h5ad(filename=\"../data/adataLung4.h5ad\")"
   ]
  },
  {
   "cell_type": "code",
   "execution_count": 31,
   "metadata": {},
   "outputs": [
    {
     "data": {
      "text/plain": [
       "AnnData object with n_obs × n_vars = 32472 × 4000\n",
       "    obs: 'dataset', 'location', 'nGene', 'nUMI', 'patientGroup', 'percent.mito', 'protocol', 'sanger_type', 'size_factors', 'sampling_method', 'batch', 'cell_type', 'donor'\n",
       "    var: 'highly_variable', 'means', 'dispersions', 'dispersions_norm', 'highly_variable_nbatches', 'highly_variable_intersection'\n",
       "    uns: 'hvg', 'pca'\n",
       "    obsm: 'Scanorama', 'Unintegrated', 'X_pca'\n",
       "    varm: 'PCs'\n",
       "    layers: 'counts'"
      ]
     },
     "execution_count": 31,
     "metadata": {},
     "output_type": "execute_result"
    }
   ],
   "source": [
    "adata"
   ]
  },
  {
   "cell_type": "code",
   "execution_count": 35,
   "metadata": {},
   "outputs": [],
   "source": [
    "train_adata = adata[:int(32472*0.9)]\n",
    "test_adata = adata[int(32472*0.9):]"
   ]
  },
  {
   "cell_type": "code",
   "execution_count": 4,
   "metadata": {},
   "outputs": [],
   "source": [
    "ks = [2, 5, 10, 50, 100, 200, 500]"
   ]
  },
  {
   "cell_type": "code",
   "execution_count": 36,
   "metadata": {},
   "outputs": [],
   "source": [
    "def hyperTraining2(adata, prior, hyperpar, ks, n_epochs_kl_warmup=300, max_epochs=400, beta = 5, early_stopping=False):\n",
    "    adatac = adata.copy()\n",
    "    keys = []\n",
    "    vaes = []\n",
    "    for k in ks:\n",
    "        adataPrior, vae = trainModel(adata, prior, beta, n_epochs_kl_warmup=n_epochs_kl_warmup,max_epochs=max_epochs,early_stopping=early_stopping,save=f\"models/Hyper_Exp/HyperExp_{prior}_{k}\",prior_kwargs={hyperpar:k},log=True,logname=f\"hyperTrainingMGk={k}\")\n",
    "        keys.append(f\"scVI_k={k}\")\n",
    "        adatac.obsm[f\"scVI_k={k}\"] = vae.get_latent_representation()\n",
    "        vaes.append(vae)\n",
    "    return adatac, keys, vaes"
   ]
  },
  {
   "cell_type": "code",
   "execution_count": 37,
   "metadata": {},
   "outputs": [
    {
     "name": "stderr",
     "output_type": "stream",
     "text": [
      "GPU available: True (cuda), used: True\n",
      "TPU available: False, using: 0 TPU cores\n",
      "IPU available: False, using: 0 IPUs\n",
      "HPU available: False, using: 0 HPUs\n",
      "Missing logger folder: lightning_logs/hyperTrainingMGk=2\n",
      "LOCAL_RANK: 0 - CUDA_VISIBLE_DEVICES: [0]\n"
     ]
    },
    {
     "name": "stdout",
     "output_type": "stream",
     "text": [
      "Epoch 400/400: 100%|██████████| 400/400 [13:07<00:00,  1.65s/it, v_num=0, train_loss_step=960, train_loss_epoch=883]    "
     ]
    },
    {
     "name": "stderr",
     "output_type": "stream",
     "text": [
      "`Trainer.fit` stopped: `max_epochs=400` reached.\n"
     ]
    },
    {
     "name": "stdout",
     "output_type": "stream",
     "text": [
      "Epoch 400/400: 100%|██████████| 400/400 [13:07<00:00,  1.97s/it, v_num=0, train_loss_step=960, train_loss_epoch=883]\n"
     ]
    },
    {
     "name": "stderr",
     "output_type": "stream",
     "text": [
      "GPU available: True (cuda), used: True\n",
      "TPU available: False, using: 0 TPU cores\n",
      "IPU available: False, using: 0 IPUs\n",
      "HPU available: False, using: 0 HPUs\n",
      "Missing logger folder: lightning_logs/hyperTrainingMGk=5\n",
      "LOCAL_RANK: 0 - CUDA_VISIBLE_DEVICES: [0]\n"
     ]
    },
    {
     "name": "stdout",
     "output_type": "stream",
     "text": [
      "Epoch 400/400: 100%|██████████| 400/400 [11:10<00:00,  1.82s/it, v_num=0, train_loss_step=848, train_loss_epoch=882] "
     ]
    },
    {
     "name": "stderr",
     "output_type": "stream",
     "text": [
      "`Trainer.fit` stopped: `max_epochs=400` reached.\n"
     ]
    },
    {
     "name": "stdout",
     "output_type": "stream",
     "text": [
      "Epoch 400/400: 100%|██████████| 400/400 [11:10<00:00,  1.68s/it, v_num=0, train_loss_step=848, train_loss_epoch=882]\n"
     ]
    },
    {
     "name": "stderr",
     "output_type": "stream",
     "text": [
      "GPU available: True (cuda), used: True\n",
      "TPU available: False, using: 0 TPU cores\n",
      "IPU available: False, using: 0 IPUs\n",
      "HPU available: False, using: 0 HPUs\n",
      "Missing logger folder: lightning_logs/hyperTrainingMGk=10\n",
      "LOCAL_RANK: 0 - CUDA_VISIBLE_DEVICES: [0]\n"
     ]
    },
    {
     "name": "stdout",
     "output_type": "stream",
     "text": [
      "Epoch 400/400: 100%|██████████| 400/400 [12:14<00:00,  1.85s/it, v_num=0, train_loss_step=880, train_loss_epoch=880]    "
     ]
    },
    {
     "name": "stderr",
     "output_type": "stream",
     "text": [
      "`Trainer.fit` stopped: `max_epochs=400` reached.\n"
     ]
    },
    {
     "name": "stdout",
     "output_type": "stream",
     "text": [
      "Epoch 400/400: 100%|██████████| 400/400 [12:14<00:00,  1.84s/it, v_num=0, train_loss_step=880, train_loss_epoch=880]\n"
     ]
    },
    {
     "name": "stderr",
     "output_type": "stream",
     "text": [
      "GPU available: True (cuda), used: True\n",
      "TPU available: False, using: 0 TPU cores\n",
      "IPU available: False, using: 0 IPUs\n",
      "HPU available: False, using: 0 HPUs\n",
      "Missing logger folder: lightning_logs/hyperTrainingMGk=50\n",
      "LOCAL_RANK: 0 - CUDA_VISIBLE_DEVICES: [0]\n"
     ]
    },
    {
     "name": "stdout",
     "output_type": "stream",
     "text": [
      "Epoch 400/400: 100%|██████████| 400/400 [11:34<00:00,  1.63s/it, v_num=0, train_loss_step=933, train_loss_epoch=881]    "
     ]
    },
    {
     "name": "stderr",
     "output_type": "stream",
     "text": [
      "`Trainer.fit` stopped: `max_epochs=400` reached.\n"
     ]
    },
    {
     "name": "stdout",
     "output_type": "stream",
     "text": [
      "Epoch 400/400: 100%|██████████| 400/400 [11:34<00:00,  1.74s/it, v_num=0, train_loss_step=933, train_loss_epoch=881]\n"
     ]
    },
    {
     "name": "stderr",
     "output_type": "stream",
     "text": [
      "GPU available: True (cuda), used: True\n",
      "TPU available: False, using: 0 TPU cores\n",
      "IPU available: False, using: 0 IPUs\n",
      "HPU available: False, using: 0 HPUs\n",
      "Missing logger folder: lightning_logs/hyperTrainingMGk=100\n",
      "LOCAL_RANK: 0 - CUDA_VISIBLE_DEVICES: [0]\n"
     ]
    },
    {
     "name": "stdout",
     "output_type": "stream",
     "text": [
      "Epoch 400/400: 100%|██████████| 400/400 [10:53<00:00,  1.64s/it, v_num=0, train_loss_step=882, train_loss_epoch=880]"
     ]
    },
    {
     "name": "stderr",
     "output_type": "stream",
     "text": [
      "`Trainer.fit` stopped: `max_epochs=400` reached.\n"
     ]
    },
    {
     "name": "stdout",
     "output_type": "stream",
     "text": [
      "Epoch 400/400: 100%|██████████| 400/400 [10:53<00:00,  1.63s/it, v_num=0, train_loss_step=882, train_loss_epoch=880]\n"
     ]
    },
    {
     "name": "stderr",
     "output_type": "stream",
     "text": [
      "GPU available: True (cuda), used: True\n",
      "TPU available: False, using: 0 TPU cores\n",
      "IPU available: False, using: 0 IPUs\n",
      "HPU available: False, using: 0 HPUs\n",
      "Missing logger folder: lightning_logs/hyperTrainingMGk=200\n",
      "LOCAL_RANK: 0 - CUDA_VISIBLE_DEVICES: [0]\n"
     ]
    },
    {
     "name": "stdout",
     "output_type": "stream",
     "text": [
      "Epoch 400/400: 100%|██████████| 400/400 [11:40<00:00,  1.79s/it, v_num=0, train_loss_step=916, train_loss_epoch=880]    "
     ]
    },
    {
     "name": "stderr",
     "output_type": "stream",
     "text": [
      "`Trainer.fit` stopped: `max_epochs=400` reached.\n"
     ]
    },
    {
     "name": "stdout",
     "output_type": "stream",
     "text": [
      "Epoch 400/400: 100%|██████████| 400/400 [11:40<00:00,  1.75s/it, v_num=0, train_loss_step=916, train_loss_epoch=880]\n"
     ]
    },
    {
     "name": "stderr",
     "output_type": "stream",
     "text": [
      "GPU available: True (cuda), used: True\n",
      "TPU available: False, using: 0 TPU cores\n",
      "IPU available: False, using: 0 IPUs\n",
      "HPU available: False, using: 0 HPUs\n",
      "Missing logger folder: lightning_logs/hyperTrainingMGk=500\n",
      "LOCAL_RANK: 0 - CUDA_VISIBLE_DEVICES: [0]\n"
     ]
    },
    {
     "name": "stdout",
     "output_type": "stream",
     "text": [
      "Epoch 400/400: 100%|██████████| 400/400 [12:03<00:00,  1.84s/it, v_num=0, train_loss_step=941, train_loss_epoch=880]    "
     ]
    },
    {
     "name": "stderr",
     "output_type": "stream",
     "text": [
      "`Trainer.fit` stopped: `max_epochs=400` reached.\n"
     ]
    },
    {
     "name": "stdout",
     "output_type": "stream",
     "text": [
      "Epoch 400/400: 100%|██████████| 400/400 [12:03<00:00,  1.81s/it, v_num=0, train_loss_step=941, train_loss_epoch=880]\n"
     ]
    },
    {
     "name": "stderr",
     "output_type": "stream",
     "text": [
      "Computing neighbors: 100%|██████████| 7/7 [03:14<00:00, 27.80s/it]\n",
      "Embeddings: 100%|\u001b[32m██████████\u001b[0m| 7/7 [02:51<00:00, 24.44s/it]\n"
     ]
    }
   ],
   "source": [
    "adataMG, keysMG, vaes = hyperTraining2(train_adata, \"mixofgaus\", \"k\", ks)\n",
    "bmMG = runBenchmark(adataMG, keysMG, nmi_ari_cluster_labels_leiden=True, nmi_ari_cluster_labels_kmeans = True, silhouette_label=True, silhouette_batch = True, kbet_per_label=True)"
   ]
  },
  {
   "cell_type": "code",
   "execution_count": 38,
   "metadata": {},
   "outputs": [],
   "source": [
    "results = bmMG.get_results(min_max_scale=False)\n",
    "results.to_csv(\"results/parameter_optimization_MG.csv\")"
   ]
  },
  {
   "cell_type": "code",
   "execution_count": 39,
   "metadata": {},
   "outputs": [
    {
     "name": "stdout",
     "output_type": "stream",
     "text": [
      "\u001b[34mINFO    \u001b[0m Received view of anndata, making copy.                                                                    \n",
      "\u001b[34mINFO    \u001b[0m Input AnnData not setup with scvi-tools. attempting to transfer AnnData setup                             \n",
      "\u001b[34mINFO    \u001b[0m Input AnnData not setup with scvi-tools. attempting to transfer AnnData setup                             \n",
      "\u001b[34mINFO    \u001b[0m Input AnnData not setup with scvi-tools. attempting to transfer AnnData setup                             \n",
      "\u001b[34mINFO    \u001b[0m Input AnnData not setup with scvi-tools. attempting to transfer AnnData setup                             \n",
      "\u001b[34mINFO    \u001b[0m Input AnnData not setup with scvi-tools. attempting to transfer AnnData setup                             \n",
      "\u001b[34mINFO    \u001b[0m Input AnnData not setup with scvi-tools. attempting to transfer AnnData setup                             \n",
      "\u001b[34mINFO    \u001b[0m Input AnnData not setup with scvi-tools. attempting to transfer AnnData setup                             \n"
     ]
    }
   ],
   "source": [
    "lls = []\n",
    "for i in range(7):\n",
    "    lls.append(vaes[i].get_marginal_ll(test_adata))"
   ]
  },
  {
   "cell_type": "code",
   "execution_count": 44,
   "metadata": {},
   "outputs": [
    {
     "data": {
      "text/html": [
       "<div>\n",
       "<style scoped>\n",
       "    .dataframe tbody tr th:only-of-type {\n",
       "        vertical-align: middle;\n",
       "    }\n",
       "\n",
       "    .dataframe tbody tr th {\n",
       "        vertical-align: top;\n",
       "    }\n",
       "\n",
       "    .dataframe thead th {\n",
       "        text-align: right;\n",
       "    }\n",
       "</style>\n",
       "<table border=\"1\" class=\"dataframe\">\n",
       "  <thead>\n",
       "    <tr style=\"text-align: right;\">\n",
       "      <th></th>\n",
       "      <th>Leiden NMI</th>\n",
       "      <th>Leiden ARI</th>\n",
       "      <th>KMeans NMI</th>\n",
       "      <th>KMeans ARI</th>\n",
       "      <th>Silhouette label</th>\n",
       "      <th>Silhouette batch</th>\n",
       "      <th>KBET</th>\n",
       "      <th>Batch correction</th>\n",
       "      <th>Bio conservation</th>\n",
       "      <th>Total</th>\n",
       "      <th>loglik</th>\n",
       "      <th>k</th>\n",
       "    </tr>\n",
       "    <tr>\n",
       "      <th>Embedding</th>\n",
       "      <th></th>\n",
       "      <th></th>\n",
       "      <th></th>\n",
       "      <th></th>\n",
       "      <th></th>\n",
       "      <th></th>\n",
       "      <th></th>\n",
       "      <th></th>\n",
       "      <th></th>\n",
       "      <th></th>\n",
       "      <th></th>\n",
       "      <th></th>\n",
       "    </tr>\n",
       "  </thead>\n",
       "  <tbody>\n",
       "    <tr>\n",
       "      <th>scVI_k=2</th>\n",
       "      <td>0.642188</td>\n",
       "      <td>0.449975</td>\n",
       "      <td>0.581017</td>\n",
       "      <td>0.383407</td>\n",
       "      <td>0.556002</td>\n",
       "      <td>0.83982</td>\n",
       "      <td>0.403353</td>\n",
       "      <td>0.621586</td>\n",
       "      <td>0.522518</td>\n",
       "      <td>0.562145</td>\n",
       "      <td>-940.664398</td>\n",
       "      <td>2</td>\n",
       "    </tr>\n",
       "    <tr>\n",
       "      <th>scVI_k=5</th>\n",
       "      <td>0.685009</td>\n",
       "      <td>0.519224</td>\n",
       "      <td>0.591168</td>\n",
       "      <td>0.417928</td>\n",
       "      <td>0.576314</td>\n",
       "      <td>0.845477</td>\n",
       "      <td>0.395776</td>\n",
       "      <td>0.620627</td>\n",
       "      <td>0.557929</td>\n",
       "      <td>0.583008</td>\n",
       "      <td>-935.720478</td>\n",
       "      <td>5</td>\n",
       "    </tr>\n",
       "    <tr>\n",
       "      <th>scVI_k=10</th>\n",
       "      <td>0.656548</td>\n",
       "      <td>0.526381</td>\n",
       "      <td>0.618108</td>\n",
       "      <td>0.448333</td>\n",
       "      <td>0.569116</td>\n",
       "      <td>0.805526</td>\n",
       "      <td>0.463142</td>\n",
       "      <td>0.634334</td>\n",
       "      <td>0.563697</td>\n",
       "      <td>0.591952</td>\n",
       "      <td>-924.170175</td>\n",
       "      <td>10</td>\n",
       "    </tr>\n",
       "    <tr>\n",
       "      <th>scVI_k=50</th>\n",
       "      <td>0.675619</td>\n",
       "      <td>0.49501</td>\n",
       "      <td>0.620439</td>\n",
       "      <td>0.449195</td>\n",
       "      <td>0.585932</td>\n",
       "      <td>0.798792</td>\n",
       "      <td>0.484644</td>\n",
       "      <td>0.641718</td>\n",
       "      <td>0.565239</td>\n",
       "      <td>0.595831</td>\n",
       "      <td>-917.926899</td>\n",
       "      <td>50</td>\n",
       "    </tr>\n",
       "    <tr>\n",
       "      <th>scVI_k=100</th>\n",
       "      <td>0.683498</td>\n",
       "      <td>0.536135</td>\n",
       "      <td>0.64186</td>\n",
       "      <td>0.505328</td>\n",
       "      <td>0.604994</td>\n",
       "      <td>0.795855</td>\n",
       "      <td>0.497109</td>\n",
       "      <td>0.646482</td>\n",
       "      <td>0.594363</td>\n",
       "      <td>0.61521</td>\n",
       "      <td>-918.417962</td>\n",
       "      <td>100</td>\n",
       "    </tr>\n",
       "    <tr>\n",
       "      <th>scVI_k=200</th>\n",
       "      <td>0.695762</td>\n",
       "      <td>0.568009</td>\n",
       "      <td>0.642996</td>\n",
       "      <td>0.506746</td>\n",
       "      <td>0.599106</td>\n",
       "      <td>0.801907</td>\n",
       "      <td>0.485407</td>\n",
       "      <td>0.643657</td>\n",
       "      <td>0.602524</td>\n",
       "      <td>0.618977</td>\n",
       "      <td>-918.390104</td>\n",
       "      <td>200</td>\n",
       "    </tr>\n",
       "    <tr>\n",
       "      <th>scVI_k=500</th>\n",
       "      <td>0.682361</td>\n",
       "      <td>0.537061</td>\n",
       "      <td>0.652402</td>\n",
       "      <td>0.463339</td>\n",
       "      <td>0.607388</td>\n",
       "      <td>0.802706</td>\n",
       "      <td>0.496004</td>\n",
       "      <td>0.649355</td>\n",
       "      <td>0.58851</td>\n",
       "      <td>0.612848</td>\n",
       "      <td>-925.819545</td>\n",
       "      <td>500</td>\n",
       "    </tr>\n",
       "  </tbody>\n",
       "</table>\n",
       "</div>"
      ],
      "text/plain": [
       "           Leiden NMI Leiden ARI KMeans NMI KMeans ARI Silhouette label  \\\n",
       "Embedding                                                                 \n",
       "scVI_k=2     0.642188   0.449975   0.581017   0.383407         0.556002   \n",
       "scVI_k=5     0.685009   0.519224   0.591168   0.417928         0.576314   \n",
       "scVI_k=10    0.656548   0.526381   0.618108   0.448333         0.569116   \n",
       "scVI_k=50    0.675619    0.49501   0.620439   0.449195         0.585932   \n",
       "scVI_k=100   0.683498   0.536135    0.64186   0.505328         0.604994   \n",
       "scVI_k=200   0.695762   0.568009   0.642996   0.506746         0.599106   \n",
       "scVI_k=500   0.682361   0.537061   0.652402   0.463339         0.607388   \n",
       "\n",
       "           Silhouette batch      KBET Batch correction Bio conservation  \\\n",
       "Embedding                                                                 \n",
       "scVI_k=2            0.83982  0.403353         0.621586         0.522518   \n",
       "scVI_k=5           0.845477  0.395776         0.620627         0.557929   \n",
       "scVI_k=10          0.805526  0.463142         0.634334         0.563697   \n",
       "scVI_k=50          0.798792  0.484644         0.641718         0.565239   \n",
       "scVI_k=100         0.795855  0.497109         0.646482         0.594363   \n",
       "scVI_k=200         0.801907  0.485407         0.643657         0.602524   \n",
       "scVI_k=500         0.802706  0.496004         0.649355          0.58851   \n",
       "\n",
       "               Total      loglik    k  \n",
       "Embedding                              \n",
       "scVI_k=2    0.562145 -940.664398    2  \n",
       "scVI_k=5    0.583008 -935.720478    5  \n",
       "scVI_k=10   0.591952 -924.170175   10  \n",
       "scVI_k=50   0.595831 -917.926899   50  \n",
       "scVI_k=100   0.61521 -918.417962  100  \n",
       "scVI_k=200  0.618977 -918.390104  200  \n",
       "scVI_k=500  0.612848 -925.819545  500  "
      ]
     },
     "execution_count": 44,
     "metadata": {},
     "output_type": "execute_result"
    }
   ],
   "source": [
    "results"
   ]
  },
  {
   "cell_type": "code",
   "execution_count": 43,
   "metadata": {},
   "outputs": [
    {
     "ename": "type",
     "evalue": "\"['Metric Type'] not found in axis\"",
     "output_type": "error",
     "traceback": [
      "\u001b[0;31m---------------------------------------------------------------------------\u001b[0m",
      "\u001b[0;31mKeyError\u001b[0m                                  Traceback (most recent call last)",
      "Cell \u001b[0;32mIn[43], line 1\u001b[0m\n\u001b[0;32m----> 1\u001b[0m results \u001b[39m=\u001b[39m results\u001b[39m.\u001b[39;49mdrop(\u001b[39m\"\u001b[39;49m\u001b[39mMetric Type\u001b[39;49m\u001b[39m\"\u001b[39;49m,axis\u001b[39m=\u001b[39;49m\u001b[39m1\u001b[39;49m)\n\u001b[1;32m      2\u001b[0m results[\u001b[39m\"\u001b[39m\u001b[39mloglik\u001b[39m\u001b[39m\"\u001b[39m] \u001b[39m=\u001b[39m lls\n\u001b[1;32m      3\u001b[0m results[\u001b[39m\"\u001b[39m\u001b[39mk\u001b[39m\u001b[39m\"\u001b[39m] \u001b[39m=\u001b[39m ks\n",
      "File \u001b[0;32m/local/data/anaconda3/envs/BT/lib/python3.11/site-packages/pandas/core/frame.py:5258\u001b[0m, in \u001b[0;36mDataFrame.drop\u001b[0;34m(self, labels, axis, index, columns, level, inplace, errors)\u001b[0m\n\u001b[1;32m   5110\u001b[0m \u001b[39mdef\u001b[39;00m \u001b[39mdrop\u001b[39m(\n\u001b[1;32m   5111\u001b[0m     \u001b[39mself\u001b[39m,\n\u001b[1;32m   5112\u001b[0m     labels: IndexLabel \u001b[39m=\u001b[39m \u001b[39mNone\u001b[39;00m,\n\u001b[0;32m   (...)\u001b[0m\n\u001b[1;32m   5119\u001b[0m     errors: IgnoreRaise \u001b[39m=\u001b[39m \u001b[39m\"\u001b[39m\u001b[39mraise\u001b[39m\u001b[39m\"\u001b[39m,\n\u001b[1;32m   5120\u001b[0m ) \u001b[39m-\u001b[39m\u001b[39m>\u001b[39m DataFrame \u001b[39m|\u001b[39m \u001b[39mNone\u001b[39;00m:\n\u001b[1;32m   5121\u001b[0m \u001b[39m    \u001b[39m\u001b[39m\"\"\"\u001b[39;00m\n\u001b[1;32m   5122\u001b[0m \u001b[39m    Drop specified labels from rows or columns.\u001b[39;00m\n\u001b[1;32m   5123\u001b[0m \n\u001b[0;32m   (...)\u001b[0m\n\u001b[1;32m   5256\u001b[0m \u001b[39m            weight  1.0     0.8\u001b[39;00m\n\u001b[1;32m   5257\u001b[0m \u001b[39m    \"\"\"\u001b[39;00m\n\u001b[0;32m-> 5258\u001b[0m     \u001b[39mreturn\u001b[39;00m \u001b[39msuper\u001b[39;49m()\u001b[39m.\u001b[39;49mdrop(\n\u001b[1;32m   5259\u001b[0m         labels\u001b[39m=\u001b[39;49mlabels,\n\u001b[1;32m   5260\u001b[0m         axis\u001b[39m=\u001b[39;49maxis,\n\u001b[1;32m   5261\u001b[0m         index\u001b[39m=\u001b[39;49mindex,\n\u001b[1;32m   5262\u001b[0m         columns\u001b[39m=\u001b[39;49mcolumns,\n\u001b[1;32m   5263\u001b[0m         level\u001b[39m=\u001b[39;49mlevel,\n\u001b[1;32m   5264\u001b[0m         inplace\u001b[39m=\u001b[39;49minplace,\n\u001b[1;32m   5265\u001b[0m         errors\u001b[39m=\u001b[39;49merrors,\n\u001b[1;32m   5266\u001b[0m     )\n",
      "File \u001b[0;32m/local/data/anaconda3/envs/BT/lib/python3.11/site-packages/pandas/core/generic.py:4549\u001b[0m, in \u001b[0;36mNDFrame.drop\u001b[0;34m(self, labels, axis, index, columns, level, inplace, errors)\u001b[0m\n\u001b[1;32m   4547\u001b[0m \u001b[39mfor\u001b[39;00m axis, labels \u001b[39min\u001b[39;00m axes\u001b[39m.\u001b[39mitems():\n\u001b[1;32m   4548\u001b[0m     \u001b[39mif\u001b[39;00m labels \u001b[39mis\u001b[39;00m \u001b[39mnot\u001b[39;00m \u001b[39mNone\u001b[39;00m:\n\u001b[0;32m-> 4549\u001b[0m         obj \u001b[39m=\u001b[39m obj\u001b[39m.\u001b[39;49m_drop_axis(labels, axis, level\u001b[39m=\u001b[39;49mlevel, errors\u001b[39m=\u001b[39;49merrors)\n\u001b[1;32m   4551\u001b[0m \u001b[39mif\u001b[39;00m inplace:\n\u001b[1;32m   4552\u001b[0m     \u001b[39mself\u001b[39m\u001b[39m.\u001b[39m_update_inplace(obj)\n",
      "File \u001b[0;32m/local/data/anaconda3/envs/BT/lib/python3.11/site-packages/pandas/core/generic.py:4591\u001b[0m, in \u001b[0;36mNDFrame._drop_axis\u001b[0;34m(self, labels, axis, level, errors, only_slice)\u001b[0m\n\u001b[1;32m   4589\u001b[0m         new_axis \u001b[39m=\u001b[39m axis\u001b[39m.\u001b[39mdrop(labels, level\u001b[39m=\u001b[39mlevel, errors\u001b[39m=\u001b[39merrors)\n\u001b[1;32m   4590\u001b[0m     \u001b[39melse\u001b[39;00m:\n\u001b[0;32m-> 4591\u001b[0m         new_axis \u001b[39m=\u001b[39m axis\u001b[39m.\u001b[39;49mdrop(labels, errors\u001b[39m=\u001b[39;49merrors)\n\u001b[1;32m   4592\u001b[0m     indexer \u001b[39m=\u001b[39m axis\u001b[39m.\u001b[39mget_indexer(new_axis)\n\u001b[1;32m   4594\u001b[0m \u001b[39m# Case for non-unique axis\u001b[39;00m\n\u001b[1;32m   4595\u001b[0m \u001b[39melse\u001b[39;00m:\n",
      "File \u001b[0;32m/local/data/anaconda3/envs/BT/lib/python3.11/site-packages/pandas/core/indexes/base.py:6696\u001b[0m, in \u001b[0;36mIndex.drop\u001b[0;34m(self, labels, errors)\u001b[0m\n\u001b[1;32m   6694\u001b[0m \u001b[39mif\u001b[39;00m mask\u001b[39m.\u001b[39many():\n\u001b[1;32m   6695\u001b[0m     \u001b[39mif\u001b[39;00m errors \u001b[39m!=\u001b[39m \u001b[39m\"\u001b[39m\u001b[39mignore\u001b[39m\u001b[39m\"\u001b[39m:\n\u001b[0;32m-> 6696\u001b[0m         \u001b[39mraise\u001b[39;00m \u001b[39mKeyError\u001b[39;00m(\u001b[39mf\u001b[39m\u001b[39m\"\u001b[39m\u001b[39m{\u001b[39;00m\u001b[39mlist\u001b[39m(labels[mask])\u001b[39m}\u001b[39;00m\u001b[39m not found in axis\u001b[39m\u001b[39m\"\u001b[39m)\n\u001b[1;32m   6697\u001b[0m     indexer \u001b[39m=\u001b[39m indexer[\u001b[39m~\u001b[39mmask]\n\u001b[1;32m   6698\u001b[0m \u001b[39mreturn\u001b[39;00m \u001b[39mself\u001b[39m\u001b[39m.\u001b[39mdelete(indexer)\n",
      "\u001b[0;31mKeyError\u001b[0m: \"['Metric Type'] not found in axis\""
     ]
    }
   ],
   "source": [
    "results[\"loglik\"] = lls\n",
    "results[\"k\"] = ks"
   ]
  },
  {
   "cell_type": "code",
   "execution_count": 40,
   "metadata": {},
   "outputs": [
    {
     "data": {
      "text/html": [
       "<div>\n",
       "<style scoped>\n",
       "    .dataframe tbody tr th:only-of-type {\n",
       "        vertical-align: middle;\n",
       "    }\n",
       "\n",
       "    .dataframe tbody tr th {\n",
       "        vertical-align: top;\n",
       "    }\n",
       "\n",
       "    .dataframe thead th {\n",
       "        text-align: right;\n",
       "    }\n",
       "</style>\n",
       "<table border=\"1\" class=\"dataframe\">\n",
       "  <thead>\n",
       "    <tr style=\"text-align: right;\">\n",
       "      <th></th>\n",
       "      <th>Leiden NMI</th>\n",
       "      <th>Leiden ARI</th>\n",
       "      <th>KMeans NMI</th>\n",
       "      <th>KMeans ARI</th>\n",
       "      <th>Silhouette label</th>\n",
       "      <th>Silhouette batch</th>\n",
       "      <th>KBET</th>\n",
       "      <th>Batch correction</th>\n",
       "      <th>Bio conservation</th>\n",
       "      <th>Total</th>\n",
       "    </tr>\n",
       "    <tr>\n",
       "      <th>Embedding</th>\n",
       "      <th></th>\n",
       "      <th></th>\n",
       "      <th></th>\n",
       "      <th></th>\n",
       "      <th></th>\n",
       "      <th></th>\n",
       "      <th></th>\n",
       "      <th></th>\n",
       "      <th></th>\n",
       "      <th></th>\n",
       "    </tr>\n",
       "  </thead>\n",
       "  <tbody>\n",
       "    <tr>\n",
       "      <th>scVI_k=2</th>\n",
       "      <td>0.642188</td>\n",
       "      <td>0.449975</td>\n",
       "      <td>0.581017</td>\n",
       "      <td>0.383407</td>\n",
       "      <td>0.556002</td>\n",
       "      <td>0.83982</td>\n",
       "      <td>0.403353</td>\n",
       "      <td>0.621586</td>\n",
       "      <td>0.522518</td>\n",
       "      <td>0.562145</td>\n",
       "    </tr>\n",
       "    <tr>\n",
       "      <th>scVI_k=5</th>\n",
       "      <td>0.685009</td>\n",
       "      <td>0.519224</td>\n",
       "      <td>0.591168</td>\n",
       "      <td>0.417928</td>\n",
       "      <td>0.576314</td>\n",
       "      <td>0.845477</td>\n",
       "      <td>0.395776</td>\n",
       "      <td>0.620627</td>\n",
       "      <td>0.557929</td>\n",
       "      <td>0.583008</td>\n",
       "    </tr>\n",
       "    <tr>\n",
       "      <th>scVI_k=10</th>\n",
       "      <td>0.656548</td>\n",
       "      <td>0.526381</td>\n",
       "      <td>0.618108</td>\n",
       "      <td>0.448333</td>\n",
       "      <td>0.569116</td>\n",
       "      <td>0.805526</td>\n",
       "      <td>0.463142</td>\n",
       "      <td>0.634334</td>\n",
       "      <td>0.563697</td>\n",
       "      <td>0.591952</td>\n",
       "    </tr>\n",
       "    <tr>\n",
       "      <th>scVI_k=50</th>\n",
       "      <td>0.675619</td>\n",
       "      <td>0.49501</td>\n",
       "      <td>0.620439</td>\n",
       "      <td>0.449195</td>\n",
       "      <td>0.585932</td>\n",
       "      <td>0.798792</td>\n",
       "      <td>0.484644</td>\n",
       "      <td>0.641718</td>\n",
       "      <td>0.565239</td>\n",
       "      <td>0.595831</td>\n",
       "    </tr>\n",
       "    <tr>\n",
       "      <th>scVI_k=100</th>\n",
       "      <td>0.683498</td>\n",
       "      <td>0.536135</td>\n",
       "      <td>0.64186</td>\n",
       "      <td>0.505328</td>\n",
       "      <td>0.604994</td>\n",
       "      <td>0.795855</td>\n",
       "      <td>0.497109</td>\n",
       "      <td>0.646482</td>\n",
       "      <td>0.594363</td>\n",
       "      <td>0.61521</td>\n",
       "    </tr>\n",
       "    <tr>\n",
       "      <th>scVI_k=200</th>\n",
       "      <td>0.695762</td>\n",
       "      <td>0.568009</td>\n",
       "      <td>0.642996</td>\n",
       "      <td>0.506746</td>\n",
       "      <td>0.599106</td>\n",
       "      <td>0.801907</td>\n",
       "      <td>0.485407</td>\n",
       "      <td>0.643657</td>\n",
       "      <td>0.602524</td>\n",
       "      <td>0.618977</td>\n",
       "    </tr>\n",
       "    <tr>\n",
       "      <th>scVI_k=500</th>\n",
       "      <td>0.682361</td>\n",
       "      <td>0.537061</td>\n",
       "      <td>0.652402</td>\n",
       "      <td>0.463339</td>\n",
       "      <td>0.607388</td>\n",
       "      <td>0.802706</td>\n",
       "      <td>0.496004</td>\n",
       "      <td>0.649355</td>\n",
       "      <td>0.58851</td>\n",
       "      <td>0.612848</td>\n",
       "    </tr>\n",
       "    <tr>\n",
       "      <th>Metric Type</th>\n",
       "      <td>Bio conservation</td>\n",
       "      <td>Bio conservation</td>\n",
       "      <td>Bio conservation</td>\n",
       "      <td>Bio conservation</td>\n",
       "      <td>Bio conservation</td>\n",
       "      <td>Batch correction</td>\n",
       "      <td>Batch correction</td>\n",
       "      <td>Aggregate score</td>\n",
       "      <td>Aggregate score</td>\n",
       "      <td>Aggregate score</td>\n",
       "    </tr>\n",
       "  </tbody>\n",
       "</table>\n",
       "</div>"
      ],
      "text/plain": [
       "                   Leiden NMI        Leiden ARI        KMeans NMI  \\\n",
       "Embedding                                                           \n",
       "scVI_k=2             0.642188          0.449975          0.581017   \n",
       "scVI_k=5             0.685009          0.519224          0.591168   \n",
       "scVI_k=10            0.656548          0.526381          0.618108   \n",
       "scVI_k=50            0.675619           0.49501          0.620439   \n",
       "scVI_k=100           0.683498          0.536135           0.64186   \n",
       "scVI_k=200           0.695762          0.568009          0.642996   \n",
       "scVI_k=500           0.682361          0.537061          0.652402   \n",
       "Metric Type  Bio conservation  Bio conservation  Bio conservation   \n",
       "\n",
       "                   KMeans ARI  Silhouette label  Silhouette batch  \\\n",
       "Embedding                                                           \n",
       "scVI_k=2             0.383407          0.556002           0.83982   \n",
       "scVI_k=5             0.417928          0.576314          0.845477   \n",
       "scVI_k=10            0.448333          0.569116          0.805526   \n",
       "scVI_k=50            0.449195          0.585932          0.798792   \n",
       "scVI_k=100           0.505328          0.604994          0.795855   \n",
       "scVI_k=200           0.506746          0.599106          0.801907   \n",
       "scVI_k=500           0.463339          0.607388          0.802706   \n",
       "Metric Type  Bio conservation  Bio conservation  Batch correction   \n",
       "\n",
       "                         KBET Batch correction Bio conservation  \\\n",
       "Embedding                                                         \n",
       "scVI_k=2             0.403353         0.621586         0.522518   \n",
       "scVI_k=5             0.395776         0.620627         0.557929   \n",
       "scVI_k=10            0.463142         0.634334         0.563697   \n",
       "scVI_k=50            0.484644         0.641718         0.565239   \n",
       "scVI_k=100           0.497109         0.646482         0.594363   \n",
       "scVI_k=200           0.485407         0.643657         0.602524   \n",
       "scVI_k=500           0.496004         0.649355          0.58851   \n",
       "Metric Type  Batch correction  Aggregate score  Aggregate score   \n",
       "\n",
       "                       Total  \n",
       "Embedding                     \n",
       "scVI_k=2            0.562145  \n",
       "scVI_k=5            0.583008  \n",
       "scVI_k=10           0.591952  \n",
       "scVI_k=50           0.595831  \n",
       "scVI_k=100           0.61521  \n",
       "scVI_k=200          0.618977  \n",
       "scVI_k=500          0.612848  \n",
       "Metric Type  Aggregate score  "
      ]
     },
     "execution_count": 40,
     "metadata": {},
     "output_type": "execute_result"
    }
   ],
   "source": [
    "results"
   ]
  },
  {
   "cell_type": "code",
   "execution_count": 50,
   "metadata": {},
   "outputs": [],
   "source": [
    "plot = sns.relplot(data = results, x=\"loglik\", y=\"Total\")\n",
    "for i in range(results.shape[0]):\n",
    "    plt.annotate(results[\"k\"][i],(results[\"loglik\"][i],results[\"Total\"][i]+0.001))\n",
    "plot.set(title=\"Parameter Tuning\")\n",
    "plot.savefig(\"plots/prior_optimization\")"
   ]
  },
  {
   "cell_type": "code",
   "execution_count": 18,
   "metadata": {},
   "outputs": [
    {
     "data": {
      "text/plain": [
       "AnnData object with n_obs × n_vars = 32472 × 4000\n",
       "    obs: 'dataset', 'location', 'nGene', 'nUMI', 'patientGroup', 'percent.mito', 'protocol', 'sanger_type', 'size_factors', 'sampling_method', 'batch', 'cell_type', 'donor'\n",
       "    var: 'highly_variable', 'means', 'dispersions', 'dispersions_norm', 'highly_variable_nbatches', 'highly_variable_intersection'\n",
       "    uns: 'hvg', 'pca'\n",
       "    obsm: 'Scanorama', 'Unintegrated', 'X_pca', 'scVI_k=2', 'scVI_k=5', 'scVI_k=10', 'scVI_k=50', 'scVI_k=100', 'scVI_k=200', 'scVI_k=500'\n",
       "    varm: 'PCs'\n",
       "    layers: 'counts'"
      ]
     },
     "execution_count": 18,
     "metadata": {},
     "output_type": "execute_result"
    }
   ],
   "source": []
  }
 ],
 "metadata": {
  "kernelspec": {
   "display_name": "Python 3",
   "language": "python",
   "name": "python3"
  },
  "language_info": {
   "codemirror_mode": {
    "name": "ipython",
    "version": 3
   },
   "file_extension": ".py",
   "mimetype": "text/x-python",
   "name": "python",
   "nbconvert_exporter": "python",
   "pygments_lexer": "ipython3",
   "version": "3.11.4"
  },
  "orig_nbformat": 4
 },
 "nbformat": 4,
 "nbformat_minor": 2
}
