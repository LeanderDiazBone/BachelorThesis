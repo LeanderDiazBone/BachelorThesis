{
 "cells": [
  {
   "cell_type": "code",
   "execution_count": 1,
   "metadata": {},
   "outputs": [
    {
     "name": "stderr",
     "output_type": "stream",
     "text": [
      "/local/data/scvi-tools/scvi/_settings.py:63: UserWarning: Since v1.0.0, scvi-tools no longer uses a random seed by default. Run `scvi.settings.seed = 0` to reproduce results from previous versions.\n",
      "  self.seed = seed\n",
      "/local/data/scvi-tools/scvi/_settings.py:70: UserWarning: Setting `dl_pin_memory_gpu_training` is deprecated in v1.0 and will be removed in v1.1. Please pass in `pin_memory` to the data loaders instead.\n",
      "  self.dl_pin_memory_gpu_training = (\n",
      "/local/data/anaconda3/envs/BT/lib/python3.11/site-packages/numba/np/ufunc/dufunc.py:84: NumbaDeprecationWarning: \u001b[1mThe 'nopython' keyword argument was not supplied to the 'numba.jit' decorator. The implicit default value for this argument is currently False, but it will be changed to True in Numba 0.59.0. See https://numba.readthedocs.io/en/stable/reference/deprecation.html#deprecation-of-object-mode-fall-back-behaviour-when-using-jit for details.\u001b[0m\n",
      "  dispatcher = jit(_target='npyufunc',\n",
      "/local/data/anaconda3/envs/BT/lib/python3.11/site-packages/numba/np/ufunc/dufunc.py:84: NumbaDeprecationWarning: \u001b[1mThe 'nopython' keyword argument was not supplied to the 'numba.jit' decorator. The implicit default value for this argument is currently False, but it will be changed to True in Numba 0.59.0. See https://numba.readthedocs.io/en/stable/reference/deprecation.html#deprecation-of-object-mode-fall-back-behaviour-when-using-jit for details.\u001b[0m\n",
      "  dispatcher = jit(_target='npyufunc',\n",
      "/local/data/anaconda3/envs/BT/lib/python3.11/site-packages/numba/np/ufunc/dufunc.py:84: NumbaDeprecationWarning: \u001b[1mThe 'nopython' keyword argument was not supplied to the 'numba.jit' decorator. The implicit default value for this argument is currently False, but it will be changed to True in Numba 0.59.0. See https://numba.readthedocs.io/en/stable/reference/deprecation.html#deprecation-of-object-mode-fall-back-behaviour-when-using-jit for details.\u001b[0m\n",
      "  dispatcher = jit(_target='npyufunc',\n",
      "/local/data/anaconda3/envs/BT/lib/python3.11/site-packages/numba/np/ufunc/dufunc.py:84: NumbaDeprecationWarning: \u001b[1mThe 'nopython' keyword argument was not supplied to the 'numba.jit' decorator. The implicit default value for this argument is currently False, but it will be changed to True in Numba 0.59.0. See https://numba.readthedocs.io/en/stable/reference/deprecation.html#deprecation-of-object-mode-fall-back-behaviour-when-using-jit for details.\u001b[0m\n",
      "  dispatcher = jit(_target='npyufunc',\n",
      "/local/data/anaconda3/envs/BT/lib/python3.11/site-packages/umap/distances.py:1063: NumbaDeprecationWarning: \u001b[1mThe 'nopython' keyword argument was not supplied to the 'numba.jit' decorator. The implicit default value for this argument is currently False, but it will be changed to True in Numba 0.59.0. See https://numba.readthedocs.io/en/stable/reference/deprecation.html#deprecation-of-object-mode-fall-back-behaviour-when-using-jit for details.\u001b[0m\n",
      "/local/data/anaconda3/envs/BT/lib/python3.11/site-packages/umap/distances.py:1071: NumbaDeprecationWarning: \u001b[1mThe 'nopython' keyword argument was not supplied to the 'numba.jit' decorator. The implicit default value for this argument is currently False, but it will be changed to True in Numba 0.59.0. See https://numba.readthedocs.io/en/stable/reference/deprecation.html#deprecation-of-object-mode-fall-back-behaviour-when-using-jit for details.\u001b[0m\n",
      "/local/data/anaconda3/envs/BT/lib/python3.11/site-packages/umap/distances.py:1086: NumbaDeprecationWarning: \u001b[1mThe 'nopython' keyword argument was not supplied to the 'numba.jit' decorator. The implicit default value for this argument is currently False, but it will be changed to True in Numba 0.59.0. See https://numba.readthedocs.io/en/stable/reference/deprecation.html#deprecation-of-object-mode-fall-back-behaviour-when-using-jit for details.\u001b[0m\n",
      "/local/data/anaconda3/envs/BT/lib/python3.11/site-packages/umap/umap_.py:660: NumbaDeprecationWarning: \u001b[1mThe 'nopython' keyword argument was not supplied to the 'numba.jit' decorator. The implicit default value for this argument is currently False, but it will be changed to True in Numba 0.59.0. See https://numba.readthedocs.io/en/stable/reference/deprecation.html#deprecation-of-object-mode-fall-back-behaviour-when-using-jit for details.\u001b[0m\n",
      "2023-09-28 09:40:37.314046: W tensorflow/compiler/tf2tensorrt/utils/py_utils.cc:38] TF-TRT Warning: Could not find TensorRT\n",
      "/local/data/anaconda3/envs/BT/lib/python3.11/site-packages/numba/np/ufunc/dufunc.py:84: NumbaDeprecationWarning: \u001b[1mThe 'nopython' keyword argument was not supplied to the 'numba.jit' decorator. The implicit default value for this argument is currently False, but it will be changed to True in Numba 0.59.0. See https://numba.readthedocs.io/en/stable/reference/deprecation.html#deprecation-of-object-mode-fall-back-behaviour-when-using-jit for details.\u001b[0m\n",
      "/local/data/anaconda3/envs/BT/lib/python3.11/site-packages/numba/np/ufunc/dufunc.py:84: NumbaDeprecationWarning: \u001b[1mThe 'nopython' keyword argument was not supplied to the 'numba.jit' decorator. The implicit default value for this argument is currently False, but it will be changed to True in Numba 0.59.0. See https://numba.readthedocs.io/en/stable/reference/deprecation.html#deprecation-of-object-mode-fall-back-behaviour-when-using-jit for details.\u001b[0m\n",
      "/local/data/anaconda3/envs/BT/lib/python3.11/site-packages/numba/np/ufunc/dufunc.py:84: NumbaDeprecationWarning: \u001b[1mThe 'nopython' keyword argument was not supplied to the 'numba.jit' decorator. The implicit default value for this argument is currently False, but it will be changed to True in Numba 0.59.0. See https://numba.readthedocs.io/en/stable/reference/deprecation.html#deprecation-of-object-mode-fall-back-behaviour-when-using-jit for details.\u001b[0m\n",
      "/local/data/anaconda3/envs/BT/lib/python3.11/site-packages/umap/plot.py:203: NumbaDeprecationWarning: \u001b[1mThe 'nopython' keyword argument was not supplied to the 'numba.jit' decorator. The implicit default value for this argument is currently False, but it will be changed to True in Numba 0.59.0. See https://numba.readthedocs.io/en/stable/reference/deprecation.html#deprecation-of-object-mode-fall-back-behaviour-when-using-jit for details.\u001b[0m\n"
     ]
    }
   ],
   "source": [
    "import numpy as np\n",
    "import scanpy as sc\n",
    "import anndata\n",
    "import scvi\n",
    "from scib_metrics.benchmark import Benchmarker\n",
    "import torch\n",
    "import scib_metrics\n",
    "from lightning.pytorch.callbacks import ModelCheckpoint\n",
    "import copy\n",
    "%matplotlib inline\n",
    "import sys\n",
    "sys.path.append('..')\n",
    "from functions import *\n",
    "from SCVIModelCheckpoint import SCVIModelCheckpoint "
   ]
  },
  {
   "cell_type": "code",
   "execution_count": 2,
   "metadata": {},
   "outputs": [],
   "source": [
    "adata = anndata.read_h5ad(filename=\"../data/adataLung4.h5ad\")"
   ]
  },
  {
   "cell_type": "code",
   "execution_count": 11,
   "metadata": {},
   "outputs": [],
   "source": [
    "def trainN(adata, prior, checkpoint, checkpointFolder, N):\n",
    "    for i in range(N):\n",
    "        adata, vae = trainModel(adata, prior, checkpoint = checkpoint, checkpointFolder = checkpointFolder + f\"{prior}t{i}/\", every_n=10, log=False, logname=\"MetEps400MG\")"
   ]
  },
  {
   "cell_type": "code",
   "execution_count": 3,
   "metadata": {},
   "outputs": [],
   "source": [
    "n = 5"
   ]
  },
  {
   "cell_type": "code",
   "execution_count": 13,
   "metadata": {},
   "outputs": [
    {
     "name": "stderr",
     "output_type": "stream",
     "text": [
      "GPU available: True (cuda), used: True\n",
      "TPU available: False, using: 0 TPU cores\n",
      "IPU available: False, using: 0 IPUs\n",
      "HPU available: False, using: 0 HPUs\n",
      "LOCAL_RANK: 0 - CUDA_VISIBLE_DEVICES: [0]\n"
     ]
    },
    {
     "name": "stdout",
     "output_type": "stream",
     "text": [
      "Epoch 400/400: 100%|██████████| 400/400 [10:42<00:00,  1.56s/it, v_num=1, train_loss_step=962, train_loss_epoch=904]    "
     ]
    },
    {
     "name": "stderr",
     "output_type": "stream",
     "text": [
      "`Trainer.fit` stopped: `max_epochs=400` reached.\n"
     ]
    },
    {
     "name": "stdout",
     "output_type": "stream",
     "text": [
      "Epoch 400/400: 100%|██████████| 400/400 [10:42<00:00,  1.61s/it, v_num=1, train_loss_step=962, train_loss_epoch=904]\n"
     ]
    },
    {
     "name": "stderr",
     "output_type": "stream",
     "text": [
      "GPU available: True (cuda), used: True\n",
      "TPU available: False, using: 0 TPU cores\n",
      "IPU available: False, using: 0 IPUs\n",
      "HPU available: False, using: 0 HPUs\n",
      "LOCAL_RANK: 0 - CUDA_VISIBLE_DEVICES: [0]\n"
     ]
    },
    {
     "name": "stdout",
     "output_type": "stream",
     "text": [
      "Epoch 400/400: 100%|██████████| 400/400 [10:24<00:00,  1.59s/it, v_num=1, train_loss_step=959, train_loss_epoch=906]    "
     ]
    },
    {
     "name": "stderr",
     "output_type": "stream",
     "text": [
      "`Trainer.fit` stopped: `max_epochs=400` reached.\n"
     ]
    },
    {
     "name": "stdout",
     "output_type": "stream",
     "text": [
      "Epoch 400/400: 100%|██████████| 400/400 [10:24<00:00,  1.56s/it, v_num=1, train_loss_step=959, train_loss_epoch=906]\n"
     ]
    },
    {
     "name": "stderr",
     "output_type": "stream",
     "text": [
      "GPU available: True (cuda), used: True\n",
      "TPU available: False, using: 0 TPU cores\n",
      "IPU available: False, using: 0 IPUs\n",
      "HPU available: False, using: 0 HPUs\n",
      "LOCAL_RANK: 0 - CUDA_VISIBLE_DEVICES: [0]\n"
     ]
    },
    {
     "name": "stdout",
     "output_type": "stream",
     "text": [
      "Epoch 400/400: 100%|██████████| 400/400 [10:27<00:00,  1.57s/it, v_num=1, train_loss_step=987, train_loss_epoch=905]    "
     ]
    },
    {
     "name": "stderr",
     "output_type": "stream",
     "text": [
      "`Trainer.fit` stopped: `max_epochs=400` reached.\n"
     ]
    },
    {
     "name": "stdout",
     "output_type": "stream",
     "text": [
      "Epoch 400/400: 100%|██████████| 400/400 [10:27<00:00,  1.57s/it, v_num=1, train_loss_step=987, train_loss_epoch=905]\n"
     ]
    },
    {
     "name": "stderr",
     "output_type": "stream",
     "text": [
      "GPU available: True (cuda), used: True\n",
      "TPU available: False, using: 0 TPU cores\n",
      "IPU available: False, using: 0 IPUs\n",
      "HPU available: False, using: 0 HPUs\n",
      "LOCAL_RANK: 0 - CUDA_VISIBLE_DEVICES: [0]\n"
     ]
    },
    {
     "name": "stdout",
     "output_type": "stream",
     "text": [
      "Epoch 400/400: 100%|██████████| 400/400 [10:29<00:00,  1.59s/it, v_num=1, train_loss_step=905, train_loss_epoch=906]    "
     ]
    },
    {
     "name": "stderr",
     "output_type": "stream",
     "text": [
      "`Trainer.fit` stopped: `max_epochs=400` reached.\n"
     ]
    },
    {
     "name": "stdout",
     "output_type": "stream",
     "text": [
      "Epoch 400/400: 100%|██████████| 400/400 [10:29<00:00,  1.57s/it, v_num=1, train_loss_step=905, train_loss_epoch=906]\n"
     ]
    },
    {
     "name": "stderr",
     "output_type": "stream",
     "text": [
      "GPU available: True (cuda), used: True\n",
      "TPU available: False, using: 0 TPU cores\n",
      "IPU available: False, using: 0 IPUs\n",
      "HPU available: False, using: 0 HPUs\n",
      "LOCAL_RANK: 0 - CUDA_VISIBLE_DEVICES: [0]\n"
     ]
    },
    {
     "name": "stdout",
     "output_type": "stream",
     "text": [
      "Epoch 400/400: 100%|██████████| 400/400 [10:34<00:00,  1.65s/it, v_num=1, train_loss_step=902, train_loss_epoch=903]    "
     ]
    },
    {
     "name": "stderr",
     "output_type": "stream",
     "text": [
      "`Trainer.fit` stopped: `max_epochs=400` reached.\n"
     ]
    },
    {
     "name": "stdout",
     "output_type": "stream",
     "text": [
      "Epoch 400/400: 100%|██████████| 400/400 [10:34<00:00,  1.59s/it, v_num=1, train_loss_step=902, train_loss_epoch=903]\n"
     ]
    }
   ],
   "source": [
    "trainN(adata, \"sdnormal\", True, \"../../Poster/models/\",n)"
   ]
  },
  {
   "cell_type": "code",
   "execution_count": 14,
   "metadata": {},
   "outputs": [
    {
     "name": "stderr",
     "output_type": "stream",
     "text": [
      "GPU available: True (cuda), used: True\n",
      "TPU available: False, using: 0 TPU cores\n",
      "IPU available: False, using: 0 IPUs\n",
      "HPU available: False, using: 0 HPUs\n",
      "LOCAL_RANK: 0 - CUDA_VISIBLE_DEVICES: [0]\n"
     ]
    },
    {
     "name": "stdout",
     "output_type": "stream",
     "text": [
      "Epoch 400/400: 100%|██████████| 400/400 [12:25<00:00,  1.86s/it, v_num=1, train_loss_step=937, train_loss_epoch=900]    "
     ]
    },
    {
     "name": "stderr",
     "output_type": "stream",
     "text": [
      "`Trainer.fit` stopped: `max_epochs=400` reached.\n"
     ]
    },
    {
     "name": "stdout",
     "output_type": "stream",
     "text": [
      "Epoch 400/400: 100%|██████████| 400/400 [12:25<00:00,  1.86s/it, v_num=1, train_loss_step=937, train_loss_epoch=900]\n"
     ]
    },
    {
     "name": "stderr",
     "output_type": "stream",
     "text": [
      "GPU available: True (cuda), used: True\n",
      "TPU available: False, using: 0 TPU cores\n",
      "IPU available: False, using: 0 IPUs\n",
      "HPU available: False, using: 0 HPUs\n",
      "LOCAL_RANK: 0 - CUDA_VISIBLE_DEVICES: [0]\n"
     ]
    },
    {
     "name": "stdout",
     "output_type": "stream",
     "text": [
      "Epoch 400/400: 100%|██████████| 400/400 [12:12<00:00,  1.81s/it, v_num=1, train_loss_step=903, train_loss_epoch=899]    "
     ]
    },
    {
     "name": "stderr",
     "output_type": "stream",
     "text": [
      "`Trainer.fit` stopped: `max_epochs=400` reached.\n"
     ]
    },
    {
     "name": "stdout",
     "output_type": "stream",
     "text": [
      "Epoch 400/400: 100%|██████████| 400/400 [12:12<00:00,  1.83s/it, v_num=1, train_loss_step=903, train_loss_epoch=899]\n"
     ]
    },
    {
     "name": "stderr",
     "output_type": "stream",
     "text": [
      "GPU available: True (cuda), used: True\n",
      "TPU available: False, using: 0 TPU cores\n",
      "IPU available: False, using: 0 IPUs\n",
      "HPU available: False, using: 0 HPUs\n",
      "LOCAL_RANK: 0 - CUDA_VISIBLE_DEVICES: [0]\n"
     ]
    },
    {
     "name": "stdout",
     "output_type": "stream",
     "text": [
      "Epoch 400/400: 100%|██████████| 400/400 [12:14<00:00,  1.84s/it, v_num=1, train_loss_step=881, train_loss_epoch=900]    "
     ]
    },
    {
     "name": "stderr",
     "output_type": "stream",
     "text": [
      "`Trainer.fit` stopped: `max_epochs=400` reached.\n"
     ]
    },
    {
     "name": "stdout",
     "output_type": "stream",
     "text": [
      "Epoch 400/400: 100%|██████████| 400/400 [12:14<00:00,  1.84s/it, v_num=1, train_loss_step=881, train_loss_epoch=900]\n"
     ]
    },
    {
     "name": "stderr",
     "output_type": "stream",
     "text": [
      "GPU available: True (cuda), used: True\n",
      "TPU available: False, using: 0 TPU cores\n",
      "IPU available: False, using: 0 IPUs\n",
      "HPU available: False, using: 0 HPUs\n",
      "LOCAL_RANK: 0 - CUDA_VISIBLE_DEVICES: [0]\n"
     ]
    },
    {
     "name": "stdout",
     "output_type": "stream",
     "text": [
      "Epoch 400/400: 100%|██████████| 400/400 [12:15<00:00,  1.82s/it, v_num=1, train_loss_step=988, train_loss_epoch=900]    "
     ]
    },
    {
     "name": "stderr",
     "output_type": "stream",
     "text": [
      "`Trainer.fit` stopped: `max_epochs=400` reached.\n"
     ]
    },
    {
     "name": "stdout",
     "output_type": "stream",
     "text": [
      "Epoch 400/400: 100%|██████████| 400/400 [12:15<00:00,  1.84s/it, v_num=1, train_loss_step=988, train_loss_epoch=900]\n"
     ]
    },
    {
     "name": "stderr",
     "output_type": "stream",
     "text": [
      "GPU available: True (cuda), used: True\n",
      "TPU available: False, using: 0 TPU cores\n",
      "IPU available: False, using: 0 IPUs\n",
      "HPU available: False, using: 0 HPUs\n",
      "LOCAL_RANK: 0 - CUDA_VISIBLE_DEVICES: [0]\n"
     ]
    },
    {
     "name": "stdout",
     "output_type": "stream",
     "text": [
      "Epoch 400/400: 100%|██████████| 400/400 [12:29<00:00,  1.85s/it, v_num=1, train_loss_step=863, train_loss_epoch=900]    "
     ]
    },
    {
     "name": "stderr",
     "output_type": "stream",
     "text": [
      "`Trainer.fit` stopped: `max_epochs=400` reached.\n"
     ]
    },
    {
     "name": "stdout",
     "output_type": "stream",
     "text": [
      "Epoch 400/400: 100%|██████████| 400/400 [12:29<00:00,  1.87s/it, v_num=1, train_loss_step=863, train_loss_epoch=900]\n"
     ]
    }
   ],
   "source": [
    "trainN(adata, \"mixofgaus\", True, \"../../Poster/models/\",n)"
   ]
  },
  {
   "cell_type": "code",
   "execution_count": 15,
   "metadata": {},
   "outputs": [
    {
     "name": "stderr",
     "output_type": "stream",
     "text": [
      "GPU available: True (cuda), used: True\n",
      "TPU available: False, using: 0 TPU cores\n",
      "IPU available: False, using: 0 IPUs\n",
      "HPU available: False, using: 0 HPUs\n",
      "LOCAL_RANK: 0 - CUDA_VISIBLE_DEVICES: [0]\n"
     ]
    },
    {
     "name": "stdout",
     "output_type": "stream",
     "text": [
      "Epoch 400/400: 100%|██████████| 400/400 [13:48<00:00,  2.02s/it, v_num=1, train_loss_step=921, train_loss_epoch=899]    "
     ]
    },
    {
     "name": "stderr",
     "output_type": "stream",
     "text": [
      "`Trainer.fit` stopped: `max_epochs=400` reached.\n"
     ]
    },
    {
     "name": "stdout",
     "output_type": "stream",
     "text": [
      "Epoch 400/400: 100%|██████████| 400/400 [13:48<00:00,  2.07s/it, v_num=1, train_loss_step=921, train_loss_epoch=899]\n"
     ]
    },
    {
     "name": "stderr",
     "output_type": "stream",
     "text": [
      "GPU available: True (cuda), used: True\n",
      "TPU available: False, using: 0 TPU cores\n",
      "IPU available: False, using: 0 IPUs\n",
      "HPU available: False, using: 0 HPUs\n",
      "LOCAL_RANK: 0 - CUDA_VISIBLE_DEVICES: [0]\n"
     ]
    },
    {
     "name": "stdout",
     "output_type": "stream",
     "text": [
      "Epoch 400/400: 100%|██████████| 400/400 [13:49<00:00,  2.06s/it, v_num=1, train_loss_step=910, train_loss_epoch=900]    "
     ]
    },
    {
     "name": "stderr",
     "output_type": "stream",
     "text": [
      "`Trainer.fit` stopped: `max_epochs=400` reached.\n"
     ]
    },
    {
     "name": "stdout",
     "output_type": "stream",
     "text": [
      "Epoch 400/400: 100%|██████████| 400/400 [13:49<00:00,  2.07s/it, v_num=1, train_loss_step=910, train_loss_epoch=900]\n"
     ]
    },
    {
     "name": "stderr",
     "output_type": "stream",
     "text": [
      "GPU available: True (cuda), used: True\n",
      "TPU available: False, using: 0 TPU cores\n",
      "IPU available: False, using: 0 IPUs\n",
      "HPU available: False, using: 0 HPUs\n",
      "LOCAL_RANK: 0 - CUDA_VISIBLE_DEVICES: [0]\n"
     ]
    },
    {
     "name": "stdout",
     "output_type": "stream",
     "text": [
      "Epoch 400/400: 100%|██████████| 400/400 [13:42<00:00,  2.05s/it, v_num=1, train_loss_step=937, train_loss_epoch=901]    "
     ]
    },
    {
     "name": "stderr",
     "output_type": "stream",
     "text": [
      "`Trainer.fit` stopped: `max_epochs=400` reached.\n"
     ]
    },
    {
     "name": "stdout",
     "output_type": "stream",
     "text": [
      "Epoch 400/400: 100%|██████████| 400/400 [13:42<00:00,  2.06s/it, v_num=1, train_loss_step=937, train_loss_epoch=901]\n"
     ]
    },
    {
     "name": "stderr",
     "output_type": "stream",
     "text": [
      "GPU available: True (cuda), used: True\n",
      "TPU available: False, using: 0 TPU cores\n",
      "IPU available: False, using: 0 IPUs\n",
      "HPU available: False, using: 0 HPUs\n",
      "LOCAL_RANK: 0 - CUDA_VISIBLE_DEVICES: [0]\n"
     ]
    },
    {
     "name": "stdout",
     "output_type": "stream",
     "text": [
      "Epoch 400/400: 100%|██████████| 400/400 [13:50<00:00,  2.07s/it, v_num=1, train_loss_step=950, train_loss_epoch=900]    "
     ]
    },
    {
     "name": "stderr",
     "output_type": "stream",
     "text": [
      "`Trainer.fit` stopped: `max_epochs=400` reached.\n"
     ]
    },
    {
     "name": "stdout",
     "output_type": "stream",
     "text": [
      "Epoch 400/400: 100%|██████████| 400/400 [13:50<00:00,  2.08s/it, v_num=1, train_loss_step=950, train_loss_epoch=900]\n"
     ]
    },
    {
     "name": "stderr",
     "output_type": "stream",
     "text": [
      "GPU available: True (cuda), used: True\n",
      "TPU available: False, using: 0 TPU cores\n",
      "IPU available: False, using: 0 IPUs\n",
      "HPU available: False, using: 0 HPUs\n",
      "LOCAL_RANK: 0 - CUDA_VISIBLE_DEVICES: [0]\n"
     ]
    },
    {
     "name": "stdout",
     "output_type": "stream",
     "text": [
      "Epoch 400/400: 100%|██████████| 400/400 [13:59<00:00,  2.07s/it, v_num=1, train_loss_step=978, train_loss_epoch=902]    "
     ]
    },
    {
     "name": "stderr",
     "output_type": "stream",
     "text": [
      "`Trainer.fit` stopped: `max_epochs=400` reached.\n"
     ]
    },
    {
     "name": "stdout",
     "output_type": "stream",
     "text": [
      "Epoch 400/400: 100%|██████████| 400/400 [13:59<00:00,  2.10s/it, v_num=1, train_loss_step=978, train_loss_epoch=902]\n"
     ]
    }
   ],
   "source": [
    "trainN(adata, \"vamp\", True, \"../../Poster/models/\",n)"
   ]
  },
  {
   "cell_type": "code",
   "execution_count": 16,
   "metadata": {},
   "outputs": [
    {
     "name": "stderr",
     "output_type": "stream",
     "text": [
      "GPU available: True (cuda), used: True\n",
      "TPU available: False, using: 0 TPU cores\n",
      "IPU available: False, using: 0 IPUs\n",
      "HPU available: False, using: 0 HPUs\n",
      "LOCAL_RANK: 0 - CUDA_VISIBLE_DEVICES: [0]\n"
     ]
    },
    {
     "name": "stdout",
     "output_type": "stream",
     "text": [
      "Epoch 400/400: 100%|██████████| 400/400 [21:37<00:00,  3.31s/it, v_num=1, train_loss_step=855, train_loss_epoch=900]    "
     ]
    },
    {
     "name": "stderr",
     "output_type": "stream",
     "text": [
      "`Trainer.fit` stopped: `max_epochs=400` reached.\n"
     ]
    },
    {
     "name": "stdout",
     "output_type": "stream",
     "text": [
      "Epoch 400/400: 100%|██████████| 400/400 [21:37<00:00,  3.24s/it, v_num=1, train_loss_step=855, train_loss_epoch=900]\n"
     ]
    },
    {
     "name": "stderr",
     "output_type": "stream",
     "text": [
      "GPU available: True (cuda), used: True\n",
      "TPU available: False, using: 0 TPU cores\n",
      "IPU available: False, using: 0 IPUs\n",
      "HPU available: False, using: 0 HPUs\n",
      "LOCAL_RANK: 0 - CUDA_VISIBLE_DEVICES: [0]\n"
     ]
    },
    {
     "name": "stdout",
     "output_type": "stream",
     "text": [
      "Epoch 400/400: 100%|██████████| 400/400 [21:42<00:00,  3.28s/it, v_num=1, train_loss_step=1.02e+3, train_loss_epoch=903]"
     ]
    },
    {
     "name": "stderr",
     "output_type": "stream",
     "text": [
      "`Trainer.fit` stopped: `max_epochs=400` reached.\n"
     ]
    },
    {
     "name": "stdout",
     "output_type": "stream",
     "text": [
      "Epoch 400/400: 100%|██████████| 400/400 [21:42<00:00,  3.26s/it, v_num=1, train_loss_step=1.02e+3, train_loss_epoch=903]\n"
     ]
    },
    {
     "name": "stderr",
     "output_type": "stream",
     "text": [
      "GPU available: True (cuda), used: True\n",
      "TPU available: False, using: 0 TPU cores\n",
      "IPU available: False, using: 0 IPUs\n",
      "HPU available: False, using: 0 HPUs\n",
      "LOCAL_RANK: 0 - CUDA_VISIBLE_DEVICES: [0]\n"
     ]
    },
    {
     "name": "stdout",
     "output_type": "stream",
     "text": [
      "Epoch 400/400: 100%|██████████| 400/400 [21:55<00:00,  3.20s/it, v_num=1, train_loss_step=880, train_loss_epoch=901]    "
     ]
    },
    {
     "name": "stderr",
     "output_type": "stream",
     "text": [
      "`Trainer.fit` stopped: `max_epochs=400` reached.\n"
     ]
    },
    {
     "name": "stdout",
     "output_type": "stream",
     "text": [
      "Epoch 400/400: 100%|██████████| 400/400 [21:55<00:00,  3.29s/it, v_num=1, train_loss_step=880, train_loss_epoch=901]\n"
     ]
    },
    {
     "name": "stderr",
     "output_type": "stream",
     "text": [
      "GPU available: True (cuda), used: True\n",
      "TPU available: False, using: 0 TPU cores\n",
      "IPU available: False, using: 0 IPUs\n",
      "HPU available: False, using: 0 HPUs\n",
      "LOCAL_RANK: 0 - CUDA_VISIBLE_DEVICES: [0]\n"
     ]
    },
    {
     "name": "stdout",
     "output_type": "stream",
     "text": [
      "Epoch 400/400: 100%|██████████| 400/400 [21:41<00:00,  3.19s/it, v_num=1, train_loss_step=987, train_loss_epoch=901]    "
     ]
    },
    {
     "name": "stderr",
     "output_type": "stream",
     "text": [
      "`Trainer.fit` stopped: `max_epochs=400` reached.\n"
     ]
    },
    {
     "name": "stdout",
     "output_type": "stream",
     "text": [
      "Epoch 400/400: 100%|██████████| 400/400 [21:41<00:00,  3.25s/it, v_num=1, train_loss_step=987, train_loss_epoch=901]\n"
     ]
    },
    {
     "name": "stderr",
     "output_type": "stream",
     "text": [
      "GPU available: True (cuda), used: True\n",
      "TPU available: False, using: 0 TPU cores\n",
      "IPU available: False, using: 0 IPUs\n",
      "HPU available: False, using: 0 HPUs\n",
      "LOCAL_RANK: 0 - CUDA_VISIBLE_DEVICES: [0]\n"
     ]
    },
    {
     "name": "stdout",
     "output_type": "stream",
     "text": [
      "Epoch 400/400: 100%|██████████| 400/400 [21:25<00:00,  3.26s/it, v_num=1, train_loss_step=843, train_loss_epoch=901]    "
     ]
    },
    {
     "name": "stderr",
     "output_type": "stream",
     "text": [
      "`Trainer.fit` stopped: `max_epochs=400` reached.\n"
     ]
    },
    {
     "name": "stdout",
     "output_type": "stream",
     "text": [
      "Epoch 400/400: 100%|██████████| 400/400 [21:25<00:00,  3.21s/it, v_num=1, train_loss_step=843, train_loss_epoch=901]\n"
     ]
    }
   ],
   "source": [
    "trainN(adata, \"normalflow\", True, \"../../Poster/models/\",n)"
   ]
  },
  {
   "cell_type": "code",
   "execution_count": 4,
   "metadata": {},
   "outputs": [],
   "source": [
    "def benchmarkN(prior, N, max_epochs = 395, n_eps = 10):\n",
    "    results = pd.DataFrame()\n",
    "    for i in range(N):\n",
    "        bmi = getBenchmarkResultsEpochs(adata,\"models/\"+ f\"{prior}t{i}/\",400,10)\n",
    "        benchmark_resultsi = bmi.get_results(min_max_scale=False)\n",
    "        metrics = benchmark_resultsi.keys()\n",
    "        for k in range(3):\n",
    "            metrics_results = []\n",
    "            for j in range(int(max_epochs/n_eps)):\n",
    "                metrics_results.append(benchmark_resultsi[metrics[k]][f\"scVIepoch={n_eps*j+n_eps-1}\"])\n",
    "            results[f\"{prior}{metrics[k]}{i}\"] = metrics_results\n",
    "    results.set_index(np.linspace(n_eps-1,max_epochs-1, int(max_epochs/n_eps)))\n",
    "    return results  \n"
   ]
  },
  {
   "cell_type": "code",
   "execution_count": 7,
   "metadata": {},
   "outputs": [
    {
     "name": "stdout",
     "output_type": "stream",
     "text": [
      "\u001b[34mINFO    \u001b[0m File models/sdnormalt0/\u001b[33mepoch\u001b[0m=\u001b[1;36m9\u001b[0m/model.pt already downloaded                                                \n"
     ]
    },
    {
     "name": "stderr",
     "output_type": "stream",
     "text": [
      "INFO:jax._src.xla_bridge:Unable to initialize backend 'cuda': module 'jaxlib.xla_extension' has no attribute 'GpuAllocatorConfig'\n",
      "INFO:jax._src.xla_bridge:Unable to initialize backend 'rocm': module 'jaxlib.xla_extension' has no attribute 'GpuAllocatorConfig'\n",
      "INFO:jax._src.xla_bridge:Unable to initialize backend 'tpu': INVALID_ARGUMENT: TpuPlatform is not available.\n",
      "WARNING:jax._src.xla_bridge:No GPU/TPU found, falling back to CPU. (Set TF_CPP_MIN_LOG_LEVEL=0 and rerun for more info.)\n"
     ]
    },
    {
     "name": "stdout",
     "output_type": "stream",
     "text": [
      "\u001b[34mINFO    \u001b[0m File models/sdnormalt0/\u001b[33mepoch\u001b[0m=\u001b[1;36m19\u001b[0m/model.pt already downloaded                                               \n",
      "\u001b[34mINFO    \u001b[0m File models/sdnormalt0/\u001b[33mepoch\u001b[0m=\u001b[1;36m29\u001b[0m/model.pt already downloaded                                               \n",
      "\u001b[34mINFO    \u001b[0m File models/sdnormalt0/\u001b[33mepoch\u001b[0m=\u001b[1;36m39\u001b[0m/model.pt already downloaded                                               \n",
      "\u001b[34mINFO    \u001b[0m File models/sdnormalt0/\u001b[33mepoch\u001b[0m=\u001b[1;36m49\u001b[0m/model.pt already downloaded                                               \n",
      "\u001b[34mINFO    \u001b[0m File models/sdnormalt0/\u001b[33mepoch\u001b[0m=\u001b[1;36m59\u001b[0m/model.pt already downloaded                                               \n",
      "\u001b[34mINFO    \u001b[0m File models/sdnormalt0/\u001b[33mepoch\u001b[0m=\u001b[1;36m69\u001b[0m/model.pt already downloaded                                               \n",
      "\u001b[34mINFO    \u001b[0m File models/sdnormalt0/\u001b[33mepoch\u001b[0m=\u001b[1;36m79\u001b[0m/model.pt already downloaded                                               \n",
      "\u001b[34mINFO    \u001b[0m File models/sdnormalt0/\u001b[33mepoch\u001b[0m=\u001b[1;36m89\u001b[0m/model.pt already downloaded                                               \n",
      "\u001b[34mINFO    \u001b[0m File models/sdnormalt0/\u001b[33mepoch\u001b[0m=\u001b[1;36m99\u001b[0m/model.pt already downloaded                                               \n",
      "\u001b[34mINFO    \u001b[0m File models/sdnormalt0/\u001b[33mepoch\u001b[0m=\u001b[1;36m109\u001b[0m/model.pt already downloaded                                              \n",
      "\u001b[34mINFO    \u001b[0m File models/sdnormalt0/\u001b[33mepoch\u001b[0m=\u001b[1;36m119\u001b[0m/model.pt already downloaded                                              \n",
      "\u001b[34mINFO    \u001b[0m File models/sdnormalt0/\u001b[33mepoch\u001b[0m=\u001b[1;36m129\u001b[0m/model.pt already downloaded                                              \n",
      "\u001b[34mINFO    \u001b[0m File models/sdnormalt0/\u001b[33mepoch\u001b[0m=\u001b[1;36m139\u001b[0m/model.pt already downloaded                                              \n",
      "\u001b[34mINFO    \u001b[0m File models/sdnormalt0/\u001b[33mepoch\u001b[0m=\u001b[1;36m149\u001b[0m/model.pt already downloaded                                              \n",
      "\u001b[34mINFO    \u001b[0m File models/sdnormalt0/\u001b[33mepoch\u001b[0m=\u001b[1;36m159\u001b[0m/model.pt already downloaded                                              \n",
      "\u001b[34mINFO    \u001b[0m File models/sdnormalt0/\u001b[33mepoch\u001b[0m=\u001b[1;36m169\u001b[0m/model.pt already downloaded                                              \n",
      "\u001b[34mINFO    \u001b[0m File models/sdnormalt0/\u001b[33mepoch\u001b[0m=\u001b[1;36m179\u001b[0m/model.pt already downloaded                                              \n",
      "\u001b[34mINFO    \u001b[0m File models/sdnormalt0/\u001b[33mepoch\u001b[0m=\u001b[1;36m189\u001b[0m/model.pt already downloaded                                              \n",
      "\u001b[34mINFO    \u001b[0m File models/sdnormalt0/\u001b[33mepoch\u001b[0m=\u001b[1;36m199\u001b[0m/model.pt already downloaded                                              \n",
      "\u001b[34mINFO    \u001b[0m File models/sdnormalt0/\u001b[33mepoch\u001b[0m=\u001b[1;36m209\u001b[0m/model.pt already downloaded                                              \n",
      "\u001b[34mINFO    \u001b[0m File models/sdnormalt0/\u001b[33mepoch\u001b[0m=\u001b[1;36m219\u001b[0m/model.pt already downloaded                                              \n",
      "\u001b[34mINFO    \u001b[0m File models/sdnormalt0/\u001b[33mepoch\u001b[0m=\u001b[1;36m229\u001b[0m/model.pt already downloaded                                              \n",
      "\u001b[34mINFO    \u001b[0m File models/sdnormalt0/\u001b[33mepoch\u001b[0m=\u001b[1;36m239\u001b[0m/model.pt already downloaded                                              \n",
      "\u001b[34mINFO    \u001b[0m File models/sdnormalt0/\u001b[33mepoch\u001b[0m=\u001b[1;36m249\u001b[0m/model.pt already downloaded                                              \n",
      "\u001b[34mINFO    \u001b[0m File models/sdnormalt0/\u001b[33mepoch\u001b[0m=\u001b[1;36m259\u001b[0m/model.pt already downloaded                                              \n",
      "\u001b[34mINFO    \u001b[0m File models/sdnormalt0/\u001b[33mepoch\u001b[0m=\u001b[1;36m269\u001b[0m/model.pt already downloaded                                              \n",
      "\u001b[34mINFO    \u001b[0m File models/sdnormalt0/\u001b[33mepoch\u001b[0m=\u001b[1;36m279\u001b[0m/model.pt already downloaded                                              \n",
      "\u001b[34mINFO    \u001b[0m File models/sdnormalt0/\u001b[33mepoch\u001b[0m=\u001b[1;36m289\u001b[0m/model.pt already downloaded                                              \n",
      "\u001b[34mINFO    \u001b[0m File models/sdnormalt0/\u001b[33mepoch\u001b[0m=\u001b[1;36m299\u001b[0m/model.pt already downloaded                                              \n",
      "\u001b[34mINFO    \u001b[0m File models/sdnormalt0/\u001b[33mepoch\u001b[0m=\u001b[1;36m309\u001b[0m/model.pt already downloaded                                              \n",
      "\u001b[34mINFO    \u001b[0m File models/sdnormalt0/\u001b[33mepoch\u001b[0m=\u001b[1;36m319\u001b[0m/model.pt already downloaded                                              \n",
      "\u001b[34mINFO    \u001b[0m File models/sdnormalt0/\u001b[33mepoch\u001b[0m=\u001b[1;36m329\u001b[0m/model.pt already downloaded                                              \n",
      "\u001b[34mINFO    \u001b[0m File models/sdnormalt0/\u001b[33mepoch\u001b[0m=\u001b[1;36m339\u001b[0m/model.pt already downloaded                                              \n",
      "\u001b[34mINFO    \u001b[0m File models/sdnormalt0/\u001b[33mepoch\u001b[0m=\u001b[1;36m349\u001b[0m/model.pt already downloaded                                              \n",
      "\u001b[34mINFO    \u001b[0m File models/sdnormalt0/\u001b[33mepoch\u001b[0m=\u001b[1;36m359\u001b[0m/model.pt already downloaded                                              \n",
      "\u001b[34mINFO    \u001b[0m File models/sdnormalt0/\u001b[33mepoch\u001b[0m=\u001b[1;36m369\u001b[0m/model.pt already downloaded                                              \n",
      "\u001b[34mINFO    \u001b[0m File models/sdnormalt0/\u001b[33mepoch\u001b[0m=\u001b[1;36m379\u001b[0m/model.pt already downloaded                                              \n",
      "\u001b[34mINFO    \u001b[0m File models/sdnormalt0/\u001b[33mepoch\u001b[0m=\u001b[1;36m389\u001b[0m/model.pt already downloaded                                              \n"
     ]
    },
    {
     "name": "stderr",
     "output_type": "stream",
     "text": [
      "Computing neighbors: 100%|██████████| 39/39 [21:46<00:00, 33.50s/it]\n",
      "Embeddings:  28%|\u001b[32m██▊       \u001b[0m| 11/39 [04:58<12:06, 25.94s/it]"
     ]
    },
    {
     "name": "stdout",
     "output_type": "stream",
     "text": [
      "\u001b[34mINFO    \u001b[0m Diffusion distance failed. Skip.                                                                          \n"
     ]
    },
    {
     "name": "stderr",
     "output_type": "stream",
     "text": [
      "Embeddings: 100%|\u001b[32m██████████\u001b[0m| 39/39 [16:29<00:00, 25.37s/it]\n"
     ]
    },
    {
     "name": "stdout",
     "output_type": "stream",
     "text": [
      "\u001b[34mINFO    \u001b[0m File models/sdnormalt1/\u001b[33mepoch\u001b[0m=\u001b[1;36m9\u001b[0m/model.pt already downloaded                                                \n",
      "\u001b[34mINFO    \u001b[0m File models/sdnormalt1/\u001b[33mepoch\u001b[0m=\u001b[1;36m19\u001b[0m/model.pt already downloaded                                               \n",
      "\u001b[34mINFO    \u001b[0m File models/sdnormalt1/\u001b[33mepoch\u001b[0m=\u001b[1;36m29\u001b[0m/model.pt already downloaded                                               \n",
      "\u001b[34mINFO    \u001b[0m File models/sdnormalt1/\u001b[33mepoch\u001b[0m=\u001b[1;36m39\u001b[0m/model.pt already downloaded                                               \n",
      "\u001b[34mINFO    \u001b[0m File models/sdnormalt1/\u001b[33mepoch\u001b[0m=\u001b[1;36m49\u001b[0m/model.pt already downloaded                                               \n",
      "\u001b[34mINFO    \u001b[0m File models/sdnormalt1/\u001b[33mepoch\u001b[0m=\u001b[1;36m59\u001b[0m/model.pt already downloaded                                               \n",
      "\u001b[34mINFO    \u001b[0m File models/sdnormalt1/\u001b[33mepoch\u001b[0m=\u001b[1;36m69\u001b[0m/model.pt already downloaded                                               \n",
      "\u001b[34mINFO    \u001b[0m File models/sdnormalt1/\u001b[33mepoch\u001b[0m=\u001b[1;36m79\u001b[0m/model.pt already downloaded                                               \n",
      "\u001b[34mINFO    \u001b[0m File models/sdnormalt1/\u001b[33mepoch\u001b[0m=\u001b[1;36m89\u001b[0m/model.pt already downloaded                                               \n",
      "\u001b[34mINFO    \u001b[0m File models/sdnormalt1/\u001b[33mepoch\u001b[0m=\u001b[1;36m99\u001b[0m/model.pt already downloaded                                               \n",
      "\u001b[34mINFO    \u001b[0m File models/sdnormalt1/\u001b[33mepoch\u001b[0m=\u001b[1;36m109\u001b[0m/model.pt already downloaded                                              \n",
      "\u001b[34mINFO    \u001b[0m File models/sdnormalt1/\u001b[33mepoch\u001b[0m=\u001b[1;36m119\u001b[0m/model.pt already downloaded                                              \n",
      "\u001b[34mINFO    \u001b[0m File models/sdnormalt1/\u001b[33mepoch\u001b[0m=\u001b[1;36m129\u001b[0m/model.pt already downloaded                                              \n",
      "\u001b[34mINFO    \u001b[0m File models/sdnormalt1/\u001b[33mepoch\u001b[0m=\u001b[1;36m139\u001b[0m/model.pt already downloaded                                              \n",
      "\u001b[34mINFO    \u001b[0m File models/sdnormalt1/\u001b[33mepoch\u001b[0m=\u001b[1;36m149\u001b[0m/model.pt already downloaded                                              \n",
      "\u001b[34mINFO    \u001b[0m File models/sdnormalt1/\u001b[33mepoch\u001b[0m=\u001b[1;36m159\u001b[0m/model.pt already downloaded                                              \n",
      "\u001b[34mINFO    \u001b[0m File models/sdnormalt1/\u001b[33mepoch\u001b[0m=\u001b[1;36m169\u001b[0m/model.pt already downloaded                                              \n",
      "\u001b[34mINFO    \u001b[0m File models/sdnormalt1/\u001b[33mepoch\u001b[0m=\u001b[1;36m179\u001b[0m/model.pt already downloaded                                              \n",
      "\u001b[34mINFO    \u001b[0m File models/sdnormalt1/\u001b[33mepoch\u001b[0m=\u001b[1;36m189\u001b[0m/model.pt already downloaded                                              \n",
      "\u001b[34mINFO    \u001b[0m File models/sdnormalt1/\u001b[33mepoch\u001b[0m=\u001b[1;36m199\u001b[0m/model.pt already downloaded                                              \n",
      "\u001b[34mINFO    \u001b[0m File models/sdnormalt1/\u001b[33mepoch\u001b[0m=\u001b[1;36m209\u001b[0m/model.pt already downloaded                                              \n",
      "\u001b[34mINFO    \u001b[0m File models/sdnormalt1/\u001b[33mepoch\u001b[0m=\u001b[1;36m219\u001b[0m/model.pt already downloaded                                              \n",
      "\u001b[34mINFO    \u001b[0m File models/sdnormalt1/\u001b[33mepoch\u001b[0m=\u001b[1;36m229\u001b[0m/model.pt already downloaded                                              \n",
      "\u001b[34mINFO    \u001b[0m File models/sdnormalt1/\u001b[33mepoch\u001b[0m=\u001b[1;36m239\u001b[0m/model.pt already downloaded                                              \n",
      "\u001b[34mINFO    \u001b[0m File models/sdnormalt1/\u001b[33mepoch\u001b[0m=\u001b[1;36m249\u001b[0m/model.pt already downloaded                                              \n",
      "\u001b[34mINFO    \u001b[0m File models/sdnormalt1/\u001b[33mepoch\u001b[0m=\u001b[1;36m259\u001b[0m/model.pt already downloaded                                              \n",
      "\u001b[34mINFO    \u001b[0m File models/sdnormalt1/\u001b[33mepoch\u001b[0m=\u001b[1;36m269\u001b[0m/model.pt already downloaded                                              \n",
      "\u001b[34mINFO    \u001b[0m File models/sdnormalt1/\u001b[33mepoch\u001b[0m=\u001b[1;36m279\u001b[0m/model.pt already downloaded                                              \n",
      "\u001b[34mINFO    \u001b[0m File models/sdnormalt1/\u001b[33mepoch\u001b[0m=\u001b[1;36m289\u001b[0m/model.pt already downloaded                                              \n",
      "\u001b[34mINFO    \u001b[0m File models/sdnormalt1/\u001b[33mepoch\u001b[0m=\u001b[1;36m299\u001b[0m/model.pt already downloaded                                              \n",
      "\u001b[34mINFO    \u001b[0m File models/sdnormalt1/\u001b[33mepoch\u001b[0m=\u001b[1;36m309\u001b[0m/model.pt already downloaded                                              \n",
      "\u001b[34mINFO    \u001b[0m File models/sdnormalt1/\u001b[33mepoch\u001b[0m=\u001b[1;36m319\u001b[0m/model.pt already downloaded                                              \n",
      "\u001b[34mINFO    \u001b[0m File models/sdnormalt1/\u001b[33mepoch\u001b[0m=\u001b[1;36m329\u001b[0m/model.pt already downloaded                                              \n",
      "\u001b[34mINFO    \u001b[0m File models/sdnormalt1/\u001b[33mepoch\u001b[0m=\u001b[1;36m339\u001b[0m/model.pt already downloaded                                              \n",
      "\u001b[34mINFO    \u001b[0m File models/sdnormalt1/\u001b[33mepoch\u001b[0m=\u001b[1;36m349\u001b[0m/model.pt already downloaded                                              \n",
      "\u001b[34mINFO    \u001b[0m File models/sdnormalt1/\u001b[33mepoch\u001b[0m=\u001b[1;36m359\u001b[0m/model.pt already downloaded                                              \n",
      "\u001b[34mINFO    \u001b[0m File models/sdnormalt1/\u001b[33mepoch\u001b[0m=\u001b[1;36m369\u001b[0m/model.pt already downloaded                                              \n",
      "\u001b[34mINFO    \u001b[0m File models/sdnormalt1/\u001b[33mepoch\u001b[0m=\u001b[1;36m379\u001b[0m/model.pt already downloaded                                              \n",
      "\u001b[34mINFO    \u001b[0m File models/sdnormalt1/\u001b[33mepoch\u001b[0m=\u001b[1;36m389\u001b[0m/model.pt already downloaded                                              \n"
     ]
    },
    {
     "name": "stderr",
     "output_type": "stream",
     "text": [
      "Computing neighbors: 100%|██████████| 39/39 [21:22<00:00, 32.88s/it]\n",
      "Embeddings: 100%|\u001b[32m██████████\u001b[0m| 39/39 [15:48<00:00, 24.31s/it]\n"
     ]
    },
    {
     "name": "stdout",
     "output_type": "stream",
     "text": [
      "\u001b[34mINFO    \u001b[0m File models/sdnormalt2/\u001b[33mepoch\u001b[0m=\u001b[1;36m9\u001b[0m/model.pt already downloaded                                                \n",
      "\u001b[34mINFO    \u001b[0m File models/sdnormalt2/\u001b[33mepoch\u001b[0m=\u001b[1;36m19\u001b[0m/model.pt already downloaded                                               \n",
      "\u001b[34mINFO    \u001b[0m File models/sdnormalt2/\u001b[33mepoch\u001b[0m=\u001b[1;36m29\u001b[0m/model.pt already downloaded                                               \n",
      "\u001b[34mINFO    \u001b[0m File models/sdnormalt2/\u001b[33mepoch\u001b[0m=\u001b[1;36m39\u001b[0m/model.pt already downloaded                                               \n",
      "\u001b[34mINFO    \u001b[0m File models/sdnormalt2/\u001b[33mepoch\u001b[0m=\u001b[1;36m49\u001b[0m/model.pt already downloaded                                               \n",
      "\u001b[34mINFO    \u001b[0m File models/sdnormalt2/\u001b[33mepoch\u001b[0m=\u001b[1;36m59\u001b[0m/model.pt already downloaded                                               \n",
      "\u001b[34mINFO    \u001b[0m File models/sdnormalt2/\u001b[33mepoch\u001b[0m=\u001b[1;36m69\u001b[0m/model.pt already downloaded                                               \n",
      "\u001b[34mINFO    \u001b[0m File models/sdnormalt2/\u001b[33mepoch\u001b[0m=\u001b[1;36m79\u001b[0m/model.pt already downloaded                                               \n",
      "\u001b[34mINFO    \u001b[0m File models/sdnormalt2/\u001b[33mepoch\u001b[0m=\u001b[1;36m89\u001b[0m/model.pt already downloaded                                               \n",
      "\u001b[34mINFO    \u001b[0m File models/sdnormalt2/\u001b[33mepoch\u001b[0m=\u001b[1;36m99\u001b[0m/model.pt already downloaded                                               \n",
      "\u001b[34mINFO    \u001b[0m File models/sdnormalt2/\u001b[33mepoch\u001b[0m=\u001b[1;36m109\u001b[0m/model.pt already downloaded                                              \n",
      "\u001b[34mINFO    \u001b[0m File models/sdnormalt2/\u001b[33mepoch\u001b[0m=\u001b[1;36m119\u001b[0m/model.pt already downloaded                                              \n",
      "\u001b[34mINFO    \u001b[0m File models/sdnormalt2/\u001b[33mepoch\u001b[0m=\u001b[1;36m129\u001b[0m/model.pt already downloaded                                              \n",
      "\u001b[34mINFO    \u001b[0m File models/sdnormalt2/\u001b[33mepoch\u001b[0m=\u001b[1;36m139\u001b[0m/model.pt already downloaded                                              \n",
      "\u001b[34mINFO    \u001b[0m File models/sdnormalt2/\u001b[33mepoch\u001b[0m=\u001b[1;36m149\u001b[0m/model.pt already downloaded                                              \n",
      "\u001b[34mINFO    \u001b[0m File models/sdnormalt2/\u001b[33mepoch\u001b[0m=\u001b[1;36m159\u001b[0m/model.pt already downloaded                                              \n",
      "\u001b[34mINFO    \u001b[0m File models/sdnormalt2/\u001b[33mepoch\u001b[0m=\u001b[1;36m169\u001b[0m/model.pt already downloaded                                              \n",
      "\u001b[34mINFO    \u001b[0m File models/sdnormalt2/\u001b[33mepoch\u001b[0m=\u001b[1;36m179\u001b[0m/model.pt already downloaded                                              \n",
      "\u001b[34mINFO    \u001b[0m File models/sdnormalt2/\u001b[33mepoch\u001b[0m=\u001b[1;36m189\u001b[0m/model.pt already downloaded                                              \n",
      "\u001b[34mINFO    \u001b[0m File models/sdnormalt2/\u001b[33mepoch\u001b[0m=\u001b[1;36m199\u001b[0m/model.pt already downloaded                                              \n",
      "\u001b[34mINFO    \u001b[0m File models/sdnormalt2/\u001b[33mepoch\u001b[0m=\u001b[1;36m209\u001b[0m/model.pt already downloaded                                              \n",
      "\u001b[34mINFO    \u001b[0m File models/sdnormalt2/\u001b[33mepoch\u001b[0m=\u001b[1;36m219\u001b[0m/model.pt already downloaded                                              \n",
      "\u001b[34mINFO    \u001b[0m File models/sdnormalt2/\u001b[33mepoch\u001b[0m=\u001b[1;36m229\u001b[0m/model.pt already downloaded                                              \n",
      "\u001b[34mINFO    \u001b[0m File models/sdnormalt2/\u001b[33mepoch\u001b[0m=\u001b[1;36m239\u001b[0m/model.pt already downloaded                                              \n",
      "\u001b[34mINFO    \u001b[0m File models/sdnormalt2/\u001b[33mepoch\u001b[0m=\u001b[1;36m249\u001b[0m/model.pt already downloaded                                              \n",
      "\u001b[34mINFO    \u001b[0m File models/sdnormalt2/\u001b[33mepoch\u001b[0m=\u001b[1;36m259\u001b[0m/model.pt already downloaded                                              \n",
      "\u001b[34mINFO    \u001b[0m File models/sdnormalt2/\u001b[33mepoch\u001b[0m=\u001b[1;36m269\u001b[0m/model.pt already downloaded                                              \n",
      "\u001b[34mINFO    \u001b[0m File models/sdnormalt2/\u001b[33mepoch\u001b[0m=\u001b[1;36m279\u001b[0m/model.pt already downloaded                                              \n",
      "\u001b[34mINFO    \u001b[0m File models/sdnormalt2/\u001b[33mepoch\u001b[0m=\u001b[1;36m289\u001b[0m/model.pt already downloaded                                              \n",
      "\u001b[34mINFO    \u001b[0m File models/sdnormalt2/\u001b[33mepoch\u001b[0m=\u001b[1;36m299\u001b[0m/model.pt already downloaded                                              \n",
      "\u001b[34mINFO    \u001b[0m File models/sdnormalt2/\u001b[33mepoch\u001b[0m=\u001b[1;36m309\u001b[0m/model.pt already downloaded                                              \n",
      "\u001b[34mINFO    \u001b[0m File models/sdnormalt2/\u001b[33mepoch\u001b[0m=\u001b[1;36m319\u001b[0m/model.pt already downloaded                                              \n",
      "\u001b[34mINFO    \u001b[0m File models/sdnormalt2/\u001b[33mepoch\u001b[0m=\u001b[1;36m329\u001b[0m/model.pt already downloaded                                              \n",
      "\u001b[34mINFO    \u001b[0m File models/sdnormalt2/\u001b[33mepoch\u001b[0m=\u001b[1;36m339\u001b[0m/model.pt already downloaded                                              \n",
      "\u001b[34mINFO    \u001b[0m File models/sdnormalt2/\u001b[33mepoch\u001b[0m=\u001b[1;36m349\u001b[0m/model.pt already downloaded                                              \n",
      "\u001b[34mINFO    \u001b[0m File models/sdnormalt2/\u001b[33mepoch\u001b[0m=\u001b[1;36m359\u001b[0m/model.pt already downloaded                                              \n",
      "\u001b[34mINFO    \u001b[0m File models/sdnormalt2/\u001b[33mepoch\u001b[0m=\u001b[1;36m369\u001b[0m/model.pt already downloaded                                              \n",
      "\u001b[34mINFO    \u001b[0m File models/sdnormalt2/\u001b[33mepoch\u001b[0m=\u001b[1;36m379\u001b[0m/model.pt already downloaded                                              \n",
      "\u001b[34mINFO    \u001b[0m File models/sdnormalt2/\u001b[33mepoch\u001b[0m=\u001b[1;36m389\u001b[0m/model.pt already downloaded                                              \n"
     ]
    },
    {
     "name": "stderr",
     "output_type": "stream",
     "text": [
      "Computing neighbors: 100%|██████████| 39/39 [21:51<00:00, 33.64s/it]\n",
      "Embeddings:  38%|\u001b[32m███▊      \u001b[0m| 15/39 [05:16<08:38, 21.59s/it]"
     ]
    },
    {
     "name": "stdout",
     "output_type": "stream",
     "text": [
      "\u001b[34mINFO    \u001b[0m Diffusion distance failed. Skip.                                                                          \n"
     ]
    },
    {
     "name": "stderr",
     "output_type": "stream",
     "text": [
      "Embeddings: 100%|\u001b[32m██████████\u001b[0m| 39/39 [13:29<00:00, 20.76s/it]\n"
     ]
    },
    {
     "name": "stdout",
     "output_type": "stream",
     "text": [
      "\u001b[34mINFO    \u001b[0m File models/sdnormalt3/\u001b[33mepoch\u001b[0m=\u001b[1;36m9\u001b[0m/model.pt already downloaded                                                \n",
      "\u001b[34mINFO    \u001b[0m File models/sdnormalt3/\u001b[33mepoch\u001b[0m=\u001b[1;36m19\u001b[0m/model.pt already downloaded                                               \n",
      "\u001b[34mINFO    \u001b[0m File models/sdnormalt3/\u001b[33mepoch\u001b[0m=\u001b[1;36m29\u001b[0m/model.pt already downloaded                                               \n",
      "\u001b[34mINFO    \u001b[0m File models/sdnormalt3/\u001b[33mepoch\u001b[0m=\u001b[1;36m39\u001b[0m/model.pt already downloaded                                               \n",
      "\u001b[34mINFO    \u001b[0m File models/sdnormalt3/\u001b[33mepoch\u001b[0m=\u001b[1;36m49\u001b[0m/model.pt already downloaded                                               \n",
      "\u001b[34mINFO    \u001b[0m File models/sdnormalt3/\u001b[33mepoch\u001b[0m=\u001b[1;36m59\u001b[0m/model.pt already downloaded                                               \n",
      "\u001b[34mINFO    \u001b[0m File models/sdnormalt3/\u001b[33mepoch\u001b[0m=\u001b[1;36m69\u001b[0m/model.pt already downloaded                                               \n",
      "\u001b[34mINFO    \u001b[0m File models/sdnormalt3/\u001b[33mepoch\u001b[0m=\u001b[1;36m79\u001b[0m/model.pt already downloaded                                               \n",
      "\u001b[34mINFO    \u001b[0m File models/sdnormalt3/\u001b[33mepoch\u001b[0m=\u001b[1;36m89\u001b[0m/model.pt already downloaded                                               \n",
      "\u001b[34mINFO    \u001b[0m File models/sdnormalt3/\u001b[33mepoch\u001b[0m=\u001b[1;36m99\u001b[0m/model.pt already downloaded                                               \n",
      "\u001b[34mINFO    \u001b[0m File models/sdnormalt3/\u001b[33mepoch\u001b[0m=\u001b[1;36m109\u001b[0m/model.pt already downloaded                                              \n",
      "\u001b[34mINFO    \u001b[0m File models/sdnormalt3/\u001b[33mepoch\u001b[0m=\u001b[1;36m119\u001b[0m/model.pt already downloaded                                              \n",
      "\u001b[34mINFO    \u001b[0m File models/sdnormalt3/\u001b[33mepoch\u001b[0m=\u001b[1;36m129\u001b[0m/model.pt already downloaded                                              \n",
      "\u001b[34mINFO    \u001b[0m File models/sdnormalt3/\u001b[33mepoch\u001b[0m=\u001b[1;36m139\u001b[0m/model.pt already downloaded                                              \n",
      "\u001b[34mINFO    \u001b[0m File models/sdnormalt3/\u001b[33mepoch\u001b[0m=\u001b[1;36m149\u001b[0m/model.pt already downloaded                                              \n",
      "\u001b[34mINFO    \u001b[0m File models/sdnormalt3/\u001b[33mepoch\u001b[0m=\u001b[1;36m159\u001b[0m/model.pt already downloaded                                              \n",
      "\u001b[34mINFO    \u001b[0m File models/sdnormalt3/\u001b[33mepoch\u001b[0m=\u001b[1;36m169\u001b[0m/model.pt already downloaded                                              \n",
      "\u001b[34mINFO    \u001b[0m File models/sdnormalt3/\u001b[33mepoch\u001b[0m=\u001b[1;36m179\u001b[0m/model.pt already downloaded                                              \n",
      "\u001b[34mINFO    \u001b[0m File models/sdnormalt3/\u001b[33mepoch\u001b[0m=\u001b[1;36m189\u001b[0m/model.pt already downloaded                                              \n",
      "\u001b[34mINFO    \u001b[0m File models/sdnormalt3/\u001b[33mepoch\u001b[0m=\u001b[1;36m199\u001b[0m/model.pt already downloaded                                              \n",
      "\u001b[34mINFO    \u001b[0m File models/sdnormalt3/\u001b[33mepoch\u001b[0m=\u001b[1;36m209\u001b[0m/model.pt already downloaded                                              \n",
      "\u001b[34mINFO    \u001b[0m File models/sdnormalt3/\u001b[33mepoch\u001b[0m=\u001b[1;36m219\u001b[0m/model.pt already downloaded                                              \n",
      "\u001b[34mINFO    \u001b[0m File models/sdnormalt3/\u001b[33mepoch\u001b[0m=\u001b[1;36m229\u001b[0m/model.pt already downloaded                                              \n",
      "\u001b[34mINFO    \u001b[0m File models/sdnormalt3/\u001b[33mepoch\u001b[0m=\u001b[1;36m239\u001b[0m/model.pt already downloaded                                              \n",
      "\u001b[34mINFO    \u001b[0m File models/sdnormalt3/\u001b[33mepoch\u001b[0m=\u001b[1;36m249\u001b[0m/model.pt already downloaded                                              \n",
      "\u001b[34mINFO    \u001b[0m File models/sdnormalt3/\u001b[33mepoch\u001b[0m=\u001b[1;36m259\u001b[0m/model.pt already downloaded                                              \n",
      "\u001b[34mINFO    \u001b[0m File models/sdnormalt3/\u001b[33mepoch\u001b[0m=\u001b[1;36m269\u001b[0m/model.pt already downloaded                                              \n",
      "\u001b[34mINFO    \u001b[0m File models/sdnormalt3/\u001b[33mepoch\u001b[0m=\u001b[1;36m279\u001b[0m/model.pt already downloaded                                              \n",
      "\u001b[34mINFO    \u001b[0m File models/sdnormalt3/\u001b[33mepoch\u001b[0m=\u001b[1;36m289\u001b[0m/model.pt already downloaded                                              \n",
      "\u001b[34mINFO    \u001b[0m File models/sdnormalt3/\u001b[33mepoch\u001b[0m=\u001b[1;36m299\u001b[0m/model.pt already downloaded                                              \n",
      "\u001b[34mINFO    \u001b[0m File models/sdnormalt3/\u001b[33mepoch\u001b[0m=\u001b[1;36m309\u001b[0m/model.pt already downloaded                                              \n",
      "\u001b[34mINFO    \u001b[0m File models/sdnormalt3/\u001b[33mepoch\u001b[0m=\u001b[1;36m319\u001b[0m/model.pt already downloaded                                              \n",
      "\u001b[34mINFO    \u001b[0m File models/sdnormalt3/\u001b[33mepoch\u001b[0m=\u001b[1;36m329\u001b[0m/model.pt already downloaded                                              \n",
      "\u001b[34mINFO    \u001b[0m File models/sdnormalt3/\u001b[33mepoch\u001b[0m=\u001b[1;36m339\u001b[0m/model.pt already downloaded                                              \n",
      "\u001b[34mINFO    \u001b[0m File models/sdnormalt3/\u001b[33mepoch\u001b[0m=\u001b[1;36m349\u001b[0m/model.pt already downloaded                                              \n",
      "\u001b[34mINFO    \u001b[0m File models/sdnormalt3/\u001b[33mepoch\u001b[0m=\u001b[1;36m359\u001b[0m/model.pt already downloaded                                              \n",
      "\u001b[34mINFO    \u001b[0m File models/sdnormalt3/\u001b[33mepoch\u001b[0m=\u001b[1;36m369\u001b[0m/model.pt already downloaded                                              \n",
      "\u001b[34mINFO    \u001b[0m File models/sdnormalt3/\u001b[33mepoch\u001b[0m=\u001b[1;36m379\u001b[0m/model.pt already downloaded                                              \n",
      "\u001b[34mINFO    \u001b[0m File models/sdnormalt3/\u001b[33mepoch\u001b[0m=\u001b[1;36m389\u001b[0m/model.pt already downloaded                                              \n"
     ]
    },
    {
     "name": "stderr",
     "output_type": "stream",
     "text": [
      "Computing neighbors: 100%|██████████| 39/39 [21:24<00:00, 32.94s/it]\n",
      "Embeddings: 100%|\u001b[32m██████████\u001b[0m| 39/39 [10:14<00:00, 15.76s/it]\n"
     ]
    },
    {
     "name": "stdout",
     "output_type": "stream",
     "text": [
      "\u001b[34mINFO    \u001b[0m File models/sdnormalt4/\u001b[33mepoch\u001b[0m=\u001b[1;36m9\u001b[0m/model.pt already downloaded                                                \n",
      "\u001b[34mINFO    \u001b[0m File models/sdnormalt4/\u001b[33mepoch\u001b[0m=\u001b[1;36m19\u001b[0m/model.pt already downloaded                                               \n",
      "\u001b[34mINFO    \u001b[0m File models/sdnormalt4/\u001b[33mepoch\u001b[0m=\u001b[1;36m29\u001b[0m/model.pt already downloaded                                               \n",
      "\u001b[34mINFO    \u001b[0m File models/sdnormalt4/\u001b[33mepoch\u001b[0m=\u001b[1;36m39\u001b[0m/model.pt already downloaded                                               \n",
      "\u001b[34mINFO    \u001b[0m File models/sdnormalt4/\u001b[33mepoch\u001b[0m=\u001b[1;36m49\u001b[0m/model.pt already downloaded                                               \n",
      "\u001b[34mINFO    \u001b[0m File models/sdnormalt4/\u001b[33mepoch\u001b[0m=\u001b[1;36m59\u001b[0m/model.pt already downloaded                                               \n",
      "\u001b[34mINFO    \u001b[0m File models/sdnormalt4/\u001b[33mepoch\u001b[0m=\u001b[1;36m69\u001b[0m/model.pt already downloaded                                               \n",
      "\u001b[34mINFO    \u001b[0m File models/sdnormalt4/\u001b[33mepoch\u001b[0m=\u001b[1;36m79\u001b[0m/model.pt already downloaded                                               \n",
      "\u001b[34mINFO    \u001b[0m File models/sdnormalt4/\u001b[33mepoch\u001b[0m=\u001b[1;36m89\u001b[0m/model.pt already downloaded                                               \n",
      "\u001b[34mINFO    \u001b[0m File models/sdnormalt4/\u001b[33mepoch\u001b[0m=\u001b[1;36m99\u001b[0m/model.pt already downloaded                                               \n",
      "\u001b[34mINFO    \u001b[0m File models/sdnormalt4/\u001b[33mepoch\u001b[0m=\u001b[1;36m109\u001b[0m/model.pt already downloaded                                              \n",
      "\u001b[34mINFO    \u001b[0m File models/sdnormalt4/\u001b[33mepoch\u001b[0m=\u001b[1;36m119\u001b[0m/model.pt already downloaded                                              \n",
      "\u001b[34mINFO    \u001b[0m File models/sdnormalt4/\u001b[33mepoch\u001b[0m=\u001b[1;36m129\u001b[0m/model.pt already downloaded                                              \n",
      "\u001b[34mINFO    \u001b[0m File models/sdnormalt4/\u001b[33mepoch\u001b[0m=\u001b[1;36m139\u001b[0m/model.pt already downloaded                                              \n",
      "\u001b[34mINFO    \u001b[0m File models/sdnormalt4/\u001b[33mepoch\u001b[0m=\u001b[1;36m149\u001b[0m/model.pt already downloaded                                              \n",
      "\u001b[34mINFO    \u001b[0m File models/sdnormalt4/\u001b[33mepoch\u001b[0m=\u001b[1;36m159\u001b[0m/model.pt already downloaded                                              \n",
      "\u001b[34mINFO    \u001b[0m File models/sdnormalt4/\u001b[33mepoch\u001b[0m=\u001b[1;36m169\u001b[0m/model.pt already downloaded                                              \n",
      "\u001b[34mINFO    \u001b[0m File models/sdnormalt4/\u001b[33mepoch\u001b[0m=\u001b[1;36m179\u001b[0m/model.pt already downloaded                                              \n",
      "\u001b[34mINFO    \u001b[0m File models/sdnormalt4/\u001b[33mepoch\u001b[0m=\u001b[1;36m189\u001b[0m/model.pt already downloaded                                              \n",
      "\u001b[34mINFO    \u001b[0m File models/sdnormalt4/\u001b[33mepoch\u001b[0m=\u001b[1;36m199\u001b[0m/model.pt already downloaded                                              \n",
      "\u001b[34mINFO    \u001b[0m File models/sdnormalt4/\u001b[33mepoch\u001b[0m=\u001b[1;36m209\u001b[0m/model.pt already downloaded                                              \n",
      "\u001b[34mINFO    \u001b[0m File models/sdnormalt4/\u001b[33mepoch\u001b[0m=\u001b[1;36m219\u001b[0m/model.pt already downloaded                                              \n",
      "\u001b[34mINFO    \u001b[0m File models/sdnormalt4/\u001b[33mepoch\u001b[0m=\u001b[1;36m229\u001b[0m/model.pt already downloaded                                              \n",
      "\u001b[34mINFO    \u001b[0m File models/sdnormalt4/\u001b[33mepoch\u001b[0m=\u001b[1;36m239\u001b[0m/model.pt already downloaded                                              \n",
      "\u001b[34mINFO    \u001b[0m File models/sdnormalt4/\u001b[33mepoch\u001b[0m=\u001b[1;36m249\u001b[0m/model.pt already downloaded                                              \n",
      "\u001b[34mINFO    \u001b[0m File models/sdnormalt4/\u001b[33mepoch\u001b[0m=\u001b[1;36m259\u001b[0m/model.pt already downloaded                                              \n",
      "\u001b[34mINFO    \u001b[0m File models/sdnormalt4/\u001b[33mepoch\u001b[0m=\u001b[1;36m269\u001b[0m/model.pt already downloaded                                              \n",
      "\u001b[34mINFO    \u001b[0m File models/sdnormalt4/\u001b[33mepoch\u001b[0m=\u001b[1;36m279\u001b[0m/model.pt already downloaded                                              \n",
      "\u001b[34mINFO    \u001b[0m File models/sdnormalt4/\u001b[33mepoch\u001b[0m=\u001b[1;36m289\u001b[0m/model.pt already downloaded                                              \n",
      "\u001b[34mINFO    \u001b[0m File models/sdnormalt4/\u001b[33mepoch\u001b[0m=\u001b[1;36m299\u001b[0m/model.pt already downloaded                                              \n",
      "\u001b[34mINFO    \u001b[0m File models/sdnormalt4/\u001b[33mepoch\u001b[0m=\u001b[1;36m309\u001b[0m/model.pt already downloaded                                              \n",
      "\u001b[34mINFO    \u001b[0m File models/sdnormalt4/\u001b[33mepoch\u001b[0m=\u001b[1;36m319\u001b[0m/model.pt already downloaded                                              \n",
      "\u001b[34mINFO    \u001b[0m File models/sdnormalt4/\u001b[33mepoch\u001b[0m=\u001b[1;36m329\u001b[0m/model.pt already downloaded                                              \n",
      "\u001b[34mINFO    \u001b[0m File models/sdnormalt4/\u001b[33mepoch\u001b[0m=\u001b[1;36m339\u001b[0m/model.pt already downloaded                                              \n",
      "\u001b[34mINFO    \u001b[0m File models/sdnormalt4/\u001b[33mepoch\u001b[0m=\u001b[1;36m349\u001b[0m/model.pt already downloaded                                              \n",
      "\u001b[34mINFO    \u001b[0m File models/sdnormalt4/\u001b[33mepoch\u001b[0m=\u001b[1;36m359\u001b[0m/model.pt already downloaded                                              \n",
      "\u001b[34mINFO    \u001b[0m File models/sdnormalt4/\u001b[33mepoch\u001b[0m=\u001b[1;36m369\u001b[0m/model.pt already downloaded                                              \n",
      "\u001b[34mINFO    \u001b[0m File models/sdnormalt4/\u001b[33mepoch\u001b[0m=\u001b[1;36m379\u001b[0m/model.pt already downloaded                                              \n",
      "\u001b[34mINFO    \u001b[0m File models/sdnormalt4/\u001b[33mepoch\u001b[0m=\u001b[1;36m389\u001b[0m/model.pt already downloaded                                              \n"
     ]
    },
    {
     "name": "stderr",
     "output_type": "stream",
     "text": [
      "Computing neighbors: 100%|██████████| 39/39 [19:44<00:00, 30.37s/it]\n",
      "Embeddings: 100%|\u001b[32m██████████\u001b[0m| 39/39 [10:17<00:00, 15.84s/it]\n"
     ]
    }
   ],
   "source": [
    "resultsSD = benchmarkN(\"sdnormal\", n)\n",
    "resultsSD.to_csv(\"results/result_SD.csv\")"
   ]
  },
  {
   "cell_type": "code",
   "execution_count": 8,
   "metadata": {},
   "outputs": [
    {
     "name": "stdout",
     "output_type": "stream",
     "text": [
      "\u001b[34mINFO    \u001b[0m File models/mixofgaust0/\u001b[33mepoch\u001b[0m=\u001b[1;36m9\u001b[0m/model.pt already downloaded                                               \n"
     ]
    },
    {
     "name": "stdout",
     "output_type": "stream",
     "text": [
      "\u001b[34mINFO    \u001b[0m File models/mixofgaust0/\u001b[33mepoch\u001b[0m=\u001b[1;36m19\u001b[0m/model.pt already downloaded                                              \n",
      "\u001b[34mINFO    \u001b[0m File models/mixofgaust0/\u001b[33mepoch\u001b[0m=\u001b[1;36m29\u001b[0m/model.pt already downloaded                                              \n",
      "\u001b[34mINFO    \u001b[0m File models/mixofgaust0/\u001b[33mepoch\u001b[0m=\u001b[1;36m39\u001b[0m/model.pt already downloaded                                              \n",
      "\u001b[34mINFO    \u001b[0m File models/mixofgaust0/\u001b[33mepoch\u001b[0m=\u001b[1;36m49\u001b[0m/model.pt already downloaded                                              \n",
      "\u001b[34mINFO    \u001b[0m File models/mixofgaust0/\u001b[33mepoch\u001b[0m=\u001b[1;36m59\u001b[0m/model.pt already downloaded                                              \n",
      "\u001b[34mINFO    \u001b[0m File models/mixofgaust0/\u001b[33mepoch\u001b[0m=\u001b[1;36m69\u001b[0m/model.pt already downloaded                                              \n",
      "\u001b[34mINFO    \u001b[0m File models/mixofgaust0/\u001b[33mepoch\u001b[0m=\u001b[1;36m79\u001b[0m/model.pt already downloaded                                              \n",
      "\u001b[34mINFO    \u001b[0m File models/mixofgaust0/\u001b[33mepoch\u001b[0m=\u001b[1;36m89\u001b[0m/model.pt already downloaded                                              \n",
      "\u001b[34mINFO    \u001b[0m File models/mixofgaust0/\u001b[33mepoch\u001b[0m=\u001b[1;36m99\u001b[0m/model.pt already downloaded                                              \n",
      "\u001b[34mINFO    \u001b[0m File models/mixofgaust0/\u001b[33mepoch\u001b[0m=\u001b[1;36m109\u001b[0m/model.pt already downloaded                                             \n",
      "\u001b[34mINFO    \u001b[0m File models/mixofgaust0/\u001b[33mepoch\u001b[0m=\u001b[1;36m119\u001b[0m/model.pt already downloaded                                             \n",
      "\u001b[34mINFO    \u001b[0m File models/mixofgaust0/\u001b[33mepoch\u001b[0m=\u001b[1;36m129\u001b[0m/model.pt already downloaded                                             \n",
      "\u001b[34mINFO    \u001b[0m File models/mixofgaust0/\u001b[33mepoch\u001b[0m=\u001b[1;36m139\u001b[0m/model.pt already downloaded                                             \n",
      "\u001b[34mINFO    \u001b[0m File models/mixofgaust0/\u001b[33mepoch\u001b[0m=\u001b[1;36m149\u001b[0m/model.pt already downloaded                                             \n",
      "\u001b[34mINFO    \u001b[0m File models/mixofgaust0/\u001b[33mepoch\u001b[0m=\u001b[1;36m159\u001b[0m/model.pt already downloaded                                             \n",
      "\u001b[34mINFO    \u001b[0m File models/mixofgaust0/\u001b[33mepoch\u001b[0m=\u001b[1;36m169\u001b[0m/model.pt already downloaded                                             \n",
      "\u001b[34mINFO    \u001b[0m File models/mixofgaust0/\u001b[33mepoch\u001b[0m=\u001b[1;36m179\u001b[0m/model.pt already downloaded                                             \n",
      "\u001b[34mINFO    \u001b[0m File models/mixofgaust0/\u001b[33mepoch\u001b[0m=\u001b[1;36m189\u001b[0m/model.pt already downloaded                                             \n",
      "\u001b[34mINFO    \u001b[0m File models/mixofgaust0/\u001b[33mepoch\u001b[0m=\u001b[1;36m199\u001b[0m/model.pt already downloaded                                             \n",
      "\u001b[34mINFO    \u001b[0m File models/mixofgaust0/\u001b[33mepoch\u001b[0m=\u001b[1;36m209\u001b[0m/model.pt already downloaded                                             \n",
      "\u001b[34mINFO    \u001b[0m File models/mixofgaust0/\u001b[33mepoch\u001b[0m=\u001b[1;36m219\u001b[0m/model.pt already downloaded                                             \n",
      "\u001b[34mINFO    \u001b[0m File models/mixofgaust0/\u001b[33mepoch\u001b[0m=\u001b[1;36m229\u001b[0m/model.pt already downloaded                                             \n",
      "\u001b[34mINFO    \u001b[0m File models/mixofgaust0/\u001b[33mepoch\u001b[0m=\u001b[1;36m239\u001b[0m/model.pt already downloaded                                             \n",
      "\u001b[34mINFO    \u001b[0m File models/mixofgaust0/\u001b[33mepoch\u001b[0m=\u001b[1;36m249\u001b[0m/model.pt already downloaded                                             \n",
      "\u001b[34mINFO    \u001b[0m File models/mixofgaust0/\u001b[33mepoch\u001b[0m=\u001b[1;36m259\u001b[0m/model.pt already downloaded                                             \n",
      "\u001b[34mINFO    \u001b[0m File models/mixofgaust0/\u001b[33mepoch\u001b[0m=\u001b[1;36m269\u001b[0m/model.pt already downloaded                                             \n",
      "\u001b[34mINFO    \u001b[0m File models/mixofgaust0/\u001b[33mepoch\u001b[0m=\u001b[1;36m279\u001b[0m/model.pt already downloaded                                             \n",
      "\u001b[34mINFO    \u001b[0m File models/mixofgaust0/\u001b[33mepoch\u001b[0m=\u001b[1;36m289\u001b[0m/model.pt already downloaded                                             \n",
      "\u001b[34mINFO    \u001b[0m File models/mixofgaust0/\u001b[33mepoch\u001b[0m=\u001b[1;36m299\u001b[0m/model.pt already downloaded                                             \n",
      "\u001b[34mINFO    \u001b[0m File models/mixofgaust0/\u001b[33mepoch\u001b[0m=\u001b[1;36m309\u001b[0m/model.pt already downloaded                                             \n",
      "\u001b[34mINFO    \u001b[0m File models/mixofgaust0/\u001b[33mepoch\u001b[0m=\u001b[1;36m319\u001b[0m/model.pt already downloaded                                             \n",
      "\u001b[34mINFO    \u001b[0m File models/mixofgaust0/\u001b[33mepoch\u001b[0m=\u001b[1;36m329\u001b[0m/model.pt already downloaded                                             \n",
      "\u001b[34mINFO    \u001b[0m File models/mixofgaust0/\u001b[33mepoch\u001b[0m=\u001b[1;36m339\u001b[0m/model.pt already downloaded                                             \n",
      "\u001b[34mINFO    \u001b[0m File models/mixofgaust0/\u001b[33mepoch\u001b[0m=\u001b[1;36m349\u001b[0m/model.pt already downloaded                                             \n",
      "\u001b[34mINFO    \u001b[0m File models/mixofgaust0/\u001b[33mepoch\u001b[0m=\u001b[1;36m359\u001b[0m/model.pt already downloaded                                             \n",
      "\u001b[34mINFO    \u001b[0m File models/mixofgaust0/\u001b[33mepoch\u001b[0m=\u001b[1;36m369\u001b[0m/model.pt already downloaded                                             \n",
      "\u001b[34mINFO    \u001b[0m File models/mixofgaust0/\u001b[33mepoch\u001b[0m=\u001b[1;36m379\u001b[0m/model.pt already downloaded                                             \n",
      "\u001b[34mINFO    \u001b[0m File models/mixofgaust0/\u001b[33mepoch\u001b[0m=\u001b[1;36m389\u001b[0m/model.pt already downloaded                                             \n"
     ]
    },
    {
     "name": "stderr",
     "output_type": "stream",
     "text": [
      "Computing neighbors: 100%|██████████| 39/39 [18:59<00:00, 29.21s/it]\n",
      "Embeddings: 100%|\u001b[32m██████████\u001b[0m| 39/39 [10:20<00:00, 15.91s/it]\n"
     ]
    },
    {
     "name": "stdout",
     "output_type": "stream",
     "text": [
      "\u001b[34mINFO    \u001b[0m File models/mixofgaust1/\u001b[33mepoch\u001b[0m=\u001b[1;36m9\u001b[0m/model.pt already downloaded                                               \n",
      "\u001b[34mINFO    \u001b[0m File models/mixofgaust1/\u001b[33mepoch\u001b[0m=\u001b[1;36m19\u001b[0m/model.pt already downloaded                                              \n",
      "\u001b[34mINFO    \u001b[0m File models/mixofgaust1/\u001b[33mepoch\u001b[0m=\u001b[1;36m29\u001b[0m/model.pt already downloaded                                              \n",
      "\u001b[34mINFO    \u001b[0m File models/mixofgaust1/\u001b[33mepoch\u001b[0m=\u001b[1;36m39\u001b[0m/model.pt already downloaded                                              \n",
      "\u001b[34mINFO    \u001b[0m File models/mixofgaust1/\u001b[33mepoch\u001b[0m=\u001b[1;36m49\u001b[0m/model.pt already downloaded                                              \n",
      "\u001b[34mINFO    \u001b[0m File models/mixofgaust1/\u001b[33mepoch\u001b[0m=\u001b[1;36m59\u001b[0m/model.pt already downloaded                                              \n",
      "\u001b[34mINFO    \u001b[0m File models/mixofgaust1/\u001b[33mepoch\u001b[0m=\u001b[1;36m69\u001b[0m/model.pt already downloaded                                              \n",
      "\u001b[34mINFO    \u001b[0m File models/mixofgaust1/\u001b[33mepoch\u001b[0m=\u001b[1;36m79\u001b[0m/model.pt already downloaded                                              \n",
      "\u001b[34mINFO    \u001b[0m File models/mixofgaust1/\u001b[33mepoch\u001b[0m=\u001b[1;36m89\u001b[0m/model.pt already downloaded                                              \n",
      "\u001b[34mINFO    \u001b[0m File models/mixofgaust1/\u001b[33mepoch\u001b[0m=\u001b[1;36m99\u001b[0m/model.pt already downloaded                                              \n",
      "\u001b[34mINFO    \u001b[0m File models/mixofgaust1/\u001b[33mepoch\u001b[0m=\u001b[1;36m109\u001b[0m/model.pt already downloaded                                             \n",
      "\u001b[34mINFO    \u001b[0m File models/mixofgaust1/\u001b[33mepoch\u001b[0m=\u001b[1;36m119\u001b[0m/model.pt already downloaded                                             \n",
      "\u001b[34mINFO    \u001b[0m File models/mixofgaust1/\u001b[33mepoch\u001b[0m=\u001b[1;36m129\u001b[0m/model.pt already downloaded                                             \n",
      "\u001b[34mINFO    \u001b[0m File models/mixofgaust1/\u001b[33mepoch\u001b[0m=\u001b[1;36m139\u001b[0m/model.pt already downloaded                                             \n",
      "\u001b[34mINFO    \u001b[0m File models/mixofgaust1/\u001b[33mepoch\u001b[0m=\u001b[1;36m149\u001b[0m/model.pt already downloaded                                             \n",
      "\u001b[34mINFO    \u001b[0m File models/mixofgaust1/\u001b[33mepoch\u001b[0m=\u001b[1;36m159\u001b[0m/model.pt already downloaded                                             \n",
      "\u001b[34mINFO    \u001b[0m File models/mixofgaust1/\u001b[33mepoch\u001b[0m=\u001b[1;36m169\u001b[0m/model.pt already downloaded                                             \n",
      "\u001b[34mINFO    \u001b[0m File models/mixofgaust1/\u001b[33mepoch\u001b[0m=\u001b[1;36m179\u001b[0m/model.pt already downloaded                                             \n",
      "\u001b[34mINFO    \u001b[0m File models/mixofgaust1/\u001b[33mepoch\u001b[0m=\u001b[1;36m189\u001b[0m/model.pt already downloaded                                             \n",
      "\u001b[34mINFO    \u001b[0m File models/mixofgaust1/\u001b[33mepoch\u001b[0m=\u001b[1;36m199\u001b[0m/model.pt already downloaded                                             \n",
      "\u001b[34mINFO    \u001b[0m File models/mixofgaust1/\u001b[33mepoch\u001b[0m=\u001b[1;36m209\u001b[0m/model.pt already downloaded                                             \n",
      "\u001b[34mINFO    \u001b[0m File models/mixofgaust1/\u001b[33mepoch\u001b[0m=\u001b[1;36m219\u001b[0m/model.pt already downloaded                                             \n",
      "\u001b[34mINFO    \u001b[0m File models/mixofgaust1/\u001b[33mepoch\u001b[0m=\u001b[1;36m229\u001b[0m/model.pt already downloaded                                             \n",
      "\u001b[34mINFO    \u001b[0m File models/mixofgaust1/\u001b[33mepoch\u001b[0m=\u001b[1;36m239\u001b[0m/model.pt already downloaded                                             \n",
      "\u001b[34mINFO    \u001b[0m File models/mixofgaust1/\u001b[33mepoch\u001b[0m=\u001b[1;36m249\u001b[0m/model.pt already downloaded                                             \n",
      "\u001b[34mINFO    \u001b[0m File models/mixofgaust1/\u001b[33mepoch\u001b[0m=\u001b[1;36m259\u001b[0m/model.pt already downloaded                                             \n",
      "\u001b[34mINFO    \u001b[0m File models/mixofgaust1/\u001b[33mepoch\u001b[0m=\u001b[1;36m269\u001b[0m/model.pt already downloaded                                             \n",
      "\u001b[34mINFO    \u001b[0m File models/mixofgaust1/\u001b[33mepoch\u001b[0m=\u001b[1;36m279\u001b[0m/model.pt already downloaded                                             \n",
      "\u001b[34mINFO    \u001b[0m File models/mixofgaust1/\u001b[33mepoch\u001b[0m=\u001b[1;36m289\u001b[0m/model.pt already downloaded                                             \n",
      "\u001b[34mINFO    \u001b[0m File models/mixofgaust1/\u001b[33mepoch\u001b[0m=\u001b[1;36m299\u001b[0m/model.pt already downloaded                                             \n",
      "\u001b[34mINFO    \u001b[0m File models/mixofgaust1/\u001b[33mepoch\u001b[0m=\u001b[1;36m309\u001b[0m/model.pt already downloaded                                             \n",
      "\u001b[34mINFO    \u001b[0m File models/mixofgaust1/\u001b[33mepoch\u001b[0m=\u001b[1;36m319\u001b[0m/model.pt already downloaded                                             \n",
      "\u001b[34mINFO    \u001b[0m File models/mixofgaust1/\u001b[33mepoch\u001b[0m=\u001b[1;36m329\u001b[0m/model.pt already downloaded                                             \n",
      "\u001b[34mINFO    \u001b[0m File models/mixofgaust1/\u001b[33mepoch\u001b[0m=\u001b[1;36m339\u001b[0m/model.pt already downloaded                                             \n",
      "\u001b[34mINFO    \u001b[0m File models/mixofgaust1/\u001b[33mepoch\u001b[0m=\u001b[1;36m349\u001b[0m/model.pt already downloaded                                             \n",
      "\u001b[34mINFO    \u001b[0m File models/mixofgaust1/\u001b[33mepoch\u001b[0m=\u001b[1;36m359\u001b[0m/model.pt already downloaded                                             \n",
      "\u001b[34mINFO    \u001b[0m File models/mixofgaust1/\u001b[33mepoch\u001b[0m=\u001b[1;36m369\u001b[0m/model.pt already downloaded                                             \n",
      "\u001b[34mINFO    \u001b[0m File models/mixofgaust1/\u001b[33mepoch\u001b[0m=\u001b[1;36m379\u001b[0m/model.pt already downloaded                                             \n",
      "\u001b[34mINFO    \u001b[0m File models/mixofgaust1/\u001b[33mepoch\u001b[0m=\u001b[1;36m389\u001b[0m/model.pt already downloaded                                             \n"
     ]
    },
    {
     "name": "stderr",
     "output_type": "stream",
     "text": [
      "Computing neighbors: 100%|██████████| 39/39 [18:50<00:00, 28.98s/it]\n",
      "Embeddings: 100%|\u001b[32m██████████\u001b[0m| 39/39 [10:20<00:00, 15.92s/it]\n"
     ]
    },
    {
     "name": "stdout",
     "output_type": "stream",
     "text": [
      "\u001b[34mINFO    \u001b[0m File models/mixofgaust2/\u001b[33mepoch\u001b[0m=\u001b[1;36m9\u001b[0m/model.pt already downloaded                                               \n",
      "\u001b[34mINFO    \u001b[0m File models/mixofgaust2/\u001b[33mepoch\u001b[0m=\u001b[1;36m19\u001b[0m/model.pt already downloaded                                              \n",
      "\u001b[34mINFO    \u001b[0m File models/mixofgaust2/\u001b[33mepoch\u001b[0m=\u001b[1;36m29\u001b[0m/model.pt already downloaded                                              \n",
      "\u001b[34mINFO    \u001b[0m File models/mixofgaust2/\u001b[33mepoch\u001b[0m=\u001b[1;36m39\u001b[0m/model.pt already downloaded                                              \n",
      "\u001b[34mINFO    \u001b[0m File models/mixofgaust2/\u001b[33mepoch\u001b[0m=\u001b[1;36m49\u001b[0m/model.pt already downloaded                                              \n",
      "\u001b[34mINFO    \u001b[0m File models/mixofgaust2/\u001b[33mepoch\u001b[0m=\u001b[1;36m59\u001b[0m/model.pt already downloaded                                              \n",
      "\u001b[34mINFO    \u001b[0m File models/mixofgaust2/\u001b[33mepoch\u001b[0m=\u001b[1;36m69\u001b[0m/model.pt already downloaded                                              \n",
      "\u001b[34mINFO    \u001b[0m File models/mixofgaust2/\u001b[33mepoch\u001b[0m=\u001b[1;36m79\u001b[0m/model.pt already downloaded                                              \n",
      "\u001b[34mINFO    \u001b[0m File models/mixofgaust2/\u001b[33mepoch\u001b[0m=\u001b[1;36m89\u001b[0m/model.pt already downloaded                                              \n",
      "\u001b[34mINFO    \u001b[0m File models/mixofgaust2/\u001b[33mepoch\u001b[0m=\u001b[1;36m99\u001b[0m/model.pt already downloaded                                              \n",
      "\u001b[34mINFO    \u001b[0m File models/mixofgaust2/\u001b[33mepoch\u001b[0m=\u001b[1;36m109\u001b[0m/model.pt already downloaded                                             \n",
      "\u001b[34mINFO    \u001b[0m File models/mixofgaust2/\u001b[33mepoch\u001b[0m=\u001b[1;36m119\u001b[0m/model.pt already downloaded                                             \n",
      "\u001b[34mINFO    \u001b[0m File models/mixofgaust2/\u001b[33mepoch\u001b[0m=\u001b[1;36m129\u001b[0m/model.pt already downloaded                                             \n",
      "\u001b[34mINFO    \u001b[0m File models/mixofgaust2/\u001b[33mepoch\u001b[0m=\u001b[1;36m139\u001b[0m/model.pt already downloaded                                             \n",
      "\u001b[34mINFO    \u001b[0m File models/mixofgaust2/\u001b[33mepoch\u001b[0m=\u001b[1;36m149\u001b[0m/model.pt already downloaded                                             \n",
      "\u001b[34mINFO    \u001b[0m File models/mixofgaust2/\u001b[33mepoch\u001b[0m=\u001b[1;36m159\u001b[0m/model.pt already downloaded                                             \n",
      "\u001b[34mINFO    \u001b[0m File models/mixofgaust2/\u001b[33mepoch\u001b[0m=\u001b[1;36m169\u001b[0m/model.pt already downloaded                                             \n",
      "\u001b[34mINFO    \u001b[0m File models/mixofgaust2/\u001b[33mepoch\u001b[0m=\u001b[1;36m179\u001b[0m/model.pt already downloaded                                             \n",
      "\u001b[34mINFO    \u001b[0m File models/mixofgaust2/\u001b[33mepoch\u001b[0m=\u001b[1;36m189\u001b[0m/model.pt already downloaded                                             \n",
      "\u001b[34mINFO    \u001b[0m File models/mixofgaust2/\u001b[33mepoch\u001b[0m=\u001b[1;36m199\u001b[0m/model.pt already downloaded                                             \n",
      "\u001b[34mINFO    \u001b[0m File models/mixofgaust2/\u001b[33mepoch\u001b[0m=\u001b[1;36m209\u001b[0m/model.pt already downloaded                                             \n",
      "\u001b[34mINFO    \u001b[0m File models/mixofgaust2/\u001b[33mepoch\u001b[0m=\u001b[1;36m219\u001b[0m/model.pt already downloaded                                             \n",
      "\u001b[34mINFO    \u001b[0m File models/mixofgaust2/\u001b[33mepoch\u001b[0m=\u001b[1;36m229\u001b[0m/model.pt already downloaded                                             \n",
      "\u001b[34mINFO    \u001b[0m File models/mixofgaust2/\u001b[33mepoch\u001b[0m=\u001b[1;36m239\u001b[0m/model.pt already downloaded                                             \n",
      "\u001b[34mINFO    \u001b[0m File models/mixofgaust2/\u001b[33mepoch\u001b[0m=\u001b[1;36m249\u001b[0m/model.pt already downloaded                                             \n",
      "\u001b[34mINFO    \u001b[0m File models/mixofgaust2/\u001b[33mepoch\u001b[0m=\u001b[1;36m259\u001b[0m/model.pt already downloaded                                             \n",
      "\u001b[34mINFO    \u001b[0m File models/mixofgaust2/\u001b[33mepoch\u001b[0m=\u001b[1;36m269\u001b[0m/model.pt already downloaded                                             \n",
      "\u001b[34mINFO    \u001b[0m File models/mixofgaust2/\u001b[33mepoch\u001b[0m=\u001b[1;36m279\u001b[0m/model.pt already downloaded                                             \n",
      "\u001b[34mINFO    \u001b[0m File models/mixofgaust2/\u001b[33mepoch\u001b[0m=\u001b[1;36m289\u001b[0m/model.pt already downloaded                                             \n",
      "\u001b[34mINFO    \u001b[0m File models/mixofgaust2/\u001b[33mepoch\u001b[0m=\u001b[1;36m299\u001b[0m/model.pt already downloaded                                             \n",
      "\u001b[34mINFO    \u001b[0m File models/mixofgaust2/\u001b[33mepoch\u001b[0m=\u001b[1;36m309\u001b[0m/model.pt already downloaded                                             \n",
      "\u001b[34mINFO    \u001b[0m File models/mixofgaust2/\u001b[33mepoch\u001b[0m=\u001b[1;36m319\u001b[0m/model.pt already downloaded                                             \n",
      "\u001b[34mINFO    \u001b[0m File models/mixofgaust2/\u001b[33mepoch\u001b[0m=\u001b[1;36m329\u001b[0m/model.pt already downloaded                                             \n",
      "\u001b[34mINFO    \u001b[0m File models/mixofgaust2/\u001b[33mepoch\u001b[0m=\u001b[1;36m339\u001b[0m/model.pt already downloaded                                             \n",
      "\u001b[34mINFO    \u001b[0m File models/mixofgaust2/\u001b[33mepoch\u001b[0m=\u001b[1;36m349\u001b[0m/model.pt already downloaded                                             \n",
      "\u001b[34mINFO    \u001b[0m File models/mixofgaust2/\u001b[33mepoch\u001b[0m=\u001b[1;36m359\u001b[0m/model.pt already downloaded                                             \n",
      "\u001b[34mINFO    \u001b[0m File models/mixofgaust2/\u001b[33mepoch\u001b[0m=\u001b[1;36m369\u001b[0m/model.pt already downloaded                                             \n",
      "\u001b[34mINFO    \u001b[0m File models/mixofgaust2/\u001b[33mepoch\u001b[0m=\u001b[1;36m379\u001b[0m/model.pt already downloaded                                             \n",
      "\u001b[34mINFO    \u001b[0m File models/mixofgaust2/\u001b[33mepoch\u001b[0m=\u001b[1;36m389\u001b[0m/model.pt already downloaded                                             \n"
     ]
    },
    {
     "name": "stderr",
     "output_type": "stream",
     "text": [
      "Computing neighbors: 100%|██████████| 39/39 [19:00<00:00, 29.25s/it]\n",
      "Embeddings: 100%|\u001b[32m██████████\u001b[0m| 39/39 [10:18<00:00, 15.86s/it]\n"
     ]
    },
    {
     "name": "stdout",
     "output_type": "stream",
     "text": [
      "\u001b[34mINFO    \u001b[0m File models/mixofgaust3/\u001b[33mepoch\u001b[0m=\u001b[1;36m9\u001b[0m/model.pt already downloaded                                               \n",
      "\u001b[34mINFO    \u001b[0m File models/mixofgaust3/\u001b[33mepoch\u001b[0m=\u001b[1;36m19\u001b[0m/model.pt already downloaded                                              \n",
      "\u001b[34mINFO    \u001b[0m File models/mixofgaust3/\u001b[33mepoch\u001b[0m=\u001b[1;36m29\u001b[0m/model.pt already downloaded                                              \n",
      "\u001b[34mINFO    \u001b[0m File models/mixofgaust3/\u001b[33mepoch\u001b[0m=\u001b[1;36m39\u001b[0m/model.pt already downloaded                                              \n",
      "\u001b[34mINFO    \u001b[0m File models/mixofgaust3/\u001b[33mepoch\u001b[0m=\u001b[1;36m49\u001b[0m/model.pt already downloaded                                              \n",
      "\u001b[34mINFO    \u001b[0m File models/mixofgaust3/\u001b[33mepoch\u001b[0m=\u001b[1;36m59\u001b[0m/model.pt already downloaded                                              \n",
      "\u001b[34mINFO    \u001b[0m File models/mixofgaust3/\u001b[33mepoch\u001b[0m=\u001b[1;36m69\u001b[0m/model.pt already downloaded                                              \n",
      "\u001b[34mINFO    \u001b[0m File models/mixofgaust3/\u001b[33mepoch\u001b[0m=\u001b[1;36m79\u001b[0m/model.pt already downloaded                                              \n",
      "\u001b[34mINFO    \u001b[0m File models/mixofgaust3/\u001b[33mepoch\u001b[0m=\u001b[1;36m89\u001b[0m/model.pt already downloaded                                              \n",
      "\u001b[34mINFO    \u001b[0m File models/mixofgaust3/\u001b[33mepoch\u001b[0m=\u001b[1;36m99\u001b[0m/model.pt already downloaded                                              \n",
      "\u001b[34mINFO    \u001b[0m File models/mixofgaust3/\u001b[33mepoch\u001b[0m=\u001b[1;36m109\u001b[0m/model.pt already downloaded                                             \n",
      "\u001b[34mINFO    \u001b[0m File models/mixofgaust3/\u001b[33mepoch\u001b[0m=\u001b[1;36m119\u001b[0m/model.pt already downloaded                                             \n",
      "\u001b[34mINFO    \u001b[0m File models/mixofgaust3/\u001b[33mepoch\u001b[0m=\u001b[1;36m129\u001b[0m/model.pt already downloaded                                             \n",
      "\u001b[34mINFO    \u001b[0m File models/mixofgaust3/\u001b[33mepoch\u001b[0m=\u001b[1;36m139\u001b[0m/model.pt already downloaded                                             \n",
      "\u001b[34mINFO    \u001b[0m File models/mixofgaust3/\u001b[33mepoch\u001b[0m=\u001b[1;36m149\u001b[0m/model.pt already downloaded                                             \n",
      "\u001b[34mINFO    \u001b[0m File models/mixofgaust3/\u001b[33mepoch\u001b[0m=\u001b[1;36m159\u001b[0m/model.pt already downloaded                                             \n",
      "\u001b[34mINFO    \u001b[0m File models/mixofgaust3/\u001b[33mepoch\u001b[0m=\u001b[1;36m169\u001b[0m/model.pt already downloaded                                             \n",
      "\u001b[34mINFO    \u001b[0m File models/mixofgaust3/\u001b[33mepoch\u001b[0m=\u001b[1;36m179\u001b[0m/model.pt already downloaded                                             \n",
      "\u001b[34mINFO    \u001b[0m File models/mixofgaust3/\u001b[33mepoch\u001b[0m=\u001b[1;36m189\u001b[0m/model.pt already downloaded                                             \n",
      "\u001b[34mINFO    \u001b[0m File models/mixofgaust3/\u001b[33mepoch\u001b[0m=\u001b[1;36m199\u001b[0m/model.pt already downloaded                                             \n",
      "\u001b[34mINFO    \u001b[0m File models/mixofgaust3/\u001b[33mepoch\u001b[0m=\u001b[1;36m209\u001b[0m/model.pt already downloaded                                             \n",
      "\u001b[34mINFO    \u001b[0m File models/mixofgaust3/\u001b[33mepoch\u001b[0m=\u001b[1;36m219\u001b[0m/model.pt already downloaded                                             \n",
      "\u001b[34mINFO    \u001b[0m File models/mixofgaust3/\u001b[33mepoch\u001b[0m=\u001b[1;36m229\u001b[0m/model.pt already downloaded                                             \n",
      "\u001b[34mINFO    \u001b[0m File models/mixofgaust3/\u001b[33mepoch\u001b[0m=\u001b[1;36m239\u001b[0m/model.pt already downloaded                                             \n",
      "\u001b[34mINFO    \u001b[0m File models/mixofgaust3/\u001b[33mepoch\u001b[0m=\u001b[1;36m249\u001b[0m/model.pt already downloaded                                             \n",
      "\u001b[34mINFO    \u001b[0m File models/mixofgaust3/\u001b[33mepoch\u001b[0m=\u001b[1;36m259\u001b[0m/model.pt already downloaded                                             \n",
      "\u001b[34mINFO    \u001b[0m File models/mixofgaust3/\u001b[33mepoch\u001b[0m=\u001b[1;36m269\u001b[0m/model.pt already downloaded                                             \n",
      "\u001b[34mINFO    \u001b[0m File models/mixofgaust3/\u001b[33mepoch\u001b[0m=\u001b[1;36m279\u001b[0m/model.pt already downloaded                                             \n",
      "\u001b[34mINFO    \u001b[0m File models/mixofgaust3/\u001b[33mepoch\u001b[0m=\u001b[1;36m289\u001b[0m/model.pt already downloaded                                             \n",
      "\u001b[34mINFO    \u001b[0m File models/mixofgaust3/\u001b[33mepoch\u001b[0m=\u001b[1;36m299\u001b[0m/model.pt already downloaded                                             \n",
      "\u001b[34mINFO    \u001b[0m File models/mixofgaust3/\u001b[33mepoch\u001b[0m=\u001b[1;36m309\u001b[0m/model.pt already downloaded                                             \n",
      "\u001b[34mINFO    \u001b[0m File models/mixofgaust3/\u001b[33mepoch\u001b[0m=\u001b[1;36m319\u001b[0m/model.pt already downloaded                                             \n",
      "\u001b[34mINFO    \u001b[0m File models/mixofgaust3/\u001b[33mepoch\u001b[0m=\u001b[1;36m329\u001b[0m/model.pt already downloaded                                             \n",
      "\u001b[34mINFO    \u001b[0m File models/mixofgaust3/\u001b[33mepoch\u001b[0m=\u001b[1;36m339\u001b[0m/model.pt already downloaded                                             \n",
      "\u001b[34mINFO    \u001b[0m File models/mixofgaust3/\u001b[33mepoch\u001b[0m=\u001b[1;36m349\u001b[0m/model.pt already downloaded                                             \n",
      "\u001b[34mINFO    \u001b[0m File models/mixofgaust3/\u001b[33mepoch\u001b[0m=\u001b[1;36m359\u001b[0m/model.pt already downloaded                                             \n",
      "\u001b[34mINFO    \u001b[0m File models/mixofgaust3/\u001b[33mepoch\u001b[0m=\u001b[1;36m369\u001b[0m/model.pt already downloaded                                             \n",
      "\u001b[34mINFO    \u001b[0m File models/mixofgaust3/\u001b[33mepoch\u001b[0m=\u001b[1;36m379\u001b[0m/model.pt already downloaded                                             \n",
      "\u001b[34mINFO    \u001b[0m File models/mixofgaust3/\u001b[33mepoch\u001b[0m=\u001b[1;36m389\u001b[0m/model.pt already downloaded                                             \n"
     ]
    },
    {
     "name": "stderr",
     "output_type": "stream",
     "text": [
      "Computing neighbors: 100%|██████████| 39/39 [19:14<00:00, 29.61s/it]\n",
      "Embeddings:  21%|\u001b[32m██        \u001b[0m| 8/39 [02:08<08:21, 16.16s/it]"
     ]
    },
    {
     "name": "stdout",
     "output_type": "stream",
     "text": [
      "\u001b[34mINFO    \u001b[0m Diffusion distance failed. Skip.                                                                          \n"
     ]
    },
    {
     "name": "stderr",
     "output_type": "stream",
     "text": [
      "Embeddings:  82%|\u001b[32m████████▏ \u001b[0m| 32/39 [08:31<01:51, 15.94s/it]"
     ]
    },
    {
     "name": "stdout",
     "output_type": "stream",
     "text": [
      "\u001b[34mINFO    \u001b[0m Diffusion distance failed. Skip.                                                                          \n"
     ]
    },
    {
     "name": "stderr",
     "output_type": "stream",
     "text": [
      "Embeddings:  92%|\u001b[32m█████████▏\u001b[0m| 36/39 [09:34<00:47, 15.79s/it]"
     ]
    },
    {
     "name": "stdout",
     "output_type": "stream",
     "text": [
      "\u001b[34mINFO    \u001b[0m Diffusion distance failed. Skip.                                                                          \n"
     ]
    },
    {
     "name": "stderr",
     "output_type": "stream",
     "text": [
      "Embeddings: 100%|\u001b[32m██████████\u001b[0m| 39/39 [10:20<00:00, 15.92s/it]\n"
     ]
    },
    {
     "name": "stdout",
     "output_type": "stream",
     "text": [
      "\u001b[34mINFO    \u001b[0m File models/mixofgaust4/\u001b[33mepoch\u001b[0m=\u001b[1;36m9\u001b[0m/model.pt already downloaded                                               \n",
      "\u001b[34mINFO    \u001b[0m File models/mixofgaust4/\u001b[33mepoch\u001b[0m=\u001b[1;36m19\u001b[0m/model.pt already downloaded                                              \n",
      "\u001b[34mINFO    \u001b[0m File models/mixofgaust4/\u001b[33mepoch\u001b[0m=\u001b[1;36m29\u001b[0m/model.pt already downloaded                                              \n",
      "\u001b[34mINFO    \u001b[0m File models/mixofgaust4/\u001b[33mepoch\u001b[0m=\u001b[1;36m39\u001b[0m/model.pt already downloaded                                              \n",
      "\u001b[34mINFO    \u001b[0m File models/mixofgaust4/\u001b[33mepoch\u001b[0m=\u001b[1;36m49\u001b[0m/model.pt already downloaded                                              \n",
      "\u001b[34mINFO    \u001b[0m File models/mixofgaust4/\u001b[33mepoch\u001b[0m=\u001b[1;36m59\u001b[0m/model.pt already downloaded                                              \n",
      "\u001b[34mINFO    \u001b[0m File models/mixofgaust4/\u001b[33mepoch\u001b[0m=\u001b[1;36m69\u001b[0m/model.pt already downloaded                                              \n",
      "\u001b[34mINFO    \u001b[0m File models/mixofgaust4/\u001b[33mepoch\u001b[0m=\u001b[1;36m79\u001b[0m/model.pt already downloaded                                              \n",
      "\u001b[34mINFO    \u001b[0m File models/mixofgaust4/\u001b[33mepoch\u001b[0m=\u001b[1;36m89\u001b[0m/model.pt already downloaded                                              \n",
      "\u001b[34mINFO    \u001b[0m File models/mixofgaust4/\u001b[33mepoch\u001b[0m=\u001b[1;36m99\u001b[0m/model.pt already downloaded                                              \n",
      "\u001b[34mINFO    \u001b[0m File models/mixofgaust4/\u001b[33mepoch\u001b[0m=\u001b[1;36m109\u001b[0m/model.pt already downloaded                                             \n",
      "\u001b[34mINFO    \u001b[0m File models/mixofgaust4/\u001b[33mepoch\u001b[0m=\u001b[1;36m119\u001b[0m/model.pt already downloaded                                             \n",
      "\u001b[34mINFO    \u001b[0m File models/mixofgaust4/\u001b[33mepoch\u001b[0m=\u001b[1;36m129\u001b[0m/model.pt already downloaded                                             \n",
      "\u001b[34mINFO    \u001b[0m File models/mixofgaust4/\u001b[33mepoch\u001b[0m=\u001b[1;36m139\u001b[0m/model.pt already downloaded                                             \n",
      "\u001b[34mINFO    \u001b[0m File models/mixofgaust4/\u001b[33mepoch\u001b[0m=\u001b[1;36m149\u001b[0m/model.pt already downloaded                                             \n",
      "\u001b[34mINFO    \u001b[0m File models/mixofgaust4/\u001b[33mepoch\u001b[0m=\u001b[1;36m159\u001b[0m/model.pt already downloaded                                             \n",
      "\u001b[34mINFO    \u001b[0m File models/mixofgaust4/\u001b[33mepoch\u001b[0m=\u001b[1;36m169\u001b[0m/model.pt already downloaded                                             \n",
      "\u001b[34mINFO    \u001b[0m File models/mixofgaust4/\u001b[33mepoch\u001b[0m=\u001b[1;36m179\u001b[0m/model.pt already downloaded                                             \n",
      "\u001b[34mINFO    \u001b[0m File models/mixofgaust4/\u001b[33mepoch\u001b[0m=\u001b[1;36m189\u001b[0m/model.pt already downloaded                                             \n",
      "\u001b[34mINFO    \u001b[0m File models/mixofgaust4/\u001b[33mepoch\u001b[0m=\u001b[1;36m199\u001b[0m/model.pt already downloaded                                             \n",
      "\u001b[34mINFO    \u001b[0m File models/mixofgaust4/\u001b[33mepoch\u001b[0m=\u001b[1;36m209\u001b[0m/model.pt already downloaded                                             \n",
      "\u001b[34mINFO    \u001b[0m File models/mixofgaust4/\u001b[33mepoch\u001b[0m=\u001b[1;36m219\u001b[0m/model.pt already downloaded                                             \n",
      "\u001b[34mINFO    \u001b[0m File models/mixofgaust4/\u001b[33mepoch\u001b[0m=\u001b[1;36m229\u001b[0m/model.pt already downloaded                                             \n",
      "\u001b[34mINFO    \u001b[0m File models/mixofgaust4/\u001b[33mepoch\u001b[0m=\u001b[1;36m239\u001b[0m/model.pt already downloaded                                             \n",
      "\u001b[34mINFO    \u001b[0m File models/mixofgaust4/\u001b[33mepoch\u001b[0m=\u001b[1;36m249\u001b[0m/model.pt already downloaded                                             \n",
      "\u001b[34mINFO    \u001b[0m File models/mixofgaust4/\u001b[33mepoch\u001b[0m=\u001b[1;36m259\u001b[0m/model.pt already downloaded                                             \n",
      "\u001b[34mINFO    \u001b[0m File models/mixofgaust4/\u001b[33mepoch\u001b[0m=\u001b[1;36m269\u001b[0m/model.pt already downloaded                                             \n",
      "\u001b[34mINFO    \u001b[0m File models/mixofgaust4/\u001b[33mepoch\u001b[0m=\u001b[1;36m279\u001b[0m/model.pt already downloaded                                             \n",
      "\u001b[34mINFO    \u001b[0m File models/mixofgaust4/\u001b[33mepoch\u001b[0m=\u001b[1;36m289\u001b[0m/model.pt already downloaded                                             \n",
      "\u001b[34mINFO    \u001b[0m File models/mixofgaust4/\u001b[33mepoch\u001b[0m=\u001b[1;36m299\u001b[0m/model.pt already downloaded                                             \n",
      "\u001b[34mINFO    \u001b[0m File models/mixofgaust4/\u001b[33mepoch\u001b[0m=\u001b[1;36m309\u001b[0m/model.pt already downloaded                                             \n",
      "\u001b[34mINFO    \u001b[0m File models/mixofgaust4/\u001b[33mepoch\u001b[0m=\u001b[1;36m319\u001b[0m/model.pt already downloaded                                             \n",
      "\u001b[34mINFO    \u001b[0m File models/mixofgaust4/\u001b[33mepoch\u001b[0m=\u001b[1;36m329\u001b[0m/model.pt already downloaded                                             \n",
      "\u001b[34mINFO    \u001b[0m File models/mixofgaust4/\u001b[33mepoch\u001b[0m=\u001b[1;36m339\u001b[0m/model.pt already downloaded                                             \n",
      "\u001b[34mINFO    \u001b[0m File models/mixofgaust4/\u001b[33mepoch\u001b[0m=\u001b[1;36m349\u001b[0m/model.pt already downloaded                                             \n",
      "\u001b[34mINFO    \u001b[0m File models/mixofgaust4/\u001b[33mepoch\u001b[0m=\u001b[1;36m359\u001b[0m/model.pt already downloaded                                             \n",
      "\u001b[34mINFO    \u001b[0m File models/mixofgaust4/\u001b[33mepoch\u001b[0m=\u001b[1;36m369\u001b[0m/model.pt already downloaded                                             \n",
      "\u001b[34mINFO    \u001b[0m File models/mixofgaust4/\u001b[33mepoch\u001b[0m=\u001b[1;36m379\u001b[0m/model.pt already downloaded                                             \n",
      "\u001b[34mINFO    \u001b[0m File models/mixofgaust4/\u001b[33mepoch\u001b[0m=\u001b[1;36m389\u001b[0m/model.pt already downloaded                                             \n"
     ]
    },
    {
     "name": "stderr",
     "output_type": "stream",
     "text": [
      "Computing neighbors: 100%|██████████| 39/39 [18:59<00:00, 29.23s/it]\n",
      "Embeddings: 100%|\u001b[32m██████████\u001b[0m| 39/39 [10:22<00:00, 15.97s/it]\n"
     ]
    }
   ],
   "source": [
    "resultsMG = benchmarkN(\"mixofgaus\", n)\n",
    "resultsMG.to_csv(\"results/result_MG.csv\")"
   ]
  },
  {
   "cell_type": "code",
   "execution_count": 5,
   "metadata": {},
   "outputs": [
    {
     "name": "stdout",
     "output_type": "stream",
     "text": [
      "\u001b[34mINFO    \u001b[0m File models/vampt0/\u001b[33mepoch\u001b[0m=\u001b[1;36m9\u001b[0m/model.pt already downloaded                                                    \n"
     ]
    },
    {
     "name": "stderr",
     "output_type": "stream",
     "text": [
      "INFO:jax._src.xla_bridge:Unable to initialize backend 'cuda': module 'jaxlib.xla_extension' has no attribute 'GpuAllocatorConfig'\n",
      "INFO:jax._src.xla_bridge:Unable to initialize backend 'rocm': module 'jaxlib.xla_extension' has no attribute 'GpuAllocatorConfig'\n",
      "INFO:jax._src.xla_bridge:Unable to initialize backend 'tpu': INVALID_ARGUMENT: TpuPlatform is not available.\n",
      "WARNING:jax._src.xla_bridge:No GPU/TPU found, falling back to CPU. (Set TF_CPP_MIN_LOG_LEVEL=0 and rerun for more info.)\n"
     ]
    },
    {
     "name": "stdout",
     "output_type": "stream",
     "text": [
      "\u001b[34mINFO    \u001b[0m File models/vampt0/\u001b[33mepoch\u001b[0m=\u001b[1;36m19\u001b[0m/model.pt already downloaded                                                   \n",
      "\u001b[34mINFO    \u001b[0m File models/vampt0/\u001b[33mepoch\u001b[0m=\u001b[1;36m29\u001b[0m/model.pt already downloaded                                                   \n",
      "\u001b[34mINFO    \u001b[0m File models/vampt0/\u001b[33mepoch\u001b[0m=\u001b[1;36m39\u001b[0m/model.pt already downloaded                                                   \n",
      "\u001b[34mINFO    \u001b[0m File models/vampt0/\u001b[33mepoch\u001b[0m=\u001b[1;36m49\u001b[0m/model.pt already downloaded                                                   \n",
      "\u001b[34mINFO    \u001b[0m File models/vampt0/\u001b[33mepoch\u001b[0m=\u001b[1;36m59\u001b[0m/model.pt already downloaded                                                   \n",
      "\u001b[34mINFO    \u001b[0m File models/vampt0/\u001b[33mepoch\u001b[0m=\u001b[1;36m69\u001b[0m/model.pt already downloaded                                                   \n",
      "\u001b[34mINFO    \u001b[0m File models/vampt0/\u001b[33mepoch\u001b[0m=\u001b[1;36m79\u001b[0m/model.pt already downloaded                                                   \n",
      "\u001b[34mINFO    \u001b[0m File models/vampt0/\u001b[33mepoch\u001b[0m=\u001b[1;36m89\u001b[0m/model.pt already downloaded                                                   \n",
      "\u001b[34mINFO    \u001b[0m File models/vampt0/\u001b[33mepoch\u001b[0m=\u001b[1;36m99\u001b[0m/model.pt already downloaded                                                   \n",
      "\u001b[34mINFO    \u001b[0m File models/vampt0/\u001b[33mepoch\u001b[0m=\u001b[1;36m109\u001b[0m/model.pt already downloaded                                                  \n",
      "\u001b[34mINFO    \u001b[0m File models/vampt0/\u001b[33mepoch\u001b[0m=\u001b[1;36m119\u001b[0m/model.pt already downloaded                                                  \n",
      "\u001b[34mINFO    \u001b[0m File models/vampt0/\u001b[33mepoch\u001b[0m=\u001b[1;36m129\u001b[0m/model.pt already downloaded                                                  \n",
      "\u001b[34mINFO    \u001b[0m File models/vampt0/\u001b[33mepoch\u001b[0m=\u001b[1;36m139\u001b[0m/model.pt already downloaded                                                  \n",
      "\u001b[34mINFO    \u001b[0m File models/vampt0/\u001b[33mepoch\u001b[0m=\u001b[1;36m149\u001b[0m/model.pt already downloaded                                                  \n",
      "\u001b[34mINFO    \u001b[0m File models/vampt0/\u001b[33mepoch\u001b[0m=\u001b[1;36m159\u001b[0m/model.pt already downloaded                                                  \n",
      "\u001b[34mINFO    \u001b[0m File models/vampt0/\u001b[33mepoch\u001b[0m=\u001b[1;36m169\u001b[0m/model.pt already downloaded                                                  \n",
      "\u001b[34mINFO    \u001b[0m File models/vampt0/\u001b[33mepoch\u001b[0m=\u001b[1;36m179\u001b[0m/model.pt already downloaded                                                  \n",
      "\u001b[34mINFO    \u001b[0m File models/vampt0/\u001b[33mepoch\u001b[0m=\u001b[1;36m189\u001b[0m/model.pt already downloaded                                                  \n",
      "\u001b[34mINFO    \u001b[0m File models/vampt0/\u001b[33mepoch\u001b[0m=\u001b[1;36m199\u001b[0m/model.pt already downloaded                                                  \n",
      "\u001b[34mINFO    \u001b[0m File models/vampt0/\u001b[33mepoch\u001b[0m=\u001b[1;36m209\u001b[0m/model.pt already downloaded                                                  \n",
      "\u001b[34mINFO    \u001b[0m File models/vampt0/\u001b[33mepoch\u001b[0m=\u001b[1;36m219\u001b[0m/model.pt already downloaded                                                  \n",
      "\u001b[34mINFO    \u001b[0m File models/vampt0/\u001b[33mepoch\u001b[0m=\u001b[1;36m229\u001b[0m/model.pt already downloaded                                                  \n",
      "\u001b[34mINFO    \u001b[0m File models/vampt0/\u001b[33mepoch\u001b[0m=\u001b[1;36m239\u001b[0m/model.pt already downloaded                                                  \n",
      "\u001b[34mINFO    \u001b[0m File models/vampt0/\u001b[33mepoch\u001b[0m=\u001b[1;36m249\u001b[0m/model.pt already downloaded                                                  \n",
      "\u001b[34mINFO    \u001b[0m File models/vampt0/\u001b[33mepoch\u001b[0m=\u001b[1;36m259\u001b[0m/model.pt already downloaded                                                  \n",
      "\u001b[34mINFO    \u001b[0m File models/vampt0/\u001b[33mepoch\u001b[0m=\u001b[1;36m269\u001b[0m/model.pt already downloaded                                                  \n",
      "\u001b[34mINFO    \u001b[0m File models/vampt0/\u001b[33mepoch\u001b[0m=\u001b[1;36m279\u001b[0m/model.pt already downloaded                                                  \n",
      "\u001b[34mINFO    \u001b[0m File models/vampt0/\u001b[33mepoch\u001b[0m=\u001b[1;36m289\u001b[0m/model.pt already downloaded                                                  \n",
      "\u001b[34mINFO    \u001b[0m File models/vampt0/\u001b[33mepoch\u001b[0m=\u001b[1;36m299\u001b[0m/model.pt already downloaded                                                  \n",
      "\u001b[34mINFO    \u001b[0m File models/vampt0/\u001b[33mepoch\u001b[0m=\u001b[1;36m309\u001b[0m/model.pt already downloaded                                                  \n",
      "\u001b[34mINFO    \u001b[0m File models/vampt0/\u001b[33mepoch\u001b[0m=\u001b[1;36m319\u001b[0m/model.pt already downloaded                                                  \n",
      "\u001b[34mINFO    \u001b[0m File models/vampt0/\u001b[33mepoch\u001b[0m=\u001b[1;36m329\u001b[0m/model.pt already downloaded                                                  \n",
      "\u001b[34mINFO    \u001b[0m File models/vampt0/\u001b[33mepoch\u001b[0m=\u001b[1;36m339\u001b[0m/model.pt already downloaded                                                  \n",
      "\u001b[34mINFO    \u001b[0m File models/vampt0/\u001b[33mepoch\u001b[0m=\u001b[1;36m349\u001b[0m/model.pt already downloaded                                                  \n",
      "\u001b[34mINFO    \u001b[0m File models/vampt0/\u001b[33mepoch\u001b[0m=\u001b[1;36m359\u001b[0m/model.pt already downloaded                                                  \n",
      "\u001b[34mINFO    \u001b[0m File models/vampt0/\u001b[33mepoch\u001b[0m=\u001b[1;36m369\u001b[0m/model.pt already downloaded                                                  \n",
      "\u001b[34mINFO    \u001b[0m File models/vampt0/\u001b[33mepoch\u001b[0m=\u001b[1;36m379\u001b[0m/model.pt already downloaded                                                  \n",
      "\u001b[34mINFO    \u001b[0m File models/vampt0/\u001b[33mepoch\u001b[0m=\u001b[1;36m389\u001b[0m/model.pt already downloaded                                                  \n"
     ]
    },
    {
     "name": "stderr",
     "output_type": "stream",
     "text": [
      "Computing neighbors: 100%|██████████| 39/39 [19:40<00:00, 30.28s/it]\n",
      "Embeddings: 100%|\u001b[32m██████████\u001b[0m| 39/39 [12:26<00:00, 19.15s/it]\n"
     ]
    },
    {
     "name": "stdout",
     "output_type": "stream",
     "text": [
      "\u001b[34mINFO    \u001b[0m File models/vampt1/\u001b[33mepoch\u001b[0m=\u001b[1;36m9\u001b[0m/model.pt already downloaded                                                    \n",
      "\u001b[34mINFO    \u001b[0m File models/vampt1/\u001b[33mepoch\u001b[0m=\u001b[1;36m19\u001b[0m/model.pt already downloaded                                                   \n",
      "\u001b[34mINFO    \u001b[0m File models/vampt1/\u001b[33mepoch\u001b[0m=\u001b[1;36m29\u001b[0m/model.pt already downloaded                                                   \n",
      "\u001b[34mINFO    \u001b[0m File models/vampt1/\u001b[33mepoch\u001b[0m=\u001b[1;36m39\u001b[0m/model.pt already downloaded                                                   \n",
      "\u001b[34mINFO    \u001b[0m File models/vampt1/\u001b[33mepoch\u001b[0m=\u001b[1;36m49\u001b[0m/model.pt already downloaded                                                   \n",
      "\u001b[34mINFO    \u001b[0m File models/vampt1/\u001b[33mepoch\u001b[0m=\u001b[1;36m59\u001b[0m/model.pt already downloaded                                                   \n",
      "\u001b[34mINFO    \u001b[0m File models/vampt1/\u001b[33mepoch\u001b[0m=\u001b[1;36m69\u001b[0m/model.pt already downloaded                                                   \n",
      "\u001b[34mINFO    \u001b[0m File models/vampt1/\u001b[33mepoch\u001b[0m=\u001b[1;36m79\u001b[0m/model.pt already downloaded                                                   \n",
      "\u001b[34mINFO    \u001b[0m File models/vampt1/\u001b[33mepoch\u001b[0m=\u001b[1;36m89\u001b[0m/model.pt already downloaded                                                   \n",
      "\u001b[34mINFO    \u001b[0m File models/vampt1/\u001b[33mepoch\u001b[0m=\u001b[1;36m99\u001b[0m/model.pt already downloaded                                                   \n",
      "\u001b[34mINFO    \u001b[0m File models/vampt1/\u001b[33mepoch\u001b[0m=\u001b[1;36m109\u001b[0m/model.pt already downloaded                                                  \n",
      "\u001b[34mINFO    \u001b[0m File models/vampt1/\u001b[33mepoch\u001b[0m=\u001b[1;36m119\u001b[0m/model.pt already downloaded                                                  \n",
      "\u001b[34mINFO    \u001b[0m File models/vampt1/\u001b[33mepoch\u001b[0m=\u001b[1;36m129\u001b[0m/model.pt already downloaded                                                  \n",
      "\u001b[34mINFO    \u001b[0m File models/vampt1/\u001b[33mepoch\u001b[0m=\u001b[1;36m139\u001b[0m/model.pt already downloaded                                                  \n",
      "\u001b[34mINFO    \u001b[0m File models/vampt1/\u001b[33mepoch\u001b[0m=\u001b[1;36m149\u001b[0m/model.pt already downloaded                                                  \n",
      "\u001b[34mINFO    \u001b[0m File models/vampt1/\u001b[33mepoch\u001b[0m=\u001b[1;36m159\u001b[0m/model.pt already downloaded                                                  \n",
      "\u001b[34mINFO    \u001b[0m File models/vampt1/\u001b[33mepoch\u001b[0m=\u001b[1;36m169\u001b[0m/model.pt already downloaded                                                  \n",
      "\u001b[34mINFO    \u001b[0m File models/vampt1/\u001b[33mepoch\u001b[0m=\u001b[1;36m179\u001b[0m/model.pt already downloaded                                                  \n",
      "\u001b[34mINFO    \u001b[0m File models/vampt1/\u001b[33mepoch\u001b[0m=\u001b[1;36m189\u001b[0m/model.pt already downloaded                                                  \n",
      "\u001b[34mINFO    \u001b[0m File models/vampt1/\u001b[33mepoch\u001b[0m=\u001b[1;36m199\u001b[0m/model.pt already downloaded                                                  \n",
      "\u001b[34mINFO    \u001b[0m File models/vampt1/\u001b[33mepoch\u001b[0m=\u001b[1;36m209\u001b[0m/model.pt already downloaded                                                  \n",
      "\u001b[34mINFO    \u001b[0m File models/vampt1/\u001b[33mepoch\u001b[0m=\u001b[1;36m219\u001b[0m/model.pt already downloaded                                                  \n",
      "\u001b[34mINFO    \u001b[0m File models/vampt1/\u001b[33mepoch\u001b[0m=\u001b[1;36m229\u001b[0m/model.pt already downloaded                                                  \n",
      "\u001b[34mINFO    \u001b[0m File models/vampt1/\u001b[33mepoch\u001b[0m=\u001b[1;36m239\u001b[0m/model.pt already downloaded                                                  \n",
      "\u001b[34mINFO    \u001b[0m File models/vampt1/\u001b[33mepoch\u001b[0m=\u001b[1;36m249\u001b[0m/model.pt already downloaded                                                  \n",
      "\u001b[34mINFO    \u001b[0m File models/vampt1/\u001b[33mepoch\u001b[0m=\u001b[1;36m259\u001b[0m/model.pt already downloaded                                                  \n",
      "\u001b[34mINFO    \u001b[0m File models/vampt1/\u001b[33mepoch\u001b[0m=\u001b[1;36m269\u001b[0m/model.pt already downloaded                                                  \n",
      "\u001b[34mINFO    \u001b[0m File models/vampt1/\u001b[33mepoch\u001b[0m=\u001b[1;36m279\u001b[0m/model.pt already downloaded                                                  \n",
      "\u001b[34mINFO    \u001b[0m File models/vampt1/\u001b[33mepoch\u001b[0m=\u001b[1;36m289\u001b[0m/model.pt already downloaded                                                  \n",
      "\u001b[34mINFO    \u001b[0m File models/vampt1/\u001b[33mepoch\u001b[0m=\u001b[1;36m299\u001b[0m/model.pt already downloaded                                                  \n",
      "\u001b[34mINFO    \u001b[0m File models/vampt1/\u001b[33mepoch\u001b[0m=\u001b[1;36m309\u001b[0m/model.pt already downloaded                                                  \n",
      "\u001b[34mINFO    \u001b[0m File models/vampt1/\u001b[33mepoch\u001b[0m=\u001b[1;36m319\u001b[0m/model.pt already downloaded                                                  \n",
      "\u001b[34mINFO    \u001b[0m File models/vampt1/\u001b[33mepoch\u001b[0m=\u001b[1;36m329\u001b[0m/model.pt already downloaded                                                  \n",
      "\u001b[34mINFO    \u001b[0m File models/vampt1/\u001b[33mepoch\u001b[0m=\u001b[1;36m339\u001b[0m/model.pt already downloaded                                                  \n",
      "\u001b[34mINFO    \u001b[0m File models/vampt1/\u001b[33mepoch\u001b[0m=\u001b[1;36m349\u001b[0m/model.pt already downloaded                                                  \n",
      "\u001b[34mINFO    \u001b[0m File models/vampt1/\u001b[33mepoch\u001b[0m=\u001b[1;36m359\u001b[0m/model.pt already downloaded                                                  \n",
      "\u001b[34mINFO    \u001b[0m File models/vampt1/\u001b[33mepoch\u001b[0m=\u001b[1;36m369\u001b[0m/model.pt already downloaded                                                  \n",
      "\u001b[34mINFO    \u001b[0m File models/vampt1/\u001b[33mepoch\u001b[0m=\u001b[1;36m379\u001b[0m/model.pt already downloaded                                                  \n",
      "\u001b[34mINFO    \u001b[0m File models/vampt1/\u001b[33mepoch\u001b[0m=\u001b[1;36m389\u001b[0m/model.pt already downloaded                                                  \n"
     ]
    },
    {
     "name": "stderr",
     "output_type": "stream",
     "text": [
      "Computing neighbors: 100%|██████████| 39/39 [19:03<00:00, 29.31s/it]\n",
      "Embeddings: 100%|\u001b[32m██████████\u001b[0m| 39/39 [11:32<00:00, 17.74s/it]\n"
     ]
    },
    {
     "name": "stdout",
     "output_type": "stream",
     "text": [
      "\u001b[34mINFO    \u001b[0m File models/vampt2/\u001b[33mepoch\u001b[0m=\u001b[1;36m9\u001b[0m/model.pt already downloaded                                                    \n",
      "\u001b[34mINFO    \u001b[0m File models/vampt2/\u001b[33mepoch\u001b[0m=\u001b[1;36m19\u001b[0m/model.pt already downloaded                                                   \n",
      "\u001b[34mINFO    \u001b[0m File models/vampt2/\u001b[33mepoch\u001b[0m=\u001b[1;36m29\u001b[0m/model.pt already downloaded                                                   \n",
      "\u001b[34mINFO    \u001b[0m File models/vampt2/\u001b[33mepoch\u001b[0m=\u001b[1;36m39\u001b[0m/model.pt already downloaded                                                   \n",
      "\u001b[34mINFO    \u001b[0m File models/vampt2/\u001b[33mepoch\u001b[0m=\u001b[1;36m49\u001b[0m/model.pt already downloaded                                                   \n",
      "\u001b[34mINFO    \u001b[0m File models/vampt2/\u001b[33mepoch\u001b[0m=\u001b[1;36m59\u001b[0m/model.pt already downloaded                                                   \n",
      "\u001b[34mINFO    \u001b[0m File models/vampt2/\u001b[33mepoch\u001b[0m=\u001b[1;36m69\u001b[0m/model.pt already downloaded                                                   \n",
      "\u001b[34mINFO    \u001b[0m File models/vampt2/\u001b[33mepoch\u001b[0m=\u001b[1;36m79\u001b[0m/model.pt already downloaded                                                   \n",
      "\u001b[34mINFO    \u001b[0m File models/vampt2/\u001b[33mepoch\u001b[0m=\u001b[1;36m89\u001b[0m/model.pt already downloaded                                                   \n",
      "\u001b[34mINFO    \u001b[0m File models/vampt2/\u001b[33mepoch\u001b[0m=\u001b[1;36m99\u001b[0m/model.pt already downloaded                                                   \n",
      "\u001b[34mINFO    \u001b[0m File models/vampt2/\u001b[33mepoch\u001b[0m=\u001b[1;36m109\u001b[0m/model.pt already downloaded                                                  \n",
      "\u001b[34mINFO    \u001b[0m File models/vampt2/\u001b[33mepoch\u001b[0m=\u001b[1;36m119\u001b[0m/model.pt already downloaded                                                  \n",
      "\u001b[34mINFO    \u001b[0m File models/vampt2/\u001b[33mepoch\u001b[0m=\u001b[1;36m129\u001b[0m/model.pt already downloaded                                                  \n",
      "\u001b[34mINFO    \u001b[0m File models/vampt2/\u001b[33mepoch\u001b[0m=\u001b[1;36m139\u001b[0m/model.pt already downloaded                                                  \n",
      "\u001b[34mINFO    \u001b[0m File models/vampt2/\u001b[33mepoch\u001b[0m=\u001b[1;36m149\u001b[0m/model.pt already downloaded                                                  \n",
      "\u001b[34mINFO    \u001b[0m File models/vampt2/\u001b[33mepoch\u001b[0m=\u001b[1;36m159\u001b[0m/model.pt already downloaded                                                  \n",
      "\u001b[34mINFO    \u001b[0m File models/vampt2/\u001b[33mepoch\u001b[0m=\u001b[1;36m169\u001b[0m/model.pt already downloaded                                                  \n",
      "\u001b[34mINFO    \u001b[0m File models/vampt2/\u001b[33mepoch\u001b[0m=\u001b[1;36m179\u001b[0m/model.pt already downloaded                                                  \n",
      "\u001b[34mINFO    \u001b[0m File models/vampt2/\u001b[33mepoch\u001b[0m=\u001b[1;36m189\u001b[0m/model.pt already downloaded                                                  \n",
      "\u001b[34mINFO    \u001b[0m File models/vampt2/\u001b[33mepoch\u001b[0m=\u001b[1;36m199\u001b[0m/model.pt already downloaded                                                  \n",
      "\u001b[34mINFO    \u001b[0m File models/vampt2/\u001b[33mepoch\u001b[0m=\u001b[1;36m209\u001b[0m/model.pt already downloaded                                                  \n",
      "\u001b[34mINFO    \u001b[0m File models/vampt2/\u001b[33mepoch\u001b[0m=\u001b[1;36m219\u001b[0m/model.pt already downloaded                                                  \n",
      "\u001b[34mINFO    \u001b[0m File models/vampt2/\u001b[33mepoch\u001b[0m=\u001b[1;36m229\u001b[0m/model.pt already downloaded                                                  \n",
      "\u001b[34mINFO    \u001b[0m File models/vampt2/\u001b[33mepoch\u001b[0m=\u001b[1;36m239\u001b[0m/model.pt already downloaded                                                  \n",
      "\u001b[34mINFO    \u001b[0m File models/vampt2/\u001b[33mepoch\u001b[0m=\u001b[1;36m249\u001b[0m/model.pt already downloaded                                                  \n",
      "\u001b[34mINFO    \u001b[0m File models/vampt2/\u001b[33mepoch\u001b[0m=\u001b[1;36m259\u001b[0m/model.pt already downloaded                                                  \n",
      "\u001b[34mINFO    \u001b[0m File models/vampt2/\u001b[33mepoch\u001b[0m=\u001b[1;36m269\u001b[0m/model.pt already downloaded                                                  \n",
      "\u001b[34mINFO    \u001b[0m File models/vampt2/\u001b[33mepoch\u001b[0m=\u001b[1;36m279\u001b[0m/model.pt already downloaded                                                  \n",
      "\u001b[34mINFO    \u001b[0m File models/vampt2/\u001b[33mepoch\u001b[0m=\u001b[1;36m289\u001b[0m/model.pt already downloaded                                                  \n",
      "\u001b[34mINFO    \u001b[0m File models/vampt2/\u001b[33mepoch\u001b[0m=\u001b[1;36m299\u001b[0m/model.pt already downloaded                                                  \n",
      "\u001b[34mINFO    \u001b[0m File models/vampt2/\u001b[33mepoch\u001b[0m=\u001b[1;36m309\u001b[0m/model.pt already downloaded                                                  \n",
      "\u001b[34mINFO    \u001b[0m File models/vampt2/\u001b[33mepoch\u001b[0m=\u001b[1;36m319\u001b[0m/model.pt already downloaded                                                  \n",
      "\u001b[34mINFO    \u001b[0m File models/vampt2/\u001b[33mepoch\u001b[0m=\u001b[1;36m329\u001b[0m/model.pt already downloaded                                                  \n",
      "\u001b[34mINFO    \u001b[0m File models/vampt2/\u001b[33mepoch\u001b[0m=\u001b[1;36m339\u001b[0m/model.pt already downloaded                                                  \n",
      "\u001b[34mINFO    \u001b[0m File models/vampt2/\u001b[33mepoch\u001b[0m=\u001b[1;36m349\u001b[0m/model.pt already downloaded                                                  \n",
      "\u001b[34mINFO    \u001b[0m File models/vampt2/\u001b[33mepoch\u001b[0m=\u001b[1;36m359\u001b[0m/model.pt already downloaded                                                  \n",
      "\u001b[34mINFO    \u001b[0m File models/vampt2/\u001b[33mepoch\u001b[0m=\u001b[1;36m369\u001b[0m/model.pt already downloaded                                                  \n",
      "\u001b[34mINFO    \u001b[0m File models/vampt2/\u001b[33mepoch\u001b[0m=\u001b[1;36m379\u001b[0m/model.pt already downloaded                                                  \n",
      "\u001b[34mINFO    \u001b[0m File models/vampt2/\u001b[33mepoch\u001b[0m=\u001b[1;36m389\u001b[0m/model.pt already downloaded                                                  \n"
     ]
    },
    {
     "name": "stderr",
     "output_type": "stream",
     "text": [
      "Computing neighbors: 100%|██████████| 39/39 [19:40<00:00, 30.28s/it]\n",
      "Embeddings: 100%|\u001b[32m██████████\u001b[0m| 39/39 [12:08<00:00, 18.68s/it]\n"
     ]
    },
    {
     "name": "stdout",
     "output_type": "stream",
     "text": [
      "\u001b[34mINFO    \u001b[0m File models/vampt3/\u001b[33mepoch\u001b[0m=\u001b[1;36m9\u001b[0m/model.pt already downloaded                                                    \n",
      "\u001b[34mINFO    \u001b[0m File models/vampt3/\u001b[33mepoch\u001b[0m=\u001b[1;36m19\u001b[0m/model.pt already downloaded                                                   \n",
      "\u001b[34mINFO    \u001b[0m File models/vampt3/\u001b[33mepoch\u001b[0m=\u001b[1;36m29\u001b[0m/model.pt already downloaded                                                   \n",
      "\u001b[34mINFO    \u001b[0m File models/vampt3/\u001b[33mepoch\u001b[0m=\u001b[1;36m39\u001b[0m/model.pt already downloaded                                                   \n",
      "\u001b[34mINFO    \u001b[0m File models/vampt3/\u001b[33mepoch\u001b[0m=\u001b[1;36m49\u001b[0m/model.pt already downloaded                                                   \n",
      "\u001b[34mINFO    \u001b[0m File models/vampt3/\u001b[33mepoch\u001b[0m=\u001b[1;36m59\u001b[0m/model.pt already downloaded                                                   \n",
      "\u001b[34mINFO    \u001b[0m File models/vampt3/\u001b[33mepoch\u001b[0m=\u001b[1;36m69\u001b[0m/model.pt already downloaded                                                   \n",
      "\u001b[34mINFO    \u001b[0m File models/vampt3/\u001b[33mepoch\u001b[0m=\u001b[1;36m79\u001b[0m/model.pt already downloaded                                                   \n",
      "\u001b[34mINFO    \u001b[0m File models/vampt3/\u001b[33mepoch\u001b[0m=\u001b[1;36m89\u001b[0m/model.pt already downloaded                                                   \n",
      "\u001b[34mINFO    \u001b[0m File models/vampt3/\u001b[33mepoch\u001b[0m=\u001b[1;36m99\u001b[0m/model.pt already downloaded                                                   \n",
      "\u001b[34mINFO    \u001b[0m File models/vampt3/\u001b[33mepoch\u001b[0m=\u001b[1;36m109\u001b[0m/model.pt already downloaded                                                  \n",
      "\u001b[34mINFO    \u001b[0m File models/vampt3/\u001b[33mepoch\u001b[0m=\u001b[1;36m119\u001b[0m/model.pt already downloaded                                                  \n",
      "\u001b[34mINFO    \u001b[0m File models/vampt3/\u001b[33mepoch\u001b[0m=\u001b[1;36m129\u001b[0m/model.pt already downloaded                                                  \n",
      "\u001b[34mINFO    \u001b[0m File models/vampt3/\u001b[33mepoch\u001b[0m=\u001b[1;36m139\u001b[0m/model.pt already downloaded                                                  \n",
      "\u001b[34mINFO    \u001b[0m File models/vampt3/\u001b[33mepoch\u001b[0m=\u001b[1;36m149\u001b[0m/model.pt already downloaded                                                  \n",
      "\u001b[34mINFO    \u001b[0m File models/vampt3/\u001b[33mepoch\u001b[0m=\u001b[1;36m159\u001b[0m/model.pt already downloaded                                                  \n",
      "\u001b[34mINFO    \u001b[0m File models/vampt3/\u001b[33mepoch\u001b[0m=\u001b[1;36m169\u001b[0m/model.pt already downloaded                                                  \n",
      "\u001b[34mINFO    \u001b[0m File models/vampt3/\u001b[33mepoch\u001b[0m=\u001b[1;36m179\u001b[0m/model.pt already downloaded                                                  \n",
      "\u001b[34mINFO    \u001b[0m File models/vampt3/\u001b[33mepoch\u001b[0m=\u001b[1;36m189\u001b[0m/model.pt already downloaded                                                  \n",
      "\u001b[34mINFO    \u001b[0m File models/vampt3/\u001b[33mepoch\u001b[0m=\u001b[1;36m199\u001b[0m/model.pt already downloaded                                                  \n",
      "\u001b[34mINFO    \u001b[0m File models/vampt3/\u001b[33mepoch\u001b[0m=\u001b[1;36m209\u001b[0m/model.pt already downloaded                                                  \n",
      "\u001b[34mINFO    \u001b[0m File models/vampt3/\u001b[33mepoch\u001b[0m=\u001b[1;36m219\u001b[0m/model.pt already downloaded                                                  \n",
      "\u001b[34mINFO    \u001b[0m File models/vampt3/\u001b[33mepoch\u001b[0m=\u001b[1;36m229\u001b[0m/model.pt already downloaded                                                  \n",
      "\u001b[34mINFO    \u001b[0m File models/vampt3/\u001b[33mepoch\u001b[0m=\u001b[1;36m239\u001b[0m/model.pt already downloaded                                                  \n",
      "\u001b[34mINFO    \u001b[0m File models/vampt3/\u001b[33mepoch\u001b[0m=\u001b[1;36m249\u001b[0m/model.pt already downloaded                                                  \n",
      "\u001b[34mINFO    \u001b[0m File models/vampt3/\u001b[33mepoch\u001b[0m=\u001b[1;36m259\u001b[0m/model.pt already downloaded                                                  \n",
      "\u001b[34mINFO    \u001b[0m File models/vampt3/\u001b[33mepoch\u001b[0m=\u001b[1;36m269\u001b[0m/model.pt already downloaded                                                  \n",
      "\u001b[34mINFO    \u001b[0m File models/vampt3/\u001b[33mepoch\u001b[0m=\u001b[1;36m279\u001b[0m/model.pt already downloaded                                                  \n",
      "\u001b[34mINFO    \u001b[0m File models/vampt3/\u001b[33mepoch\u001b[0m=\u001b[1;36m289\u001b[0m/model.pt already downloaded                                                  \n",
      "\u001b[34mINFO    \u001b[0m File models/vampt3/\u001b[33mepoch\u001b[0m=\u001b[1;36m299\u001b[0m/model.pt already downloaded                                                  \n",
      "\u001b[34mINFO    \u001b[0m File models/vampt3/\u001b[33mepoch\u001b[0m=\u001b[1;36m309\u001b[0m/model.pt already downloaded                                                  \n",
      "\u001b[34mINFO    \u001b[0m File models/vampt3/\u001b[33mepoch\u001b[0m=\u001b[1;36m319\u001b[0m/model.pt already downloaded                                                  \n",
      "\u001b[34mINFO    \u001b[0m File models/vampt3/\u001b[33mepoch\u001b[0m=\u001b[1;36m329\u001b[0m/model.pt already downloaded                                                  \n",
      "\u001b[34mINFO    \u001b[0m File models/vampt3/\u001b[33mepoch\u001b[0m=\u001b[1;36m339\u001b[0m/model.pt already downloaded                                                  \n",
      "\u001b[34mINFO    \u001b[0m File models/vampt3/\u001b[33mepoch\u001b[0m=\u001b[1;36m349\u001b[0m/model.pt already downloaded                                                  \n",
      "\u001b[34mINFO    \u001b[0m File models/vampt3/\u001b[33mepoch\u001b[0m=\u001b[1;36m359\u001b[0m/model.pt already downloaded                                                  \n",
      "\u001b[34mINFO    \u001b[0m File models/vampt3/\u001b[33mepoch\u001b[0m=\u001b[1;36m369\u001b[0m/model.pt already downloaded                                                  \n",
      "\u001b[34mINFO    \u001b[0m File models/vampt3/\u001b[33mepoch\u001b[0m=\u001b[1;36m379\u001b[0m/model.pt already downloaded                                                  \n",
      "\u001b[34mINFO    \u001b[0m File models/vampt3/\u001b[33mepoch\u001b[0m=\u001b[1;36m389\u001b[0m/model.pt already downloaded                                                  \n"
     ]
    },
    {
     "name": "stderr",
     "output_type": "stream",
     "text": [
      "Computing neighbors: 100%|██████████| 39/39 [19:23<00:00, 29.82s/it]\n",
      "Embeddings: 100%|\u001b[32m██████████\u001b[0m| 39/39 [12:00<00:00, 18.48s/it]\n"
     ]
    },
    {
     "name": "stdout",
     "output_type": "stream",
     "text": [
      "\u001b[34mINFO    \u001b[0m File models/vampt4/\u001b[33mepoch\u001b[0m=\u001b[1;36m9\u001b[0m/model.pt already downloaded                                                    \n",
      "\u001b[34mINFO    \u001b[0m File models/vampt4/\u001b[33mepoch\u001b[0m=\u001b[1;36m19\u001b[0m/model.pt already downloaded                                                   \n",
      "\u001b[34mINFO    \u001b[0m File models/vampt4/\u001b[33mepoch\u001b[0m=\u001b[1;36m29\u001b[0m/model.pt already downloaded                                                   \n",
      "\u001b[34mINFO    \u001b[0m File models/vampt4/\u001b[33mepoch\u001b[0m=\u001b[1;36m39\u001b[0m/model.pt already downloaded                                                   \n",
      "\u001b[34mINFO    \u001b[0m File models/vampt4/\u001b[33mepoch\u001b[0m=\u001b[1;36m49\u001b[0m/model.pt already downloaded                                                   \n",
      "\u001b[34mINFO    \u001b[0m File models/vampt4/\u001b[33mepoch\u001b[0m=\u001b[1;36m59\u001b[0m/model.pt already downloaded                                                   \n",
      "\u001b[34mINFO    \u001b[0m File models/vampt4/\u001b[33mepoch\u001b[0m=\u001b[1;36m69\u001b[0m/model.pt already downloaded                                                   \n",
      "\u001b[34mINFO    \u001b[0m File models/vampt4/\u001b[33mepoch\u001b[0m=\u001b[1;36m79\u001b[0m/model.pt already downloaded                                                   \n",
      "\u001b[34mINFO    \u001b[0m File models/vampt4/\u001b[33mepoch\u001b[0m=\u001b[1;36m89\u001b[0m/model.pt already downloaded                                                   \n",
      "\u001b[34mINFO    \u001b[0m File models/vampt4/\u001b[33mepoch\u001b[0m=\u001b[1;36m99\u001b[0m/model.pt already downloaded                                                   \n",
      "\u001b[34mINFO    \u001b[0m File models/vampt4/\u001b[33mepoch\u001b[0m=\u001b[1;36m109\u001b[0m/model.pt already downloaded                                                  \n",
      "\u001b[34mINFO    \u001b[0m File models/vampt4/\u001b[33mepoch\u001b[0m=\u001b[1;36m119\u001b[0m/model.pt already downloaded                                                  \n",
      "\u001b[34mINFO    \u001b[0m File models/vampt4/\u001b[33mepoch\u001b[0m=\u001b[1;36m129\u001b[0m/model.pt already downloaded                                                  \n",
      "\u001b[34mINFO    \u001b[0m File models/vampt4/\u001b[33mepoch\u001b[0m=\u001b[1;36m139\u001b[0m/model.pt already downloaded                                                  \n",
      "\u001b[34mINFO    \u001b[0m File models/vampt4/\u001b[33mepoch\u001b[0m=\u001b[1;36m149\u001b[0m/model.pt already downloaded                                                  \n",
      "\u001b[34mINFO    \u001b[0m File models/vampt4/\u001b[33mepoch\u001b[0m=\u001b[1;36m159\u001b[0m/model.pt already downloaded                                                  \n",
      "\u001b[34mINFO    \u001b[0m File models/vampt4/\u001b[33mepoch\u001b[0m=\u001b[1;36m169\u001b[0m/model.pt already downloaded                                                  \n",
      "\u001b[34mINFO    \u001b[0m File models/vampt4/\u001b[33mepoch\u001b[0m=\u001b[1;36m179\u001b[0m/model.pt already downloaded                                                  \n",
      "\u001b[34mINFO    \u001b[0m File models/vampt4/\u001b[33mepoch\u001b[0m=\u001b[1;36m189\u001b[0m/model.pt already downloaded                                                  \n",
      "\u001b[34mINFO    \u001b[0m File models/vampt4/\u001b[33mepoch\u001b[0m=\u001b[1;36m199\u001b[0m/model.pt already downloaded                                                  \n",
      "\u001b[34mINFO    \u001b[0m File models/vampt4/\u001b[33mepoch\u001b[0m=\u001b[1;36m209\u001b[0m/model.pt already downloaded                                                  \n",
      "\u001b[34mINFO    \u001b[0m File models/vampt4/\u001b[33mepoch\u001b[0m=\u001b[1;36m219\u001b[0m/model.pt already downloaded                                                  \n",
      "\u001b[34mINFO    \u001b[0m File models/vampt4/\u001b[33mepoch\u001b[0m=\u001b[1;36m229\u001b[0m/model.pt already downloaded                                                  \n",
      "\u001b[34mINFO    \u001b[0m File models/vampt4/\u001b[33mepoch\u001b[0m=\u001b[1;36m239\u001b[0m/model.pt already downloaded                                                  \n",
      "\u001b[34mINFO    \u001b[0m File models/vampt4/\u001b[33mepoch\u001b[0m=\u001b[1;36m249\u001b[0m/model.pt already downloaded                                                  \n",
      "\u001b[34mINFO    \u001b[0m File models/vampt4/\u001b[33mepoch\u001b[0m=\u001b[1;36m259\u001b[0m/model.pt already downloaded                                                  \n",
      "\u001b[34mINFO    \u001b[0m File models/vampt4/\u001b[33mepoch\u001b[0m=\u001b[1;36m269\u001b[0m/model.pt already downloaded                                                  \n",
      "\u001b[34mINFO    \u001b[0m File models/vampt4/\u001b[33mepoch\u001b[0m=\u001b[1;36m279\u001b[0m/model.pt already downloaded                                                  \n",
      "\u001b[34mINFO    \u001b[0m File models/vampt4/\u001b[33mepoch\u001b[0m=\u001b[1;36m289\u001b[0m/model.pt already downloaded                                                  \n",
      "\u001b[34mINFO    \u001b[0m File models/vampt4/\u001b[33mepoch\u001b[0m=\u001b[1;36m299\u001b[0m/model.pt already downloaded                                                  \n",
      "\u001b[34mINFO    \u001b[0m File models/vampt4/\u001b[33mepoch\u001b[0m=\u001b[1;36m309\u001b[0m/model.pt already downloaded                                                  \n",
      "\u001b[34mINFO    \u001b[0m File models/vampt4/\u001b[33mepoch\u001b[0m=\u001b[1;36m319\u001b[0m/model.pt already downloaded                                                  \n",
      "\u001b[34mINFO    \u001b[0m File models/vampt4/\u001b[33mepoch\u001b[0m=\u001b[1;36m329\u001b[0m/model.pt already downloaded                                                  \n",
      "\u001b[34mINFO    \u001b[0m File models/vampt4/\u001b[33mepoch\u001b[0m=\u001b[1;36m339\u001b[0m/model.pt already downloaded                                                  \n",
      "\u001b[34mINFO    \u001b[0m File models/vampt4/\u001b[33mepoch\u001b[0m=\u001b[1;36m349\u001b[0m/model.pt already downloaded                                                  \n",
      "\u001b[34mINFO    \u001b[0m File models/vampt4/\u001b[33mepoch\u001b[0m=\u001b[1;36m359\u001b[0m/model.pt already downloaded                                                  \n",
      "\u001b[34mINFO    \u001b[0m File models/vampt4/\u001b[33mepoch\u001b[0m=\u001b[1;36m369\u001b[0m/model.pt already downloaded                                                  \n",
      "\u001b[34mINFO    \u001b[0m File models/vampt4/\u001b[33mepoch\u001b[0m=\u001b[1;36m379\u001b[0m/model.pt already downloaded                                                  \n",
      "\u001b[34mINFO    \u001b[0m File models/vampt4/\u001b[33mepoch\u001b[0m=\u001b[1;36m389\u001b[0m/model.pt already downloaded                                                  \n"
     ]
    },
    {
     "name": "stderr",
     "output_type": "stream",
     "text": [
      "Computing neighbors: 100%|██████████| 39/39 [19:38<00:00, 30.22s/it]\n",
      "Embeddings: 100%|\u001b[32m██████████\u001b[0m| 39/39 [10:47<00:00, 16.59s/it]\n"
     ]
    }
   ],
   "source": [
    "resultsVP = benchmarkN(\"vamp\", n)\n",
    "resultsVP.to_csv(\"results/result_VP.csv\")"
   ]
  },
  {
   "cell_type": "code",
   "execution_count": 6,
   "metadata": {},
   "outputs": [
    {
     "name": "stdout",
     "output_type": "stream",
     "text": [
      "\u001b[34mINFO    \u001b[0m File models/normalflowt0/\u001b[33mepoch\u001b[0m=\u001b[1;36m9\u001b[0m/model.pt already downloaded                                              \n",
      "\u001b[34mINFO    \u001b[0m File models/normalflowt0/\u001b[33mepoch\u001b[0m=\u001b[1;36m19\u001b[0m/model.pt already downloaded                                             \n",
      "\u001b[34mINFO    \u001b[0m File models/normalflowt0/\u001b[33mepoch\u001b[0m=\u001b[1;36m29\u001b[0m/model.pt already downloaded                                             \n",
      "\u001b[34mINFO    \u001b[0m File models/normalflowt0/\u001b[33mepoch\u001b[0m=\u001b[1;36m39\u001b[0m/model.pt already downloaded                                             \n",
      "\u001b[34mINFO    \u001b[0m File models/normalflowt0/\u001b[33mepoch\u001b[0m=\u001b[1;36m49\u001b[0m/model.pt already downloaded                                             \n",
      "\u001b[34mINFO    \u001b[0m File models/normalflowt0/\u001b[33mepoch\u001b[0m=\u001b[1;36m59\u001b[0m/model.pt already downloaded                                             \n",
      "\u001b[34mINFO    \u001b[0m File models/normalflowt0/\u001b[33mepoch\u001b[0m=\u001b[1;36m69\u001b[0m/model.pt already downloaded                                             \n",
      "\u001b[34mINFO    \u001b[0m File models/normalflowt0/\u001b[33mepoch\u001b[0m=\u001b[1;36m79\u001b[0m/model.pt already downloaded                                             \n",
      "\u001b[34mINFO    \u001b[0m File models/normalflowt0/\u001b[33mepoch\u001b[0m=\u001b[1;36m89\u001b[0m/model.pt already downloaded                                             \n",
      "\u001b[34mINFO    \u001b[0m File models/normalflowt0/\u001b[33mepoch\u001b[0m=\u001b[1;36m99\u001b[0m/model.pt already downloaded                                             \n",
      "\u001b[34mINFO    \u001b[0m File models/normalflowt0/\u001b[33mepoch\u001b[0m=\u001b[1;36m109\u001b[0m/model.pt already downloaded                                            \n",
      "\u001b[34mINFO    \u001b[0m File models/normalflowt0/\u001b[33mepoch\u001b[0m=\u001b[1;36m119\u001b[0m/model.pt already downloaded                                            \n",
      "\u001b[34mINFO    \u001b[0m File models/normalflowt0/\u001b[33mepoch\u001b[0m=\u001b[1;36m129\u001b[0m/model.pt already downloaded                                            \n",
      "\u001b[34mINFO    \u001b[0m File models/normalflowt0/\u001b[33mepoch\u001b[0m=\u001b[1;36m139\u001b[0m/model.pt already downloaded                                            \n",
      "\u001b[34mINFO    \u001b[0m File models/normalflowt0/\u001b[33mepoch\u001b[0m=\u001b[1;36m149\u001b[0m/model.pt already downloaded                                            \n",
      "\u001b[34mINFO    \u001b[0m File models/normalflowt0/\u001b[33mepoch\u001b[0m=\u001b[1;36m159\u001b[0m/model.pt already downloaded                                            \n",
      "\u001b[34mINFO    \u001b[0m File models/normalflowt0/\u001b[33mepoch\u001b[0m=\u001b[1;36m169\u001b[0m/model.pt already downloaded                                            \n",
      "\u001b[34mINFO    \u001b[0m File models/normalflowt0/\u001b[33mepoch\u001b[0m=\u001b[1;36m179\u001b[0m/model.pt already downloaded                                            \n",
      "\u001b[34mINFO    \u001b[0m File models/normalflowt0/\u001b[33mepoch\u001b[0m=\u001b[1;36m189\u001b[0m/model.pt already downloaded                                            \n",
      "\u001b[34mINFO    \u001b[0m File models/normalflowt0/\u001b[33mepoch\u001b[0m=\u001b[1;36m199\u001b[0m/model.pt already downloaded                                            \n",
      "\u001b[34mINFO    \u001b[0m File models/normalflowt0/\u001b[33mepoch\u001b[0m=\u001b[1;36m209\u001b[0m/model.pt already downloaded                                            \n",
      "\u001b[34mINFO    \u001b[0m File models/normalflowt0/\u001b[33mepoch\u001b[0m=\u001b[1;36m219\u001b[0m/model.pt already downloaded                                            \n",
      "\u001b[34mINFO    \u001b[0m File models/normalflowt0/\u001b[33mepoch\u001b[0m=\u001b[1;36m229\u001b[0m/model.pt already downloaded                                            \n",
      "\u001b[34mINFO    \u001b[0m File models/normalflowt0/\u001b[33mepoch\u001b[0m=\u001b[1;36m239\u001b[0m/model.pt already downloaded                                            \n",
      "\u001b[34mINFO    \u001b[0m File models/normalflowt0/\u001b[33mepoch\u001b[0m=\u001b[1;36m249\u001b[0m/model.pt already downloaded                                            \n",
      "\u001b[34mINFO    \u001b[0m File models/normalflowt0/\u001b[33mepoch\u001b[0m=\u001b[1;36m259\u001b[0m/model.pt already downloaded                                            \n",
      "\u001b[34mINFO    \u001b[0m File models/normalflowt0/\u001b[33mepoch\u001b[0m=\u001b[1;36m269\u001b[0m/model.pt already downloaded                                            \n",
      "\u001b[34mINFO    \u001b[0m File models/normalflowt0/\u001b[33mepoch\u001b[0m=\u001b[1;36m279\u001b[0m/model.pt already downloaded                                            \n",
      "\u001b[34mINFO    \u001b[0m File models/normalflowt0/\u001b[33mepoch\u001b[0m=\u001b[1;36m289\u001b[0m/model.pt already downloaded                                            \n",
      "\u001b[34mINFO    \u001b[0m File models/normalflowt0/\u001b[33mepoch\u001b[0m=\u001b[1;36m299\u001b[0m/model.pt already downloaded                                            \n",
      "\u001b[34mINFO    \u001b[0m File models/normalflowt0/\u001b[33mepoch\u001b[0m=\u001b[1;36m309\u001b[0m/model.pt already downloaded                                            \n",
      "\u001b[34mINFO    \u001b[0m File models/normalflowt0/\u001b[33mepoch\u001b[0m=\u001b[1;36m319\u001b[0m/model.pt already downloaded                                            \n",
      "\u001b[34mINFO    \u001b[0m File models/normalflowt0/\u001b[33mepoch\u001b[0m=\u001b[1;36m329\u001b[0m/model.pt already downloaded                                            \n",
      "\u001b[34mINFO    \u001b[0m File models/normalflowt0/\u001b[33mepoch\u001b[0m=\u001b[1;36m339\u001b[0m/model.pt already downloaded                                            \n",
      "\u001b[34mINFO    \u001b[0m File models/normalflowt0/\u001b[33mepoch\u001b[0m=\u001b[1;36m349\u001b[0m/model.pt already downloaded                                            \n",
      "\u001b[34mINFO    \u001b[0m File models/normalflowt0/\u001b[33mepoch\u001b[0m=\u001b[1;36m359\u001b[0m/model.pt already downloaded                                            \n",
      "\u001b[34mINFO    \u001b[0m File models/normalflowt0/\u001b[33mepoch\u001b[0m=\u001b[1;36m369\u001b[0m/model.pt already downloaded                                            \n",
      "\u001b[34mINFO    \u001b[0m File models/normalflowt0/\u001b[33mepoch\u001b[0m=\u001b[1;36m379\u001b[0m/model.pt already downloaded                                            \n",
      "\u001b[34mINFO    \u001b[0m File models/normalflowt0/\u001b[33mepoch\u001b[0m=\u001b[1;36m389\u001b[0m/model.pt already downloaded                                            \n"
     ]
    },
    {
     "name": "stderr",
     "output_type": "stream",
     "text": [
      "Computing neighbors: 100%|██████████| 39/39 [19:47<00:00, 30.45s/it]\n",
      "Embeddings: 100%|\u001b[32m██████████\u001b[0m| 39/39 [12:24<00:00, 19.10s/it]\n"
     ]
    },
    {
     "name": "stdout",
     "output_type": "stream",
     "text": [
      "\u001b[34mINFO    \u001b[0m File models/normalflowt1/\u001b[33mepoch\u001b[0m=\u001b[1;36m9\u001b[0m/model.pt already downloaded                                              \n",
      "\u001b[34mINFO    \u001b[0m File models/normalflowt1/\u001b[33mepoch\u001b[0m=\u001b[1;36m19\u001b[0m/model.pt already downloaded                                             \n",
      "\u001b[34mINFO    \u001b[0m File models/normalflowt1/\u001b[33mepoch\u001b[0m=\u001b[1;36m29\u001b[0m/model.pt already downloaded                                             \n",
      "\u001b[34mINFO    \u001b[0m File models/normalflowt1/\u001b[33mepoch\u001b[0m=\u001b[1;36m39\u001b[0m/model.pt already downloaded                                             \n",
      "\u001b[34mINFO    \u001b[0m File models/normalflowt1/\u001b[33mepoch\u001b[0m=\u001b[1;36m49\u001b[0m/model.pt already downloaded                                             \n",
      "\u001b[34mINFO    \u001b[0m File models/normalflowt1/\u001b[33mepoch\u001b[0m=\u001b[1;36m59\u001b[0m/model.pt already downloaded                                             \n",
      "\u001b[34mINFO    \u001b[0m File models/normalflowt1/\u001b[33mepoch\u001b[0m=\u001b[1;36m69\u001b[0m/model.pt already downloaded                                             \n",
      "\u001b[34mINFO    \u001b[0m File models/normalflowt1/\u001b[33mepoch\u001b[0m=\u001b[1;36m79\u001b[0m/model.pt already downloaded                                             \n",
      "\u001b[34mINFO    \u001b[0m File models/normalflowt1/\u001b[33mepoch\u001b[0m=\u001b[1;36m89\u001b[0m/model.pt already downloaded                                             \n",
      "\u001b[34mINFO    \u001b[0m File models/normalflowt1/\u001b[33mepoch\u001b[0m=\u001b[1;36m99\u001b[0m/model.pt already downloaded                                             \n",
      "\u001b[34mINFO    \u001b[0m File models/normalflowt1/\u001b[33mepoch\u001b[0m=\u001b[1;36m109\u001b[0m/model.pt already downloaded                                            \n",
      "\u001b[34mINFO    \u001b[0m File models/normalflowt1/\u001b[33mepoch\u001b[0m=\u001b[1;36m119\u001b[0m/model.pt already downloaded                                            \n",
      "\u001b[34mINFO    \u001b[0m File models/normalflowt1/\u001b[33mepoch\u001b[0m=\u001b[1;36m129\u001b[0m/model.pt already downloaded                                            \n",
      "\u001b[34mINFO    \u001b[0m File models/normalflowt1/\u001b[33mepoch\u001b[0m=\u001b[1;36m139\u001b[0m/model.pt already downloaded                                            \n",
      "\u001b[34mINFO    \u001b[0m File models/normalflowt1/\u001b[33mepoch\u001b[0m=\u001b[1;36m149\u001b[0m/model.pt already downloaded                                            \n",
      "\u001b[34mINFO    \u001b[0m File models/normalflowt1/\u001b[33mepoch\u001b[0m=\u001b[1;36m159\u001b[0m/model.pt already downloaded                                            \n",
      "\u001b[34mINFO    \u001b[0m File models/normalflowt1/\u001b[33mepoch\u001b[0m=\u001b[1;36m169\u001b[0m/model.pt already downloaded                                            \n",
      "\u001b[34mINFO    \u001b[0m File models/normalflowt1/\u001b[33mepoch\u001b[0m=\u001b[1;36m179\u001b[0m/model.pt already downloaded                                            \n",
      "\u001b[34mINFO    \u001b[0m File models/normalflowt1/\u001b[33mepoch\u001b[0m=\u001b[1;36m189\u001b[0m/model.pt already downloaded                                            \n",
      "\u001b[34mINFO    \u001b[0m File models/normalflowt1/\u001b[33mepoch\u001b[0m=\u001b[1;36m199\u001b[0m/model.pt already downloaded                                            \n",
      "\u001b[34mINFO    \u001b[0m File models/normalflowt1/\u001b[33mepoch\u001b[0m=\u001b[1;36m209\u001b[0m/model.pt already downloaded                                            \n",
      "\u001b[34mINFO    \u001b[0m File models/normalflowt1/\u001b[33mepoch\u001b[0m=\u001b[1;36m219\u001b[0m/model.pt already downloaded                                            \n",
      "\u001b[34mINFO    \u001b[0m File models/normalflowt1/\u001b[33mepoch\u001b[0m=\u001b[1;36m229\u001b[0m/model.pt already downloaded                                            \n",
      "\u001b[34mINFO    \u001b[0m File models/normalflowt1/\u001b[33mepoch\u001b[0m=\u001b[1;36m239\u001b[0m/model.pt already downloaded                                            \n",
      "\u001b[34mINFO    \u001b[0m File models/normalflowt1/\u001b[33mepoch\u001b[0m=\u001b[1;36m249\u001b[0m/model.pt already downloaded                                            \n",
      "\u001b[34mINFO    \u001b[0m File models/normalflowt1/\u001b[33mepoch\u001b[0m=\u001b[1;36m259\u001b[0m/model.pt already downloaded                                            \n",
      "\u001b[34mINFO    \u001b[0m File models/normalflowt1/\u001b[33mepoch\u001b[0m=\u001b[1;36m269\u001b[0m/model.pt already downloaded                                            \n",
      "\u001b[34mINFO    \u001b[0m File models/normalflowt1/\u001b[33mepoch\u001b[0m=\u001b[1;36m279\u001b[0m/model.pt already downloaded                                            \n",
      "\u001b[34mINFO    \u001b[0m File models/normalflowt1/\u001b[33mepoch\u001b[0m=\u001b[1;36m289\u001b[0m/model.pt already downloaded                                            \n",
      "\u001b[34mINFO    \u001b[0m File models/normalflowt1/\u001b[33mepoch\u001b[0m=\u001b[1;36m299\u001b[0m/model.pt already downloaded                                            \n",
      "\u001b[34mINFO    \u001b[0m File models/normalflowt1/\u001b[33mepoch\u001b[0m=\u001b[1;36m309\u001b[0m/model.pt already downloaded                                            \n",
      "\u001b[34mINFO    \u001b[0m File models/normalflowt1/\u001b[33mepoch\u001b[0m=\u001b[1;36m319\u001b[0m/model.pt already downloaded                                            \n",
      "\u001b[34mINFO    \u001b[0m File models/normalflowt1/\u001b[33mepoch\u001b[0m=\u001b[1;36m329\u001b[0m/model.pt already downloaded                                            \n",
      "\u001b[34mINFO    \u001b[0m File models/normalflowt1/\u001b[33mepoch\u001b[0m=\u001b[1;36m339\u001b[0m/model.pt already downloaded                                            \n",
      "\u001b[34mINFO    \u001b[0m File models/normalflowt1/\u001b[33mepoch\u001b[0m=\u001b[1;36m349\u001b[0m/model.pt already downloaded                                            \n",
      "\u001b[34mINFO    \u001b[0m File models/normalflowt1/\u001b[33mepoch\u001b[0m=\u001b[1;36m359\u001b[0m/model.pt already downloaded                                            \n",
      "\u001b[34mINFO    \u001b[0m File models/normalflowt1/\u001b[33mepoch\u001b[0m=\u001b[1;36m369\u001b[0m/model.pt already downloaded                                            \n",
      "\u001b[34mINFO    \u001b[0m File models/normalflowt1/\u001b[33mepoch\u001b[0m=\u001b[1;36m379\u001b[0m/model.pt already downloaded                                            \n",
      "\u001b[34mINFO    \u001b[0m File models/normalflowt1/\u001b[33mepoch\u001b[0m=\u001b[1;36m389\u001b[0m/model.pt already downloaded                                            \n"
     ]
    },
    {
     "name": "stderr",
     "output_type": "stream",
     "text": [
      "Computing neighbors: 100%|██████████| 39/39 [19:10<00:00, 29.49s/it]\n",
      "Embeddings:  69%|\u001b[32m██████▉   \u001b[0m| 27/39 [07:16<03:10, 15.86s/it]"
     ]
    },
    {
     "name": "stdout",
     "output_type": "stream",
     "text": [
      "\u001b[34mINFO    \u001b[0m Diffusion distance failed. Skip.                                                                          \n"
     ]
    },
    {
     "name": "stderr",
     "output_type": "stream",
     "text": [
      "Embeddings: 100%|\u001b[32m██████████\u001b[0m| 39/39 [10:29<00:00, 16.14s/it]\n"
     ]
    },
    {
     "name": "stdout",
     "output_type": "stream",
     "text": [
      "\u001b[34mINFO    \u001b[0m File models/normalflowt2/\u001b[33mepoch\u001b[0m=\u001b[1;36m9\u001b[0m/model.pt already downloaded                                              \n",
      "\u001b[34mINFO    \u001b[0m File models/normalflowt2/\u001b[33mepoch\u001b[0m=\u001b[1;36m19\u001b[0m/model.pt already downloaded                                             \n",
      "\u001b[34mINFO    \u001b[0m File models/normalflowt2/\u001b[33mepoch\u001b[0m=\u001b[1;36m29\u001b[0m/model.pt already downloaded                                             \n",
      "\u001b[34mINFO    \u001b[0m File models/normalflowt2/\u001b[33mepoch\u001b[0m=\u001b[1;36m39\u001b[0m/model.pt already downloaded                                             \n",
      "\u001b[34mINFO    \u001b[0m File models/normalflowt2/\u001b[33mepoch\u001b[0m=\u001b[1;36m49\u001b[0m/model.pt already downloaded                                             \n",
      "\u001b[34mINFO    \u001b[0m File models/normalflowt2/\u001b[33mepoch\u001b[0m=\u001b[1;36m59\u001b[0m/model.pt already downloaded                                             \n",
      "\u001b[34mINFO    \u001b[0m File models/normalflowt2/\u001b[33mepoch\u001b[0m=\u001b[1;36m69\u001b[0m/model.pt already downloaded                                             \n",
      "\u001b[34mINFO    \u001b[0m File models/normalflowt2/\u001b[33mepoch\u001b[0m=\u001b[1;36m79\u001b[0m/model.pt already downloaded                                             \n",
      "\u001b[34mINFO    \u001b[0m File models/normalflowt2/\u001b[33mepoch\u001b[0m=\u001b[1;36m89\u001b[0m/model.pt already downloaded                                             \n",
      "\u001b[34mINFO    \u001b[0m File models/normalflowt2/\u001b[33mepoch\u001b[0m=\u001b[1;36m99\u001b[0m/model.pt already downloaded                                             \n",
      "\u001b[34mINFO    \u001b[0m File models/normalflowt2/\u001b[33mepoch\u001b[0m=\u001b[1;36m109\u001b[0m/model.pt already downloaded                                            \n",
      "\u001b[34mINFO    \u001b[0m File models/normalflowt2/\u001b[33mepoch\u001b[0m=\u001b[1;36m119\u001b[0m/model.pt already downloaded                                            \n",
      "\u001b[34mINFO    \u001b[0m File models/normalflowt2/\u001b[33mepoch\u001b[0m=\u001b[1;36m129\u001b[0m/model.pt already downloaded                                            \n",
      "\u001b[34mINFO    \u001b[0m File models/normalflowt2/\u001b[33mepoch\u001b[0m=\u001b[1;36m139\u001b[0m/model.pt already downloaded                                            \n",
      "\u001b[34mINFO    \u001b[0m File models/normalflowt2/\u001b[33mepoch\u001b[0m=\u001b[1;36m149\u001b[0m/model.pt already downloaded                                            \n",
      "\u001b[34mINFO    \u001b[0m File models/normalflowt2/\u001b[33mepoch\u001b[0m=\u001b[1;36m159\u001b[0m/model.pt already downloaded                                            \n",
      "\u001b[34mINFO    \u001b[0m File models/normalflowt2/\u001b[33mepoch\u001b[0m=\u001b[1;36m169\u001b[0m/model.pt already downloaded                                            \n",
      "\u001b[34mINFO    \u001b[0m File models/normalflowt2/\u001b[33mepoch\u001b[0m=\u001b[1;36m179\u001b[0m/model.pt already downloaded                                            \n",
      "\u001b[34mINFO    \u001b[0m File models/normalflowt2/\u001b[33mepoch\u001b[0m=\u001b[1;36m189\u001b[0m/model.pt already downloaded                                            \n",
      "\u001b[34mINFO    \u001b[0m File models/normalflowt2/\u001b[33mepoch\u001b[0m=\u001b[1;36m199\u001b[0m/model.pt already downloaded                                            \n",
      "\u001b[34mINFO    \u001b[0m File models/normalflowt2/\u001b[33mepoch\u001b[0m=\u001b[1;36m209\u001b[0m/model.pt already downloaded                                            \n",
      "\u001b[34mINFO    \u001b[0m File models/normalflowt2/\u001b[33mepoch\u001b[0m=\u001b[1;36m219\u001b[0m/model.pt already downloaded                                            \n",
      "\u001b[34mINFO    \u001b[0m File models/normalflowt2/\u001b[33mepoch\u001b[0m=\u001b[1;36m229\u001b[0m/model.pt already downloaded                                            \n",
      "\u001b[34mINFO    \u001b[0m File models/normalflowt2/\u001b[33mepoch\u001b[0m=\u001b[1;36m239\u001b[0m/model.pt already downloaded                                            \n",
      "\u001b[34mINFO    \u001b[0m File models/normalflowt2/\u001b[33mepoch\u001b[0m=\u001b[1;36m249\u001b[0m/model.pt already downloaded                                            \n",
      "\u001b[34mINFO    \u001b[0m File models/normalflowt2/\u001b[33mepoch\u001b[0m=\u001b[1;36m259\u001b[0m/model.pt already downloaded                                            \n",
      "\u001b[34mINFO    \u001b[0m File models/normalflowt2/\u001b[33mepoch\u001b[0m=\u001b[1;36m269\u001b[0m/model.pt already downloaded                                            \n",
      "\u001b[34mINFO    \u001b[0m File models/normalflowt2/\u001b[33mepoch\u001b[0m=\u001b[1;36m279\u001b[0m/model.pt already downloaded                                            \n",
      "\u001b[34mINFO    \u001b[0m File models/normalflowt2/\u001b[33mepoch\u001b[0m=\u001b[1;36m289\u001b[0m/model.pt already downloaded                                            \n",
      "\u001b[34mINFO    \u001b[0m File models/normalflowt2/\u001b[33mepoch\u001b[0m=\u001b[1;36m299\u001b[0m/model.pt already downloaded                                            \n",
      "\u001b[34mINFO    \u001b[0m File models/normalflowt2/\u001b[33mepoch\u001b[0m=\u001b[1;36m309\u001b[0m/model.pt already downloaded                                            \n",
      "\u001b[34mINFO    \u001b[0m File models/normalflowt2/\u001b[33mepoch\u001b[0m=\u001b[1;36m319\u001b[0m/model.pt already downloaded                                            \n",
      "\u001b[34mINFO    \u001b[0m File models/normalflowt2/\u001b[33mepoch\u001b[0m=\u001b[1;36m329\u001b[0m/model.pt already downloaded                                            \n",
      "\u001b[34mINFO    \u001b[0m File models/normalflowt2/\u001b[33mepoch\u001b[0m=\u001b[1;36m339\u001b[0m/model.pt already downloaded                                            \n",
      "\u001b[34mINFO    \u001b[0m File models/normalflowt2/\u001b[33mepoch\u001b[0m=\u001b[1;36m349\u001b[0m/model.pt already downloaded                                            \n",
      "\u001b[34mINFO    \u001b[0m File models/normalflowt2/\u001b[33mepoch\u001b[0m=\u001b[1;36m359\u001b[0m/model.pt already downloaded                                            \n",
      "\u001b[34mINFO    \u001b[0m File models/normalflowt2/\u001b[33mepoch\u001b[0m=\u001b[1;36m369\u001b[0m/model.pt already downloaded                                            \n",
      "\u001b[34mINFO    \u001b[0m File models/normalflowt2/\u001b[33mepoch\u001b[0m=\u001b[1;36m379\u001b[0m/model.pt already downloaded                                            \n",
      "\u001b[34mINFO    \u001b[0m File models/normalflowt2/\u001b[33mepoch\u001b[0m=\u001b[1;36m389\u001b[0m/model.pt already downloaded                                            \n"
     ]
    },
    {
     "name": "stderr",
     "output_type": "stream",
     "text": [
      "Computing neighbors: 100%|██████████| 39/39 [18:35<00:00, 28.59s/it]\n",
      "Embeddings: 100%|\u001b[32m██████████\u001b[0m| 39/39 [10:30<00:00, 16.16s/it]\n"
     ]
    },
    {
     "name": "stdout",
     "output_type": "stream",
     "text": [
      "\u001b[34mINFO    \u001b[0m File models/normalflowt3/\u001b[33mepoch\u001b[0m=\u001b[1;36m9\u001b[0m/model.pt already downloaded                                              \n",
      "\u001b[34mINFO    \u001b[0m File models/normalflowt3/\u001b[33mepoch\u001b[0m=\u001b[1;36m19\u001b[0m/model.pt already downloaded                                             \n",
      "\u001b[34mINFO    \u001b[0m File models/normalflowt3/\u001b[33mepoch\u001b[0m=\u001b[1;36m29\u001b[0m/model.pt already downloaded                                             \n",
      "\u001b[34mINFO    \u001b[0m File models/normalflowt3/\u001b[33mepoch\u001b[0m=\u001b[1;36m39\u001b[0m/model.pt already downloaded                                             \n",
      "\u001b[34mINFO    \u001b[0m File models/normalflowt3/\u001b[33mepoch\u001b[0m=\u001b[1;36m49\u001b[0m/model.pt already downloaded                                             \n",
      "\u001b[34mINFO    \u001b[0m File models/normalflowt3/\u001b[33mepoch\u001b[0m=\u001b[1;36m59\u001b[0m/model.pt already downloaded                                             \n",
      "\u001b[34mINFO    \u001b[0m File models/normalflowt3/\u001b[33mepoch\u001b[0m=\u001b[1;36m69\u001b[0m/model.pt already downloaded                                             \n",
      "\u001b[34mINFO    \u001b[0m File models/normalflowt3/\u001b[33mepoch\u001b[0m=\u001b[1;36m79\u001b[0m/model.pt already downloaded                                             \n",
      "\u001b[34mINFO    \u001b[0m File models/normalflowt3/\u001b[33mepoch\u001b[0m=\u001b[1;36m89\u001b[0m/model.pt already downloaded                                             \n",
      "\u001b[34mINFO    \u001b[0m File models/normalflowt3/\u001b[33mepoch\u001b[0m=\u001b[1;36m99\u001b[0m/model.pt already downloaded                                             \n",
      "\u001b[34mINFO    \u001b[0m File models/normalflowt3/\u001b[33mepoch\u001b[0m=\u001b[1;36m109\u001b[0m/model.pt already downloaded                                            \n",
      "\u001b[34mINFO    \u001b[0m File models/normalflowt3/\u001b[33mepoch\u001b[0m=\u001b[1;36m119\u001b[0m/model.pt already downloaded                                            \n",
      "\u001b[34mINFO    \u001b[0m File models/normalflowt3/\u001b[33mepoch\u001b[0m=\u001b[1;36m129\u001b[0m/model.pt already downloaded                                            \n",
      "\u001b[34mINFO    \u001b[0m File models/normalflowt3/\u001b[33mepoch\u001b[0m=\u001b[1;36m139\u001b[0m/model.pt already downloaded                                            \n",
      "\u001b[34mINFO    \u001b[0m File models/normalflowt3/\u001b[33mepoch\u001b[0m=\u001b[1;36m149\u001b[0m/model.pt already downloaded                                            \n",
      "\u001b[34mINFO    \u001b[0m File models/normalflowt3/\u001b[33mepoch\u001b[0m=\u001b[1;36m159\u001b[0m/model.pt already downloaded                                            \n",
      "\u001b[34mINFO    \u001b[0m File models/normalflowt3/\u001b[33mepoch\u001b[0m=\u001b[1;36m169\u001b[0m/model.pt already downloaded                                            \n",
      "\u001b[34mINFO    \u001b[0m File models/normalflowt3/\u001b[33mepoch\u001b[0m=\u001b[1;36m179\u001b[0m/model.pt already downloaded                                            \n",
      "\u001b[34mINFO    \u001b[0m File models/normalflowt3/\u001b[33mepoch\u001b[0m=\u001b[1;36m189\u001b[0m/model.pt already downloaded                                            \n",
      "\u001b[34mINFO    \u001b[0m File models/normalflowt3/\u001b[33mepoch\u001b[0m=\u001b[1;36m199\u001b[0m/model.pt already downloaded                                            \n",
      "\u001b[34mINFO    \u001b[0m File models/normalflowt3/\u001b[33mepoch\u001b[0m=\u001b[1;36m209\u001b[0m/model.pt already downloaded                                            \n",
      "\u001b[34mINFO    \u001b[0m File models/normalflowt3/\u001b[33mepoch\u001b[0m=\u001b[1;36m219\u001b[0m/model.pt already downloaded                                            \n",
      "\u001b[34mINFO    \u001b[0m File models/normalflowt3/\u001b[33mepoch\u001b[0m=\u001b[1;36m229\u001b[0m/model.pt already downloaded                                            \n",
      "\u001b[34mINFO    \u001b[0m File models/normalflowt3/\u001b[33mepoch\u001b[0m=\u001b[1;36m239\u001b[0m/model.pt already downloaded                                            \n",
      "\u001b[34mINFO    \u001b[0m File models/normalflowt3/\u001b[33mepoch\u001b[0m=\u001b[1;36m249\u001b[0m/model.pt already downloaded                                            \n",
      "\u001b[34mINFO    \u001b[0m File models/normalflowt3/\u001b[33mepoch\u001b[0m=\u001b[1;36m259\u001b[0m/model.pt already downloaded                                            \n",
      "\u001b[34mINFO    \u001b[0m File models/normalflowt3/\u001b[33mepoch\u001b[0m=\u001b[1;36m269\u001b[0m/model.pt already downloaded                                            \n",
      "\u001b[34mINFO    \u001b[0m File models/normalflowt3/\u001b[33mepoch\u001b[0m=\u001b[1;36m279\u001b[0m/model.pt already downloaded                                            \n",
      "\u001b[34mINFO    \u001b[0m File models/normalflowt3/\u001b[33mepoch\u001b[0m=\u001b[1;36m289\u001b[0m/model.pt already downloaded                                            \n",
      "\u001b[34mINFO    \u001b[0m File models/normalflowt3/\u001b[33mepoch\u001b[0m=\u001b[1;36m299\u001b[0m/model.pt already downloaded                                            \n",
      "\u001b[34mINFO    \u001b[0m File models/normalflowt3/\u001b[33mepoch\u001b[0m=\u001b[1;36m309\u001b[0m/model.pt already downloaded                                            \n",
      "\u001b[34mINFO    \u001b[0m File models/normalflowt3/\u001b[33mepoch\u001b[0m=\u001b[1;36m319\u001b[0m/model.pt already downloaded                                            \n",
      "\u001b[34mINFO    \u001b[0m File models/normalflowt3/\u001b[33mepoch\u001b[0m=\u001b[1;36m329\u001b[0m/model.pt already downloaded                                            \n",
      "\u001b[34mINFO    \u001b[0m File models/normalflowt3/\u001b[33mepoch\u001b[0m=\u001b[1;36m339\u001b[0m/model.pt already downloaded                                            \n",
      "\u001b[34mINFO    \u001b[0m File models/normalflowt3/\u001b[33mepoch\u001b[0m=\u001b[1;36m349\u001b[0m/model.pt already downloaded                                            \n",
      "\u001b[34mINFO    \u001b[0m File models/normalflowt3/\u001b[33mepoch\u001b[0m=\u001b[1;36m359\u001b[0m/model.pt already downloaded                                            \n",
      "\u001b[34mINFO    \u001b[0m File models/normalflowt3/\u001b[33mepoch\u001b[0m=\u001b[1;36m369\u001b[0m/model.pt already downloaded                                            \n",
      "\u001b[34mINFO    \u001b[0m File models/normalflowt3/\u001b[33mepoch\u001b[0m=\u001b[1;36m379\u001b[0m/model.pt already downloaded                                            \n",
      "\u001b[34mINFO    \u001b[0m File models/normalflowt3/\u001b[33mepoch\u001b[0m=\u001b[1;36m389\u001b[0m/model.pt already downloaded                                            \n"
     ]
    },
    {
     "name": "stderr",
     "output_type": "stream",
     "text": [
      "Computing neighbors: 100%|██████████| 39/39 [18:44<00:00, 28.83s/it]\n",
      "Embeddings: 100%|\u001b[32m██████████\u001b[0m| 39/39 [10:23<00:00, 16.00s/it]\n"
     ]
    },
    {
     "name": "stdout",
     "output_type": "stream",
     "text": [
      "\u001b[34mINFO    \u001b[0m File models/normalflowt4/\u001b[33mepoch\u001b[0m=\u001b[1;36m9\u001b[0m/model.pt already downloaded                                              \n",
      "\u001b[34mINFO    \u001b[0m File models/normalflowt4/\u001b[33mepoch\u001b[0m=\u001b[1;36m19\u001b[0m/model.pt already downloaded                                             \n",
      "\u001b[34mINFO    \u001b[0m File models/normalflowt4/\u001b[33mepoch\u001b[0m=\u001b[1;36m29\u001b[0m/model.pt already downloaded                                             \n",
      "\u001b[34mINFO    \u001b[0m File models/normalflowt4/\u001b[33mepoch\u001b[0m=\u001b[1;36m39\u001b[0m/model.pt already downloaded                                             \n",
      "\u001b[34mINFO    \u001b[0m File models/normalflowt4/\u001b[33mepoch\u001b[0m=\u001b[1;36m49\u001b[0m/model.pt already downloaded                                             \n",
      "\u001b[34mINFO    \u001b[0m File models/normalflowt4/\u001b[33mepoch\u001b[0m=\u001b[1;36m59\u001b[0m/model.pt already downloaded                                             \n",
      "\u001b[34mINFO    \u001b[0m File models/normalflowt4/\u001b[33mepoch\u001b[0m=\u001b[1;36m69\u001b[0m/model.pt already downloaded                                             \n",
      "\u001b[34mINFO    \u001b[0m File models/normalflowt4/\u001b[33mepoch\u001b[0m=\u001b[1;36m79\u001b[0m/model.pt already downloaded                                             \n",
      "\u001b[34mINFO    \u001b[0m File models/normalflowt4/\u001b[33mepoch\u001b[0m=\u001b[1;36m89\u001b[0m/model.pt already downloaded                                             \n",
      "\u001b[34mINFO    \u001b[0m File models/normalflowt4/\u001b[33mepoch\u001b[0m=\u001b[1;36m99\u001b[0m/model.pt already downloaded                                             \n",
      "\u001b[34mINFO    \u001b[0m File models/normalflowt4/\u001b[33mepoch\u001b[0m=\u001b[1;36m109\u001b[0m/model.pt already downloaded                                            \n",
      "\u001b[34mINFO    \u001b[0m File models/normalflowt4/\u001b[33mepoch\u001b[0m=\u001b[1;36m119\u001b[0m/model.pt already downloaded                                            \n",
      "\u001b[34mINFO    \u001b[0m File models/normalflowt4/\u001b[33mepoch\u001b[0m=\u001b[1;36m129\u001b[0m/model.pt already downloaded                                            \n",
      "\u001b[34mINFO    \u001b[0m File models/normalflowt4/\u001b[33mepoch\u001b[0m=\u001b[1;36m139\u001b[0m/model.pt already downloaded                                            \n",
      "\u001b[34mINFO    \u001b[0m File models/normalflowt4/\u001b[33mepoch\u001b[0m=\u001b[1;36m149\u001b[0m/model.pt already downloaded                                            \n",
      "\u001b[34mINFO    \u001b[0m File models/normalflowt4/\u001b[33mepoch\u001b[0m=\u001b[1;36m159\u001b[0m/model.pt already downloaded                                            \n",
      "\u001b[34mINFO    \u001b[0m File models/normalflowt4/\u001b[33mepoch\u001b[0m=\u001b[1;36m169\u001b[0m/model.pt already downloaded                                            \n",
      "\u001b[34mINFO    \u001b[0m File models/normalflowt4/\u001b[33mepoch\u001b[0m=\u001b[1;36m179\u001b[0m/model.pt already downloaded                                            \n",
      "\u001b[34mINFO    \u001b[0m File models/normalflowt4/\u001b[33mepoch\u001b[0m=\u001b[1;36m189\u001b[0m/model.pt already downloaded                                            \n",
      "\u001b[34mINFO    \u001b[0m File models/normalflowt4/\u001b[33mepoch\u001b[0m=\u001b[1;36m199\u001b[0m/model.pt already downloaded                                            \n",
      "\u001b[34mINFO    \u001b[0m File models/normalflowt4/\u001b[33mepoch\u001b[0m=\u001b[1;36m209\u001b[0m/model.pt already downloaded                                            \n",
      "\u001b[34mINFO    \u001b[0m File models/normalflowt4/\u001b[33mepoch\u001b[0m=\u001b[1;36m219\u001b[0m/model.pt already downloaded                                            \n",
      "\u001b[34mINFO    \u001b[0m File models/normalflowt4/\u001b[33mepoch\u001b[0m=\u001b[1;36m229\u001b[0m/model.pt already downloaded                                            \n",
      "\u001b[34mINFO    \u001b[0m File models/normalflowt4/\u001b[33mepoch\u001b[0m=\u001b[1;36m239\u001b[0m/model.pt already downloaded                                            \n",
      "\u001b[34mINFO    \u001b[0m File models/normalflowt4/\u001b[33mepoch\u001b[0m=\u001b[1;36m249\u001b[0m/model.pt already downloaded                                            \n",
      "\u001b[34mINFO    \u001b[0m File models/normalflowt4/\u001b[33mepoch\u001b[0m=\u001b[1;36m259\u001b[0m/model.pt already downloaded                                            \n",
      "\u001b[34mINFO    \u001b[0m File models/normalflowt4/\u001b[33mepoch\u001b[0m=\u001b[1;36m269\u001b[0m/model.pt already downloaded                                            \n",
      "\u001b[34mINFO    \u001b[0m File models/normalflowt4/\u001b[33mepoch\u001b[0m=\u001b[1;36m279\u001b[0m/model.pt already downloaded                                            \n",
      "\u001b[34mINFO    \u001b[0m File models/normalflowt4/\u001b[33mepoch\u001b[0m=\u001b[1;36m289\u001b[0m/model.pt already downloaded                                            \n",
      "\u001b[34mINFO    \u001b[0m File models/normalflowt4/\u001b[33mepoch\u001b[0m=\u001b[1;36m299\u001b[0m/model.pt already downloaded                                            \n",
      "\u001b[34mINFO    \u001b[0m File models/normalflowt4/\u001b[33mepoch\u001b[0m=\u001b[1;36m309\u001b[0m/model.pt already downloaded                                            \n",
      "\u001b[34mINFO    \u001b[0m File models/normalflowt4/\u001b[33mepoch\u001b[0m=\u001b[1;36m319\u001b[0m/model.pt already downloaded                                            \n",
      "\u001b[34mINFO    \u001b[0m File models/normalflowt4/\u001b[33mepoch\u001b[0m=\u001b[1;36m329\u001b[0m/model.pt already downloaded                                            \n",
      "\u001b[34mINFO    \u001b[0m File models/normalflowt4/\u001b[33mepoch\u001b[0m=\u001b[1;36m339\u001b[0m/model.pt already downloaded                                            \n",
      "\u001b[34mINFO    \u001b[0m File models/normalflowt4/\u001b[33mepoch\u001b[0m=\u001b[1;36m349\u001b[0m/model.pt already downloaded                                            \n",
      "\u001b[34mINFO    \u001b[0m File models/normalflowt4/\u001b[33mepoch\u001b[0m=\u001b[1;36m359\u001b[0m/model.pt already downloaded                                            \n",
      "\u001b[34mINFO    \u001b[0m File models/normalflowt4/\u001b[33mepoch\u001b[0m=\u001b[1;36m369\u001b[0m/model.pt already downloaded                                            \n",
      "\u001b[34mINFO    \u001b[0m File models/normalflowt4/\u001b[33mepoch\u001b[0m=\u001b[1;36m379\u001b[0m/model.pt already downloaded                                            \n",
      "\u001b[34mINFO    \u001b[0m File models/normalflowt4/\u001b[33mepoch\u001b[0m=\u001b[1;36m389\u001b[0m/model.pt already downloaded                                            \n"
     ]
    },
    {
     "name": "stderr",
     "output_type": "stream",
     "text": [
      "Computing neighbors: 100%|██████████| 39/39 [18:41<00:00, 28.77s/it]\n",
      "Embeddings: 100%|\u001b[32m██████████\u001b[0m| 39/39 [10:16<00:00, 15.81s/it]\n"
     ]
    }
   ],
   "source": [
    "resultsNF = benchmarkN(\"normalflow\", n)\n",
    "resultsNF.to_csv(\"results/result_NF.csv\")"
   ]
  },
  {
   "cell_type": "code",
   "execution_count": null,
   "metadata": {},
   "outputs": [],
   "source": []
  }
 ],
 "metadata": {
  "kernelspec": {
   "display_name": "Python 3",
   "language": "python",
   "name": "python3"
  },
  "language_info": {
   "codemirror_mode": {
    "name": "ipython",
    "version": 3
   },
   "file_extension": ".py",
   "mimetype": "text/x-python",
   "name": "python",
   "nbconvert_exporter": "python",
   "pygments_lexer": "ipython3",
   "version": "3.11.4"
  },
  "orig_nbformat": 4
 },
 "nbformat": 4,
 "nbformat_minor": 2
}
