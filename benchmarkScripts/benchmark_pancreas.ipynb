{
 "cells": [
  {
   "cell_type": "code",
   "execution_count": 1,
   "metadata": {},
   "outputs": [
    {
     "name": "stderr",
     "output_type": "stream",
     "text": [
      "/local/data/scvi-tools/scvi/_settings.py:63: UserWarning: Since v1.0.0, scvi-tools no longer uses a random seed by default. Run `scvi.settings.seed = 0` to reproduce results from previous versions.\n",
      "  self.seed = seed\n",
      "/local/data/scvi-tools/scvi/_settings.py:70: UserWarning: Setting `dl_pin_memory_gpu_training` is deprecated in v1.0 and will be removed in v1.1. Please pass in `pin_memory` to the data loaders instead.\n",
      "  self.dl_pin_memory_gpu_training = (\n",
      "/local/data/anaconda3/envs/BT/lib/python3.11/site-packages/numba/np/ufunc/dufunc.py:84: NumbaDeprecationWarning: \u001b[1mThe 'nopython' keyword argument was not supplied to the 'numba.jit' decorator. The implicit default value for this argument is currently False, but it will be changed to True in Numba 0.59.0. See https://numba.readthedocs.io/en/stable/reference/deprecation.html#deprecation-of-object-mode-fall-back-behaviour-when-using-jit for details.\u001b[0m\n",
      "  dispatcher = jit(_target='npyufunc',\n",
      "/local/data/anaconda3/envs/BT/lib/python3.11/site-packages/numba/np/ufunc/dufunc.py:84: NumbaDeprecationWarning: \u001b[1mThe 'nopython' keyword argument was not supplied to the 'numba.jit' decorator. The implicit default value for this argument is currently False, but it will be changed to True in Numba 0.59.0. See https://numba.readthedocs.io/en/stable/reference/deprecation.html#deprecation-of-object-mode-fall-back-behaviour-when-using-jit for details.\u001b[0m\n",
      "  dispatcher = jit(_target='npyufunc',\n",
      "/local/data/anaconda3/envs/BT/lib/python3.11/site-packages/numba/np/ufunc/dufunc.py:84: NumbaDeprecationWarning: \u001b[1mThe 'nopython' keyword argument was not supplied to the 'numba.jit' decorator. The implicit default value for this argument is currently False, but it will be changed to True in Numba 0.59.0. See https://numba.readthedocs.io/en/stable/reference/deprecation.html#deprecation-of-object-mode-fall-back-behaviour-when-using-jit for details.\u001b[0m\n",
      "  dispatcher = jit(_target='npyufunc',\n",
      "/local/data/anaconda3/envs/BT/lib/python3.11/site-packages/numba/np/ufunc/dufunc.py:84: NumbaDeprecationWarning: \u001b[1mThe 'nopython' keyword argument was not supplied to the 'numba.jit' decorator. The implicit default value for this argument is currently False, but it will be changed to True in Numba 0.59.0. See https://numba.readthedocs.io/en/stable/reference/deprecation.html#deprecation-of-object-mode-fall-back-behaviour-when-using-jit for details.\u001b[0m\n",
      "  dispatcher = jit(_target='npyufunc',\n",
      "/local/data/anaconda3/envs/BT/lib/python3.11/site-packages/umap/distances.py:1063: NumbaDeprecationWarning: \u001b[1mThe 'nopython' keyword argument was not supplied to the 'numba.jit' decorator. The implicit default value for this argument is currently False, but it will be changed to True in Numba 0.59.0. See https://numba.readthedocs.io/en/stable/reference/deprecation.html#deprecation-of-object-mode-fall-back-behaviour-when-using-jit for details.\u001b[0m\n",
      "/local/data/anaconda3/envs/BT/lib/python3.11/site-packages/umap/distances.py:1071: NumbaDeprecationWarning: \u001b[1mThe 'nopython' keyword argument was not supplied to the 'numba.jit' decorator. The implicit default value for this argument is currently False, but it will be changed to True in Numba 0.59.0. See https://numba.readthedocs.io/en/stable/reference/deprecation.html#deprecation-of-object-mode-fall-back-behaviour-when-using-jit for details.\u001b[0m\n",
      "/local/data/anaconda3/envs/BT/lib/python3.11/site-packages/umap/distances.py:1086: NumbaDeprecationWarning: \u001b[1mThe 'nopython' keyword argument was not supplied to the 'numba.jit' decorator. The implicit default value for this argument is currently False, but it will be changed to True in Numba 0.59.0. See https://numba.readthedocs.io/en/stable/reference/deprecation.html#deprecation-of-object-mode-fall-back-behaviour-when-using-jit for details.\u001b[0m\n",
      "/local/data/anaconda3/envs/BT/lib/python3.11/site-packages/umap/umap_.py:660: NumbaDeprecationWarning: \u001b[1mThe 'nopython' keyword argument was not supplied to the 'numba.jit' decorator. The implicit default value for this argument is currently False, but it will be changed to True in Numba 0.59.0. See https://numba.readthedocs.io/en/stable/reference/deprecation.html#deprecation-of-object-mode-fall-back-behaviour-when-using-jit for details.\u001b[0m\n",
      "2023-07-29 17:25:21.411392: W tensorflow/compiler/tf2tensorrt/utils/py_utils.cc:38] TF-TRT Warning: Could not find TensorRT\n",
      "/local/data/anaconda3/envs/BT/lib/python3.11/site-packages/numba/np/ufunc/dufunc.py:84: NumbaDeprecationWarning: \u001b[1mThe 'nopython' keyword argument was not supplied to the 'numba.jit' decorator. The implicit default value for this argument is currently False, but it will be changed to True in Numba 0.59.0. See https://numba.readthedocs.io/en/stable/reference/deprecation.html#deprecation-of-object-mode-fall-back-behaviour-when-using-jit for details.\u001b[0m\n",
      "/local/data/anaconda3/envs/BT/lib/python3.11/site-packages/numba/np/ufunc/dufunc.py:84: NumbaDeprecationWarning: \u001b[1mThe 'nopython' keyword argument was not supplied to the 'numba.jit' decorator. The implicit default value for this argument is currently False, but it will be changed to True in Numba 0.59.0. See https://numba.readthedocs.io/en/stable/reference/deprecation.html#deprecation-of-object-mode-fall-back-behaviour-when-using-jit for details.\u001b[0m\n",
      "/local/data/anaconda3/envs/BT/lib/python3.11/site-packages/numba/np/ufunc/dufunc.py:84: NumbaDeprecationWarning: \u001b[1mThe 'nopython' keyword argument was not supplied to the 'numba.jit' decorator. The implicit default value for this argument is currently False, but it will be changed to True in Numba 0.59.0. See https://numba.readthedocs.io/en/stable/reference/deprecation.html#deprecation-of-object-mode-fall-back-behaviour-when-using-jit for details.\u001b[0m\n",
      "/local/data/anaconda3/envs/BT/lib/python3.11/site-packages/umap/plot.py:203: NumbaDeprecationWarning: \u001b[1mThe 'nopython' keyword argument was not supplied to the 'numba.jit' decorator. The implicit default value for this argument is currently False, but it will be changed to True in Numba 0.59.0. See https://numba.readthedocs.io/en/stable/reference/deprecation.html#deprecation-of-object-mode-fall-back-behaviour-when-using-jit for details.\u001b[0m\n"
     ]
    }
   ],
   "source": [
    "import numpy as np\n",
    "import scanpy as sc\n",
    "import anndata\n",
    "import scvi\n",
    "from scib_metrics.benchmark import Benchmarker\n",
    "import torch\n",
    "import scib_metrics\n",
    "%matplotlib inline\n",
    "import sys\n",
    "sys.path.append('..')\n",
    "from functions import *"
   ]
  },
  {
   "cell_type": "code",
   "execution_count": 2,
   "metadata": {},
   "outputs": [
    {
     "data": {
      "text/plain": [
       "AnnData object with n_obs × n_vars = 33506 × 4000\n",
       "    obs: 'batch', 'chemistry', 'data_type', 'dpt_pseudotime', 'final_annotation', 'mt_frac', 'n_counts', 'n_genes', 'sample_ID', 'size_factors', 'species', 'study', 'tissue'\n",
       "    var: 'highly_variable', 'means', 'dispersions', 'dispersions_norm', 'highly_variable_nbatches', 'highly_variable_intersection'\n",
       "    uns: 'hvg', 'pca'\n",
       "    obsm: 'Scanorama', 'Unintegrated', 'X_pca'\n",
       "    varm: 'PCs'\n",
       "    layers: 'counts'"
      ]
     },
     "execution_count": 2,
     "metadata": {},
     "output_type": "execute_result"
    }
   ],
   "source": [
    "adata = anndata.read_h5ad(filename=\"../data/adataImmHum4.h5ad\")\n",
    "adata"
   ]
  },
  {
   "cell_type": "code",
   "execution_count": 4,
   "metadata": {},
   "outputs": [
    {
     "name": "stderr",
     "output_type": "stream",
     "text": [
      "INFO:jax._src.xla_bridge:Unable to initialize backend 'cuda': module 'jaxlib.xla_extension' has no attribute 'GpuAllocatorConfig'\n",
      "INFO:jax._src.xla_bridge:Unable to initialize backend 'rocm': module 'jaxlib.xla_extension' has no attribute 'GpuAllocatorConfig'\n",
      "INFO:jax._src.xla_bridge:Unable to initialize backend 'tpu': INVALID_ARGUMENT: TpuPlatform is not available.\n",
      "WARNING:jax._src.xla_bridge:No GPU/TPU found, falling back to CPU. (Set TF_CPP_MIN_LOG_LEVEL=0 and rerun for more info.)\n",
      "GPU available: True (cuda), used: True\n",
      "TPU available: False, using: 0 TPU cores\n",
      "IPU available: False, using: 0 IPUs\n",
      "HPU available: False, using: 0 HPUs\n",
      "Missing logger folder: lightning_logs/sdPanBench\n",
      "LOCAL_RANK: 0 - CUDA_VISIBLE_DEVICES: [0]\n"
     ]
    },
    {
     "name": "stdout",
     "output_type": "stream",
     "text": [
      "Epoch 400/400: 100%|██████████| 400/400 [13:58<00:00,  2.07s/it, v_num=0, train_loss_step=1.58e+3, train_loss_epoch=1.47e+3]"
     ]
    },
    {
     "name": "stderr",
     "output_type": "stream",
     "text": [
      "`Trainer.fit` stopped: `max_epochs=400` reached.\n"
     ]
    },
    {
     "name": "stdout",
     "output_type": "stream",
     "text": [
      "Epoch 400/400: 100%|██████████| 400/400 [13:58<00:00,  2.10s/it, v_num=0, train_loss_step=1.58e+3, train_loss_epoch=1.47e+3]\n"
     ]
    }
   ],
   "source": [
    "sdnormalAdata, vaeSD = trainModelBenchmark(adata.copy(), \"sdnormal\", log=True,logname=\"sdPanBench\",save=\"models/PBM_StandardNormal\")"
   ]
  },
  {
   "cell_type": "code",
   "execution_count": 5,
   "metadata": {},
   "outputs": [
    {
     "name": "stderr",
     "output_type": "stream",
     "text": [
      "GPU available: True (cuda), used: True\n",
      "TPU available: False, using: 0 TPU cores\n",
      "IPU available: False, using: 0 IPUs\n",
      "HPU available: False, using: 0 HPUs\n",
      "Missing logger folder: lightning_logs/mogPanBench\n",
      "LOCAL_RANK: 0 - CUDA_VISIBLE_DEVICES: [0]\n"
     ]
    },
    {
     "name": "stdout",
     "output_type": "stream",
     "text": [
      "Epoch 1/400:   0%|          | 0/400 [00:00<?, ?it/s]"
     ]
    },
    {
     "name": "stdout",
     "output_type": "stream",
     "text": [
      "Epoch 400/400: 100%|██████████| 400/400 [16:04<00:00,  2.50s/it, v_num=0, train_loss_step=1.52e+3, train_loss_epoch=1.46e+3]"
     ]
    },
    {
     "name": "stderr",
     "output_type": "stream",
     "text": [
      "`Trainer.fit` stopped: `max_epochs=400` reached.\n"
     ]
    },
    {
     "name": "stdout",
     "output_type": "stream",
     "text": [
      "Epoch 400/400: 100%|██████████| 400/400 [16:04<00:00,  2.41s/it, v_num=0, train_loss_step=1.52e+3, train_loss_epoch=1.46e+3]\n"
     ]
    }
   ],
   "source": [
    "mogAdata, vaeMG = trainModelBenchmark(adata.copy(), \"mixofgaus\",log=True,logname=\"mogPanBench\",save=\"models/PBM_MixtureOfGaussians\")"
   ]
  },
  {
   "cell_type": "code",
   "execution_count": 6,
   "metadata": {},
   "outputs": [
    {
     "name": "stderr",
     "output_type": "stream",
     "text": [
      "GPU available: True (cuda), used: True\n",
      "TPU available: False, using: 0 TPU cores\n",
      "IPU available: False, using: 0 IPUs\n",
      "HPU available: False, using: 0 HPUs\n",
      "Missing logger folder: lightning_logs/vampPanBench\n",
      "LOCAL_RANK: 0 - CUDA_VISIBLE_DEVICES: [0]\n"
     ]
    },
    {
     "name": "stdout",
     "output_type": "stream",
     "text": [
      "Epoch 1/400:   0%|          | 0/400 [00:00<?, ?it/s]"
     ]
    },
    {
     "name": "stdout",
     "output_type": "stream",
     "text": [
      "Epoch 400/400: 100%|██████████| 400/400 [17:58<00:00,  2.73s/it, v_num=0, train_loss_step=1.46e+3, train_loss_epoch=1.45e+3]"
     ]
    },
    {
     "name": "stderr",
     "output_type": "stream",
     "text": [
      "`Trainer.fit` stopped: `max_epochs=400` reached.\n"
     ]
    },
    {
     "name": "stdout",
     "output_type": "stream",
     "text": [
      "Epoch 400/400: 100%|██████████| 400/400 [17:58<00:00,  2.70s/it, v_num=0, train_loss_step=1.46e+3, train_loss_epoch=1.45e+3]\n"
     ]
    }
   ],
   "source": [
    "vampAdata, vaeVP = trainModelBenchmark(adata.copy(), \"vamp\",log=True,logname=\"vampPanBench\",save=\"models/PBM_Vamp\")"
   ]
  },
  {
   "cell_type": "code",
   "execution_count": 7,
   "metadata": {},
   "outputs": [
    {
     "name": "stderr",
     "output_type": "stream",
     "text": [
      "GPU available: True (cuda), used: True\n",
      "TPU available: False, using: 0 TPU cores\n",
      "IPU available: False, using: 0 IPUs\n",
      "HPU available: False, using: 0 HPUs\n",
      "Missing logger folder: lightning_logs/flowPanBench\n",
      "LOCAL_RANK: 0 - CUDA_VISIBLE_DEVICES: [0]\n"
     ]
    },
    {
     "name": "stdout",
     "output_type": "stream",
     "text": [
      "Epoch 1/400:   0%|          | 0/400 [00:00<?, ?it/s]"
     ]
    },
    {
     "name": "stdout",
     "output_type": "stream",
     "text": [
      "Epoch 400/400: 100%|██████████| 400/400 [26:13<00:00,  4.15s/it, v_num=0, train_loss_step=1.49e+3, train_loss_epoch=1.46e+3]"
     ]
    },
    {
     "name": "stderr",
     "output_type": "stream",
     "text": [
      "`Trainer.fit` stopped: `max_epochs=400` reached.\n"
     ]
    },
    {
     "name": "stdout",
     "output_type": "stream",
     "text": [
      "Epoch 400/400: 100%|██████████| 400/400 [26:13<00:00,  3.93s/it, v_num=0, train_loss_step=1.49e+3, train_loss_epoch=1.46e+3]\n"
     ]
    }
   ],
   "source": [
    "flowAdata, vaeNF = trainModelBenchmark(adata.copy(), 'normalflow', log=True, logname=\"flowPanBench\",save=\"models/PBM_NormalFlow\")"
   ]
  },
  {
   "cell_type": "code",
   "execution_count": 3,
   "metadata": {},
   "outputs": [
    {
     "name": "stdout",
     "output_type": "stream",
     "text": [
      "\u001b[34mINFO    \u001b[0m File models/PBM_StandardNormal/model.pt already downloaded                                                \n"
     ]
    },
    {
     "name": "stderr",
     "output_type": "stream",
     "text": [
      "INFO:jax._src.xla_bridge:Unable to initialize backend 'cuda': module 'jaxlib.xla_extension' has no attribute 'GpuAllocatorConfig'\n",
      "INFO:jax._src.xla_bridge:Unable to initialize backend 'rocm': module 'jaxlib.xla_extension' has no attribute 'GpuAllocatorConfig'\n",
      "INFO:jax._src.xla_bridge:Unable to initialize backend 'tpu': INVALID_ARGUMENT: TpuPlatform is not available.\n",
      "WARNING:jax._src.xla_bridge:No GPU/TPU found, falling back to CPU. (Set TF_CPP_MIN_LOG_LEVEL=0 and rerun for more info.)\n"
     ]
    },
    {
     "name": "stdout",
     "output_type": "stream",
     "text": [
      "\u001b[34mINFO    \u001b[0m File models/PBM_MixtureOfGaussians/model.pt already downloaded                                            \n",
      "\u001b[34mINFO    \u001b[0m File models/PBM_Vamp/model.pt already downloaded                                                          \n",
      "\u001b[34mINFO    \u001b[0m File models/PBM_NormalFlow/model.pt already downloaded                                                    \n"
     ]
    }
   ],
   "source": [
    "vaeSD = scvi.model.SCVI.load(\"models/PBM_StandardNormal\")\n",
    "vaeMG = scvi.model.SCVI.load(\"models/PBM_MixtureOfGaussians\")\n",
    "vaeVP = scvi.model.SCVI.load(\"models/PBM_Vamp\")\n",
    "vaeNF = scvi.model.SCVI.load(\"models/PBM_NormalFlow\")"
   ]
  },
  {
   "cell_type": "code",
   "execution_count": 4,
   "metadata": {},
   "outputs": [],
   "source": [
    "allAdata = adata.copy()\n",
    "allAdata.obsm[\"SN\"] = vaeSD.get_latent_representation()\n",
    "allAdata.obsm[\"MG\"] = vaeMG.get_latent_representation()\n",
    "allAdata.obsm[\"VP\"] = vaeVP.get_latent_representation()\n",
    "allAdata.obsm[\"NF\"] = vaeNF.get_latent_representation()"
   ]
  },
  {
   "cell_type": "code",
   "execution_count": 5,
   "metadata": {},
   "outputs": [
    {
     "name": "stderr",
     "output_type": "stream",
     "text": [
      "Computing neighbors: 100%|██████████| 6/6 [03:37<00:00, 36.25s/it]\n",
      "Embeddings:   0%|\u001b[32m          \u001b[0m| 0/6 [00:00<?, ?it/s]INFO:root:isolated labels: no more than 3 batches per label\n",
      "INFO:root:CD10+ B cells: 0.411204032599926\n",
      "INFO:root:Erythrocytes: 0.6199747920036316\n",
      "INFO:root:Erythroid progenitors: 0.49236167361959815\n",
      "INFO:root:Monocyte progenitors: 0.4451630264520645\n",
      "Embeddings:  17%|\u001b[32m█▋        \u001b[0m| 1/6 [00:54<04:33, 54.68s/it]INFO:root:isolated labels: no more than 3 batches per label\n",
      "INFO:root:CD10+ B cells: 0.5524995140731335\n",
      "INFO:root:Erythrocytes: 0.5874729752540588\n",
      "INFO:root:Erythroid progenitors: 0.6014610305428505\n",
      "INFO:root:Monocyte progenitors: 0.5329934842884541\n",
      "Embeddings:  33%|\u001b[32m███▎      \u001b[0m| 2/6 [07:50<17:48, 267.15s/it]INFO:root:isolated labels: no more than 3 batches per label\n",
      "INFO:root:CD10+ B cells: 0.6378625780344009\n",
      "INFO:root:Erythrocytes: 0.6009254306554794\n",
      "INFO:root:Erythroid progenitors: 0.6371185332536697\n",
      "INFO:root:Monocyte progenitors: 0.5952746123075485\n",
      "Embeddings:  50%|\u001b[32m█████     \u001b[0m| 3/6 [08:37<08:19, 166.40s/it]INFO:root:isolated labels: no more than 3 batches per label\n",
      "INFO:root:CD10+ B cells: 0.642625018954277\n",
      "INFO:root:Erythrocytes: 0.6344655901193619\n",
      "INFO:root:Erythroid progenitors: 0.6391780376434326\n",
      "INFO:root:Monocyte progenitors: 0.6014992743730545\n",
      "Embeddings:  67%|\u001b[32m██████▋   \u001b[0m| 4/6 [09:21<03:56, 118.40s/it]INFO:root:isolated labels: no more than 3 batches per label\n",
      "INFO:root:CD10+ B cells: 0.603921078145504\n",
      "INFO:root:Erythrocytes: 0.6202889829874039\n",
      "INFO:root:Erythroid progenitors: 0.6411446779966354\n",
      "INFO:root:Monocyte progenitors: 0.5717007219791412\n",
      "Embeddings:  83%|\u001b[32m████████▎ \u001b[0m| 5/6 [10:04<01:31, 91.21s/it] INFO:root:isolated labels: no more than 3 batches per label\n",
      "INFO:root:CD10+ B cells: 0.6436106115579605\n",
      "INFO:root:Erythrocytes: 0.6341726928949356\n",
      "INFO:root:Erythroid progenitors: 0.6314814984798431\n",
      "INFO:root:Monocyte progenitors: 0.5908482596278191\n",
      "Embeddings: 100%|\u001b[32m██████████\u001b[0m| 6/6 [10:46<00:00, 107.73s/it]\n"
     ]
    },
    {
     "data": {
      "text/plain": [
       "<scib_metrics.benchmark._core.Benchmarker at 0x7f2832e6cf90>"
      ]
     },
     "execution_count": 5,
     "metadata": {},
     "output_type": "execute_result"
    }
   ],
   "source": [
    "plotBenchmarkResults(allAdata,keys = [\"Unintegrated\",\"Scanorama\",\"SN\",\"MG\",\"VP\",\"NF\"],label_key=\"final_annotation\",save_dir=\"Benchmarks/\")"
   ]
  },
  {
   "cell_type": "code",
   "execution_count": null,
   "metadata": {},
   "outputs": [],
   "source": []
  }
 ],
 "metadata": {
  "kernelspec": {
   "display_name": "Python 3",
   "language": "python",
   "name": "python3"
  },
  "language_info": {
   "codemirror_mode": {
    "name": "ipython",
    "version": 3
   },
   "file_extension": ".py",
   "mimetype": "text/x-python",
   "name": "python",
   "nbconvert_exporter": "python",
   "pygments_lexer": "ipython3",
   "version": "3.11.4"
  },
  "orig_nbformat": 4
 },
 "nbformat": 4,
 "nbformat_minor": 2
}
