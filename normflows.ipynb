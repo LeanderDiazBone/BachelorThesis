{
 "cells": [
  {
   "cell_type": "code",
   "execution_count": 7,
   "metadata": {},
   "outputs": [],
   "source": [
    "import normflows as nf\n",
    "import torch"
   ]
  },
  {
   "cell_type": "code",
   "execution_count": 3,
   "metadata": {},
   "outputs": [],
   "source": [
    "base = nf.distributions.base.DiagGaussian(2)"
   ]
  },
  {
   "cell_type": "code",
   "execution_count": 4,
   "metadata": {},
   "outputs": [],
   "source": [
    "# Define list of flows\n",
    "num_layers = 32\n",
    "flows = []\n",
    "for i in range(num_layers):\n",
    "    # Neural network with two hidden layers having 64 units each\n",
    "    # Last layer is initialized by zeros making training more stable\n",
    "    param_map = nf.nets.MLP([1, 64, 64, 2], init_zeros=True)\n",
    "    # Add flow layer\n",
    "    flows.append(nf.flows.AffineCouplingBlock(param_map))\n",
    "    # Swap dimensions\n",
    "    flows.append(nf.flows.Permute(2, mode='swap'))"
   ]
  },
  {
   "cell_type": "code",
   "execution_count": 5,
   "metadata": {},
   "outputs": [],
   "source": [
    "# If the target density is not given\n",
    "model = nf.NormalizingFlow(base, flows)\n",
    "\n",
    "# If the target density is given\n",
    "target = nf.distributions.target.TwoMoons()\n",
    "model = nf.NormalizingFlow(base, flows, target)"
   ]
  },
  {
   "cell_type": "code",
   "execution_count": 14,
   "metadata": {},
   "outputs": [
    {
     "data": {
      "text/plain": [
       "tensor([-2.8379], grad_fn=<AddBackward0>)"
      ]
     },
     "execution_count": 14,
     "metadata": {},
     "output_type": "execute_result"
    }
   ],
   "source": [
    "model.log_prob(torch.tensor([[1.0,1.0]]))"
   ]
  },
  {
   "cell_type": "code",
   "execution_count": 16,
   "metadata": {},
   "outputs": [
    {
     "data": {
      "text/plain": [
       "(tensor([[-1.0060, -0.6545]], grad_fn=<CatBackward0>),\n",
       " tensor([-2.5581], grad_fn=<SubBackward0>))"
      ]
     },
     "execution_count": 16,
     "metadata": {},
     "output_type": "execute_result"
    }
   ],
   "source": [
    "model.sample(1)"
   ]
  },
  {
   "cell_type": "code",
   "execution_count": 6,
   "metadata": {},
   "outputs": [
    {
     "ename": "NameError",
     "evalue": "name 'x' is not defined",
     "output_type": "error",
     "traceback": [
      "\u001b[0;31m---------------------------------------------------------------------------\u001b[0m",
      "\u001b[0;31mNameError\u001b[0m                                 Traceback (most recent call last)",
      "Cell \u001b[0;32mIn[6], line 3\u001b[0m\n\u001b[1;32m      1\u001b[0m \u001b[39m# When doing maximum likelihood learning, i.e. minimizing the forward KLD\u001b[39;00m\n\u001b[1;32m      2\u001b[0m \u001b[39m# with no target distribution given\u001b[39;00m\n\u001b[0;32m----> 3\u001b[0m loss \u001b[39m=\u001b[39m model\u001b[39m.\u001b[39mforward_kld(x)\n\u001b[1;32m      5\u001b[0m \u001b[39m# When minimizing the reverse KLD based on the given target distribution\u001b[39;00m\n\u001b[1;32m      6\u001b[0m loss \u001b[39m=\u001b[39m model\u001b[39m.\u001b[39mreverse_kld(num_samples\u001b[39m=\u001b[39m\u001b[39m512\u001b[39m)\n",
      "\u001b[0;31mNameError\u001b[0m: name 'x' is not defined"
     ]
    }
   ],
   "source": [
    "# When doing maximum likelihood learning, i.e. minimizing the forward KLD\n",
    "# with no target distribution given\n",
    "loss = model.forward_kld(x)\n",
    "\n",
    "# When minimizing the reverse KLD based on the given target distribution\n",
    "loss = model.reverse_kld(num_samples=512)\n",
    "\n",
    "# Optimization as usual\n",
    "loss.backward()\n",
    "optimizer.step()"
   ]
  },
  {
   "cell_type": "code",
   "execution_count": null,
   "metadata": {},
   "outputs": [],
   "source": []
  }
 ],
 "metadata": {
  "kernelspec": {
   "display_name": "scvi-tools-dev-n",
   "language": "python",
   "name": "python3"
  },
  "language_info": {
   "codemirror_mode": {
    "name": "ipython",
    "version": 3
   },
   "file_extension": ".py",
   "mimetype": "text/x-python",
   "name": "python",
   "nbconvert_exporter": "python",
   "pygments_lexer": "ipython3",
   "version": "3.11.4"
  },
  "orig_nbformat": 4
 },
 "nbformat": 4,
 "nbformat_minor": 2
}
