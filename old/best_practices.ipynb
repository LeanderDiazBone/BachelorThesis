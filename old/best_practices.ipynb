{
 "cells": [
  {
   "cell_type": "code",
   "execution_count": 1,
   "metadata": {},
   "outputs": [
    {
     "name": "stderr",
     "output_type": "stream",
     "text": [
      "/Applications/Anaconda/anaconda3/envs/scvi-tools-dev/lib/python3.11/site-packages/anndata/_core/anndata.py:1832: UserWarning: Variable names are not unique. To make them unique, call `.var_names_make_unique`.\n",
      "  utils.warn_names_duplicates(\"var\")\n"
     ]
    },
    {
     "data": {
      "text/plain": [
       "AnnData object with n_obs × n_vars = 16934 × 36601\n",
       "    var: 'gene_ids', 'feature_types', 'genome'"
      ]
     },
     "execution_count": 1,
     "metadata": {},
     "output_type": "execute_result"
    }
   ],
   "source": [
    "import numpy as np\n",
    "import scanpy as sc\n",
    "import seaborn as sns\n",
    "from scipy.stats import median_abs_deviation\n",
    "\n",
    "sc.settings.verbosity = 0\n",
    "sc.settings.set_figure_params(\n",
    "    dpi=80,\n",
    "    facecolor=\"white\",\n",
    "    frameon=False,\n",
    ")\n",
    "adata = sc.read_10x_h5(\n",
    "    filename=\"data/filtered_feature_bc_matrix.h5\",\n",
    "    backup_url=\"https://figshare.com/ndownloader/files/39546196\",\n",
    ")\n",
    "adata"
   ]
  },
  {
   "attachments": {},
   "cell_type": "markdown",
   "metadata": {},
   "source": [
    "## Quality Control"
   ]
  },
  {
   "cell_type": "code",
   "execution_count": 2,
   "metadata": {},
   "outputs": [],
   "source": [
    "# mitochondrial genes\n",
    "adata.var[\"mt\"] = adata.var_names.str.startswith(\"MT-\")\n",
    "# ribosomal genes\n",
    "adata.var[\"ribo\"] = adata.var_names.str.startswith((\"RPS\", \"RPL\"))\n",
    "# hemoglobin genes.\n",
    "adata.var[\"hb\"] = adata.var_names.str.contains((\"^HB[^(P)]\"))"
   ]
  },
  {
   "cell_type": "code",
   "execution_count": 3,
   "metadata": {},
   "outputs": [
    {
     "ename": "TypeError",
     "evalue": "'int' object is not iterable",
     "output_type": "error",
     "traceback": [
      "\u001b[0;31m---------------------------------------------------------------------------\u001b[0m",
      "\u001b[0;31mTypeError\u001b[0m                                 Traceback (most recent call last)",
      "Cell \u001b[0;32mIn[3], line 1\u001b[0m\n\u001b[0;32m----> 1\u001b[0m sc\u001b[39m.\u001b[39;49mpp\u001b[39m.\u001b[39;49mcalculate_qc_metrics(\n\u001b[1;32m      2\u001b[0m     adata, qc_vars\u001b[39m=\u001b[39;49m[\u001b[39m\"\u001b[39;49m\u001b[39mmt\u001b[39;49m\u001b[39m\"\u001b[39;49m, \u001b[39m\"\u001b[39;49m\u001b[39mribo\u001b[39;49m\u001b[39m\"\u001b[39;49m, \u001b[39m\"\u001b[39;49m\u001b[39mhb\u001b[39;49m\u001b[39m\"\u001b[39;49m], inplace\u001b[39m=\u001b[39;49m\u001b[39mTrue\u001b[39;49;00m, percent_top\u001b[39m=\u001b[39;49m\u001b[39m20\u001b[39;49m, log1p\u001b[39m=\u001b[39;49m\u001b[39mTrue\u001b[39;49;00m\n\u001b[1;32m      3\u001b[0m )\n\u001b[1;32m      4\u001b[0m adata\n",
      "File \u001b[0;32m/Applications/Anaconda/anaconda3/envs/scvi-tools-dev/lib/python3.11/site-packages/scanpy/preprocessing/_qc.py:306\u001b[0m, in \u001b[0;36mcalculate_qc_metrics\u001b[0;34m(adata, expr_type, var_type, qc_vars, percent_top, layer, use_raw, inplace, log1p, parallel)\u001b[0m\n\u001b[1;32m    303\u001b[0m \u001b[39mif\u001b[39;00m issparse(X):\n\u001b[1;32m    304\u001b[0m     X\u001b[39m.\u001b[39meliminate_zeros()\n\u001b[0;32m--> 306\u001b[0m obs_metrics \u001b[39m=\u001b[39m describe_obs(\n\u001b[1;32m    307\u001b[0m     adata,\n\u001b[1;32m    308\u001b[0m     expr_type\u001b[39m=\u001b[39;49mexpr_type,\n\u001b[1;32m    309\u001b[0m     var_type\u001b[39m=\u001b[39;49mvar_type,\n\u001b[1;32m    310\u001b[0m     qc_vars\u001b[39m=\u001b[39;49mqc_vars,\n\u001b[1;32m    311\u001b[0m     percent_top\u001b[39m=\u001b[39;49mpercent_top,\n\u001b[1;32m    312\u001b[0m     inplace\u001b[39m=\u001b[39;49minplace,\n\u001b[1;32m    313\u001b[0m     X\u001b[39m=\u001b[39;49mX,\n\u001b[1;32m    314\u001b[0m     log1p\u001b[39m=\u001b[39;49mlog1p,\n\u001b[1;32m    315\u001b[0m )\n\u001b[1;32m    316\u001b[0m var_metrics \u001b[39m=\u001b[39m describe_var(\n\u001b[1;32m    317\u001b[0m     adata,\n\u001b[1;32m    318\u001b[0m     expr_type\u001b[39m=\u001b[39mexpr_type,\n\u001b[0;32m   (...)\u001b[0m\n\u001b[1;32m    322\u001b[0m     log1p\u001b[39m=\u001b[39mlog1p,\n\u001b[1;32m    323\u001b[0m )\n\u001b[1;32m    325\u001b[0m \u001b[39mif\u001b[39;00m \u001b[39mnot\u001b[39;00m inplace:\n",
      "File \u001b[0;32m/Applications/Anaconda/anaconda3/envs/scvi-tools-dev/lib/python3.11/site-packages/scanpy/preprocessing/_qc.py:115\u001b[0m, in \u001b[0;36mdescribe_obs\u001b[0;34m(adata, expr_type, var_type, qc_vars, percent_top, layer, use_raw, log1p, inplace, X, parallel)\u001b[0m\n\u001b[1;32m    111\u001b[0m     obs_metrics[\u001b[39mf\u001b[39m\u001b[39m\"\u001b[39m\u001b[39mlog1p_total_\u001b[39m\u001b[39m{\u001b[39;00mexpr_type\u001b[39m}\u001b[39;00m\u001b[39m\"\u001b[39m] \u001b[39m=\u001b[39m np\u001b[39m.\u001b[39mlog1p(\n\u001b[1;32m    112\u001b[0m         obs_metrics[\u001b[39mf\u001b[39m\u001b[39m\"\u001b[39m\u001b[39mtotal_\u001b[39m\u001b[39m{\u001b[39;00mexpr_type\u001b[39m}\u001b[39;00m\u001b[39m\"\u001b[39m]\n\u001b[1;32m    113\u001b[0m     )\n\u001b[1;32m    114\u001b[0m \u001b[39mif\u001b[39;00m percent_top:\n\u001b[0;32m--> 115\u001b[0m     percent_top \u001b[39m=\u001b[39m \u001b[39msorted\u001b[39;49m(percent_top)\n\u001b[1;32m    116\u001b[0m     proportions \u001b[39m=\u001b[39m top_segment_proportions(X, percent_top)\n\u001b[1;32m    117\u001b[0m     \u001b[39mfor\u001b[39;00m i, n \u001b[39min\u001b[39;00m \u001b[39menumerate\u001b[39m(percent_top):\n",
      "\u001b[0;31mTypeError\u001b[0m: 'int' object is not iterable"
     ]
    }
   ],
   "source": [
    "sc.pp.calculate_qc_metrics(\n",
    "    adata, qc_vars=[\"mt\", \"ribo\", \"hb\"], inplace=True, percent_top=[20], log1p=True\n",
    ")\n",
    "adata"
   ]
  },
  {
   "cell_type": "code",
   "execution_count": 4,
   "metadata": {},
   "outputs": [
    {
     "data": {
      "application/vnd.jupyter.widget-view+json": {
       "model_id": "f7bf1f67d54a4c8cbcd6c696f658eb6c",
       "version_major": 2,
       "version_minor": 0
      },
      "text/plain": [
       "  0%|          | 0.00/4.18G [00:00<?, ?B/s]"
      ]
     },
     "metadata": {},
     "output_type": "display_data"
    },
    {
     "ename": "KeyboardInterrupt",
     "evalue": "",
     "output_type": "error",
     "traceback": [
      "\u001b[0;31m---------------------------------------------------------------------------\u001b[0m",
      "\u001b[0;31mKeyboardInterrupt\u001b[0m                         Traceback (most recent call last)",
      "Cell \u001b[0;32mIn[4], line 1\u001b[0m\n\u001b[0;32m----> 1\u001b[0m adata \u001b[39m=\u001b[39m sc\u001b[39m.\u001b[39;49mread(\n\u001b[1;32m      2\u001b[0m     filename\u001b[39m=\u001b[39;49m\u001b[39m\"\u001b[39;49m\u001b[39ms4d8_feature_selection.h5ad\u001b[39;49m\u001b[39m\"\u001b[39;49m,\n\u001b[1;32m      3\u001b[0m     backup_url\u001b[39m=\u001b[39;49m\u001b[39m\"\u001b[39;49m\u001b[39mhttps://figshare.com/ndownloader/files/40016014\u001b[39;49m\u001b[39m\"\u001b[39;49m,\n\u001b[1;32m      4\u001b[0m )\n",
      "File \u001b[0;32m/Applications/Anaconda/anaconda3/envs/scvi-tools-dev/lib/python3.11/site-packages/scanpy/readwrite.py:112\u001b[0m, in \u001b[0;36mread\u001b[0;34m(filename, backed, sheet, ext, delimiter, first_column_names, backup_url, cache, cache_compression, **kwargs)\u001b[0m\n\u001b[1;32m    110\u001b[0m filename \u001b[39m=\u001b[39m Path(filename)  \u001b[39m# allow passing strings\u001b[39;00m\n\u001b[1;32m    111\u001b[0m \u001b[39mif\u001b[39;00m is_valid_filename(filename):\n\u001b[0;32m--> 112\u001b[0m     \u001b[39mreturn\u001b[39;00m _read(\n\u001b[1;32m    113\u001b[0m         filename,\n\u001b[1;32m    114\u001b[0m         backed\u001b[39m=\u001b[39;49mbacked,\n\u001b[1;32m    115\u001b[0m         sheet\u001b[39m=\u001b[39;49msheet,\n\u001b[1;32m    116\u001b[0m         ext\u001b[39m=\u001b[39;49mext,\n\u001b[1;32m    117\u001b[0m         delimiter\u001b[39m=\u001b[39;49mdelimiter,\n\u001b[1;32m    118\u001b[0m         first_column_names\u001b[39m=\u001b[39;49mfirst_column_names,\n\u001b[1;32m    119\u001b[0m         backup_url\u001b[39m=\u001b[39;49mbackup_url,\n\u001b[1;32m    120\u001b[0m         cache\u001b[39m=\u001b[39;49mcache,\n\u001b[1;32m    121\u001b[0m         cache_compression\u001b[39m=\u001b[39;49mcache_compression,\n\u001b[1;32m    122\u001b[0m         \u001b[39m*\u001b[39;49m\u001b[39m*\u001b[39;49mkwargs,\n\u001b[1;32m    123\u001b[0m     )\n\u001b[1;32m    124\u001b[0m \u001b[39m# generate filename and read to dict\u001b[39;00m\n\u001b[1;32m    125\u001b[0m filekey \u001b[39m=\u001b[39m \u001b[39mstr\u001b[39m(filename)\n",
      "File \u001b[0;32m/Applications/Anaconda/anaconda3/envs/scvi-tools-dev/lib/python3.11/site-packages/scanpy/readwrite.py:716\u001b[0m, in \u001b[0;36m_read\u001b[0;34m(filename, backed, sheet, ext, delimiter, first_column_names, backup_url, cache, cache_compression, suppress_cache_warning, **kwargs)\u001b[0m\n\u001b[1;32m    714\u001b[0m \u001b[39melse\u001b[39;00m:\n\u001b[1;32m    715\u001b[0m     ext \u001b[39m=\u001b[39m is_valid_filename(filename, return_ext\u001b[39m=\u001b[39m\u001b[39mTrue\u001b[39;00m)\n\u001b[0;32m--> 716\u001b[0m is_present \u001b[39m=\u001b[39m _check_datafile_present_and_download(filename, backup_url\u001b[39m=\u001b[39;49mbackup_url)\n\u001b[1;32m    717\u001b[0m \u001b[39mif\u001b[39;00m \u001b[39mnot\u001b[39;00m is_present:\n\u001b[1;32m    718\u001b[0m     logg\u001b[39m.\u001b[39mdebug(\u001b[39mf\u001b[39m\u001b[39m'\u001b[39m\u001b[39m... did not find original file \u001b[39m\u001b[39m{\u001b[39;00mfilename\u001b[39m}\u001b[39;00m\u001b[39m'\u001b[39m)\n",
      "File \u001b[0;32m/Applications/Anaconda/anaconda3/envs/scvi-tools-dev/lib/python3.11/site-packages/scanpy/readwrite.py:1002\u001b[0m, in \u001b[0;36m_check_datafile_present_and_download\u001b[0;34m(path, backup_url)\u001b[0m\n\u001b[1;32m    999\u001b[0m     logg\u001b[39m.\u001b[39minfo(\u001b[39mf\u001b[39m\u001b[39m'\u001b[39m\u001b[39mcreating directory \u001b[39m\u001b[39m{\u001b[39;00mpath\u001b[39m.\u001b[39mparent\u001b[39m}\u001b[39;00m\u001b[39m/ for saving data\u001b[39m\u001b[39m'\u001b[39m)\n\u001b[1;32m   1000\u001b[0m     path\u001b[39m.\u001b[39mparent\u001b[39m.\u001b[39mmkdir(parents\u001b[39m=\u001b[39m\u001b[39mTrue\u001b[39;00m)\n\u001b[0;32m-> 1002\u001b[0m _download(backup_url, path)\n\u001b[1;32m   1003\u001b[0m \u001b[39mreturn\u001b[39;00m \u001b[39mTrue\u001b[39;00m\n",
      "File \u001b[0;32m/Applications/Anaconda/anaconda3/envs/scvi-tools-dev/lib/python3.11/site-packages/scanpy/readwrite.py:978\u001b[0m, in \u001b[0;36m_download\u001b[0;34m(url, path)\u001b[0m\n\u001b[1;32m    976\u001b[0m                 blocknum \u001b[39m+\u001b[39m\u001b[39m=\u001b[39m \u001b[39m1\u001b[39m\n\u001b[1;32m    977\u001b[0m                 t\u001b[39m.\u001b[39mupdate(\u001b[39mlen\u001b[39m(block))\n\u001b[0;32m--> 978\u001b[0m                 block \u001b[39m=\u001b[39m resp\u001b[39m.\u001b[39;49mread(blocksize)\n\u001b[1;32m    980\u001b[0m \u001b[39mexcept\u001b[39;00m (\u001b[39mKeyboardInterrupt\u001b[39;00m, \u001b[39mException\u001b[39;00m):\n\u001b[1;32m    981\u001b[0m     \u001b[39m# Make sure file doesn’t exist half-downloaded\u001b[39;00m\n\u001b[1;32m    982\u001b[0m     \u001b[39mif\u001b[39;00m path\u001b[39m.\u001b[39mis_file():\n",
      "File \u001b[0;32m/Applications/Anaconda/anaconda3/envs/scvi-tools-dev/lib/python3.11/http/client.py:466\u001b[0m, in \u001b[0;36mHTTPResponse.read\u001b[0;34m(self, amt)\u001b[0m\n\u001b[1;32m    463\u001b[0m \u001b[39mif\u001b[39;00m \u001b[39mself\u001b[39m\u001b[39m.\u001b[39mlength \u001b[39mis\u001b[39;00m \u001b[39mnot\u001b[39;00m \u001b[39mNone\u001b[39;00m \u001b[39mand\u001b[39;00m amt \u001b[39m>\u001b[39m \u001b[39mself\u001b[39m\u001b[39m.\u001b[39mlength:\n\u001b[1;32m    464\u001b[0m     \u001b[39m# clip the read to the \"end of response\"\u001b[39;00m\n\u001b[1;32m    465\u001b[0m     amt \u001b[39m=\u001b[39m \u001b[39mself\u001b[39m\u001b[39m.\u001b[39mlength\n\u001b[0;32m--> 466\u001b[0m s \u001b[39m=\u001b[39m \u001b[39mself\u001b[39m\u001b[39m.\u001b[39mfp\u001b[39m.\u001b[39mread(amt)\n\u001b[1;32m    467\u001b[0m \u001b[39mif\u001b[39;00m \u001b[39mnot\u001b[39;00m s \u001b[39mand\u001b[39;00m amt:\n\u001b[1;32m    468\u001b[0m     \u001b[39m# Ideally, we would raise IncompleteRead if the content-length\u001b[39;00m\n\u001b[1;32m    469\u001b[0m     \u001b[39m# wasn't satisfied, but it might break compatibility.\u001b[39;00m\n\u001b[1;32m    470\u001b[0m     \u001b[39mself\u001b[39m\u001b[39m.\u001b[39m_close_conn()\n",
      "File \u001b[0;32m/Applications/Anaconda/anaconda3/envs/scvi-tools-dev/lib/python3.11/socket.py:706\u001b[0m, in \u001b[0;36mSocketIO.readinto\u001b[0;34m(self, b)\u001b[0m\n\u001b[1;32m    704\u001b[0m \u001b[39mwhile\u001b[39;00m \u001b[39mTrue\u001b[39;00m:\n\u001b[1;32m    705\u001b[0m     \u001b[39mtry\u001b[39;00m:\n\u001b[0;32m--> 706\u001b[0m         \u001b[39mreturn\u001b[39;00m \u001b[39mself\u001b[39;49m\u001b[39m.\u001b[39;49m_sock\u001b[39m.\u001b[39;49mrecv_into(b)\n\u001b[1;32m    707\u001b[0m     \u001b[39mexcept\u001b[39;00m timeout:\n\u001b[1;32m    708\u001b[0m         \u001b[39mself\u001b[39m\u001b[39m.\u001b[39m_timeout_occurred \u001b[39m=\u001b[39m \u001b[39mTrue\u001b[39;00m\n",
      "File \u001b[0;32m/Applications/Anaconda/anaconda3/envs/scvi-tools-dev/lib/python3.11/ssl.py:1278\u001b[0m, in \u001b[0;36mSSLSocket.recv_into\u001b[0;34m(self, buffer, nbytes, flags)\u001b[0m\n\u001b[1;32m   1274\u001b[0m     \u001b[39mif\u001b[39;00m flags \u001b[39m!=\u001b[39m \u001b[39m0\u001b[39m:\n\u001b[1;32m   1275\u001b[0m         \u001b[39mraise\u001b[39;00m \u001b[39mValueError\u001b[39;00m(\n\u001b[1;32m   1276\u001b[0m           \u001b[39m\"\u001b[39m\u001b[39mnon-zero flags not allowed in calls to recv_into() on \u001b[39m\u001b[39m%s\u001b[39;00m\u001b[39m\"\u001b[39m \u001b[39m%\u001b[39m\n\u001b[1;32m   1277\u001b[0m           \u001b[39mself\u001b[39m\u001b[39m.\u001b[39m\u001b[39m__class__\u001b[39m)\n\u001b[0;32m-> 1278\u001b[0m     \u001b[39mreturn\u001b[39;00m \u001b[39mself\u001b[39;49m\u001b[39m.\u001b[39;49mread(nbytes, buffer)\n\u001b[1;32m   1279\u001b[0m \u001b[39melse\u001b[39;00m:\n\u001b[1;32m   1280\u001b[0m     \u001b[39mreturn\u001b[39;00m \u001b[39msuper\u001b[39m()\u001b[39m.\u001b[39mrecv_into(buffer, nbytes, flags)\n",
      "File \u001b[0;32m/Applications/Anaconda/anaconda3/envs/scvi-tools-dev/lib/python3.11/ssl.py:1134\u001b[0m, in \u001b[0;36mSSLSocket.read\u001b[0;34m(self, len, buffer)\u001b[0m\n\u001b[1;32m   1132\u001b[0m \u001b[39mtry\u001b[39;00m:\n\u001b[1;32m   1133\u001b[0m     \u001b[39mif\u001b[39;00m buffer \u001b[39mis\u001b[39;00m \u001b[39mnot\u001b[39;00m \u001b[39mNone\u001b[39;00m:\n\u001b[0;32m-> 1134\u001b[0m         \u001b[39mreturn\u001b[39;00m \u001b[39mself\u001b[39;49m\u001b[39m.\u001b[39;49m_sslobj\u001b[39m.\u001b[39;49mread(\u001b[39mlen\u001b[39;49m, buffer)\n\u001b[1;32m   1135\u001b[0m     \u001b[39melse\u001b[39;00m:\n\u001b[1;32m   1136\u001b[0m         \u001b[39mreturn\u001b[39;00m \u001b[39mself\u001b[39m\u001b[39m.\u001b[39m_sslobj\u001b[39m.\u001b[39mread(\u001b[39mlen\u001b[39m)\n",
      "\u001b[0;31mKeyboardInterrupt\u001b[0m: "
     ]
    }
   ],
   "source": [
    "adata = sc.read(\n",
    "    filename=\"data/s4d8_feature_selection.h5ad\",\n",
    "    backup_url=\"https://figshare.com/ndownloader/files/40016014\",\n",
    ")"
   ]
  },
  {
   "cell_type": "code",
   "execution_count": null,
   "metadata": {},
   "outputs": [],
   "source": []
  }
 ],
 "metadata": {
  "kernelspec": {
   "display_name": "scvi-tools-dev",
   "language": "python",
   "name": "python3"
  },
  "language_info": {
   "codemirror_mode": {
    "name": "ipython",
    "version": 3
   },
   "file_extension": ".py",
   "mimetype": "text/x-python",
   "name": "python",
   "nbconvert_exporter": "python",
   "pygments_lexer": "ipython3",
   "version": "3.11.3"
  },
  "orig_nbformat": 4
 },
 "nbformat": 4,
 "nbformat_minor": 2
}
