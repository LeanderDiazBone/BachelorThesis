{
 "cells": [
  {
   "cell_type": "code",
   "execution_count": 3,
   "metadata": {},
   "outputs": [],
   "source": [
    "import pandas as pd\n",
    "import numpy as np\n",
    "import torch.nn\n",
    "import torchvision\n",
    "import torch.nn.functional as F\n",
    "import torch.nn as nn\n",
    "from torchvision import transforms"
   ]
  },
  {
   "attachments": {},
   "cell_type": "markdown",
   "metadata": {},
   "source": [
    "### A Linear Gaussian Latent Variable Model\n",
    "$z\\in \\mathbb{R}^n,x\\in \\mathbb{R}^D\\\\$\n",
    "Prior: $p(z)=\\mathcal{N}(y,\\omega\\mathbb{I})\\\\$\n",
    "$x=Wz+b+\\epsilon,\\epsilon\\sim \\mathcal{N}(u,\\sigma I)$\n"
   ]
  },
  {
   "cell_type": "code",
   "execution_count": 60,
   "metadata": {},
   "outputs": [],
   "source": [
    "class Encoder(nn.Module):\n",
    "    def __init__(self, encoder_net):\n",
    "        super(self)\n",
    "        self.encoder = encoder_net\n",
    "    \n",
    "    def reparametrization(mu,va):\n",
    "        std = torch.exp(0.5*va)\n",
    "        return mu + std*torch.randn_like(std)\n",
    "    \n",
    "    def forward(self, x):\n",
    "        h_e =  self.encoder(x)\n",
    "        mu, va = torch.chunk(h_e, 2)\n",
    "        return mu, va\n",
    "\n",
    "    def encode(self, x):\n",
    "        return self.encoder(x)\n",
    "    \n",
    "    def sample(self,mu,va):\n",
    "        z = self.reparametrization(mu,va)\n",
    "        return z\n",
    "    \n",
    "    def log_p(self,mu,va,z):\n",
    "        log_p = -0.5 * z.shape[0] * torch.log(2. * torch.PI) - 0.5 * va - 0.5 * torch.exp(-va) * (z - mu)**2\n",
    "        return log_p"
   ]
  },
  {
   "cell_type": "code",
   "execution_count": 7,
   "metadata": {},
   "outputs": [],
   "source": [
    "class Decoder(nn.Module):\n",
    "    def __init__(self, decoder_net):\n",
    "        super(self)\n",
    "        self.decoder = decoder_net\n",
    "    \n",
    "    def forward(self, z):\n",
    "        return self.decoder(z)\n",
    "    \n",
    "    def decode(self, z):\n",
    "        return self.decoder(z)\n",
    "\n",
    "    def log_prob(self,x,z):\n",
    "        out = self.decode(z)\n",
    "        log_p = 1\n",
    "        return log_p \n"
   ]
  },
  {
   "cell_type": "code",
   "execution_count": 59,
   "metadata": {},
   "outputs": [],
   "source": [
    "class Prior(nn.Module):\n",
    "    def __init__(self, n, y, ome):\n",
    "        super(Prior,self).__init__()\n",
    "        self.n = n\n",
    "        self.y = y\n",
    "        self.ome = ome\n",
    "\n",
    "    def forward(self):\n",
    "        pass\n",
    "\n",
    "    def sample(self):\n",
    "        z = self.ome*torch.randn(self.n)+self.y\n",
    "        return z\n",
    "\n",
    "    def log_prob(self,z):\n",
    "        log_p = -0.5 * z.shape[0] * torch.log(2. * torch.PI) - 0.5 * z**2\n",
    "        return log_p"
   ]
  },
  {
   "cell_type": "code",
   "execution_count": 57,
   "metadata": {},
   "outputs": [],
   "source": [
    "class VAE(nn.Module):\n",
    "    def __init__(self,encoder_net,decoder_net,n,y,ome):\n",
    "        super(VAE,self).__init__()\n",
    "        self.encoder = Encoder(encoder_net)\n",
    "        self.decoder = Decoder(decoder_net)\n",
    "        self.prior = Prior(n,y,ome)\n",
    "    \n",
    "    def forward(self, x):\n",
    "        mu, va = self.encoder.encode(x)\n",
    "        z = self.encoder.sample(mu, va)\n",
    "        RE = self.decoder.log_prob(x,z)\n",
    "        KL = (self.prior.log_prob(z) - self.encoder.log_prob(mu,va,z)).sum(-1)\n",
    "        return -(RE+KL).mean()"
   ]
  },
  {
   "cell_type": "code",
   "execution_count": 50,
   "metadata": {},
   "outputs": [],
   "source": [
    "D = 100\n",
    "n = 4\n",
    "y = torch.zeros(n); ome = 1\n",
    "u = torch.zeros(n); sig = 1\n",
    "W = torch.randn(size=(D,n)); b = torch.randn(D)\n",
    "encoder = nn.Sequential(nn.Linear(D,2*n))\n",
    "decoder = nn.Sequential(nn.Linear(n,D))"
   ]
  },
  {
   "cell_type": "code",
   "execution_count": 51,
   "metadata": {},
   "outputs": [],
   "source": [
    "def sample_x(z,W,b,u,sig):\n",
    "    eps = sig*torch.randn(D) + u\n",
    "    x = W @ z + b + eps\n",
    "    return x"
   ]
  },
  {
   "cell_type": "code",
   "execution_count": null,
   "metadata": {},
   "outputs": [],
   "source": []
  }
 ],
 "metadata": {
  "kernelspec": {
   "display_name": "ML",
   "language": "python",
   "name": "python3"
  },
  "language_info": {
   "codemirror_mode": {
    "name": "ipython",
    "version": 3
   },
   "file_extension": ".py",
   "mimetype": "text/x-python",
   "name": "python",
   "nbconvert_exporter": "python",
   "pygments_lexer": "ipython3",
   "version": "3.9.13"
  },
  "orig_nbformat": 4
 },
 "nbformat": 4,
 "nbformat_minor": 2
}
