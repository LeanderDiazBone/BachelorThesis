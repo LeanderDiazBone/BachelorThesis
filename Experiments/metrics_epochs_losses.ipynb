{
 "cells": [
  {
   "cell_type": "code",
   "execution_count": 7,
   "metadata": {},
   "outputs": [
    {
     "name": "stderr",
     "output_type": "stream",
     "text": [
      "/local/data/scvi-tools/scvi/_settings.py:63: UserWarning: Since v1.0.0, scvi-tools no longer uses a random seed by default. Run `scvi.settings.seed = 0` to reproduce results from previous versions.\n",
      "  self.seed = seed\n",
      "/local/data/scvi-tools/scvi/_settings.py:70: UserWarning: Setting `dl_pin_memory_gpu_training` is deprecated in v1.0 and will be removed in v1.1. Please pass in `pin_memory` to the data loaders instead.\n",
      "  self.dl_pin_memory_gpu_training = (\n",
      "/local/data/anaconda3/envs/BT/lib/python3.11/site-packages/numba/np/ufunc/dufunc.py:84: NumbaDeprecationWarning: \u001b[1mThe 'nopython' keyword argument was not supplied to the 'numba.jit' decorator. The implicit default value for this argument is currently False, but it will be changed to True in Numba 0.59.0. See https://numba.readthedocs.io/en/stable/reference/deprecation.html#deprecation-of-object-mode-fall-back-behaviour-when-using-jit for details.\u001b[0m\n",
      "  dispatcher = jit(_target='npyufunc',\n",
      "/local/data/anaconda3/envs/BT/lib/python3.11/site-packages/numba/np/ufunc/dufunc.py:84: NumbaDeprecationWarning: \u001b[1mThe 'nopython' keyword argument was not supplied to the 'numba.jit' decorator. The implicit default value for this argument is currently False, but it will be changed to True in Numba 0.59.0. See https://numba.readthedocs.io/en/stable/reference/deprecation.html#deprecation-of-object-mode-fall-back-behaviour-when-using-jit for details.\u001b[0m\n",
      "  dispatcher = jit(_target='npyufunc',\n",
      "/local/data/anaconda3/envs/BT/lib/python3.11/site-packages/numba/np/ufunc/dufunc.py:84: NumbaDeprecationWarning: \u001b[1mThe 'nopython' keyword argument was not supplied to the 'numba.jit' decorator. The implicit default value for this argument is currently False, but it will be changed to True in Numba 0.59.0. See https://numba.readthedocs.io/en/stable/reference/deprecation.html#deprecation-of-object-mode-fall-back-behaviour-when-using-jit for details.\u001b[0m\n",
      "  dispatcher = jit(_target='npyufunc',\n",
      "/local/data/anaconda3/envs/BT/lib/python3.11/site-packages/numba/np/ufunc/dufunc.py:84: NumbaDeprecationWarning: \u001b[1mThe 'nopython' keyword argument was not supplied to the 'numba.jit' decorator. The implicit default value for this argument is currently False, but it will be changed to True in Numba 0.59.0. See https://numba.readthedocs.io/en/stable/reference/deprecation.html#deprecation-of-object-mode-fall-back-behaviour-when-using-jit for details.\u001b[0m\n",
      "  dispatcher = jit(_target='npyufunc',\n",
      "/local/data/anaconda3/envs/BT/lib/python3.11/site-packages/umap/distances.py:1063: NumbaDeprecationWarning: \u001b[1mThe 'nopython' keyword argument was not supplied to the 'numba.jit' decorator. The implicit default value for this argument is currently False, but it will be changed to True in Numba 0.59.0. See https://numba.readthedocs.io/en/stable/reference/deprecation.html#deprecation-of-object-mode-fall-back-behaviour-when-using-jit for details.\u001b[0m\n",
      "/local/data/anaconda3/envs/BT/lib/python3.11/site-packages/umap/distances.py:1071: NumbaDeprecationWarning: \u001b[1mThe 'nopython' keyword argument was not supplied to the 'numba.jit' decorator. The implicit default value for this argument is currently False, but it will be changed to True in Numba 0.59.0. See https://numba.readthedocs.io/en/stable/reference/deprecation.html#deprecation-of-object-mode-fall-back-behaviour-when-using-jit for details.\u001b[0m\n",
      "/local/data/anaconda3/envs/BT/lib/python3.11/site-packages/umap/distances.py:1086: NumbaDeprecationWarning: \u001b[1mThe 'nopython' keyword argument was not supplied to the 'numba.jit' decorator. The implicit default value for this argument is currently False, but it will be changed to True in Numba 0.59.0. See https://numba.readthedocs.io/en/stable/reference/deprecation.html#deprecation-of-object-mode-fall-back-behaviour-when-using-jit for details.\u001b[0m\n",
      "/local/data/anaconda3/envs/BT/lib/python3.11/site-packages/umap/umap_.py:660: NumbaDeprecationWarning: \u001b[1mThe 'nopython' keyword argument was not supplied to the 'numba.jit' decorator. The implicit default value for this argument is currently False, but it will be changed to True in Numba 0.59.0. See https://numba.readthedocs.io/en/stable/reference/deprecation.html#deprecation-of-object-mode-fall-back-behaviour-when-using-jit for details.\u001b[0m\n",
      "2023-09-27 11:02:08.461624: W tensorflow/compiler/tf2tensorrt/utils/py_utils.cc:38] TF-TRT Warning: Could not find TensorRT\n",
      "/local/data/anaconda3/envs/BT/lib/python3.11/site-packages/numba/np/ufunc/dufunc.py:84: NumbaDeprecationWarning: \u001b[1mThe 'nopython' keyword argument was not supplied to the 'numba.jit' decorator. The implicit default value for this argument is currently False, but it will be changed to True in Numba 0.59.0. See https://numba.readthedocs.io/en/stable/reference/deprecation.html#deprecation-of-object-mode-fall-back-behaviour-when-using-jit for details.\u001b[0m\n",
      "/local/data/anaconda3/envs/BT/lib/python3.11/site-packages/numba/np/ufunc/dufunc.py:84: NumbaDeprecationWarning: \u001b[1mThe 'nopython' keyword argument was not supplied to the 'numba.jit' decorator. The implicit default value for this argument is currently False, but it will be changed to True in Numba 0.59.0. See https://numba.readthedocs.io/en/stable/reference/deprecation.html#deprecation-of-object-mode-fall-back-behaviour-when-using-jit for details.\u001b[0m\n",
      "/local/data/anaconda3/envs/BT/lib/python3.11/site-packages/numba/np/ufunc/dufunc.py:84: NumbaDeprecationWarning: \u001b[1mThe 'nopython' keyword argument was not supplied to the 'numba.jit' decorator. The implicit default value for this argument is currently False, but it will be changed to True in Numba 0.59.0. See https://numba.readthedocs.io/en/stable/reference/deprecation.html#deprecation-of-object-mode-fall-back-behaviour-when-using-jit for details.\u001b[0m\n",
      "/local/data/anaconda3/envs/BT/lib/python3.11/site-packages/umap/plot.py:203: NumbaDeprecationWarning: \u001b[1mThe 'nopython' keyword argument was not supplied to the 'numba.jit' decorator. The implicit default value for this argument is currently False, but it will be changed to True in Numba 0.59.0. See https://numba.readthedocs.io/en/stable/reference/deprecation.html#deprecation-of-object-mode-fall-back-behaviour-when-using-jit for details.\u001b[0m\n"
     ]
    }
   ],
   "source": [
    "import numpy as np\n",
    "import scanpy as sc\n",
    "import anndata\n",
    "import scvi\n",
    "from scib_metrics.benchmark import Benchmarker\n",
    "import torch\n",
    "import scib_metrics\n",
    "from lightning.pytorch.callbacks import ModelCheckpoint\n",
    "import copy\n",
    "%matplotlib inline\n",
    "import sys\n",
    "sys.path.append('..')\n",
    "from functions import *\n",
    "from SCVIModelCheckpoint import SCVIModelCheckpoint "
   ]
  },
  {
   "cell_type": "code",
   "execution_count": 8,
   "metadata": {},
   "outputs": [],
   "source": [
    "adata = anndata.read_h5ad(filename=\"../data/adataLung4.h5ad\")"
   ]
  },
  {
   "cell_type": "code",
   "execution_count": 14,
   "metadata": {},
   "outputs": [
    {
     "data": {
      "text/plain": [
       "AnnData object with n_obs × n_vars = 32472 × 4000\n",
       "    obs: 'dataset', 'location', 'nGene', 'nUMI', 'patientGroup', 'percent.mito', 'protocol', 'sanger_type', 'size_factors', 'sampling_method', 'batch', 'cell_type', 'donor'\n",
       "    var: 'highly_variable', 'means', 'dispersions', 'dispersions_norm', 'highly_variable_nbatches', 'highly_variable_intersection'\n",
       "    uns: 'hvg', 'pca'\n",
       "    obsm: 'Scanorama', 'Unintegrated', 'X_pca'\n",
       "    varm: 'PCs'\n",
       "    layers: 'counts'"
      ]
     },
     "execution_count": 14,
     "metadata": {},
     "output_type": "execute_result"
    }
   ],
   "source": [
    "adata"
   ]
  },
  {
   "cell_type": "code",
   "execution_count": 17,
   "metadata": {},
   "outputs": [
    {
     "name": "stderr",
     "output_type": "stream",
     "text": [
      "GPU available: True (cuda), used: True\n",
      "TPU available: False, using: 0 TPU cores\n",
      "IPU available: False, using: 0 IPUs\n",
      "HPU available: False, using: 0 HPUs\n",
      "LOCAL_RANK: 0 - CUDA_VISIBLE_DEVICES: [0]\n"
     ]
    },
    {
     "name": "stdout",
     "output_type": "stream",
     "text": [
      "Epoch 400/400: 100%|██████████| 400/400 [10:34<00:00,  1.59s/it, v_num=0, train_loss_step=958, train_loss_epoch=904]    "
     ]
    },
    {
     "name": "stderr",
     "output_type": "stream",
     "text": [
      "`Trainer.fit` stopped: `max_epochs=400` reached.\n"
     ]
    },
    {
     "name": "stdout",
     "output_type": "stream",
     "text": [
      "Epoch 400/400: 100%|██████████| 400/400 [10:34<00:00,  1.59s/it, v_num=0, train_loss_step=958, train_loss_epoch=904]\n"
     ]
    }
   ],
   "source": [
    "adataSD, vaeSD = trainModel(adata, 'sdnormal', checkpoint = True, checkpointFolder = \"Final_MetEp_SD\", every_n=10, log=True, logname=\"MetEps400SD\")"
   ]
  },
  {
   "cell_type": "code",
   "execution_count": 4,
   "metadata": {},
   "outputs": [
    {
     "name": "stderr",
     "output_type": "stream",
     "text": [
      "INFO:jax._src.xla_bridge:Unable to initialize backend 'cuda': module 'jaxlib.xla_extension' has no attribute 'GpuAllocatorConfig'\n",
      "INFO:jax._src.xla_bridge:Unable to initialize backend 'rocm': module 'jaxlib.xla_extension' has no attribute 'GpuAllocatorConfig'\n",
      "INFO:jax._src.xla_bridge:Unable to initialize backend 'tpu': INVALID_ARGUMENT: TpuPlatform is not available.\n",
      "WARNING:jax._src.xla_bridge:No GPU/TPU found, falling back to CPU. (Set TF_CPP_MIN_LOG_LEVEL=0 and rerun for more info.)\n"
     ]
    },
    {
     "name": "stderr",
     "output_type": "stream",
     "text": [
      "GPU available: True (cuda), used: True\n",
      "TPU available: False, using: 0 TPU cores\n",
      "IPU available: False, using: 0 IPUs\n",
      "HPU available: False, using: 0 HPUs\n",
      "LOCAL_RANK: 0 - CUDA_VISIBLE_DEVICES: [0]\n"
     ]
    },
    {
     "name": "stdout",
     "output_type": "stream",
     "text": [
      "Epoch 400/400: 100%|██████████| 400/400 [13:25<00:00,  2.06s/it, v_num=1, train_loss_step=897, train_loss_epoch=900]    "
     ]
    },
    {
     "name": "stderr",
     "output_type": "stream",
     "text": [
      "`Trainer.fit` stopped: `max_epochs=400` reached.\n"
     ]
    },
    {
     "name": "stdout",
     "output_type": "stream",
     "text": [
      "Epoch 400/400: 100%|██████████| 400/400 [13:25<00:00,  2.01s/it, v_num=1, train_loss_step=897, train_loss_epoch=900]\n"
     ]
    }
   ],
   "source": [
    "adataMG, vaeMG = trainModel(adata, 'mixofgaus', checkpoint = True, checkpointFolder = \"Final_MetEp_MG\", every_n=10, log=False, logname=\"MetEps400MG\")"
   ]
  },
  {
   "cell_type": "code",
   "execution_count": 12,
   "metadata": {},
   "outputs": [
    {
     "name": "stderr",
     "output_type": "stream",
     "text": [
      "GPU available: True (cuda), used: True\n",
      "TPU available: False, using: 0 TPU cores\n",
      "IPU available: False, using: 0 IPUs\n",
      "HPU available: False, using: 0 HPUs\n",
      "LOCAL_RANK: 0 - CUDA_VISIBLE_DEVICES: [0]\n"
     ]
    },
    {
     "name": "stdout",
     "output_type": "stream",
     "text": [
      "Epoch 400/400: 100%|██████████| 400/400 [14:13<00:00,  2.04s/it, v_num=1, train_loss_step=868, train_loss_epoch=900]    "
     ]
    },
    {
     "name": "stderr",
     "output_type": "stream",
     "text": [
      "`Trainer.fit` stopped: `max_epochs=400` reached.\n"
     ]
    },
    {
     "name": "stdout",
     "output_type": "stream",
     "text": [
      "Epoch 400/400: 100%|██████████| 400/400 [14:13<00:00,  2.13s/it, v_num=1, train_loss_step=868, train_loss_epoch=900]\n"
     ]
    }
   ],
   "source": [
    "adataVP, vaeVP = trainModel(adata, 'vamp', checkpoint = True, checkpointFolder = \"Final_MetEp_VP\", every_n=10, log=False, logname=\"MetEps400VP\")"
   ]
  },
  {
   "cell_type": "code",
   "execution_count": 15,
   "metadata": {},
   "outputs": [
    {
     "name": "stderr",
     "output_type": "stream",
     "text": [
      "GPU available: True (cuda), used: True\n",
      "TPU available: False, using: 0 TPU cores\n",
      "IPU available: False, using: 0 IPUs\n",
      "HPU available: False, using: 0 HPUs\n",
      "LOCAL_RANK: 0 - CUDA_VISIBLE_DEVICES: [0]\n"
     ]
    },
    {
     "name": "stdout",
     "output_type": "stream",
     "text": [
      "Epoch 400/400: 100%|██████████| 400/400 [21:22<00:00,  3.25s/it, v_num=1, train_loss_step=870, train_loss_epoch=901]    "
     ]
    },
    {
     "name": "stderr",
     "output_type": "stream",
     "text": [
      "`Trainer.fit` stopped: `max_epochs=400` reached.\n"
     ]
    },
    {
     "name": "stdout",
     "output_type": "stream",
     "text": [
      "Epoch 400/400: 100%|██████████| 400/400 [21:22<00:00,  3.21s/it, v_num=1, train_loss_step=870, train_loss_epoch=901]\n"
     ]
    }
   ],
   "source": [
    "adataNF, vaeNF = trainModel(adata, 'normalflow', checkpoint = True, checkpointFolder = \"Final_MetEp_NF\", every_n=10, log=False, logname=\"MetEps400NF\")"
   ]
  },
  {
   "cell_type": "code",
   "execution_count": 6,
   "metadata": {},
   "outputs": [
    {
     "ename": "NameError",
     "evalue": "name 'getBenchmarkResultsEpochs' is not defined",
     "output_type": "error",
     "traceback": [
      "\u001b[0;31m---------------------------------------------------------------------------\u001b[0m",
      "\u001b[0;31mNameError\u001b[0m                                 Traceback (most recent call last)",
      "Cell \u001b[0;32mIn[6], line 1\u001b[0m\n\u001b[0;32m----> 1\u001b[0m bmSD \u001b[39m=\u001b[39m getBenchmarkResultsEpochs(adata,\u001b[39m\"\u001b[39m\u001b[39mmodels/Final_MetEp_SD/\u001b[39m\u001b[39m\"\u001b[39m,\u001b[39m400\u001b[39m,\u001b[39m10\u001b[39m)\n",
      "\u001b[0;31mNameError\u001b[0m: name 'getBenchmarkResultsEpochs' is not defined"
     ]
    }
   ],
   "source": [
    "bmSD = getBenchmarkResultsEpochs(adata,\"models/Final_MetEp_SD/\",400,10)"
   ]
  },
  {
   "cell_type": "code",
   "execution_count": 4,
   "metadata": {},
   "outputs": [
    {
     "name": "stdout",
     "output_type": "stream",
     "text": [
      "\u001b[34mINFO    \u001b[0m File models/Final_MetEp_MG/\u001b[33mepoch\u001b[0m=\u001b[1;36m9\u001b[0m/model.pt already downloaded                                            \n"
     ]
    },
    {
     "name": "stderr",
     "output_type": "stream",
     "text": [
      "INFO:jax._src.xla_bridge:Unable to initialize backend 'cuda': module 'jaxlib.xla_extension' has no attribute 'GpuAllocatorConfig'\n",
      "INFO:jax._src.xla_bridge:Unable to initialize backend 'rocm': module 'jaxlib.xla_extension' has no attribute 'GpuAllocatorConfig'\n",
      "INFO:jax._src.xla_bridge:Unable to initialize backend 'tpu': INVALID_ARGUMENT: TpuPlatform is not available.\n",
      "WARNING:jax._src.xla_bridge:No GPU/TPU found, falling back to CPU. (Set TF_CPP_MIN_LOG_LEVEL=0 and rerun for more info.)\n"
     ]
    },
    {
     "name": "stdout",
     "output_type": "stream",
     "text": [
      "\u001b[34mINFO    \u001b[0m File models/Final_MetEp_MG/\u001b[33mepoch\u001b[0m=\u001b[1;36m19\u001b[0m/model.pt already downloaded                                           \n",
      "\u001b[34mINFO    \u001b[0m File models/Final_MetEp_MG/\u001b[33mepoch\u001b[0m=\u001b[1;36m29\u001b[0m/model.pt already downloaded                                           \n",
      "\u001b[34mINFO    \u001b[0m File models/Final_MetEp_MG/\u001b[33mepoch\u001b[0m=\u001b[1;36m39\u001b[0m/model.pt already downloaded                                           \n",
      "\u001b[34mINFO    \u001b[0m File models/Final_MetEp_MG/\u001b[33mepoch\u001b[0m=\u001b[1;36m49\u001b[0m/model.pt already downloaded                                           \n",
      "\u001b[34mINFO    \u001b[0m File models/Final_MetEp_MG/\u001b[33mepoch\u001b[0m=\u001b[1;36m59\u001b[0m/model.pt already downloaded                                           \n",
      "\u001b[34mINFO    \u001b[0m File models/Final_MetEp_MG/\u001b[33mepoch\u001b[0m=\u001b[1;36m69\u001b[0m/model.pt already downloaded                                           \n",
      "\u001b[34mINFO    \u001b[0m File models/Final_MetEp_MG/\u001b[33mepoch\u001b[0m=\u001b[1;36m79\u001b[0m/model.pt already downloaded                                           \n",
      "\u001b[34mINFO    \u001b[0m File models/Final_MetEp_MG/\u001b[33mepoch\u001b[0m=\u001b[1;36m89\u001b[0m/model.pt already downloaded                                           \n",
      "\u001b[34mINFO    \u001b[0m File models/Final_MetEp_MG/\u001b[33mepoch\u001b[0m=\u001b[1;36m99\u001b[0m/model.pt already downloaded                                           \n",
      "\u001b[34mINFO    \u001b[0m File models/Final_MetEp_MG/\u001b[33mepoch\u001b[0m=\u001b[1;36m109\u001b[0m/model.pt already downloaded                                          \n",
      "\u001b[34mINFO    \u001b[0m File models/Final_MetEp_MG/\u001b[33mepoch\u001b[0m=\u001b[1;36m119\u001b[0m/model.pt already downloaded                                          \n",
      "\u001b[34mINFO    \u001b[0m File models/Final_MetEp_MG/\u001b[33mepoch\u001b[0m=\u001b[1;36m129\u001b[0m/model.pt already downloaded                                          \n",
      "\u001b[34mINFO    \u001b[0m File models/Final_MetEp_MG/\u001b[33mepoch\u001b[0m=\u001b[1;36m139\u001b[0m/model.pt already downloaded                                          \n",
      "\u001b[34mINFO    \u001b[0m File models/Final_MetEp_MG/\u001b[33mepoch\u001b[0m=\u001b[1;36m149\u001b[0m/model.pt already downloaded                                          \n",
      "\u001b[34mINFO    \u001b[0m File models/Final_MetEp_MG/\u001b[33mepoch\u001b[0m=\u001b[1;36m159\u001b[0m/model.pt already downloaded                                          \n",
      "\u001b[34mINFO    \u001b[0m File models/Final_MetEp_MG/\u001b[33mepoch\u001b[0m=\u001b[1;36m169\u001b[0m/model.pt already downloaded                                          \n",
      "\u001b[34mINFO    \u001b[0m File models/Final_MetEp_MG/\u001b[33mepoch\u001b[0m=\u001b[1;36m179\u001b[0m/model.pt already downloaded                                          \n",
      "\u001b[34mINFO    \u001b[0m File models/Final_MetEp_MG/\u001b[33mepoch\u001b[0m=\u001b[1;36m189\u001b[0m/model.pt already downloaded                                          \n",
      "\u001b[34mINFO    \u001b[0m File models/Final_MetEp_MG/\u001b[33mepoch\u001b[0m=\u001b[1;36m199\u001b[0m/model.pt already downloaded                                          \n",
      "\u001b[34mINFO    \u001b[0m File models/Final_MetEp_MG/\u001b[33mepoch\u001b[0m=\u001b[1;36m209\u001b[0m/model.pt already downloaded                                          \n",
      "\u001b[34mINFO    \u001b[0m File models/Final_MetEp_MG/\u001b[33mepoch\u001b[0m=\u001b[1;36m219\u001b[0m/model.pt already downloaded                                          \n",
      "\u001b[34mINFO    \u001b[0m File models/Final_MetEp_MG/\u001b[33mepoch\u001b[0m=\u001b[1;36m229\u001b[0m/model.pt already downloaded                                          \n",
      "\u001b[34mINFO    \u001b[0m File models/Final_MetEp_MG/\u001b[33mepoch\u001b[0m=\u001b[1;36m239\u001b[0m/model.pt already downloaded                                          \n",
      "\u001b[34mINFO    \u001b[0m File models/Final_MetEp_MG/\u001b[33mepoch\u001b[0m=\u001b[1;36m249\u001b[0m/model.pt already downloaded                                          \n",
      "\u001b[34mINFO    \u001b[0m File models/Final_MetEp_MG/\u001b[33mepoch\u001b[0m=\u001b[1;36m259\u001b[0m/model.pt already downloaded                                          \n",
      "\u001b[34mINFO    \u001b[0m File models/Final_MetEp_MG/\u001b[33mepoch\u001b[0m=\u001b[1;36m269\u001b[0m/model.pt already downloaded                                          \n",
      "\u001b[34mINFO    \u001b[0m File models/Final_MetEp_MG/\u001b[33mepoch\u001b[0m=\u001b[1;36m279\u001b[0m/model.pt already downloaded                                          \n",
      "\u001b[34mINFO    \u001b[0m File models/Final_MetEp_MG/\u001b[33mepoch\u001b[0m=\u001b[1;36m289\u001b[0m/model.pt already downloaded                                          \n",
      "\u001b[34mINFO    \u001b[0m File models/Final_MetEp_MG/\u001b[33mepoch\u001b[0m=\u001b[1;36m299\u001b[0m/model.pt already downloaded                                          \n",
      "\u001b[34mINFO    \u001b[0m File models/Final_MetEp_MG/\u001b[33mepoch\u001b[0m=\u001b[1;36m309\u001b[0m/model.pt already downloaded                                          \n",
      "\u001b[34mINFO    \u001b[0m File models/Final_MetEp_MG/\u001b[33mepoch\u001b[0m=\u001b[1;36m319\u001b[0m/model.pt already downloaded                                          \n",
      "\u001b[34mINFO    \u001b[0m File models/Final_MetEp_MG/\u001b[33mepoch\u001b[0m=\u001b[1;36m329\u001b[0m/model.pt already downloaded                                          \n",
      "\u001b[34mINFO    \u001b[0m File models/Final_MetEp_MG/\u001b[33mepoch\u001b[0m=\u001b[1;36m339\u001b[0m/model.pt already downloaded                                          \n",
      "\u001b[34mINFO    \u001b[0m File models/Final_MetEp_MG/\u001b[33mepoch\u001b[0m=\u001b[1;36m349\u001b[0m/model.pt already downloaded                                          \n",
      "\u001b[34mINFO    \u001b[0m File models/Final_MetEp_MG/\u001b[33mepoch\u001b[0m=\u001b[1;36m359\u001b[0m/model.pt already downloaded                                          \n",
      "\u001b[34mINFO    \u001b[0m File models/Final_MetEp_MG/\u001b[33mepoch\u001b[0m=\u001b[1;36m369\u001b[0m/model.pt already downloaded                                          \n",
      "\u001b[34mINFO    \u001b[0m File models/Final_MetEp_MG/\u001b[33mepoch\u001b[0m=\u001b[1;36m379\u001b[0m/model.pt already downloaded                                          \n",
      "\u001b[34mINFO    \u001b[0m File models/Final_MetEp_MG/\u001b[33mepoch\u001b[0m=\u001b[1;36m389\u001b[0m/model.pt already downloaded                                          \n"
     ]
    },
    {
     "name": "stderr",
     "output_type": "stream",
     "text": [
      "Computing neighbors:   0%|          | 0/39 [00:21<?, ?it/s]\n"
     ]
    },
    {
     "ename": "KeyboardInterrupt",
     "evalue": "",
     "output_type": "error",
     "traceback": [
      "\u001b[0;31m---------------------------------------------------------------------------\u001b[0m",
      "\u001b[0;31mKeyboardInterrupt\u001b[0m                         Traceback (most recent call last)",
      "Cell \u001b[0;32mIn[4], line 1\u001b[0m\n\u001b[0;32m----> 1\u001b[0m bmMG \u001b[39m=\u001b[39m getBenchmarkResultsEpochs(adata,\u001b[39m\"\u001b[39;49m\u001b[39mmodels/Final_MetEp_MG/\u001b[39;49m\u001b[39m\"\u001b[39;49m,\u001b[39m400\u001b[39;49m,\u001b[39m10\u001b[39;49m)\n",
      "File \u001b[0;32m/local/data/BachelorThesis/Experiments/../functions.py:428\u001b[0m, in \u001b[0;36mgetBenchmarkResultsEpochs\u001b[0;34m(adata, dir, max_epochs, n_eps)\u001b[0m\n\u001b[1;32m    426\u001b[0m     keys\u001b[39m.\u001b[39mappend(\u001b[39mf\u001b[39m\u001b[39m\"\u001b[39m\u001b[39mscVIepoch=\u001b[39m\u001b[39m{\u001b[39;00mn_eps\u001b[39m*\u001b[39mi\u001b[39m+\u001b[39mn_eps\u001b[39m-\u001b[39m\u001b[39m1\u001b[39m\u001b[39m}\u001b[39;00m\u001b[39m\"\u001b[39m)\n\u001b[1;32m    427\u001b[0m     adatac\u001b[39m.\u001b[39mobsm[keys[i]] \u001b[39m=\u001b[39m vae\u001b[39m.\u001b[39mget_latent_representation()\n\u001b[0;32m--> 428\u001b[0m \u001b[39mreturn\u001b[39;00m runBenchmark(adatac, keys, nmi_ari_cluster_labels_leiden\u001b[39m=\u001b[39;49m\u001b[39mTrue\u001b[39;49;00m, kbet_per_label\u001b[39m=\u001b[39;49m\u001b[39mTrue\u001b[39;49;00m)\n",
      "File \u001b[0;32m/local/data/BachelorThesis/Experiments/../functions.py:298\u001b[0m, in \u001b[0;36mrunBenchmark\u001b[0;34m(adata, keys, batch_key, label_key, isolated_labels, nmi_ari_cluster_labels_leiden, nmi_ari_cluster_labels_kmeans, silhouette_label, clisi_knn, graph_connectivity, ilisi_knn, kbet_per_label, pcr_comparison, silhouette_batch)\u001b[0m\n\u001b[1;32m    288\u001b[0m \u001b[39mdef\u001b[39;00m \u001b[39mrunBenchmark\u001b[39m(adata, keys, batch_key\u001b[39m=\u001b[39m\u001b[39m\"\u001b[39m\u001b[39mbatch\u001b[39m\u001b[39m\"\u001b[39m, label_key\u001b[39m=\u001b[39m\u001b[39m\"\u001b[39m\u001b[39mcell_type\u001b[39m\u001b[39m\"\u001b[39m, isolated_labels \u001b[39m=\u001b[39m \u001b[39mFalse\u001b[39;00m, nmi_ari_cluster_labels_leiden\u001b[39m=\u001b[39m\u001b[39mFalse\u001b[39;00m, nmi_ari_cluster_labels_kmeans \u001b[39m=\u001b[39m \u001b[39mFalse\u001b[39;00m, silhouette_label\u001b[39m=\u001b[39m\u001b[39mFalse\u001b[39;00m, clisi_knn \u001b[39m=\u001b[39m \u001b[39mFalse\u001b[39;00m, graph_connectivity\u001b[39m=\u001b[39m\u001b[39mFalse\u001b[39;00m, ilisi_knn\u001b[39m=\u001b[39m\u001b[39mFalse\u001b[39;00m, kbet_per_label\u001b[39m=\u001b[39m\u001b[39mFalse\u001b[39;00m, pcr_comparison\u001b[39m=\u001b[39m\u001b[39mFalse\u001b[39;00m, silhouette_batch\u001b[39m=\u001b[39m\u001b[39mFalse\u001b[39;00m):\n\u001b[1;32m    289\u001b[0m     bm \u001b[39m=\u001b[39m Benchmarker(\n\u001b[1;32m    290\u001b[0m         adata,\n\u001b[1;32m    291\u001b[0m         batch_key\u001b[39m=\u001b[39mbatch_key,\n\u001b[0;32m   (...)\u001b[0m\n\u001b[1;32m    296\u001b[0m         n_jobs\u001b[39m=\u001b[39m\u001b[39m16\u001b[39m,\n\u001b[1;32m    297\u001b[0m     )\n\u001b[0;32m--> 298\u001b[0m     bm\u001b[39m.\u001b[39;49mbenchmark()\n\u001b[1;32m    299\u001b[0m     \u001b[39mreturn\u001b[39;00m bm\n",
      "File \u001b[0;32m/local/data/anaconda3/envs/BT/lib/python3.11/site-packages/scib_metrics/benchmark/_core.py:210\u001b[0m, in \u001b[0;36mBenchmarker.benchmark\u001b[0;34m(self)\u001b[0m\n\u001b[1;32m    204\u001b[0m     warnings\u001b[39m.\u001b[39mwarn(\n\u001b[1;32m    205\u001b[0m         \u001b[39m\"\u001b[39m\u001b[39mThe benchmark has already been run. Running it again will overwrite the previous results.\u001b[39m\u001b[39m\"\u001b[39m,\n\u001b[1;32m    206\u001b[0m         \u001b[39mUserWarning\u001b[39;00m,\n\u001b[1;32m    207\u001b[0m     )\n\u001b[1;32m    209\u001b[0m \u001b[39mif\u001b[39;00m \u001b[39mnot\u001b[39;00m \u001b[39mself\u001b[39m\u001b[39m.\u001b[39m_prepared:\n\u001b[0;32m--> 210\u001b[0m     \u001b[39mself\u001b[39;49m\u001b[39m.\u001b[39;49mprepare()\n\u001b[1;32m    212\u001b[0m num_metrics \u001b[39m=\u001b[39m \u001b[39msum\u001b[39m(\n\u001b[1;32m    213\u001b[0m     [\u001b[39msum\u001b[39m([v \u001b[39mis\u001b[39;00m \u001b[39mnot\u001b[39;00m \u001b[39mFalse\u001b[39;00m \u001b[39mfor\u001b[39;00m v \u001b[39min\u001b[39;00m asdict(met_col)]) \u001b[39mfor\u001b[39;00m met_col \u001b[39min\u001b[39;00m \u001b[39mself\u001b[39m\u001b[39m.\u001b[39m_metric_collection_dict\u001b[39m.\u001b[39mvalues()]\n\u001b[1;32m    214\u001b[0m )\n\u001b[1;32m    216\u001b[0m \u001b[39mfor\u001b[39;00m emb_key, ad \u001b[39min\u001b[39;00m tqdm(\u001b[39mself\u001b[39m\u001b[39m.\u001b[39m_emb_adatas\u001b[39m.\u001b[39mitems(), desc\u001b[39m=\u001b[39m\u001b[39m\"\u001b[39m\u001b[39mEmbeddings\u001b[39m\u001b[39m\"\u001b[39m, position\u001b[39m=\u001b[39m\u001b[39m0\u001b[39m, colour\u001b[39m=\u001b[39m\u001b[39m\"\u001b[39m\u001b[39mgreen\u001b[39m\u001b[39m\"\u001b[39m):\n",
      "File \u001b[0;32m/local/data/anaconda3/envs/BT/lib/python3.11/site-packages/scib_metrics/benchmark/_core.py:188\u001b[0m, in \u001b[0;36mBenchmarker.prepare\u001b[0;34m(self, neighbor_computer)\u001b[0m\n\u001b[1;32m    186\u001b[0m     neigh_output \u001b[39m=\u001b[39m neighbor_computer(ad\u001b[39m.\u001b[39mX, \u001b[39mmax\u001b[39m(\u001b[39mself\u001b[39m\u001b[39m.\u001b[39m_neighbor_values))\n\u001b[1;32m    187\u001b[0m \u001b[39melse\u001b[39;00m:\n\u001b[0;32m--> 188\u001b[0m     neigh_output \u001b[39m=\u001b[39m pynndescent(\n\u001b[1;32m    189\u001b[0m         ad\u001b[39m.\u001b[39;49mX, n_neighbors\u001b[39m=\u001b[39;49m\u001b[39mmax\u001b[39;49m(\u001b[39mself\u001b[39;49m\u001b[39m.\u001b[39;49m_neighbor_values), random_state\u001b[39m=\u001b[39;49m\u001b[39m0\u001b[39;49m, n_jobs\u001b[39m=\u001b[39;49m\u001b[39mself\u001b[39;49m\u001b[39m.\u001b[39;49m_n_jobs\n\u001b[1;32m    190\u001b[0m     )\n\u001b[1;32m    191\u001b[0m indices, distances \u001b[39m=\u001b[39m neigh_output\u001b[39m.\u001b[39mindices, neigh_output\u001b[39m.\u001b[39mdistances\n\u001b[1;32m    192\u001b[0m \u001b[39mfor\u001b[39;00m n \u001b[39min\u001b[39;00m \u001b[39mself\u001b[39m\u001b[39m.\u001b[39m_neighbor_values:\n",
      "File \u001b[0;32m/local/data/anaconda3/envs/BT/lib/python3.11/site-packages/scib_metrics/nearest_neighbors/_pynndescent.py:27\u001b[0m, in \u001b[0;36mpynndescent\u001b[0;34m(X, n_neighbors, random_state, n_jobs)\u001b[0m\n\u001b[1;32m     24\u001b[0m n_iters \u001b[39m=\u001b[39m \u001b[39mmax\u001b[39m(\u001b[39m5\u001b[39m, \u001b[39mint\u001b[39m(\u001b[39mround\u001b[39m(np\u001b[39m.\u001b[39mlog2(X\u001b[39m.\u001b[39mshape[\u001b[39m0\u001b[39m]))))\n\u001b[1;32m     25\u001b[0m max_candidates \u001b[39m=\u001b[39m \u001b[39m60\u001b[39m\n\u001b[0;32m---> 27\u001b[0m knn_search_index \u001b[39m=\u001b[39m NNDescent(\n\u001b[1;32m     28\u001b[0m     X,\n\u001b[1;32m     29\u001b[0m     n_neighbors\u001b[39m=\u001b[39;49mn_neighbors,\n\u001b[1;32m     30\u001b[0m     random_state\u001b[39m=\u001b[39;49mrandom_state,\n\u001b[1;32m     31\u001b[0m     low_memory\u001b[39m=\u001b[39;49m\u001b[39mTrue\u001b[39;49;00m,\n\u001b[1;32m     32\u001b[0m     n_jobs\u001b[39m=\u001b[39;49mn_jobs,\n\u001b[1;32m     33\u001b[0m     compressed\u001b[39m=\u001b[39;49m\u001b[39mFalse\u001b[39;49;00m,\n\u001b[1;32m     34\u001b[0m     n_trees\u001b[39m=\u001b[39;49mn_trees,\n\u001b[1;32m     35\u001b[0m     n_iters\u001b[39m=\u001b[39;49mn_iters,\n\u001b[1;32m     36\u001b[0m     max_candidates\u001b[39m=\u001b[39;49mmax_candidates,\n\u001b[1;32m     37\u001b[0m )\n\u001b[1;32m     38\u001b[0m indices, distances \u001b[39m=\u001b[39m knn_search_index\u001b[39m.\u001b[39mneighbor_graph\n\u001b[1;32m     40\u001b[0m \u001b[39mreturn\u001b[39;00m NeighborsOutput(indices\u001b[39m=\u001b[39mindices, distances\u001b[39m=\u001b[39mdistances)\n",
      "File \u001b[0;32m/local/data/anaconda3/envs/BT/lib/python3.11/site-packages/pynndescent/pynndescent_.py:921\u001b[0m, in \u001b[0;36mNNDescent.__init__\u001b[0;34m(self, data, metric, metric_kwds, n_neighbors, n_trees, leaf_size, pruning_degree_multiplier, diversify_prob, n_search_trees, tree_init, init_graph, init_dist, random_state, low_memory, max_candidates, n_iters, delta, n_jobs, compressed, parallel_batch_queries, verbose)\u001b[0m\n\u001b[1;32m    918\u001b[0m     \u001b[39mif\u001b[39;00m verbose:\n\u001b[1;32m    919\u001b[0m         \u001b[39mprint\u001b[39m(ts(), \u001b[39m\"\u001b[39m\u001b[39mNN descent for\u001b[39m\u001b[39m\"\u001b[39m, \u001b[39mstr\u001b[39m(n_iters), \u001b[39m\"\u001b[39m\u001b[39miterations\u001b[39m\u001b[39m\"\u001b[39m)\n\u001b[0;32m--> 921\u001b[0m     \u001b[39mself\u001b[39m\u001b[39m.\u001b[39m_neighbor_graph \u001b[39m=\u001b[39m nn_descent(\n\u001b[1;32m    922\u001b[0m         \u001b[39mself\u001b[39;49m\u001b[39m.\u001b[39;49m_raw_data,\n\u001b[1;32m    923\u001b[0m         \u001b[39mself\u001b[39;49m\u001b[39m.\u001b[39;49mn_neighbors,\n\u001b[1;32m    924\u001b[0m         \u001b[39mself\u001b[39;49m\u001b[39m.\u001b[39;49mrng_state,\n\u001b[1;32m    925\u001b[0m         effective_max_candidates,\n\u001b[1;32m    926\u001b[0m         \u001b[39mself\u001b[39;49m\u001b[39m.\u001b[39;49m_distance_func,\n\u001b[1;32m    927\u001b[0m         \u001b[39mself\u001b[39;49m\u001b[39m.\u001b[39;49mn_iters,\n\u001b[1;32m    928\u001b[0m         \u001b[39mself\u001b[39;49m\u001b[39m.\u001b[39;49mdelta,\n\u001b[1;32m    929\u001b[0m         low_memory\u001b[39m=\u001b[39;49m\u001b[39mself\u001b[39;49m\u001b[39m.\u001b[39;49mlow_memory,\n\u001b[1;32m    930\u001b[0m         rp_tree_init\u001b[39m=\u001b[39;49m\u001b[39mTrue\u001b[39;49;00m,\n\u001b[1;32m    931\u001b[0m         init_graph\u001b[39m=\u001b[39;49m_init_graph,\n\u001b[1;32m    932\u001b[0m         leaf_array\u001b[39m=\u001b[39;49mleaf_array,\n\u001b[1;32m    933\u001b[0m         verbose\u001b[39m=\u001b[39;49mverbose,\n\u001b[1;32m    934\u001b[0m     )\n\u001b[1;32m    936\u001b[0m \u001b[39mif\u001b[39;00m np\u001b[39m.\u001b[39many(\u001b[39mself\u001b[39m\u001b[39m.\u001b[39m_neighbor_graph[\u001b[39m0\u001b[39m] \u001b[39m<\u001b[39m \u001b[39m0\u001b[39m):\n\u001b[1;32m    937\u001b[0m     warn(\n\u001b[1;32m    938\u001b[0m         \u001b[39m\"\u001b[39m\u001b[39mFailed to correctly find n_neighbors for some samples.\u001b[39m\u001b[39m\"\u001b[39m\n\u001b[1;32m    939\u001b[0m         \u001b[39m\"\u001b[39m\u001b[39m Results may be less than ideal. Try re-running with\u001b[39m\u001b[39m\"\u001b[39m\n\u001b[1;32m    940\u001b[0m         \u001b[39m\"\u001b[39m\u001b[39m different parameters.\u001b[39m\u001b[39m\"\u001b[39m\n\u001b[1;32m    941\u001b[0m     )\n",
      "File \u001b[0;32m/local/data/anaconda3/envs/BT/lib/python3.11/site-packages/numba/core/dispatcher.py:420\u001b[0m, in \u001b[0;36m_DispatcherBase._compile_for_args\u001b[0;34m(self, *args, **kws)\u001b[0m\n\u001b[1;32m    418\u001b[0m return_val \u001b[39m=\u001b[39m \u001b[39mNone\u001b[39;00m\n\u001b[1;32m    419\u001b[0m \u001b[39mtry\u001b[39;00m:\n\u001b[0;32m--> 420\u001b[0m     return_val \u001b[39m=\u001b[39m \u001b[39mself\u001b[39;49m\u001b[39m.\u001b[39;49mcompile(\u001b[39mtuple\u001b[39;49m(argtypes))\n\u001b[1;32m    421\u001b[0m \u001b[39mexcept\u001b[39;00m errors\u001b[39m.\u001b[39mForceLiteralArg \u001b[39mas\u001b[39;00m e:\n\u001b[1;32m    422\u001b[0m     \u001b[39m# Received request for compiler re-entry with the list of arguments\u001b[39;00m\n\u001b[1;32m    423\u001b[0m     \u001b[39m# indicated by e.requested_args.\u001b[39;00m\n\u001b[1;32m    424\u001b[0m     \u001b[39m# First, check if any of these args are already Literal-ized\u001b[39;00m\n\u001b[1;32m    425\u001b[0m     already_lit_pos \u001b[39m=\u001b[39m [i \u001b[39mfor\u001b[39;00m i \u001b[39min\u001b[39;00m e\u001b[39m.\u001b[39mrequested_args\n\u001b[1;32m    426\u001b[0m                        \u001b[39mif\u001b[39;00m \u001b[39misinstance\u001b[39m(args[i], types\u001b[39m.\u001b[39mLiteral)]\n",
      "File \u001b[0;32m/local/data/anaconda3/envs/BT/lib/python3.11/site-packages/numba/core/dispatcher.py:965\u001b[0m, in \u001b[0;36mDispatcher.compile\u001b[0;34m(self, sig)\u001b[0m\n\u001b[1;32m    963\u001b[0m \u001b[39mwith\u001b[39;00m ev\u001b[39m.\u001b[39mtrigger_event(\u001b[39m\"\u001b[39m\u001b[39mnumba:compile\u001b[39m\u001b[39m\"\u001b[39m, data\u001b[39m=\u001b[39mev_details):\n\u001b[1;32m    964\u001b[0m     \u001b[39mtry\u001b[39;00m:\n\u001b[0;32m--> 965\u001b[0m         cres \u001b[39m=\u001b[39m \u001b[39mself\u001b[39;49m\u001b[39m.\u001b[39;49m_compiler\u001b[39m.\u001b[39;49mcompile(args, return_type)\n\u001b[1;32m    966\u001b[0m     \u001b[39mexcept\u001b[39;00m errors\u001b[39m.\u001b[39mForceLiteralArg \u001b[39mas\u001b[39;00m e:\n\u001b[1;32m    967\u001b[0m         \u001b[39mdef\u001b[39;00m \u001b[39mfolded\u001b[39m(args, kws):\n",
      "File \u001b[0;32m/local/data/anaconda3/envs/BT/lib/python3.11/site-packages/numba/core/dispatcher.py:125\u001b[0m, in \u001b[0;36m_FunctionCompiler.compile\u001b[0;34m(self, args, return_type)\u001b[0m\n\u001b[1;32m    124\u001b[0m \u001b[39mdef\u001b[39;00m \u001b[39mcompile\u001b[39m(\u001b[39mself\u001b[39m, args, return_type):\n\u001b[0;32m--> 125\u001b[0m     status, retval \u001b[39m=\u001b[39m \u001b[39mself\u001b[39;49m\u001b[39m.\u001b[39;49m_compile_cached(args, return_type)\n\u001b[1;32m    126\u001b[0m     \u001b[39mif\u001b[39;00m status:\n\u001b[1;32m    127\u001b[0m         \u001b[39mreturn\u001b[39;00m retval\n",
      "File \u001b[0;32m/local/data/anaconda3/envs/BT/lib/python3.11/site-packages/numba/core/dispatcher.py:139\u001b[0m, in \u001b[0;36m_FunctionCompiler._compile_cached\u001b[0;34m(self, args, return_type)\u001b[0m\n\u001b[1;32m    136\u001b[0m     \u001b[39mpass\u001b[39;00m\n\u001b[1;32m    138\u001b[0m \u001b[39mtry\u001b[39;00m:\n\u001b[0;32m--> 139\u001b[0m     retval \u001b[39m=\u001b[39m \u001b[39mself\u001b[39;49m\u001b[39m.\u001b[39;49m_compile_core(args, return_type)\n\u001b[1;32m    140\u001b[0m \u001b[39mexcept\u001b[39;00m errors\u001b[39m.\u001b[39mTypingError \u001b[39mas\u001b[39;00m e:\n\u001b[1;32m    141\u001b[0m     \u001b[39mself\u001b[39m\u001b[39m.\u001b[39m_failed_cache[key] \u001b[39m=\u001b[39m e\n",
      "File \u001b[0;32m/local/data/anaconda3/envs/BT/lib/python3.11/site-packages/numba/core/dispatcher.py:152\u001b[0m, in \u001b[0;36m_FunctionCompiler._compile_core\u001b[0;34m(self, args, return_type)\u001b[0m\n\u001b[1;32m    149\u001b[0m flags \u001b[39m=\u001b[39m \u001b[39mself\u001b[39m\u001b[39m.\u001b[39m_customize_flags(flags)\n\u001b[1;32m    151\u001b[0m impl \u001b[39m=\u001b[39m \u001b[39mself\u001b[39m\u001b[39m.\u001b[39m_get_implementation(args, {})\n\u001b[0;32m--> 152\u001b[0m cres \u001b[39m=\u001b[39m compiler\u001b[39m.\u001b[39;49mcompile_extra(\u001b[39mself\u001b[39;49m\u001b[39m.\u001b[39;49mtargetdescr\u001b[39m.\u001b[39;49mtyping_context,\n\u001b[1;32m    153\u001b[0m                               \u001b[39mself\u001b[39;49m\u001b[39m.\u001b[39;49mtargetdescr\u001b[39m.\u001b[39;49mtarget_context,\n\u001b[1;32m    154\u001b[0m                               impl,\n\u001b[1;32m    155\u001b[0m                               args\u001b[39m=\u001b[39;49margs, return_type\u001b[39m=\u001b[39;49mreturn_type,\n\u001b[1;32m    156\u001b[0m                               flags\u001b[39m=\u001b[39;49mflags, \u001b[39mlocals\u001b[39;49m\u001b[39m=\u001b[39;49m\u001b[39mself\u001b[39;49m\u001b[39m.\u001b[39;49mlocals,\n\u001b[1;32m    157\u001b[0m                               pipeline_class\u001b[39m=\u001b[39;49m\u001b[39mself\u001b[39;49m\u001b[39m.\u001b[39;49mpipeline_class)\n\u001b[1;32m    158\u001b[0m \u001b[39m# Check typing error if object mode is used\u001b[39;00m\n\u001b[1;32m    159\u001b[0m \u001b[39mif\u001b[39;00m cres\u001b[39m.\u001b[39mtyping_error \u001b[39mis\u001b[39;00m \u001b[39mnot\u001b[39;00m \u001b[39mNone\u001b[39;00m \u001b[39mand\u001b[39;00m \u001b[39mnot\u001b[39;00m flags\u001b[39m.\u001b[39menable_pyobject:\n",
      "File \u001b[0;32m/local/data/anaconda3/envs/BT/lib/python3.11/site-packages/numba/core/compiler.py:742\u001b[0m, in \u001b[0;36mcompile_extra\u001b[0;34m(typingctx, targetctx, func, args, return_type, flags, locals, library, pipeline_class)\u001b[0m\n\u001b[1;32m    718\u001b[0m \u001b[39m\u001b[39m\u001b[39m\"\"\"Compiler entry point\u001b[39;00m\n\u001b[1;32m    719\u001b[0m \n\u001b[1;32m    720\u001b[0m \u001b[39mParameter\u001b[39;00m\n\u001b[0;32m   (...)\u001b[0m\n\u001b[1;32m    738\u001b[0m \u001b[39m    compiler pipeline\u001b[39;00m\n\u001b[1;32m    739\u001b[0m \u001b[39m\"\"\"\u001b[39;00m\n\u001b[1;32m    740\u001b[0m pipeline \u001b[39m=\u001b[39m pipeline_class(typingctx, targetctx, library,\n\u001b[1;32m    741\u001b[0m                           args, return_type, flags, \u001b[39mlocals\u001b[39m)\n\u001b[0;32m--> 742\u001b[0m \u001b[39mreturn\u001b[39;00m pipeline\u001b[39m.\u001b[39;49mcompile_extra(func)\n",
      "File \u001b[0;32m/local/data/anaconda3/envs/BT/lib/python3.11/site-packages/numba/core/compiler.py:460\u001b[0m, in \u001b[0;36mCompilerBase.compile_extra\u001b[0;34m(self, func)\u001b[0m\n\u001b[1;32m    458\u001b[0m \u001b[39mself\u001b[39m\u001b[39m.\u001b[39mstate\u001b[39m.\u001b[39mlifted \u001b[39m=\u001b[39m ()\n\u001b[1;32m    459\u001b[0m \u001b[39mself\u001b[39m\u001b[39m.\u001b[39mstate\u001b[39m.\u001b[39mlifted_from \u001b[39m=\u001b[39m \u001b[39mNone\u001b[39;00m\n\u001b[0;32m--> 460\u001b[0m \u001b[39mreturn\u001b[39;00m \u001b[39mself\u001b[39;49m\u001b[39m.\u001b[39;49m_compile_bytecode()\n",
      "File \u001b[0;32m/local/data/anaconda3/envs/BT/lib/python3.11/site-packages/numba/core/compiler.py:528\u001b[0m, in \u001b[0;36mCompilerBase._compile_bytecode\u001b[0;34m(self)\u001b[0m\n\u001b[1;32m    524\u001b[0m \u001b[39m\u001b[39m\u001b[39m\"\"\"\u001b[39;00m\n\u001b[1;32m    525\u001b[0m \u001b[39mPopulate and run pipeline for bytecode input\u001b[39;00m\n\u001b[1;32m    526\u001b[0m \u001b[39m\"\"\"\u001b[39;00m\n\u001b[1;32m    527\u001b[0m \u001b[39massert\u001b[39;00m \u001b[39mself\u001b[39m\u001b[39m.\u001b[39mstate\u001b[39m.\u001b[39mfunc_ir \u001b[39mis\u001b[39;00m \u001b[39mNone\u001b[39;00m\n\u001b[0;32m--> 528\u001b[0m \u001b[39mreturn\u001b[39;00m \u001b[39mself\u001b[39;49m\u001b[39m.\u001b[39;49m_compile_core()\n",
      "File \u001b[0;32m/local/data/anaconda3/envs/BT/lib/python3.11/site-packages/numba/core/compiler.py:494\u001b[0m, in \u001b[0;36mCompilerBase._compile_core\u001b[0;34m(self)\u001b[0m\n\u001b[1;32m    492\u001b[0m res \u001b[39m=\u001b[39m \u001b[39mNone\u001b[39;00m\n\u001b[1;32m    493\u001b[0m \u001b[39mtry\u001b[39;00m:\n\u001b[0;32m--> 494\u001b[0m     pm\u001b[39m.\u001b[39;49mrun(\u001b[39mself\u001b[39;49m\u001b[39m.\u001b[39;49mstate)\n\u001b[1;32m    495\u001b[0m     \u001b[39mif\u001b[39;00m \u001b[39mself\u001b[39m\u001b[39m.\u001b[39mstate\u001b[39m.\u001b[39mcr \u001b[39mis\u001b[39;00m \u001b[39mnot\u001b[39;00m \u001b[39mNone\u001b[39;00m:\n\u001b[1;32m    496\u001b[0m         \u001b[39mbreak\u001b[39;00m\n",
      "File \u001b[0;32m/local/data/anaconda3/envs/BT/lib/python3.11/site-packages/numba/core/compiler_machinery.py:356\u001b[0m, in \u001b[0;36mPassManager.run\u001b[0;34m(self, state)\u001b[0m\n\u001b[1;32m    354\u001b[0m pass_inst \u001b[39m=\u001b[39m _pass_registry\u001b[39m.\u001b[39mget(pss)\u001b[39m.\u001b[39mpass_inst\n\u001b[1;32m    355\u001b[0m \u001b[39mif\u001b[39;00m \u001b[39misinstance\u001b[39m(pass_inst, CompilerPass):\n\u001b[0;32m--> 356\u001b[0m     \u001b[39mself\u001b[39;49m\u001b[39m.\u001b[39;49m_runPass(idx, pass_inst, state)\n\u001b[1;32m    357\u001b[0m \u001b[39melse\u001b[39;00m:\n\u001b[1;32m    358\u001b[0m     \u001b[39mraise\u001b[39;00m \u001b[39mBaseException\u001b[39;00m(\u001b[39m\"\u001b[39m\u001b[39mLegacy pass in use\u001b[39m\u001b[39m\"\u001b[39m)\n",
      "File \u001b[0;32m/local/data/anaconda3/envs/BT/lib/python3.11/site-packages/numba/core/compiler_lock.py:35\u001b[0m, in \u001b[0;36m_CompilerLock.__call__.<locals>._acquire_compile_lock\u001b[0;34m(*args, **kwargs)\u001b[0m\n\u001b[1;32m     32\u001b[0m \u001b[39m@functools\u001b[39m\u001b[39m.\u001b[39mwraps(func)\n\u001b[1;32m     33\u001b[0m \u001b[39mdef\u001b[39;00m \u001b[39m_acquire_compile_lock\u001b[39m(\u001b[39m*\u001b[39margs, \u001b[39m*\u001b[39m\u001b[39m*\u001b[39mkwargs):\n\u001b[1;32m     34\u001b[0m     \u001b[39mwith\u001b[39;00m \u001b[39mself\u001b[39m:\n\u001b[0;32m---> 35\u001b[0m         \u001b[39mreturn\u001b[39;00m func(\u001b[39m*\u001b[39;49margs, \u001b[39m*\u001b[39;49m\u001b[39m*\u001b[39;49mkwargs)\n",
      "File \u001b[0;32m/local/data/anaconda3/envs/BT/lib/python3.11/site-packages/numba/core/compiler_machinery.py:311\u001b[0m, in \u001b[0;36mPassManager._runPass\u001b[0;34m(self, index, pss, internal_state)\u001b[0m\n\u001b[1;32m    309\u001b[0m     mutated \u001b[39m|\u001b[39m\u001b[39m=\u001b[39m check(pss\u001b[39m.\u001b[39mrun_initialization, internal_state)\n\u001b[1;32m    310\u001b[0m \u001b[39mwith\u001b[39;00m SimpleTimer() \u001b[39mas\u001b[39;00m pass_time:\n\u001b[0;32m--> 311\u001b[0m     mutated \u001b[39m|\u001b[39m\u001b[39m=\u001b[39m check(pss\u001b[39m.\u001b[39;49mrun_pass, internal_state)\n\u001b[1;32m    312\u001b[0m \u001b[39mwith\u001b[39;00m SimpleTimer() \u001b[39mas\u001b[39;00m finalize_time:\n\u001b[1;32m    313\u001b[0m     mutated \u001b[39m|\u001b[39m\u001b[39m=\u001b[39m check(pss\u001b[39m.\u001b[39mrun_finalizer, internal_state)\n",
      "File \u001b[0;32m/local/data/anaconda3/envs/BT/lib/python3.11/site-packages/numba/core/compiler_machinery.py:273\u001b[0m, in \u001b[0;36mPassManager._runPass.<locals>.check\u001b[0;34m(func, compiler_state)\u001b[0m\n\u001b[1;32m    272\u001b[0m \u001b[39mdef\u001b[39;00m \u001b[39mcheck\u001b[39m(func, compiler_state):\n\u001b[0;32m--> 273\u001b[0m     mangled \u001b[39m=\u001b[39m func(compiler_state)\n\u001b[1;32m    274\u001b[0m     \u001b[39mif\u001b[39;00m mangled \u001b[39mnot\u001b[39;00m \u001b[39min\u001b[39;00m (\u001b[39mTrue\u001b[39;00m, \u001b[39mFalse\u001b[39;00m):\n\u001b[1;32m    275\u001b[0m         msg \u001b[39m=\u001b[39m (\u001b[39m\"\u001b[39m\u001b[39mCompilerPass implementations should return True/False. \u001b[39m\u001b[39m\"\u001b[39m\n\u001b[1;32m    276\u001b[0m                \u001b[39m\"\u001b[39m\u001b[39mCompilerPass with name \u001b[39m\u001b[39m'\u001b[39m\u001b[39m%s\u001b[39;00m\u001b[39m'\u001b[39m\u001b[39m did not.\u001b[39m\u001b[39m\"\u001b[39m)\n",
      "File \u001b[0;32m/local/data/anaconda3/envs/BT/lib/python3.11/site-packages/numba/core/typed_passes.py:110\u001b[0m, in \u001b[0;36mBaseTypeInference.run_pass\u001b[0;34m(self, state)\u001b[0m\n\u001b[1;32m    104\u001b[0m \u001b[39m\u001b[39m\u001b[39m\"\"\"\u001b[39;00m\n\u001b[1;32m    105\u001b[0m \u001b[39mType inference and legalization\u001b[39;00m\n\u001b[1;32m    106\u001b[0m \u001b[39m\"\"\"\u001b[39;00m\n\u001b[1;32m    107\u001b[0m \u001b[39mwith\u001b[39;00m fallback_context(state, \u001b[39m'\u001b[39m\u001b[39mFunction \u001b[39m\u001b[39m\"\u001b[39m\u001b[39m%s\u001b[39;00m\u001b[39m\"\u001b[39m\u001b[39m failed type inference\u001b[39m\u001b[39m'\u001b[39m\n\u001b[1;32m    108\u001b[0m                       \u001b[39m%\u001b[39m (state\u001b[39m.\u001b[39mfunc_id\u001b[39m.\u001b[39mfunc_name,)):\n\u001b[1;32m    109\u001b[0m     \u001b[39m# Type inference\u001b[39;00m\n\u001b[0;32m--> 110\u001b[0m     typemap, return_type, calltypes, errs \u001b[39m=\u001b[39m type_inference_stage(\n\u001b[1;32m    111\u001b[0m         state\u001b[39m.\u001b[39;49mtypingctx,\n\u001b[1;32m    112\u001b[0m         state\u001b[39m.\u001b[39;49mtargetctx,\n\u001b[1;32m    113\u001b[0m         state\u001b[39m.\u001b[39;49mfunc_ir,\n\u001b[1;32m    114\u001b[0m         state\u001b[39m.\u001b[39;49margs,\n\u001b[1;32m    115\u001b[0m         state\u001b[39m.\u001b[39;49mreturn_type,\n\u001b[1;32m    116\u001b[0m         state\u001b[39m.\u001b[39;49mlocals,\n\u001b[1;32m    117\u001b[0m         raise_errors\u001b[39m=\u001b[39;49m\u001b[39mself\u001b[39;49m\u001b[39m.\u001b[39;49m_raise_errors)\n\u001b[1;32m    118\u001b[0m     state\u001b[39m.\u001b[39mtypemap \u001b[39m=\u001b[39m typemap\n\u001b[1;32m    119\u001b[0m     \u001b[39m# save errors in case of partial typing\u001b[39;00m\n",
      "File \u001b[0;32m/local/data/anaconda3/envs/BT/lib/python3.11/site-packages/numba/core/typed_passes.py:88\u001b[0m, in \u001b[0;36mtype_inference_stage\u001b[0;34m(typingctx, targetctx, interp, args, return_type, locals, raise_errors)\u001b[0m\n\u001b[1;32m     86\u001b[0m     infer\u001b[39m.\u001b[39mbuild_constraint()\n\u001b[1;32m     87\u001b[0m     \u001b[39m# return errors in case of partial typing\u001b[39;00m\n\u001b[0;32m---> 88\u001b[0m     errs \u001b[39m=\u001b[39m infer\u001b[39m.\u001b[39;49mpropagate(raise_errors\u001b[39m=\u001b[39;49mraise_errors)\n\u001b[1;32m     89\u001b[0m     typemap, restype, calltypes \u001b[39m=\u001b[39m infer\u001b[39m.\u001b[39munify(raise_errors\u001b[39m=\u001b[39mraise_errors)\n\u001b[1;32m     91\u001b[0m \u001b[39m# Output all Numba warnings\u001b[39;00m\n",
      "File \u001b[0;32m/local/data/anaconda3/envs/BT/lib/python3.11/site-packages/numba/core/typeinfer.py:1078\u001b[0m, in \u001b[0;36mTypeInferer.propagate\u001b[0;34m(self, raise_errors)\u001b[0m\n\u001b[1;32m   1075\u001b[0m oldtoken \u001b[39m=\u001b[39m newtoken\n\u001b[1;32m   1076\u001b[0m \u001b[39m# Errors can appear when the type set is incomplete; only\u001b[39;00m\n\u001b[1;32m   1077\u001b[0m \u001b[39m# raise them when there is no progress anymore.\u001b[39;00m\n\u001b[0;32m-> 1078\u001b[0m errors \u001b[39m=\u001b[39m \u001b[39mself\u001b[39;49m\u001b[39m.\u001b[39;49mconstraints\u001b[39m.\u001b[39;49mpropagate(\u001b[39mself\u001b[39;49m)\n\u001b[1;32m   1079\u001b[0m newtoken \u001b[39m=\u001b[39m \u001b[39mself\u001b[39m\u001b[39m.\u001b[39mget_state_token()\n\u001b[1;32m   1080\u001b[0m \u001b[39mself\u001b[39m\u001b[39m.\u001b[39mdebug\u001b[39m.\u001b[39mpropagate_finished()\n",
      "File \u001b[0;32m/local/data/anaconda3/envs/BT/lib/python3.11/site-packages/numba/core/typeinfer.py:155\u001b[0m, in \u001b[0;36mConstraintNetwork.propagate\u001b[0;34m(self, typeinfer)\u001b[0m\n\u001b[1;32m    152\u001b[0m \u001b[39mwith\u001b[39;00m typeinfer\u001b[39m.\u001b[39mwarnings\u001b[39m.\u001b[39mcatch_warnings(filename\u001b[39m=\u001b[39mloc\u001b[39m.\u001b[39mfilename,\n\u001b[1;32m    153\u001b[0m                                        lineno\u001b[39m=\u001b[39mloc\u001b[39m.\u001b[39mline):\n\u001b[1;32m    154\u001b[0m     \u001b[39mtry\u001b[39;00m:\n\u001b[0;32m--> 155\u001b[0m         constraint(typeinfer)\n\u001b[1;32m    156\u001b[0m     \u001b[39mexcept\u001b[39;00m ForceLiteralArg \u001b[39mas\u001b[39;00m e:\n\u001b[1;32m    157\u001b[0m         errors\u001b[39m.\u001b[39mappend(e)\n",
      "File \u001b[0;32m/local/data/anaconda3/envs/BT/lib/python3.11/site-packages/numba/core/typeinfer.py:578\u001b[0m, in \u001b[0;36mCallConstraint.__call__\u001b[0;34m(self, typeinfer)\u001b[0m\n\u001b[1;32m    576\u001b[0m     fnty \u001b[39m=\u001b[39m typevars[\u001b[39mself\u001b[39m\u001b[39m.\u001b[39mfunc]\u001b[39m.\u001b[39mgetone()\n\u001b[1;32m    577\u001b[0m \u001b[39mwith\u001b[39;00m new_error_context(\u001b[39m\"\u001b[39m\u001b[39mresolving callee type: \u001b[39m\u001b[39m{0}\u001b[39;00m\u001b[39m\"\u001b[39m, fnty):\n\u001b[0;32m--> 578\u001b[0m     \u001b[39mself\u001b[39;49m\u001b[39m.\u001b[39;49mresolve(typeinfer, typevars, fnty)\n",
      "File \u001b[0;32m/local/data/anaconda3/envs/BT/lib/python3.11/site-packages/numba/core/typeinfer.py:601\u001b[0m, in \u001b[0;36mCallConstraint.resolve\u001b[0;34m(self, typeinfer, typevars, fnty)\u001b[0m\n\u001b[1;32m    599\u001b[0m     fnty \u001b[39m=\u001b[39m fnty\u001b[39m.\u001b[39minstance_type\n\u001b[1;32m    600\u001b[0m \u001b[39mtry\u001b[39;00m:\n\u001b[0;32m--> 601\u001b[0m     sig \u001b[39m=\u001b[39m typeinfer\u001b[39m.\u001b[39;49mresolve_call(fnty, pos_args, kw_args)\n\u001b[1;32m    602\u001b[0m \u001b[39mexcept\u001b[39;00m ForceLiteralArg \u001b[39mas\u001b[39;00m e:\n\u001b[1;32m    603\u001b[0m     \u001b[39m# Adjust for bound methods\u001b[39;00m\n\u001b[1;32m    604\u001b[0m     folding_args \u001b[39m=\u001b[39m ((fnty\u001b[39m.\u001b[39mthis,) \u001b[39m+\u001b[39m \u001b[39mtuple\u001b[39m(\u001b[39mself\u001b[39m\u001b[39m.\u001b[39margs)\n\u001b[1;32m    605\u001b[0m                     \u001b[39mif\u001b[39;00m \u001b[39misinstance\u001b[39m(fnty, types\u001b[39m.\u001b[39mBoundFunction)\n\u001b[1;32m    606\u001b[0m                     \u001b[39melse\u001b[39;00m \u001b[39mself\u001b[39m\u001b[39m.\u001b[39margs)\n",
      "File \u001b[0;32m/local/data/anaconda3/envs/BT/lib/python3.11/site-packages/numba/core/typeinfer.py:1557\u001b[0m, in \u001b[0;36mTypeInferer.resolve_call\u001b[0;34m(self, fnty, pos_args, kw_args)\u001b[0m\n\u001b[1;32m   1554\u001b[0m     \u001b[39mreturn\u001b[39;00m sig\n\u001b[1;32m   1555\u001b[0m \u001b[39melse\u001b[39;00m:\n\u001b[1;32m   1556\u001b[0m     \u001b[39m# Normal non-recursive call\u001b[39;00m\n\u001b[0;32m-> 1557\u001b[0m     \u001b[39mreturn\u001b[39;00m \u001b[39mself\u001b[39;49m\u001b[39m.\u001b[39;49mcontext\u001b[39m.\u001b[39;49mresolve_function_type(fnty, pos_args, kw_args)\n",
      "File \u001b[0;32m/local/data/anaconda3/envs/BT/lib/python3.11/site-packages/numba/core/typing/context.py:196\u001b[0m, in \u001b[0;36mBaseContext.resolve_function_type\u001b[0;34m(self, func, args, kws)\u001b[0m\n\u001b[1;32m    194\u001b[0m \u001b[39m# Prefer user definition first\u001b[39;00m\n\u001b[1;32m    195\u001b[0m \u001b[39mtry\u001b[39;00m:\n\u001b[0;32m--> 196\u001b[0m     res \u001b[39m=\u001b[39m \u001b[39mself\u001b[39;49m\u001b[39m.\u001b[39;49m_resolve_user_function_type(func, args, kws)\n\u001b[1;32m    197\u001b[0m \u001b[39mexcept\u001b[39;00m errors\u001b[39m.\u001b[39mTypingError \u001b[39mas\u001b[39;00m e:\n\u001b[1;32m    198\u001b[0m     \u001b[39m# Capture any typing error\u001b[39;00m\n\u001b[1;32m    199\u001b[0m     last_exception \u001b[39m=\u001b[39m e\n",
      "File \u001b[0;32m/local/data/anaconda3/envs/BT/lib/python3.11/site-packages/numba/core/typing/context.py:248\u001b[0m, in \u001b[0;36mBaseContext._resolve_user_function_type\u001b[0;34m(self, func, args, kws, literals)\u001b[0m\n\u001b[1;32m    244\u001b[0m         \u001b[39mreturn\u001b[39;00m \u001b[39mself\u001b[39m\u001b[39m.\u001b[39mresolve_function_type(func_type, args, kws)\n\u001b[1;32m    246\u001b[0m \u001b[39mif\u001b[39;00m \u001b[39misinstance\u001b[39m(func, types\u001b[39m.\u001b[39mCallable):\n\u001b[1;32m    247\u001b[0m     \u001b[39m# XXX fold this into the __call__ attribute logic?\u001b[39;00m\n\u001b[0;32m--> 248\u001b[0m     \u001b[39mreturn\u001b[39;00m func\u001b[39m.\u001b[39;49mget_call_type(\u001b[39mself\u001b[39;49m, args, kws)\n",
      "File \u001b[0;32m/local/data/anaconda3/envs/BT/lib/python3.11/site-packages/numba/core/types/functions.py:541\u001b[0m, in \u001b[0;36mDispatcher.get_call_type\u001b[0;34m(self, context, args, kws)\u001b[0m\n\u001b[1;32m    534\u001b[0m \u001b[39mdef\u001b[39;00m \u001b[39mget_call_type\u001b[39m(\u001b[39mself\u001b[39m, context, args, kws):\n\u001b[1;32m    535\u001b[0m \u001b[39m    \u001b[39m\u001b[39m\"\"\"\u001b[39;00m\n\u001b[1;32m    536\u001b[0m \u001b[39m    Resolve a call to this dispatcher using the given argument types.\u001b[39;00m\n\u001b[1;32m    537\u001b[0m \u001b[39m    A signature returned and it is ensured that a compiled specialization\u001b[39;00m\n\u001b[1;32m    538\u001b[0m \u001b[39m    is available for it.\u001b[39;00m\n\u001b[1;32m    539\u001b[0m \u001b[39m    \"\"\"\u001b[39;00m\n\u001b[1;32m    540\u001b[0m     template, pysig, args, kws \u001b[39m=\u001b[39m \\\n\u001b[0;32m--> 541\u001b[0m         \u001b[39mself\u001b[39;49m\u001b[39m.\u001b[39;49mdispatcher\u001b[39m.\u001b[39;49mget_call_template(args, kws)\n\u001b[1;32m    542\u001b[0m     sig \u001b[39m=\u001b[39m template(context)\u001b[39m.\u001b[39mapply(args, kws)\n\u001b[1;32m    543\u001b[0m     \u001b[39mif\u001b[39;00m sig:\n",
      "File \u001b[0;32m/local/data/anaconda3/envs/BT/lib/python3.11/site-packages/numba/core/dispatcher.py:363\u001b[0m, in \u001b[0;36m_DispatcherBase.get_call_template\u001b[0;34m(self, args, kws)\u001b[0m\n\u001b[1;32m    361\u001b[0m \u001b[39m# Ensure an overload is available\u001b[39;00m\n\u001b[1;32m    362\u001b[0m \u001b[39mif\u001b[39;00m \u001b[39mself\u001b[39m\u001b[39m.\u001b[39m_can_compile:\n\u001b[0;32m--> 363\u001b[0m     \u001b[39mself\u001b[39;49m\u001b[39m.\u001b[39;49mcompile(\u001b[39mtuple\u001b[39;49m(args))\n\u001b[1;32m    365\u001b[0m \u001b[39m# Create function type for typing\u001b[39;00m\n\u001b[1;32m    366\u001b[0m func_name \u001b[39m=\u001b[39m \u001b[39mself\u001b[39m\u001b[39m.\u001b[39mpy_func\u001b[39m.\u001b[39m\u001b[39m__name__\u001b[39m\n",
      "File \u001b[0;32m/local/data/anaconda3/envs/BT/lib/python3.11/site-packages/numba/core/dispatcher.py:965\u001b[0m, in \u001b[0;36mDispatcher.compile\u001b[0;34m(self, sig)\u001b[0m\n\u001b[1;32m    963\u001b[0m \u001b[39mwith\u001b[39;00m ev\u001b[39m.\u001b[39mtrigger_event(\u001b[39m\"\u001b[39m\u001b[39mnumba:compile\u001b[39m\u001b[39m\"\u001b[39m, data\u001b[39m=\u001b[39mev_details):\n\u001b[1;32m    964\u001b[0m     \u001b[39mtry\u001b[39;00m:\n\u001b[0;32m--> 965\u001b[0m         cres \u001b[39m=\u001b[39m \u001b[39mself\u001b[39;49m\u001b[39m.\u001b[39;49m_compiler\u001b[39m.\u001b[39;49mcompile(args, return_type)\n\u001b[1;32m    966\u001b[0m     \u001b[39mexcept\u001b[39;00m errors\u001b[39m.\u001b[39mForceLiteralArg \u001b[39mas\u001b[39;00m e:\n\u001b[1;32m    967\u001b[0m         \u001b[39mdef\u001b[39;00m \u001b[39mfolded\u001b[39m(args, kws):\n",
      "File \u001b[0;32m/local/data/anaconda3/envs/BT/lib/python3.11/site-packages/numba/core/dispatcher.py:125\u001b[0m, in \u001b[0;36m_FunctionCompiler.compile\u001b[0;34m(self, args, return_type)\u001b[0m\n\u001b[1;32m    124\u001b[0m \u001b[39mdef\u001b[39;00m \u001b[39mcompile\u001b[39m(\u001b[39mself\u001b[39m, args, return_type):\n\u001b[0;32m--> 125\u001b[0m     status, retval \u001b[39m=\u001b[39m \u001b[39mself\u001b[39;49m\u001b[39m.\u001b[39;49m_compile_cached(args, return_type)\n\u001b[1;32m    126\u001b[0m     \u001b[39mif\u001b[39;00m status:\n\u001b[1;32m    127\u001b[0m         \u001b[39mreturn\u001b[39;00m retval\n",
      "File \u001b[0;32m/local/data/anaconda3/envs/BT/lib/python3.11/site-packages/numba/core/dispatcher.py:139\u001b[0m, in \u001b[0;36m_FunctionCompiler._compile_cached\u001b[0;34m(self, args, return_type)\u001b[0m\n\u001b[1;32m    136\u001b[0m     \u001b[39mpass\u001b[39;00m\n\u001b[1;32m    138\u001b[0m \u001b[39mtry\u001b[39;00m:\n\u001b[0;32m--> 139\u001b[0m     retval \u001b[39m=\u001b[39m \u001b[39mself\u001b[39;49m\u001b[39m.\u001b[39;49m_compile_core(args, return_type)\n\u001b[1;32m    140\u001b[0m \u001b[39mexcept\u001b[39;00m errors\u001b[39m.\u001b[39mTypingError \u001b[39mas\u001b[39;00m e:\n\u001b[1;32m    141\u001b[0m     \u001b[39mself\u001b[39m\u001b[39m.\u001b[39m_failed_cache[key] \u001b[39m=\u001b[39m e\n",
      "File \u001b[0;32m/local/data/anaconda3/envs/BT/lib/python3.11/site-packages/numba/core/dispatcher.py:152\u001b[0m, in \u001b[0;36m_FunctionCompiler._compile_core\u001b[0;34m(self, args, return_type)\u001b[0m\n\u001b[1;32m    149\u001b[0m flags \u001b[39m=\u001b[39m \u001b[39mself\u001b[39m\u001b[39m.\u001b[39m_customize_flags(flags)\n\u001b[1;32m    151\u001b[0m impl \u001b[39m=\u001b[39m \u001b[39mself\u001b[39m\u001b[39m.\u001b[39m_get_implementation(args, {})\n\u001b[0;32m--> 152\u001b[0m cres \u001b[39m=\u001b[39m compiler\u001b[39m.\u001b[39;49mcompile_extra(\u001b[39mself\u001b[39;49m\u001b[39m.\u001b[39;49mtargetdescr\u001b[39m.\u001b[39;49mtyping_context,\n\u001b[1;32m    153\u001b[0m                               \u001b[39mself\u001b[39;49m\u001b[39m.\u001b[39;49mtargetdescr\u001b[39m.\u001b[39;49mtarget_context,\n\u001b[1;32m    154\u001b[0m                               impl,\n\u001b[1;32m    155\u001b[0m                               args\u001b[39m=\u001b[39;49margs, return_type\u001b[39m=\u001b[39;49mreturn_type,\n\u001b[1;32m    156\u001b[0m                               flags\u001b[39m=\u001b[39;49mflags, \u001b[39mlocals\u001b[39;49m\u001b[39m=\u001b[39;49m\u001b[39mself\u001b[39;49m\u001b[39m.\u001b[39;49mlocals,\n\u001b[1;32m    157\u001b[0m                               pipeline_class\u001b[39m=\u001b[39;49m\u001b[39mself\u001b[39;49m\u001b[39m.\u001b[39;49mpipeline_class)\n\u001b[1;32m    158\u001b[0m \u001b[39m# Check typing error if object mode is used\u001b[39;00m\n\u001b[1;32m    159\u001b[0m \u001b[39mif\u001b[39;00m cres\u001b[39m.\u001b[39mtyping_error \u001b[39mis\u001b[39;00m \u001b[39mnot\u001b[39;00m \u001b[39mNone\u001b[39;00m \u001b[39mand\u001b[39;00m \u001b[39mnot\u001b[39;00m flags\u001b[39m.\u001b[39menable_pyobject:\n",
      "File \u001b[0;32m/local/data/anaconda3/envs/BT/lib/python3.11/site-packages/numba/core/compiler.py:742\u001b[0m, in \u001b[0;36mcompile_extra\u001b[0;34m(typingctx, targetctx, func, args, return_type, flags, locals, library, pipeline_class)\u001b[0m\n\u001b[1;32m    718\u001b[0m \u001b[39m\u001b[39m\u001b[39m\"\"\"Compiler entry point\u001b[39;00m\n\u001b[1;32m    719\u001b[0m \n\u001b[1;32m    720\u001b[0m \u001b[39mParameter\u001b[39;00m\n\u001b[0;32m   (...)\u001b[0m\n\u001b[1;32m    738\u001b[0m \u001b[39m    compiler pipeline\u001b[39;00m\n\u001b[1;32m    739\u001b[0m \u001b[39m\"\"\"\u001b[39;00m\n\u001b[1;32m    740\u001b[0m pipeline \u001b[39m=\u001b[39m pipeline_class(typingctx, targetctx, library,\n\u001b[1;32m    741\u001b[0m                           args, return_type, flags, \u001b[39mlocals\u001b[39m)\n\u001b[0;32m--> 742\u001b[0m \u001b[39mreturn\u001b[39;00m pipeline\u001b[39m.\u001b[39;49mcompile_extra(func)\n",
      "File \u001b[0;32m/local/data/anaconda3/envs/BT/lib/python3.11/site-packages/numba/core/compiler.py:460\u001b[0m, in \u001b[0;36mCompilerBase.compile_extra\u001b[0;34m(self, func)\u001b[0m\n\u001b[1;32m    458\u001b[0m \u001b[39mself\u001b[39m\u001b[39m.\u001b[39mstate\u001b[39m.\u001b[39mlifted \u001b[39m=\u001b[39m ()\n\u001b[1;32m    459\u001b[0m \u001b[39mself\u001b[39m\u001b[39m.\u001b[39mstate\u001b[39m.\u001b[39mlifted_from \u001b[39m=\u001b[39m \u001b[39mNone\u001b[39;00m\n\u001b[0;32m--> 460\u001b[0m \u001b[39mreturn\u001b[39;00m \u001b[39mself\u001b[39;49m\u001b[39m.\u001b[39;49m_compile_bytecode()\n",
      "File \u001b[0;32m/local/data/anaconda3/envs/BT/lib/python3.11/site-packages/numba/core/compiler.py:528\u001b[0m, in \u001b[0;36mCompilerBase._compile_bytecode\u001b[0;34m(self)\u001b[0m\n\u001b[1;32m    524\u001b[0m \u001b[39m\u001b[39m\u001b[39m\"\"\"\u001b[39;00m\n\u001b[1;32m    525\u001b[0m \u001b[39mPopulate and run pipeline for bytecode input\u001b[39;00m\n\u001b[1;32m    526\u001b[0m \u001b[39m\"\"\"\u001b[39;00m\n\u001b[1;32m    527\u001b[0m \u001b[39massert\u001b[39;00m \u001b[39mself\u001b[39m\u001b[39m.\u001b[39mstate\u001b[39m.\u001b[39mfunc_ir \u001b[39mis\u001b[39;00m \u001b[39mNone\u001b[39;00m\n\u001b[0;32m--> 528\u001b[0m \u001b[39mreturn\u001b[39;00m \u001b[39mself\u001b[39;49m\u001b[39m.\u001b[39;49m_compile_core()\n",
      "File \u001b[0;32m/local/data/anaconda3/envs/BT/lib/python3.11/site-packages/numba/core/compiler.py:494\u001b[0m, in \u001b[0;36mCompilerBase._compile_core\u001b[0;34m(self)\u001b[0m\n\u001b[1;32m    492\u001b[0m res \u001b[39m=\u001b[39m \u001b[39mNone\u001b[39;00m\n\u001b[1;32m    493\u001b[0m \u001b[39mtry\u001b[39;00m:\n\u001b[0;32m--> 494\u001b[0m     pm\u001b[39m.\u001b[39;49mrun(\u001b[39mself\u001b[39;49m\u001b[39m.\u001b[39;49mstate)\n\u001b[1;32m    495\u001b[0m     \u001b[39mif\u001b[39;00m \u001b[39mself\u001b[39m\u001b[39m.\u001b[39mstate\u001b[39m.\u001b[39mcr \u001b[39mis\u001b[39;00m \u001b[39mnot\u001b[39;00m \u001b[39mNone\u001b[39;00m:\n\u001b[1;32m    496\u001b[0m         \u001b[39mbreak\u001b[39;00m\n",
      "File \u001b[0;32m/local/data/anaconda3/envs/BT/lib/python3.11/site-packages/numba/core/compiler_machinery.py:356\u001b[0m, in \u001b[0;36mPassManager.run\u001b[0;34m(self, state)\u001b[0m\n\u001b[1;32m    354\u001b[0m pass_inst \u001b[39m=\u001b[39m _pass_registry\u001b[39m.\u001b[39mget(pss)\u001b[39m.\u001b[39mpass_inst\n\u001b[1;32m    355\u001b[0m \u001b[39mif\u001b[39;00m \u001b[39misinstance\u001b[39m(pass_inst, CompilerPass):\n\u001b[0;32m--> 356\u001b[0m     \u001b[39mself\u001b[39;49m\u001b[39m.\u001b[39;49m_runPass(idx, pass_inst, state)\n\u001b[1;32m    357\u001b[0m \u001b[39melse\u001b[39;00m:\n\u001b[1;32m    358\u001b[0m     \u001b[39mraise\u001b[39;00m \u001b[39mBaseException\u001b[39;00m(\u001b[39m\"\u001b[39m\u001b[39mLegacy pass in use\u001b[39m\u001b[39m\"\u001b[39m)\n",
      "File \u001b[0;32m/local/data/anaconda3/envs/BT/lib/python3.11/site-packages/numba/core/compiler_lock.py:35\u001b[0m, in \u001b[0;36m_CompilerLock.__call__.<locals>._acquire_compile_lock\u001b[0;34m(*args, **kwargs)\u001b[0m\n\u001b[1;32m     32\u001b[0m \u001b[39m@functools\u001b[39m\u001b[39m.\u001b[39mwraps(func)\n\u001b[1;32m     33\u001b[0m \u001b[39mdef\u001b[39;00m \u001b[39m_acquire_compile_lock\u001b[39m(\u001b[39m*\u001b[39margs, \u001b[39m*\u001b[39m\u001b[39m*\u001b[39mkwargs):\n\u001b[1;32m     34\u001b[0m     \u001b[39mwith\u001b[39;00m \u001b[39mself\u001b[39m:\n\u001b[0;32m---> 35\u001b[0m         \u001b[39mreturn\u001b[39;00m func(\u001b[39m*\u001b[39;49margs, \u001b[39m*\u001b[39;49m\u001b[39m*\u001b[39;49mkwargs)\n",
      "File \u001b[0;32m/local/data/anaconda3/envs/BT/lib/python3.11/site-packages/numba/core/compiler_machinery.py:311\u001b[0m, in \u001b[0;36mPassManager._runPass\u001b[0;34m(self, index, pss, internal_state)\u001b[0m\n\u001b[1;32m    309\u001b[0m     mutated \u001b[39m|\u001b[39m\u001b[39m=\u001b[39m check(pss\u001b[39m.\u001b[39mrun_initialization, internal_state)\n\u001b[1;32m    310\u001b[0m \u001b[39mwith\u001b[39;00m SimpleTimer() \u001b[39mas\u001b[39;00m pass_time:\n\u001b[0;32m--> 311\u001b[0m     mutated \u001b[39m|\u001b[39m\u001b[39m=\u001b[39m check(pss\u001b[39m.\u001b[39;49mrun_pass, internal_state)\n\u001b[1;32m    312\u001b[0m \u001b[39mwith\u001b[39;00m SimpleTimer() \u001b[39mas\u001b[39;00m finalize_time:\n\u001b[1;32m    313\u001b[0m     mutated \u001b[39m|\u001b[39m\u001b[39m=\u001b[39m check(pss\u001b[39m.\u001b[39mrun_finalizer, internal_state)\n",
      "File \u001b[0;32m/local/data/anaconda3/envs/BT/lib/python3.11/site-packages/numba/core/compiler_machinery.py:273\u001b[0m, in \u001b[0;36mPassManager._runPass.<locals>.check\u001b[0;34m(func, compiler_state)\u001b[0m\n\u001b[1;32m    272\u001b[0m \u001b[39mdef\u001b[39;00m \u001b[39mcheck\u001b[39m(func, compiler_state):\n\u001b[0;32m--> 273\u001b[0m     mangled \u001b[39m=\u001b[39m func(compiler_state)\n\u001b[1;32m    274\u001b[0m     \u001b[39mif\u001b[39;00m mangled \u001b[39mnot\u001b[39;00m \u001b[39min\u001b[39;00m (\u001b[39mTrue\u001b[39;00m, \u001b[39mFalse\u001b[39;00m):\n\u001b[1;32m    275\u001b[0m         msg \u001b[39m=\u001b[39m (\u001b[39m\"\u001b[39m\u001b[39mCompilerPass implementations should return True/False. \u001b[39m\u001b[39m\"\u001b[39m\n\u001b[1;32m    276\u001b[0m                \u001b[39m\"\u001b[39m\u001b[39mCompilerPass with name \u001b[39m\u001b[39m'\u001b[39m\u001b[39m%s\u001b[39;00m\u001b[39m'\u001b[39m\u001b[39m did not.\u001b[39m\u001b[39m\"\u001b[39m)\n",
      "File \u001b[0;32m/local/data/anaconda3/envs/BT/lib/python3.11/site-packages/numba/core/typed_passes.py:110\u001b[0m, in \u001b[0;36mBaseTypeInference.run_pass\u001b[0;34m(self, state)\u001b[0m\n\u001b[1;32m    104\u001b[0m \u001b[39m\u001b[39m\u001b[39m\"\"\"\u001b[39;00m\n\u001b[1;32m    105\u001b[0m \u001b[39mType inference and legalization\u001b[39;00m\n\u001b[1;32m    106\u001b[0m \u001b[39m\"\"\"\u001b[39;00m\n\u001b[1;32m    107\u001b[0m \u001b[39mwith\u001b[39;00m fallback_context(state, \u001b[39m'\u001b[39m\u001b[39mFunction \u001b[39m\u001b[39m\"\u001b[39m\u001b[39m%s\u001b[39;00m\u001b[39m\"\u001b[39m\u001b[39m failed type inference\u001b[39m\u001b[39m'\u001b[39m\n\u001b[1;32m    108\u001b[0m                       \u001b[39m%\u001b[39m (state\u001b[39m.\u001b[39mfunc_id\u001b[39m.\u001b[39mfunc_name,)):\n\u001b[1;32m    109\u001b[0m     \u001b[39m# Type inference\u001b[39;00m\n\u001b[0;32m--> 110\u001b[0m     typemap, return_type, calltypes, errs \u001b[39m=\u001b[39m type_inference_stage(\n\u001b[1;32m    111\u001b[0m         state\u001b[39m.\u001b[39;49mtypingctx,\n\u001b[1;32m    112\u001b[0m         state\u001b[39m.\u001b[39;49mtargetctx,\n\u001b[1;32m    113\u001b[0m         state\u001b[39m.\u001b[39;49mfunc_ir,\n\u001b[1;32m    114\u001b[0m         state\u001b[39m.\u001b[39;49margs,\n\u001b[1;32m    115\u001b[0m         state\u001b[39m.\u001b[39;49mreturn_type,\n\u001b[1;32m    116\u001b[0m         state\u001b[39m.\u001b[39;49mlocals,\n\u001b[1;32m    117\u001b[0m         raise_errors\u001b[39m=\u001b[39;49m\u001b[39mself\u001b[39;49m\u001b[39m.\u001b[39;49m_raise_errors)\n\u001b[1;32m    118\u001b[0m     state\u001b[39m.\u001b[39mtypemap \u001b[39m=\u001b[39m typemap\n\u001b[1;32m    119\u001b[0m     \u001b[39m# save errors in case of partial typing\u001b[39;00m\n",
      "File \u001b[0;32m/local/data/anaconda3/envs/BT/lib/python3.11/site-packages/numba/core/typed_passes.py:88\u001b[0m, in \u001b[0;36mtype_inference_stage\u001b[0;34m(typingctx, targetctx, interp, args, return_type, locals, raise_errors)\u001b[0m\n\u001b[1;32m     86\u001b[0m     infer\u001b[39m.\u001b[39mbuild_constraint()\n\u001b[1;32m     87\u001b[0m     \u001b[39m# return errors in case of partial typing\u001b[39;00m\n\u001b[0;32m---> 88\u001b[0m     errs \u001b[39m=\u001b[39m infer\u001b[39m.\u001b[39;49mpropagate(raise_errors\u001b[39m=\u001b[39;49mraise_errors)\n\u001b[1;32m     89\u001b[0m     typemap, restype, calltypes \u001b[39m=\u001b[39m infer\u001b[39m.\u001b[39munify(raise_errors\u001b[39m=\u001b[39mraise_errors)\n\u001b[1;32m     91\u001b[0m \u001b[39m# Output all Numba warnings\u001b[39;00m\n",
      "File \u001b[0;32m/local/data/anaconda3/envs/BT/lib/python3.11/site-packages/numba/core/typeinfer.py:1078\u001b[0m, in \u001b[0;36mTypeInferer.propagate\u001b[0;34m(self, raise_errors)\u001b[0m\n\u001b[1;32m   1075\u001b[0m oldtoken \u001b[39m=\u001b[39m newtoken\n\u001b[1;32m   1076\u001b[0m \u001b[39m# Errors can appear when the type set is incomplete; only\u001b[39;00m\n\u001b[1;32m   1077\u001b[0m \u001b[39m# raise them when there is no progress anymore.\u001b[39;00m\n\u001b[0;32m-> 1078\u001b[0m errors \u001b[39m=\u001b[39m \u001b[39mself\u001b[39;49m\u001b[39m.\u001b[39;49mconstraints\u001b[39m.\u001b[39;49mpropagate(\u001b[39mself\u001b[39;49m)\n\u001b[1;32m   1079\u001b[0m newtoken \u001b[39m=\u001b[39m \u001b[39mself\u001b[39m\u001b[39m.\u001b[39mget_state_token()\n\u001b[1;32m   1080\u001b[0m \u001b[39mself\u001b[39m\u001b[39m.\u001b[39mdebug\u001b[39m.\u001b[39mpropagate_finished()\n",
      "File \u001b[0;32m/local/data/anaconda3/envs/BT/lib/python3.11/site-packages/numba/core/typeinfer.py:155\u001b[0m, in \u001b[0;36mConstraintNetwork.propagate\u001b[0;34m(self, typeinfer)\u001b[0m\n\u001b[1;32m    152\u001b[0m \u001b[39mwith\u001b[39;00m typeinfer\u001b[39m.\u001b[39mwarnings\u001b[39m.\u001b[39mcatch_warnings(filename\u001b[39m=\u001b[39mloc\u001b[39m.\u001b[39mfilename,\n\u001b[1;32m    153\u001b[0m                                        lineno\u001b[39m=\u001b[39mloc\u001b[39m.\u001b[39mline):\n\u001b[1;32m    154\u001b[0m     \u001b[39mtry\u001b[39;00m:\n\u001b[0;32m--> 155\u001b[0m         constraint(typeinfer)\n\u001b[1;32m    156\u001b[0m     \u001b[39mexcept\u001b[39;00m ForceLiteralArg \u001b[39mas\u001b[39;00m e:\n\u001b[1;32m    157\u001b[0m         errors\u001b[39m.\u001b[39mappend(e)\n",
      "File \u001b[0;32m/local/data/anaconda3/envs/BT/lib/python3.11/site-packages/numba/core/typeinfer.py:578\u001b[0m, in \u001b[0;36mCallConstraint.__call__\u001b[0;34m(self, typeinfer)\u001b[0m\n\u001b[1;32m    576\u001b[0m     fnty \u001b[39m=\u001b[39m typevars[\u001b[39mself\u001b[39m\u001b[39m.\u001b[39mfunc]\u001b[39m.\u001b[39mgetone()\n\u001b[1;32m    577\u001b[0m \u001b[39mwith\u001b[39;00m new_error_context(\u001b[39m\"\u001b[39m\u001b[39mresolving callee type: \u001b[39m\u001b[39m{0}\u001b[39;00m\u001b[39m\"\u001b[39m, fnty):\n\u001b[0;32m--> 578\u001b[0m     \u001b[39mself\u001b[39;49m\u001b[39m.\u001b[39;49mresolve(typeinfer, typevars, fnty)\n",
      "File \u001b[0;32m/local/data/anaconda3/envs/BT/lib/python3.11/site-packages/numba/core/typeinfer.py:601\u001b[0m, in \u001b[0;36mCallConstraint.resolve\u001b[0;34m(self, typeinfer, typevars, fnty)\u001b[0m\n\u001b[1;32m    599\u001b[0m     fnty \u001b[39m=\u001b[39m fnty\u001b[39m.\u001b[39minstance_type\n\u001b[1;32m    600\u001b[0m \u001b[39mtry\u001b[39;00m:\n\u001b[0;32m--> 601\u001b[0m     sig \u001b[39m=\u001b[39m typeinfer\u001b[39m.\u001b[39;49mresolve_call(fnty, pos_args, kw_args)\n\u001b[1;32m    602\u001b[0m \u001b[39mexcept\u001b[39;00m ForceLiteralArg \u001b[39mas\u001b[39;00m e:\n\u001b[1;32m    603\u001b[0m     \u001b[39m# Adjust for bound methods\u001b[39;00m\n\u001b[1;32m    604\u001b[0m     folding_args \u001b[39m=\u001b[39m ((fnty\u001b[39m.\u001b[39mthis,) \u001b[39m+\u001b[39m \u001b[39mtuple\u001b[39m(\u001b[39mself\u001b[39m\u001b[39m.\u001b[39margs)\n\u001b[1;32m    605\u001b[0m                     \u001b[39mif\u001b[39;00m \u001b[39misinstance\u001b[39m(fnty, types\u001b[39m.\u001b[39mBoundFunction)\n\u001b[1;32m    606\u001b[0m                     \u001b[39melse\u001b[39;00m \u001b[39mself\u001b[39m\u001b[39m.\u001b[39margs)\n",
      "File \u001b[0;32m/local/data/anaconda3/envs/BT/lib/python3.11/site-packages/numba/core/typeinfer.py:1557\u001b[0m, in \u001b[0;36mTypeInferer.resolve_call\u001b[0;34m(self, fnty, pos_args, kw_args)\u001b[0m\n\u001b[1;32m   1554\u001b[0m     \u001b[39mreturn\u001b[39;00m sig\n\u001b[1;32m   1555\u001b[0m \u001b[39melse\u001b[39;00m:\n\u001b[1;32m   1556\u001b[0m     \u001b[39m# Normal non-recursive call\u001b[39;00m\n\u001b[0;32m-> 1557\u001b[0m     \u001b[39mreturn\u001b[39;00m \u001b[39mself\u001b[39;49m\u001b[39m.\u001b[39;49mcontext\u001b[39m.\u001b[39;49mresolve_function_type(fnty, pos_args, kw_args)\n",
      "File \u001b[0;32m/local/data/anaconda3/envs/BT/lib/python3.11/site-packages/numba/core/typing/context.py:196\u001b[0m, in \u001b[0;36mBaseContext.resolve_function_type\u001b[0;34m(self, func, args, kws)\u001b[0m\n\u001b[1;32m    194\u001b[0m \u001b[39m# Prefer user definition first\u001b[39;00m\n\u001b[1;32m    195\u001b[0m \u001b[39mtry\u001b[39;00m:\n\u001b[0;32m--> 196\u001b[0m     res \u001b[39m=\u001b[39m \u001b[39mself\u001b[39;49m\u001b[39m.\u001b[39;49m_resolve_user_function_type(func, args, kws)\n\u001b[1;32m    197\u001b[0m \u001b[39mexcept\u001b[39;00m errors\u001b[39m.\u001b[39mTypingError \u001b[39mas\u001b[39;00m e:\n\u001b[1;32m    198\u001b[0m     \u001b[39m# Capture any typing error\u001b[39;00m\n\u001b[1;32m    199\u001b[0m     last_exception \u001b[39m=\u001b[39m e\n",
      "File \u001b[0;32m/local/data/anaconda3/envs/BT/lib/python3.11/site-packages/numba/core/typing/context.py:248\u001b[0m, in \u001b[0;36mBaseContext._resolve_user_function_type\u001b[0;34m(self, func, args, kws, literals)\u001b[0m\n\u001b[1;32m    244\u001b[0m         \u001b[39mreturn\u001b[39;00m \u001b[39mself\u001b[39m\u001b[39m.\u001b[39mresolve_function_type(func_type, args, kws)\n\u001b[1;32m    246\u001b[0m \u001b[39mif\u001b[39;00m \u001b[39misinstance\u001b[39m(func, types\u001b[39m.\u001b[39mCallable):\n\u001b[1;32m    247\u001b[0m     \u001b[39m# XXX fold this into the __call__ attribute logic?\u001b[39;00m\n\u001b[0;32m--> 248\u001b[0m     \u001b[39mreturn\u001b[39;00m func\u001b[39m.\u001b[39;49mget_call_type(\u001b[39mself\u001b[39;49m, args, kws)\n",
      "File \u001b[0;32m/local/data/anaconda3/envs/BT/lib/python3.11/site-packages/numba/core/types/functions.py:541\u001b[0m, in \u001b[0;36mDispatcher.get_call_type\u001b[0;34m(self, context, args, kws)\u001b[0m\n\u001b[1;32m    534\u001b[0m \u001b[39mdef\u001b[39;00m \u001b[39mget_call_type\u001b[39m(\u001b[39mself\u001b[39m, context, args, kws):\n\u001b[1;32m    535\u001b[0m \u001b[39m    \u001b[39m\u001b[39m\"\"\"\u001b[39;00m\n\u001b[1;32m    536\u001b[0m \u001b[39m    Resolve a call to this dispatcher using the given argument types.\u001b[39;00m\n\u001b[1;32m    537\u001b[0m \u001b[39m    A signature returned and it is ensured that a compiled specialization\u001b[39;00m\n\u001b[1;32m    538\u001b[0m \u001b[39m    is available for it.\u001b[39;00m\n\u001b[1;32m    539\u001b[0m \u001b[39m    \"\"\"\u001b[39;00m\n\u001b[1;32m    540\u001b[0m     template, pysig, args, kws \u001b[39m=\u001b[39m \\\n\u001b[0;32m--> 541\u001b[0m         \u001b[39mself\u001b[39;49m\u001b[39m.\u001b[39;49mdispatcher\u001b[39m.\u001b[39;49mget_call_template(args, kws)\n\u001b[1;32m    542\u001b[0m     sig \u001b[39m=\u001b[39m template(context)\u001b[39m.\u001b[39mapply(args, kws)\n\u001b[1;32m    543\u001b[0m     \u001b[39mif\u001b[39;00m sig:\n",
      "File \u001b[0;32m/local/data/anaconda3/envs/BT/lib/python3.11/site-packages/numba/core/dispatcher.py:363\u001b[0m, in \u001b[0;36m_DispatcherBase.get_call_template\u001b[0;34m(self, args, kws)\u001b[0m\n\u001b[1;32m    361\u001b[0m \u001b[39m# Ensure an overload is available\u001b[39;00m\n\u001b[1;32m    362\u001b[0m \u001b[39mif\u001b[39;00m \u001b[39mself\u001b[39m\u001b[39m.\u001b[39m_can_compile:\n\u001b[0;32m--> 363\u001b[0m     \u001b[39mself\u001b[39;49m\u001b[39m.\u001b[39;49mcompile(\u001b[39mtuple\u001b[39;49m(args))\n\u001b[1;32m    365\u001b[0m \u001b[39m# Create function type for typing\u001b[39;00m\n\u001b[1;32m    366\u001b[0m func_name \u001b[39m=\u001b[39m \u001b[39mself\u001b[39m\u001b[39m.\u001b[39mpy_func\u001b[39m.\u001b[39m\u001b[39m__name__\u001b[39m\n",
      "File \u001b[0;32m/local/data/anaconda3/envs/BT/lib/python3.11/site-packages/numba/core/dispatcher.py:965\u001b[0m, in \u001b[0;36mDispatcher.compile\u001b[0;34m(self, sig)\u001b[0m\n\u001b[1;32m    963\u001b[0m \u001b[39mwith\u001b[39;00m ev\u001b[39m.\u001b[39mtrigger_event(\u001b[39m\"\u001b[39m\u001b[39mnumba:compile\u001b[39m\u001b[39m\"\u001b[39m, data\u001b[39m=\u001b[39mev_details):\n\u001b[1;32m    964\u001b[0m     \u001b[39mtry\u001b[39;00m:\n\u001b[0;32m--> 965\u001b[0m         cres \u001b[39m=\u001b[39m \u001b[39mself\u001b[39;49m\u001b[39m.\u001b[39;49m_compiler\u001b[39m.\u001b[39;49mcompile(args, return_type)\n\u001b[1;32m    966\u001b[0m     \u001b[39mexcept\u001b[39;00m errors\u001b[39m.\u001b[39mForceLiteralArg \u001b[39mas\u001b[39;00m e:\n\u001b[1;32m    967\u001b[0m         \u001b[39mdef\u001b[39;00m \u001b[39mfolded\u001b[39m(args, kws):\n",
      "File \u001b[0;32m/local/data/anaconda3/envs/BT/lib/python3.11/site-packages/numba/core/dispatcher.py:125\u001b[0m, in \u001b[0;36m_FunctionCompiler.compile\u001b[0;34m(self, args, return_type)\u001b[0m\n\u001b[1;32m    124\u001b[0m \u001b[39mdef\u001b[39;00m \u001b[39mcompile\u001b[39m(\u001b[39mself\u001b[39m, args, return_type):\n\u001b[0;32m--> 125\u001b[0m     status, retval \u001b[39m=\u001b[39m \u001b[39mself\u001b[39;49m\u001b[39m.\u001b[39;49m_compile_cached(args, return_type)\n\u001b[1;32m    126\u001b[0m     \u001b[39mif\u001b[39;00m status:\n\u001b[1;32m    127\u001b[0m         \u001b[39mreturn\u001b[39;00m retval\n",
      "File \u001b[0;32m/local/data/anaconda3/envs/BT/lib/python3.11/site-packages/numba/core/dispatcher.py:139\u001b[0m, in \u001b[0;36m_FunctionCompiler._compile_cached\u001b[0;34m(self, args, return_type)\u001b[0m\n\u001b[1;32m    136\u001b[0m     \u001b[39mpass\u001b[39;00m\n\u001b[1;32m    138\u001b[0m \u001b[39mtry\u001b[39;00m:\n\u001b[0;32m--> 139\u001b[0m     retval \u001b[39m=\u001b[39m \u001b[39mself\u001b[39;49m\u001b[39m.\u001b[39;49m_compile_core(args, return_type)\n\u001b[1;32m    140\u001b[0m \u001b[39mexcept\u001b[39;00m errors\u001b[39m.\u001b[39mTypingError \u001b[39mas\u001b[39;00m e:\n\u001b[1;32m    141\u001b[0m     \u001b[39mself\u001b[39m\u001b[39m.\u001b[39m_failed_cache[key] \u001b[39m=\u001b[39m e\n",
      "File \u001b[0;32m/local/data/anaconda3/envs/BT/lib/python3.11/site-packages/numba/core/dispatcher.py:152\u001b[0m, in \u001b[0;36m_FunctionCompiler._compile_core\u001b[0;34m(self, args, return_type)\u001b[0m\n\u001b[1;32m    149\u001b[0m flags \u001b[39m=\u001b[39m \u001b[39mself\u001b[39m\u001b[39m.\u001b[39m_customize_flags(flags)\n\u001b[1;32m    151\u001b[0m impl \u001b[39m=\u001b[39m \u001b[39mself\u001b[39m\u001b[39m.\u001b[39m_get_implementation(args, {})\n\u001b[0;32m--> 152\u001b[0m cres \u001b[39m=\u001b[39m compiler\u001b[39m.\u001b[39;49mcompile_extra(\u001b[39mself\u001b[39;49m\u001b[39m.\u001b[39;49mtargetdescr\u001b[39m.\u001b[39;49mtyping_context,\n\u001b[1;32m    153\u001b[0m                               \u001b[39mself\u001b[39;49m\u001b[39m.\u001b[39;49mtargetdescr\u001b[39m.\u001b[39;49mtarget_context,\n\u001b[1;32m    154\u001b[0m                               impl,\n\u001b[1;32m    155\u001b[0m                               args\u001b[39m=\u001b[39;49margs, return_type\u001b[39m=\u001b[39;49mreturn_type,\n\u001b[1;32m    156\u001b[0m                               flags\u001b[39m=\u001b[39;49mflags, \u001b[39mlocals\u001b[39;49m\u001b[39m=\u001b[39;49m\u001b[39mself\u001b[39;49m\u001b[39m.\u001b[39;49mlocals,\n\u001b[1;32m    157\u001b[0m                               pipeline_class\u001b[39m=\u001b[39;49m\u001b[39mself\u001b[39;49m\u001b[39m.\u001b[39;49mpipeline_class)\n\u001b[1;32m    158\u001b[0m \u001b[39m# Check typing error if object mode is used\u001b[39;00m\n\u001b[1;32m    159\u001b[0m \u001b[39mif\u001b[39;00m cres\u001b[39m.\u001b[39mtyping_error \u001b[39mis\u001b[39;00m \u001b[39mnot\u001b[39;00m \u001b[39mNone\u001b[39;00m \u001b[39mand\u001b[39;00m \u001b[39mnot\u001b[39;00m flags\u001b[39m.\u001b[39menable_pyobject:\n",
      "File \u001b[0;32m/local/data/anaconda3/envs/BT/lib/python3.11/site-packages/numba/core/compiler.py:742\u001b[0m, in \u001b[0;36mcompile_extra\u001b[0;34m(typingctx, targetctx, func, args, return_type, flags, locals, library, pipeline_class)\u001b[0m\n\u001b[1;32m    718\u001b[0m \u001b[39m\u001b[39m\u001b[39m\"\"\"Compiler entry point\u001b[39;00m\n\u001b[1;32m    719\u001b[0m \n\u001b[1;32m    720\u001b[0m \u001b[39mParameter\u001b[39;00m\n\u001b[0;32m   (...)\u001b[0m\n\u001b[1;32m    738\u001b[0m \u001b[39m    compiler pipeline\u001b[39;00m\n\u001b[1;32m    739\u001b[0m \u001b[39m\"\"\"\u001b[39;00m\n\u001b[1;32m    740\u001b[0m pipeline \u001b[39m=\u001b[39m pipeline_class(typingctx, targetctx, library,\n\u001b[1;32m    741\u001b[0m                           args, return_type, flags, \u001b[39mlocals\u001b[39m)\n\u001b[0;32m--> 742\u001b[0m \u001b[39mreturn\u001b[39;00m pipeline\u001b[39m.\u001b[39;49mcompile_extra(func)\n",
      "File \u001b[0;32m/local/data/anaconda3/envs/BT/lib/python3.11/site-packages/numba/core/compiler.py:460\u001b[0m, in \u001b[0;36mCompilerBase.compile_extra\u001b[0;34m(self, func)\u001b[0m\n\u001b[1;32m    458\u001b[0m \u001b[39mself\u001b[39m\u001b[39m.\u001b[39mstate\u001b[39m.\u001b[39mlifted \u001b[39m=\u001b[39m ()\n\u001b[1;32m    459\u001b[0m \u001b[39mself\u001b[39m\u001b[39m.\u001b[39mstate\u001b[39m.\u001b[39mlifted_from \u001b[39m=\u001b[39m \u001b[39mNone\u001b[39;00m\n\u001b[0;32m--> 460\u001b[0m \u001b[39mreturn\u001b[39;00m \u001b[39mself\u001b[39;49m\u001b[39m.\u001b[39;49m_compile_bytecode()\n",
      "File \u001b[0;32m/local/data/anaconda3/envs/BT/lib/python3.11/site-packages/numba/core/compiler.py:528\u001b[0m, in \u001b[0;36mCompilerBase._compile_bytecode\u001b[0;34m(self)\u001b[0m\n\u001b[1;32m    524\u001b[0m \u001b[39m\u001b[39m\u001b[39m\"\"\"\u001b[39;00m\n\u001b[1;32m    525\u001b[0m \u001b[39mPopulate and run pipeline for bytecode input\u001b[39;00m\n\u001b[1;32m    526\u001b[0m \u001b[39m\"\"\"\u001b[39;00m\n\u001b[1;32m    527\u001b[0m \u001b[39massert\u001b[39;00m \u001b[39mself\u001b[39m\u001b[39m.\u001b[39mstate\u001b[39m.\u001b[39mfunc_ir \u001b[39mis\u001b[39;00m \u001b[39mNone\u001b[39;00m\n\u001b[0;32m--> 528\u001b[0m \u001b[39mreturn\u001b[39;00m \u001b[39mself\u001b[39;49m\u001b[39m.\u001b[39;49m_compile_core()\n",
      "File \u001b[0;32m/local/data/anaconda3/envs/BT/lib/python3.11/site-packages/numba/core/compiler.py:494\u001b[0m, in \u001b[0;36mCompilerBase._compile_core\u001b[0;34m(self)\u001b[0m\n\u001b[1;32m    492\u001b[0m res \u001b[39m=\u001b[39m \u001b[39mNone\u001b[39;00m\n\u001b[1;32m    493\u001b[0m \u001b[39mtry\u001b[39;00m:\n\u001b[0;32m--> 494\u001b[0m     pm\u001b[39m.\u001b[39;49mrun(\u001b[39mself\u001b[39;49m\u001b[39m.\u001b[39;49mstate)\n\u001b[1;32m    495\u001b[0m     \u001b[39mif\u001b[39;00m \u001b[39mself\u001b[39m\u001b[39m.\u001b[39mstate\u001b[39m.\u001b[39mcr \u001b[39mis\u001b[39;00m \u001b[39mnot\u001b[39;00m \u001b[39mNone\u001b[39;00m:\n\u001b[1;32m    496\u001b[0m         \u001b[39mbreak\u001b[39;00m\n",
      "File \u001b[0;32m/local/data/anaconda3/envs/BT/lib/python3.11/site-packages/numba/core/compiler_machinery.py:356\u001b[0m, in \u001b[0;36mPassManager.run\u001b[0;34m(self, state)\u001b[0m\n\u001b[1;32m    354\u001b[0m pass_inst \u001b[39m=\u001b[39m _pass_registry\u001b[39m.\u001b[39mget(pss)\u001b[39m.\u001b[39mpass_inst\n\u001b[1;32m    355\u001b[0m \u001b[39mif\u001b[39;00m \u001b[39misinstance\u001b[39m(pass_inst, CompilerPass):\n\u001b[0;32m--> 356\u001b[0m     \u001b[39mself\u001b[39;49m\u001b[39m.\u001b[39;49m_runPass(idx, pass_inst, state)\n\u001b[1;32m    357\u001b[0m \u001b[39melse\u001b[39;00m:\n\u001b[1;32m    358\u001b[0m     \u001b[39mraise\u001b[39;00m \u001b[39mBaseException\u001b[39;00m(\u001b[39m\"\u001b[39m\u001b[39mLegacy pass in use\u001b[39m\u001b[39m\"\u001b[39m)\n",
      "File \u001b[0;32m/local/data/anaconda3/envs/BT/lib/python3.11/site-packages/numba/core/compiler_lock.py:35\u001b[0m, in \u001b[0;36m_CompilerLock.__call__.<locals>._acquire_compile_lock\u001b[0;34m(*args, **kwargs)\u001b[0m\n\u001b[1;32m     32\u001b[0m \u001b[39m@functools\u001b[39m\u001b[39m.\u001b[39mwraps(func)\n\u001b[1;32m     33\u001b[0m \u001b[39mdef\u001b[39;00m \u001b[39m_acquire_compile_lock\u001b[39m(\u001b[39m*\u001b[39margs, \u001b[39m*\u001b[39m\u001b[39m*\u001b[39mkwargs):\n\u001b[1;32m     34\u001b[0m     \u001b[39mwith\u001b[39;00m \u001b[39mself\u001b[39m:\n\u001b[0;32m---> 35\u001b[0m         \u001b[39mreturn\u001b[39;00m func(\u001b[39m*\u001b[39;49margs, \u001b[39m*\u001b[39;49m\u001b[39m*\u001b[39;49mkwargs)\n",
      "File \u001b[0;32m/local/data/anaconda3/envs/BT/lib/python3.11/site-packages/numba/core/compiler_machinery.py:311\u001b[0m, in \u001b[0;36mPassManager._runPass\u001b[0;34m(self, index, pss, internal_state)\u001b[0m\n\u001b[1;32m    309\u001b[0m     mutated \u001b[39m|\u001b[39m\u001b[39m=\u001b[39m check(pss\u001b[39m.\u001b[39mrun_initialization, internal_state)\n\u001b[1;32m    310\u001b[0m \u001b[39mwith\u001b[39;00m SimpleTimer() \u001b[39mas\u001b[39;00m pass_time:\n\u001b[0;32m--> 311\u001b[0m     mutated \u001b[39m|\u001b[39m\u001b[39m=\u001b[39m check(pss\u001b[39m.\u001b[39;49mrun_pass, internal_state)\n\u001b[1;32m    312\u001b[0m \u001b[39mwith\u001b[39;00m SimpleTimer() \u001b[39mas\u001b[39;00m finalize_time:\n\u001b[1;32m    313\u001b[0m     mutated \u001b[39m|\u001b[39m\u001b[39m=\u001b[39m check(pss\u001b[39m.\u001b[39mrun_finalizer, internal_state)\n",
      "File \u001b[0;32m/local/data/anaconda3/envs/BT/lib/python3.11/site-packages/numba/core/compiler_machinery.py:273\u001b[0m, in \u001b[0;36mPassManager._runPass.<locals>.check\u001b[0;34m(func, compiler_state)\u001b[0m\n\u001b[1;32m    272\u001b[0m \u001b[39mdef\u001b[39;00m \u001b[39mcheck\u001b[39m(func, compiler_state):\n\u001b[0;32m--> 273\u001b[0m     mangled \u001b[39m=\u001b[39m func(compiler_state)\n\u001b[1;32m    274\u001b[0m     \u001b[39mif\u001b[39;00m mangled \u001b[39mnot\u001b[39;00m \u001b[39min\u001b[39;00m (\u001b[39mTrue\u001b[39;00m, \u001b[39mFalse\u001b[39;00m):\n\u001b[1;32m    275\u001b[0m         msg \u001b[39m=\u001b[39m (\u001b[39m\"\u001b[39m\u001b[39mCompilerPass implementations should return True/False. \u001b[39m\u001b[39m\"\u001b[39m\n\u001b[1;32m    276\u001b[0m                \u001b[39m\"\u001b[39m\u001b[39mCompilerPass with name \u001b[39m\u001b[39m'\u001b[39m\u001b[39m%s\u001b[39;00m\u001b[39m'\u001b[39m\u001b[39m did not.\u001b[39m\u001b[39m\"\u001b[39m)\n",
      "File \u001b[0;32m/local/data/anaconda3/envs/BT/lib/python3.11/site-packages/numba/core/typed_passes.py:110\u001b[0m, in \u001b[0;36mBaseTypeInference.run_pass\u001b[0;34m(self, state)\u001b[0m\n\u001b[1;32m    104\u001b[0m \u001b[39m\u001b[39m\u001b[39m\"\"\"\u001b[39;00m\n\u001b[1;32m    105\u001b[0m \u001b[39mType inference and legalization\u001b[39;00m\n\u001b[1;32m    106\u001b[0m \u001b[39m\"\"\"\u001b[39;00m\n\u001b[1;32m    107\u001b[0m \u001b[39mwith\u001b[39;00m fallback_context(state, \u001b[39m'\u001b[39m\u001b[39mFunction \u001b[39m\u001b[39m\"\u001b[39m\u001b[39m%s\u001b[39;00m\u001b[39m\"\u001b[39m\u001b[39m failed type inference\u001b[39m\u001b[39m'\u001b[39m\n\u001b[1;32m    108\u001b[0m                       \u001b[39m%\u001b[39m (state\u001b[39m.\u001b[39mfunc_id\u001b[39m.\u001b[39mfunc_name,)):\n\u001b[1;32m    109\u001b[0m     \u001b[39m# Type inference\u001b[39;00m\n\u001b[0;32m--> 110\u001b[0m     typemap, return_type, calltypes, errs \u001b[39m=\u001b[39m type_inference_stage(\n\u001b[1;32m    111\u001b[0m         state\u001b[39m.\u001b[39;49mtypingctx,\n\u001b[1;32m    112\u001b[0m         state\u001b[39m.\u001b[39;49mtargetctx,\n\u001b[1;32m    113\u001b[0m         state\u001b[39m.\u001b[39;49mfunc_ir,\n\u001b[1;32m    114\u001b[0m         state\u001b[39m.\u001b[39;49margs,\n\u001b[1;32m    115\u001b[0m         state\u001b[39m.\u001b[39;49mreturn_type,\n\u001b[1;32m    116\u001b[0m         state\u001b[39m.\u001b[39;49mlocals,\n\u001b[1;32m    117\u001b[0m         raise_errors\u001b[39m=\u001b[39;49m\u001b[39mself\u001b[39;49m\u001b[39m.\u001b[39;49m_raise_errors)\n\u001b[1;32m    118\u001b[0m     state\u001b[39m.\u001b[39mtypemap \u001b[39m=\u001b[39m typemap\n\u001b[1;32m    119\u001b[0m     \u001b[39m# save errors in case of partial typing\u001b[39;00m\n",
      "File \u001b[0;32m/local/data/anaconda3/envs/BT/lib/python3.11/site-packages/numba/core/typed_passes.py:88\u001b[0m, in \u001b[0;36mtype_inference_stage\u001b[0;34m(typingctx, targetctx, interp, args, return_type, locals, raise_errors)\u001b[0m\n\u001b[1;32m     86\u001b[0m     infer\u001b[39m.\u001b[39mbuild_constraint()\n\u001b[1;32m     87\u001b[0m     \u001b[39m# return errors in case of partial typing\u001b[39;00m\n\u001b[0;32m---> 88\u001b[0m     errs \u001b[39m=\u001b[39m infer\u001b[39m.\u001b[39;49mpropagate(raise_errors\u001b[39m=\u001b[39;49mraise_errors)\n\u001b[1;32m     89\u001b[0m     typemap, restype, calltypes \u001b[39m=\u001b[39m infer\u001b[39m.\u001b[39munify(raise_errors\u001b[39m=\u001b[39mraise_errors)\n\u001b[1;32m     91\u001b[0m \u001b[39m# Output all Numba warnings\u001b[39;00m\n",
      "File \u001b[0;32m/local/data/anaconda3/envs/BT/lib/python3.11/site-packages/numba/core/typeinfer.py:1078\u001b[0m, in \u001b[0;36mTypeInferer.propagate\u001b[0;34m(self, raise_errors)\u001b[0m\n\u001b[1;32m   1075\u001b[0m oldtoken \u001b[39m=\u001b[39m newtoken\n\u001b[1;32m   1076\u001b[0m \u001b[39m# Errors can appear when the type set is incomplete; only\u001b[39;00m\n\u001b[1;32m   1077\u001b[0m \u001b[39m# raise them when there is no progress anymore.\u001b[39;00m\n\u001b[0;32m-> 1078\u001b[0m errors \u001b[39m=\u001b[39m \u001b[39mself\u001b[39;49m\u001b[39m.\u001b[39;49mconstraints\u001b[39m.\u001b[39;49mpropagate(\u001b[39mself\u001b[39;49m)\n\u001b[1;32m   1079\u001b[0m newtoken \u001b[39m=\u001b[39m \u001b[39mself\u001b[39m\u001b[39m.\u001b[39mget_state_token()\n\u001b[1;32m   1080\u001b[0m \u001b[39mself\u001b[39m\u001b[39m.\u001b[39mdebug\u001b[39m.\u001b[39mpropagate_finished()\n",
      "File \u001b[0;32m/local/data/anaconda3/envs/BT/lib/python3.11/site-packages/numba/core/typeinfer.py:155\u001b[0m, in \u001b[0;36mConstraintNetwork.propagate\u001b[0;34m(self, typeinfer)\u001b[0m\n\u001b[1;32m    152\u001b[0m \u001b[39mwith\u001b[39;00m typeinfer\u001b[39m.\u001b[39mwarnings\u001b[39m.\u001b[39mcatch_warnings(filename\u001b[39m=\u001b[39mloc\u001b[39m.\u001b[39mfilename,\n\u001b[1;32m    153\u001b[0m                                        lineno\u001b[39m=\u001b[39mloc\u001b[39m.\u001b[39mline):\n\u001b[1;32m    154\u001b[0m     \u001b[39mtry\u001b[39;00m:\n\u001b[0;32m--> 155\u001b[0m         constraint(typeinfer)\n\u001b[1;32m    156\u001b[0m     \u001b[39mexcept\u001b[39;00m ForceLiteralArg \u001b[39mas\u001b[39;00m e:\n\u001b[1;32m    157\u001b[0m         errors\u001b[39m.\u001b[39mappend(e)\n",
      "File \u001b[0;32m/local/data/anaconda3/envs/BT/lib/python3.11/site-packages/numba/core/typeinfer.py:578\u001b[0m, in \u001b[0;36mCallConstraint.__call__\u001b[0;34m(self, typeinfer)\u001b[0m\n\u001b[1;32m    576\u001b[0m     fnty \u001b[39m=\u001b[39m typevars[\u001b[39mself\u001b[39m\u001b[39m.\u001b[39mfunc]\u001b[39m.\u001b[39mgetone()\n\u001b[1;32m    577\u001b[0m \u001b[39mwith\u001b[39;00m new_error_context(\u001b[39m\"\u001b[39m\u001b[39mresolving callee type: \u001b[39m\u001b[39m{0}\u001b[39;00m\u001b[39m\"\u001b[39m, fnty):\n\u001b[0;32m--> 578\u001b[0m     \u001b[39mself\u001b[39;49m\u001b[39m.\u001b[39;49mresolve(typeinfer, typevars, fnty)\n",
      "File \u001b[0;32m/local/data/anaconda3/envs/BT/lib/python3.11/site-packages/numba/core/typeinfer.py:601\u001b[0m, in \u001b[0;36mCallConstraint.resolve\u001b[0;34m(self, typeinfer, typevars, fnty)\u001b[0m\n\u001b[1;32m    599\u001b[0m     fnty \u001b[39m=\u001b[39m fnty\u001b[39m.\u001b[39minstance_type\n\u001b[1;32m    600\u001b[0m \u001b[39mtry\u001b[39;00m:\n\u001b[0;32m--> 601\u001b[0m     sig \u001b[39m=\u001b[39m typeinfer\u001b[39m.\u001b[39;49mresolve_call(fnty, pos_args, kw_args)\n\u001b[1;32m    602\u001b[0m \u001b[39mexcept\u001b[39;00m ForceLiteralArg \u001b[39mas\u001b[39;00m e:\n\u001b[1;32m    603\u001b[0m     \u001b[39m# Adjust for bound methods\u001b[39;00m\n\u001b[1;32m    604\u001b[0m     folding_args \u001b[39m=\u001b[39m ((fnty\u001b[39m.\u001b[39mthis,) \u001b[39m+\u001b[39m \u001b[39mtuple\u001b[39m(\u001b[39mself\u001b[39m\u001b[39m.\u001b[39margs)\n\u001b[1;32m    605\u001b[0m                     \u001b[39mif\u001b[39;00m \u001b[39misinstance\u001b[39m(fnty, types\u001b[39m.\u001b[39mBoundFunction)\n\u001b[1;32m    606\u001b[0m                     \u001b[39melse\u001b[39;00m \u001b[39mself\u001b[39m\u001b[39m.\u001b[39margs)\n",
      "File \u001b[0;32m/local/data/anaconda3/envs/BT/lib/python3.11/site-packages/numba/core/typeinfer.py:1557\u001b[0m, in \u001b[0;36mTypeInferer.resolve_call\u001b[0;34m(self, fnty, pos_args, kw_args)\u001b[0m\n\u001b[1;32m   1554\u001b[0m     \u001b[39mreturn\u001b[39;00m sig\n\u001b[1;32m   1555\u001b[0m \u001b[39melse\u001b[39;00m:\n\u001b[1;32m   1556\u001b[0m     \u001b[39m# Normal non-recursive call\u001b[39;00m\n\u001b[0;32m-> 1557\u001b[0m     \u001b[39mreturn\u001b[39;00m \u001b[39mself\u001b[39;49m\u001b[39m.\u001b[39;49mcontext\u001b[39m.\u001b[39;49mresolve_function_type(fnty, pos_args, kw_args)\n",
      "File \u001b[0;32m/local/data/anaconda3/envs/BT/lib/python3.11/site-packages/numba/core/typing/context.py:196\u001b[0m, in \u001b[0;36mBaseContext.resolve_function_type\u001b[0;34m(self, func, args, kws)\u001b[0m\n\u001b[1;32m    194\u001b[0m \u001b[39m# Prefer user definition first\u001b[39;00m\n\u001b[1;32m    195\u001b[0m \u001b[39mtry\u001b[39;00m:\n\u001b[0;32m--> 196\u001b[0m     res \u001b[39m=\u001b[39m \u001b[39mself\u001b[39;49m\u001b[39m.\u001b[39;49m_resolve_user_function_type(func, args, kws)\n\u001b[1;32m    197\u001b[0m \u001b[39mexcept\u001b[39;00m errors\u001b[39m.\u001b[39mTypingError \u001b[39mas\u001b[39;00m e:\n\u001b[1;32m    198\u001b[0m     \u001b[39m# Capture any typing error\u001b[39;00m\n\u001b[1;32m    199\u001b[0m     last_exception \u001b[39m=\u001b[39m e\n",
      "File \u001b[0;32m/local/data/anaconda3/envs/BT/lib/python3.11/site-packages/numba/core/typing/context.py:248\u001b[0m, in \u001b[0;36mBaseContext._resolve_user_function_type\u001b[0;34m(self, func, args, kws, literals)\u001b[0m\n\u001b[1;32m    244\u001b[0m         \u001b[39mreturn\u001b[39;00m \u001b[39mself\u001b[39m\u001b[39m.\u001b[39mresolve_function_type(func_type, args, kws)\n\u001b[1;32m    246\u001b[0m \u001b[39mif\u001b[39;00m \u001b[39misinstance\u001b[39m(func, types\u001b[39m.\u001b[39mCallable):\n\u001b[1;32m    247\u001b[0m     \u001b[39m# XXX fold this into the __call__ attribute logic?\u001b[39;00m\n\u001b[0;32m--> 248\u001b[0m     \u001b[39mreturn\u001b[39;00m func\u001b[39m.\u001b[39;49mget_call_type(\u001b[39mself\u001b[39;49m, args, kws)\n",
      "File \u001b[0;32m/local/data/anaconda3/envs/BT/lib/python3.11/site-packages/numba/core/types/functions.py:541\u001b[0m, in \u001b[0;36mDispatcher.get_call_type\u001b[0;34m(self, context, args, kws)\u001b[0m\n\u001b[1;32m    534\u001b[0m \u001b[39mdef\u001b[39;00m \u001b[39mget_call_type\u001b[39m(\u001b[39mself\u001b[39m, context, args, kws):\n\u001b[1;32m    535\u001b[0m \u001b[39m    \u001b[39m\u001b[39m\"\"\"\u001b[39;00m\n\u001b[1;32m    536\u001b[0m \u001b[39m    Resolve a call to this dispatcher using the given argument types.\u001b[39;00m\n\u001b[1;32m    537\u001b[0m \u001b[39m    A signature returned and it is ensured that a compiled specialization\u001b[39;00m\n\u001b[1;32m    538\u001b[0m \u001b[39m    is available for it.\u001b[39;00m\n\u001b[1;32m    539\u001b[0m \u001b[39m    \"\"\"\u001b[39;00m\n\u001b[1;32m    540\u001b[0m     template, pysig, args, kws \u001b[39m=\u001b[39m \\\n\u001b[0;32m--> 541\u001b[0m         \u001b[39mself\u001b[39;49m\u001b[39m.\u001b[39;49mdispatcher\u001b[39m.\u001b[39;49mget_call_template(args, kws)\n\u001b[1;32m    542\u001b[0m     sig \u001b[39m=\u001b[39m template(context)\u001b[39m.\u001b[39mapply(args, kws)\n\u001b[1;32m    543\u001b[0m     \u001b[39mif\u001b[39;00m sig:\n",
      "File \u001b[0;32m/local/data/anaconda3/envs/BT/lib/python3.11/site-packages/numba/core/dispatcher.py:363\u001b[0m, in \u001b[0;36m_DispatcherBase.get_call_template\u001b[0;34m(self, args, kws)\u001b[0m\n\u001b[1;32m    361\u001b[0m \u001b[39m# Ensure an overload is available\u001b[39;00m\n\u001b[1;32m    362\u001b[0m \u001b[39mif\u001b[39;00m \u001b[39mself\u001b[39m\u001b[39m.\u001b[39m_can_compile:\n\u001b[0;32m--> 363\u001b[0m     \u001b[39mself\u001b[39;49m\u001b[39m.\u001b[39;49mcompile(\u001b[39mtuple\u001b[39;49m(args))\n\u001b[1;32m    365\u001b[0m \u001b[39m# Create function type for typing\u001b[39;00m\n\u001b[1;32m    366\u001b[0m func_name \u001b[39m=\u001b[39m \u001b[39mself\u001b[39m\u001b[39m.\u001b[39mpy_func\u001b[39m.\u001b[39m\u001b[39m__name__\u001b[39m\n",
      "File \u001b[0;32m/local/data/anaconda3/envs/BT/lib/python3.11/site-packages/numba/core/dispatcher.py:965\u001b[0m, in \u001b[0;36mDispatcher.compile\u001b[0;34m(self, sig)\u001b[0m\n\u001b[1;32m    963\u001b[0m \u001b[39mwith\u001b[39;00m ev\u001b[39m.\u001b[39mtrigger_event(\u001b[39m\"\u001b[39m\u001b[39mnumba:compile\u001b[39m\u001b[39m\"\u001b[39m, data\u001b[39m=\u001b[39mev_details):\n\u001b[1;32m    964\u001b[0m     \u001b[39mtry\u001b[39;00m:\n\u001b[0;32m--> 965\u001b[0m         cres \u001b[39m=\u001b[39m \u001b[39mself\u001b[39;49m\u001b[39m.\u001b[39;49m_compiler\u001b[39m.\u001b[39;49mcompile(args, return_type)\n\u001b[1;32m    966\u001b[0m     \u001b[39mexcept\u001b[39;00m errors\u001b[39m.\u001b[39mForceLiteralArg \u001b[39mas\u001b[39;00m e:\n\u001b[1;32m    967\u001b[0m         \u001b[39mdef\u001b[39;00m \u001b[39mfolded\u001b[39m(args, kws):\n",
      "File \u001b[0;32m/local/data/anaconda3/envs/BT/lib/python3.11/site-packages/numba/core/dispatcher.py:125\u001b[0m, in \u001b[0;36m_FunctionCompiler.compile\u001b[0;34m(self, args, return_type)\u001b[0m\n\u001b[1;32m    124\u001b[0m \u001b[39mdef\u001b[39;00m \u001b[39mcompile\u001b[39m(\u001b[39mself\u001b[39m, args, return_type):\n\u001b[0;32m--> 125\u001b[0m     status, retval \u001b[39m=\u001b[39m \u001b[39mself\u001b[39;49m\u001b[39m.\u001b[39;49m_compile_cached(args, return_type)\n\u001b[1;32m    126\u001b[0m     \u001b[39mif\u001b[39;00m status:\n\u001b[1;32m    127\u001b[0m         \u001b[39mreturn\u001b[39;00m retval\n",
      "File \u001b[0;32m/local/data/anaconda3/envs/BT/lib/python3.11/site-packages/numba/core/dispatcher.py:139\u001b[0m, in \u001b[0;36m_FunctionCompiler._compile_cached\u001b[0;34m(self, args, return_type)\u001b[0m\n\u001b[1;32m    136\u001b[0m     \u001b[39mpass\u001b[39;00m\n\u001b[1;32m    138\u001b[0m \u001b[39mtry\u001b[39;00m:\n\u001b[0;32m--> 139\u001b[0m     retval \u001b[39m=\u001b[39m \u001b[39mself\u001b[39;49m\u001b[39m.\u001b[39;49m_compile_core(args, return_type)\n\u001b[1;32m    140\u001b[0m \u001b[39mexcept\u001b[39;00m errors\u001b[39m.\u001b[39mTypingError \u001b[39mas\u001b[39;00m e:\n\u001b[1;32m    141\u001b[0m     \u001b[39mself\u001b[39m\u001b[39m.\u001b[39m_failed_cache[key] \u001b[39m=\u001b[39m e\n",
      "File \u001b[0;32m/local/data/anaconda3/envs/BT/lib/python3.11/site-packages/numba/core/dispatcher.py:152\u001b[0m, in \u001b[0;36m_FunctionCompiler._compile_core\u001b[0;34m(self, args, return_type)\u001b[0m\n\u001b[1;32m    149\u001b[0m flags \u001b[39m=\u001b[39m \u001b[39mself\u001b[39m\u001b[39m.\u001b[39m_customize_flags(flags)\n\u001b[1;32m    151\u001b[0m impl \u001b[39m=\u001b[39m \u001b[39mself\u001b[39m\u001b[39m.\u001b[39m_get_implementation(args, {})\n\u001b[0;32m--> 152\u001b[0m cres \u001b[39m=\u001b[39m compiler\u001b[39m.\u001b[39;49mcompile_extra(\u001b[39mself\u001b[39;49m\u001b[39m.\u001b[39;49mtargetdescr\u001b[39m.\u001b[39;49mtyping_context,\n\u001b[1;32m    153\u001b[0m                               \u001b[39mself\u001b[39;49m\u001b[39m.\u001b[39;49mtargetdescr\u001b[39m.\u001b[39;49mtarget_context,\n\u001b[1;32m    154\u001b[0m                               impl,\n\u001b[1;32m    155\u001b[0m                               args\u001b[39m=\u001b[39;49margs, return_type\u001b[39m=\u001b[39;49mreturn_type,\n\u001b[1;32m    156\u001b[0m                               flags\u001b[39m=\u001b[39;49mflags, \u001b[39mlocals\u001b[39;49m\u001b[39m=\u001b[39;49m\u001b[39mself\u001b[39;49m\u001b[39m.\u001b[39;49mlocals,\n\u001b[1;32m    157\u001b[0m                               pipeline_class\u001b[39m=\u001b[39;49m\u001b[39mself\u001b[39;49m\u001b[39m.\u001b[39;49mpipeline_class)\n\u001b[1;32m    158\u001b[0m \u001b[39m# Check typing error if object mode is used\u001b[39;00m\n\u001b[1;32m    159\u001b[0m \u001b[39mif\u001b[39;00m cres\u001b[39m.\u001b[39mtyping_error \u001b[39mis\u001b[39;00m \u001b[39mnot\u001b[39;00m \u001b[39mNone\u001b[39;00m \u001b[39mand\u001b[39;00m \u001b[39mnot\u001b[39;00m flags\u001b[39m.\u001b[39menable_pyobject:\n",
      "File \u001b[0;32m/local/data/anaconda3/envs/BT/lib/python3.11/site-packages/numba/core/compiler.py:742\u001b[0m, in \u001b[0;36mcompile_extra\u001b[0;34m(typingctx, targetctx, func, args, return_type, flags, locals, library, pipeline_class)\u001b[0m\n\u001b[1;32m    718\u001b[0m \u001b[39m\u001b[39m\u001b[39m\"\"\"Compiler entry point\u001b[39;00m\n\u001b[1;32m    719\u001b[0m \n\u001b[1;32m    720\u001b[0m \u001b[39mParameter\u001b[39;00m\n\u001b[0;32m   (...)\u001b[0m\n\u001b[1;32m    738\u001b[0m \u001b[39m    compiler pipeline\u001b[39;00m\n\u001b[1;32m    739\u001b[0m \u001b[39m\"\"\"\u001b[39;00m\n\u001b[1;32m    740\u001b[0m pipeline \u001b[39m=\u001b[39m pipeline_class(typingctx, targetctx, library,\n\u001b[1;32m    741\u001b[0m                           args, return_type, flags, \u001b[39mlocals\u001b[39m)\n\u001b[0;32m--> 742\u001b[0m \u001b[39mreturn\u001b[39;00m pipeline\u001b[39m.\u001b[39;49mcompile_extra(func)\n",
      "File \u001b[0;32m/local/data/anaconda3/envs/BT/lib/python3.11/site-packages/numba/core/compiler.py:460\u001b[0m, in \u001b[0;36mCompilerBase.compile_extra\u001b[0;34m(self, func)\u001b[0m\n\u001b[1;32m    458\u001b[0m \u001b[39mself\u001b[39m\u001b[39m.\u001b[39mstate\u001b[39m.\u001b[39mlifted \u001b[39m=\u001b[39m ()\n\u001b[1;32m    459\u001b[0m \u001b[39mself\u001b[39m\u001b[39m.\u001b[39mstate\u001b[39m.\u001b[39mlifted_from \u001b[39m=\u001b[39m \u001b[39mNone\u001b[39;00m\n\u001b[0;32m--> 460\u001b[0m \u001b[39mreturn\u001b[39;00m \u001b[39mself\u001b[39;49m\u001b[39m.\u001b[39;49m_compile_bytecode()\n",
      "File \u001b[0;32m/local/data/anaconda3/envs/BT/lib/python3.11/site-packages/numba/core/compiler.py:528\u001b[0m, in \u001b[0;36mCompilerBase._compile_bytecode\u001b[0;34m(self)\u001b[0m\n\u001b[1;32m    524\u001b[0m \u001b[39m\u001b[39m\u001b[39m\"\"\"\u001b[39;00m\n\u001b[1;32m    525\u001b[0m \u001b[39mPopulate and run pipeline for bytecode input\u001b[39;00m\n\u001b[1;32m    526\u001b[0m \u001b[39m\"\"\"\u001b[39;00m\n\u001b[1;32m    527\u001b[0m \u001b[39massert\u001b[39;00m \u001b[39mself\u001b[39m\u001b[39m.\u001b[39mstate\u001b[39m.\u001b[39mfunc_ir \u001b[39mis\u001b[39;00m \u001b[39mNone\u001b[39;00m\n\u001b[0;32m--> 528\u001b[0m \u001b[39mreturn\u001b[39;00m \u001b[39mself\u001b[39;49m\u001b[39m.\u001b[39;49m_compile_core()\n",
      "File \u001b[0;32m/local/data/anaconda3/envs/BT/lib/python3.11/site-packages/numba/core/compiler.py:494\u001b[0m, in \u001b[0;36mCompilerBase._compile_core\u001b[0;34m(self)\u001b[0m\n\u001b[1;32m    492\u001b[0m res \u001b[39m=\u001b[39m \u001b[39mNone\u001b[39;00m\n\u001b[1;32m    493\u001b[0m \u001b[39mtry\u001b[39;00m:\n\u001b[0;32m--> 494\u001b[0m     pm\u001b[39m.\u001b[39;49mrun(\u001b[39mself\u001b[39;49m\u001b[39m.\u001b[39;49mstate)\n\u001b[1;32m    495\u001b[0m     \u001b[39mif\u001b[39;00m \u001b[39mself\u001b[39m\u001b[39m.\u001b[39mstate\u001b[39m.\u001b[39mcr \u001b[39mis\u001b[39;00m \u001b[39mnot\u001b[39;00m \u001b[39mNone\u001b[39;00m:\n\u001b[1;32m    496\u001b[0m         \u001b[39mbreak\u001b[39;00m\n",
      "File \u001b[0;32m/local/data/anaconda3/envs/BT/lib/python3.11/site-packages/numba/core/compiler_machinery.py:356\u001b[0m, in \u001b[0;36mPassManager.run\u001b[0;34m(self, state)\u001b[0m\n\u001b[1;32m    354\u001b[0m pass_inst \u001b[39m=\u001b[39m _pass_registry\u001b[39m.\u001b[39mget(pss)\u001b[39m.\u001b[39mpass_inst\n\u001b[1;32m    355\u001b[0m \u001b[39mif\u001b[39;00m \u001b[39misinstance\u001b[39m(pass_inst, CompilerPass):\n\u001b[0;32m--> 356\u001b[0m     \u001b[39mself\u001b[39;49m\u001b[39m.\u001b[39;49m_runPass(idx, pass_inst, state)\n\u001b[1;32m    357\u001b[0m \u001b[39melse\u001b[39;00m:\n\u001b[1;32m    358\u001b[0m     \u001b[39mraise\u001b[39;00m \u001b[39mBaseException\u001b[39;00m(\u001b[39m\"\u001b[39m\u001b[39mLegacy pass in use\u001b[39m\u001b[39m\"\u001b[39m)\n",
      "File \u001b[0;32m/local/data/anaconda3/envs/BT/lib/python3.11/site-packages/numba/core/compiler_lock.py:35\u001b[0m, in \u001b[0;36m_CompilerLock.__call__.<locals>._acquire_compile_lock\u001b[0;34m(*args, **kwargs)\u001b[0m\n\u001b[1;32m     32\u001b[0m \u001b[39m@functools\u001b[39m\u001b[39m.\u001b[39mwraps(func)\n\u001b[1;32m     33\u001b[0m \u001b[39mdef\u001b[39;00m \u001b[39m_acquire_compile_lock\u001b[39m(\u001b[39m*\u001b[39margs, \u001b[39m*\u001b[39m\u001b[39m*\u001b[39mkwargs):\n\u001b[1;32m     34\u001b[0m     \u001b[39mwith\u001b[39;00m \u001b[39mself\u001b[39m:\n\u001b[0;32m---> 35\u001b[0m         \u001b[39mreturn\u001b[39;00m func(\u001b[39m*\u001b[39;49margs, \u001b[39m*\u001b[39;49m\u001b[39m*\u001b[39;49mkwargs)\n",
      "File \u001b[0;32m/local/data/anaconda3/envs/BT/lib/python3.11/site-packages/numba/core/compiler_machinery.py:311\u001b[0m, in \u001b[0;36mPassManager._runPass\u001b[0;34m(self, index, pss, internal_state)\u001b[0m\n\u001b[1;32m    309\u001b[0m     mutated \u001b[39m|\u001b[39m\u001b[39m=\u001b[39m check(pss\u001b[39m.\u001b[39mrun_initialization, internal_state)\n\u001b[1;32m    310\u001b[0m \u001b[39mwith\u001b[39;00m SimpleTimer() \u001b[39mas\u001b[39;00m pass_time:\n\u001b[0;32m--> 311\u001b[0m     mutated \u001b[39m|\u001b[39m\u001b[39m=\u001b[39m check(pss\u001b[39m.\u001b[39;49mrun_pass, internal_state)\n\u001b[1;32m    312\u001b[0m \u001b[39mwith\u001b[39;00m SimpleTimer() \u001b[39mas\u001b[39;00m finalize_time:\n\u001b[1;32m    313\u001b[0m     mutated \u001b[39m|\u001b[39m\u001b[39m=\u001b[39m check(pss\u001b[39m.\u001b[39mrun_finalizer, internal_state)\n",
      "File \u001b[0;32m/local/data/anaconda3/envs/BT/lib/python3.11/site-packages/numba/core/compiler_machinery.py:273\u001b[0m, in \u001b[0;36mPassManager._runPass.<locals>.check\u001b[0;34m(func, compiler_state)\u001b[0m\n\u001b[1;32m    272\u001b[0m \u001b[39mdef\u001b[39;00m \u001b[39mcheck\u001b[39m(func, compiler_state):\n\u001b[0;32m--> 273\u001b[0m     mangled \u001b[39m=\u001b[39m func(compiler_state)\n\u001b[1;32m    274\u001b[0m     \u001b[39mif\u001b[39;00m mangled \u001b[39mnot\u001b[39;00m \u001b[39min\u001b[39;00m (\u001b[39mTrue\u001b[39;00m, \u001b[39mFalse\u001b[39;00m):\n\u001b[1;32m    275\u001b[0m         msg \u001b[39m=\u001b[39m (\u001b[39m\"\u001b[39m\u001b[39mCompilerPass implementations should return True/False. \u001b[39m\u001b[39m\"\u001b[39m\n\u001b[1;32m    276\u001b[0m                \u001b[39m\"\u001b[39m\u001b[39mCompilerPass with name \u001b[39m\u001b[39m'\u001b[39m\u001b[39m%s\u001b[39;00m\u001b[39m'\u001b[39m\u001b[39m did not.\u001b[39m\u001b[39m\"\u001b[39m)\n",
      "File \u001b[0;32m/local/data/anaconda3/envs/BT/lib/python3.11/site-packages/numba/core/typed_passes.py:311\u001b[0m, in \u001b[0;36mParforPass.run_pass\u001b[0;34m(self, state)\u001b[0m\n\u001b[1;32m    300\u001b[0m \u001b[39massert\u001b[39;00m state\u001b[39m.\u001b[39mfunc_ir\n\u001b[1;32m    301\u001b[0m parfor_pass \u001b[39m=\u001b[39m _parfor_ParforPass(state\u001b[39m.\u001b[39mfunc_ir,\n\u001b[1;32m    302\u001b[0m                                  state\u001b[39m.\u001b[39mtypemap,\n\u001b[1;32m    303\u001b[0m                                  state\u001b[39m.\u001b[39mcalltypes,\n\u001b[0;32m   (...)\u001b[0m\n\u001b[1;32m    309\u001b[0m                                  state\u001b[39m.\u001b[39mmetadata,\n\u001b[1;32m    310\u001b[0m                                  state\u001b[39m.\u001b[39mparfor_diagnostics)\n\u001b[0;32m--> 311\u001b[0m parfor_pass\u001b[39m.\u001b[39;49mrun()\n\u001b[1;32m    313\u001b[0m \u001b[39m# check the parfor pass worked and warn if it didn't\u001b[39;00m\n\u001b[1;32m    314\u001b[0m has_parfor \u001b[39m=\u001b[39m \u001b[39mFalse\u001b[39;00m\n",
      "File \u001b[0;32m/local/data/anaconda3/envs/BT/lib/python3.11/site-packages/numba/parfors/parfor.py:2872\u001b[0m, in \u001b[0;36mParforPass.run\u001b[0;34m(self)\u001b[0m\n\u001b[1;32m   2869\u001b[0m \u001b[39mdef\u001b[39;00m \u001b[39mrun\u001b[39m(\u001b[39mself\u001b[39m):\n\u001b[1;32m   2870\u001b[0m \u001b[39m    \u001b[39m\u001b[39m\"\"\"run parfor conversion pass: replace Numpy calls\u001b[39;00m\n\u001b[1;32m   2871\u001b[0m \u001b[39m    with Parfors when possible and optimize the IR.\"\"\"\u001b[39;00m\n\u001b[0;32m-> 2872\u001b[0m     \u001b[39mself\u001b[39;49m\u001b[39m.\u001b[39;49m_pre_run()\n\u001b[1;32m   2873\u001b[0m     \u001b[39m# run stencil translation to parfor\u001b[39;00m\n\u001b[1;32m   2874\u001b[0m     \u001b[39mif\u001b[39;00m \u001b[39mself\u001b[39m\u001b[39m.\u001b[39moptions\u001b[39m.\u001b[39mstencil:\n",
      "File \u001b[0;32m/local/data/anaconda3/envs/BT/lib/python3.11/site-packages/numba/parfors/parfor.py:2864\u001b[0m, in \u001b[0;36mParforPass._pre_run\u001b[0;34m(self)\u001b[0m\n\u001b[1;32m   2862\u001b[0m \u001b[39mdef\u001b[39;00m \u001b[39m_pre_run\u001b[39m(\u001b[39mself\u001b[39m):\n\u001b[1;32m   2863\u001b[0m     \u001b[39m# run array analysis, a pre-requisite for parfor translation\u001b[39;00m\n\u001b[0;32m-> 2864\u001b[0m     \u001b[39mself\u001b[39;49m\u001b[39m.\u001b[39;49marray_analysis\u001b[39m.\u001b[39;49mrun(\u001b[39mself\u001b[39;49m\u001b[39m.\u001b[39;49mfunc_ir\u001b[39m.\u001b[39;49mblocks)\n\u001b[1;32m   2865\u001b[0m     \u001b[39m# NOTE: Prepare _the_max_label. See #6102\u001b[39;00m\n\u001b[1;32m   2866\u001b[0m     ir_utils\u001b[39m.\u001b[39m_the_max_label\u001b[39m.\u001b[39mupdate(\n\u001b[1;32m   2867\u001b[0m         ir_utils\u001b[39m.\u001b[39mfind_max_label(\u001b[39mself\u001b[39m\u001b[39m.\u001b[39mfunc_ir\u001b[39m.\u001b[39mblocks))\n",
      "File \u001b[0;32m/local/data/anaconda3/envs/BT/lib/python3.11/site-packages/numba/parfors/array_analysis.py:1156\u001b[0m, in \u001b[0;36mArrayAnalysis.run\u001b[0;34m(self, blocks, equiv_set)\u001b[0m\n\u001b[1;32m   1154\u001b[0m topo_order \u001b[39m=\u001b[39m find_topo_order(blocks, cfg\u001b[39m=\u001b[39mcfg)\n\u001b[1;32m   1155\u001b[0m \u001b[39m# Traverse blocks in topological order\u001b[39;00m\n\u001b[0;32m-> 1156\u001b[0m \u001b[39mself\u001b[39;49m\u001b[39m.\u001b[39;49m_run_on_blocks(topo_order, blocks, cfg, init_equiv_set)\n\u001b[1;32m   1158\u001b[0m \u001b[39mif\u001b[39;00m config\u001b[39m.\u001b[39mDEBUG_ARRAY_OPT \u001b[39m>\u001b[39m\u001b[39m=\u001b[39m \u001b[39m1\u001b[39m:\n\u001b[1;32m   1159\u001b[0m     \u001b[39mself\u001b[39m\u001b[39m.\u001b[39mdump()\n",
      "File \u001b[0;32m/local/data/anaconda3/envs/BT/lib/python3.11/site-packages/numba/parfors/array_analysis.py:1176\u001b[0m, in \u001b[0;36mArrayAnalysis._run_on_blocks\u001b[0;34m(self, topo_order, blocks, cfg, init_equiv_set)\u001b[0m\n\u001b[1;32m   1174\u001b[0m block \u001b[39m=\u001b[39m blocks[label]\n\u001b[1;32m   1175\u001b[0m scope \u001b[39m=\u001b[39m block\u001b[39m.\u001b[39mscope\n\u001b[0;32m-> 1176\u001b[0m pending_transforms \u001b[39m=\u001b[39m \u001b[39mself\u001b[39;49m\u001b[39m.\u001b[39;49m_determine_transform(\n\u001b[1;32m   1177\u001b[0m     cfg, block, label, scope, init_equiv_set\n\u001b[1;32m   1178\u001b[0m )\n\u001b[1;32m   1179\u001b[0m \u001b[39mself\u001b[39m\u001b[39m.\u001b[39m_combine_to_new_block(block, pending_transforms)\n",
      "File \u001b[0;32m/local/data/anaconda3/envs/BT/lib/python3.11/site-packages/numba/parfors/array_analysis.py:1216\u001b[0m, in \u001b[0;36mArrayAnalysis._determine_transform\u001b[0;34m(self, cfg, block, label, scope, init_equiv_set)\u001b[0m\n\u001b[1;32m   1214\u001b[0m     \u001b[39mcontinue\u001b[39;00m\n\u001b[1;32m   1215\u001b[0m \u001b[39mif\u001b[39;00m p \u001b[39min\u001b[39;00m \u001b[39mself\u001b[39m\u001b[39m.\u001b[39mequiv_sets:\n\u001b[0;32m-> 1216\u001b[0m     from_set \u001b[39m=\u001b[39m \u001b[39mself\u001b[39;49m\u001b[39m.\u001b[39;49mequiv_sets[p]\u001b[39m.\u001b[39;49mclone()\n\u001b[1;32m   1217\u001b[0m     \u001b[39mif\u001b[39;00m config\u001b[39m.\u001b[39mDEBUG_ARRAY_OPT \u001b[39m>\u001b[39m\u001b[39m=\u001b[39m \u001b[39m2\u001b[39m:\n\u001b[1;32m   1218\u001b[0m         \u001b[39mprint\u001b[39m(\u001b[39m\"\u001b[39m\u001b[39mp in equiv_sets\u001b[39m\u001b[39m\"\u001b[39m, from_set)\n",
      "File \u001b[0;32m/local/data/anaconda3/envs/BT/lib/python3.11/site-packages/numba/parfors/array_analysis.py:823\u001b[0m, in \u001b[0;36mSymbolicEquivSet.clone\u001b[0;34m(self)\u001b[0m\n\u001b[1;32m    812\u001b[0m \u001b[39mdef\u001b[39;00m \u001b[39mclone\u001b[39m(\u001b[39mself\u001b[39m):\n\u001b[1;32m    813\u001b[0m \u001b[39m    \u001b[39m\u001b[39m\"\"\"Return a new copy.\u001b[39;00m\n\u001b[1;32m    814\u001b[0m \u001b[39m    \"\"\"\u001b[39;00m\n\u001b[1;32m    815\u001b[0m     \u001b[39mreturn\u001b[39;00m SymbolicEquivSet(\n\u001b[1;32m    816\u001b[0m         \u001b[39mself\u001b[39m\u001b[39m.\u001b[39mtypemap,\n\u001b[1;32m    817\u001b[0m         def_by\u001b[39m=\u001b[39mcopy\u001b[39m.\u001b[39mcopy(\u001b[39mself\u001b[39m\u001b[39m.\u001b[39mdef_by),\n\u001b[1;32m    818\u001b[0m         ref_by\u001b[39m=\u001b[39mcopy\u001b[39m.\u001b[39mcopy(\u001b[39mself\u001b[39m\u001b[39m.\u001b[39mref_by),\n\u001b[1;32m    819\u001b[0m         ext_shapes\u001b[39m=\u001b[39mcopy\u001b[39m.\u001b[39mcopy(\u001b[39mself\u001b[39m\u001b[39m.\u001b[39mext_shapes),\n\u001b[1;32m    820\u001b[0m         defs\u001b[39m=\u001b[39mcopy\u001b[39m.\u001b[39mcopy(\u001b[39mself\u001b[39m\u001b[39m.\u001b[39mdefs),\n\u001b[1;32m    821\u001b[0m         ind_to_var\u001b[39m=\u001b[39mcopy\u001b[39m.\u001b[39mcopy(\u001b[39mself\u001b[39m\u001b[39m.\u001b[39mind_to_var),\n\u001b[1;32m    822\u001b[0m         obj_to_ind\u001b[39m=\u001b[39mcopy\u001b[39m.\u001b[39mdeepcopy(\u001b[39mself\u001b[39m\u001b[39m.\u001b[39mobj_to_ind),\n\u001b[0;32m--> 823\u001b[0m         ind_to_obj\u001b[39m=\u001b[39mcopy\u001b[39m.\u001b[39;49mdeepcopy(\u001b[39mself\u001b[39;49m\u001b[39m.\u001b[39;49mind_to_obj),\n\u001b[1;32m    824\u001b[0m         next_id\u001b[39m=\u001b[39m\u001b[39mself\u001b[39m\u001b[39m.\u001b[39mnext_ind,\n\u001b[1;32m    825\u001b[0m     )\n",
      "File \u001b[0;32m/local/data/anaconda3/envs/BT/lib/python3.11/copy.py:146\u001b[0m, in \u001b[0;36mdeepcopy\u001b[0;34m(x, memo, _nil)\u001b[0m\n\u001b[1;32m    144\u001b[0m copier \u001b[39m=\u001b[39m _deepcopy_dispatch\u001b[39m.\u001b[39mget(\u001b[39mcls\u001b[39m)\n\u001b[1;32m    145\u001b[0m \u001b[39mif\u001b[39;00m copier \u001b[39mis\u001b[39;00m \u001b[39mnot\u001b[39;00m \u001b[39mNone\u001b[39;00m:\n\u001b[0;32m--> 146\u001b[0m     y \u001b[39m=\u001b[39m copier(x, memo)\n\u001b[1;32m    147\u001b[0m \u001b[39melse\u001b[39;00m:\n\u001b[1;32m    148\u001b[0m     \u001b[39mif\u001b[39;00m \u001b[39missubclass\u001b[39m(\u001b[39mcls\u001b[39m, \u001b[39mtype\u001b[39m):\n",
      "File \u001b[0;32m/local/data/anaconda3/envs/BT/lib/python3.11/copy.py:231\u001b[0m, in \u001b[0;36m_deepcopy_dict\u001b[0;34m(x, memo, deepcopy)\u001b[0m\n\u001b[1;32m    229\u001b[0m memo[\u001b[39mid\u001b[39m(x)] \u001b[39m=\u001b[39m y\n\u001b[1;32m    230\u001b[0m \u001b[39mfor\u001b[39;00m key, value \u001b[39min\u001b[39;00m x\u001b[39m.\u001b[39mitems():\n\u001b[0;32m--> 231\u001b[0m     y[deepcopy(key, memo)] \u001b[39m=\u001b[39m deepcopy(value, memo)\n\u001b[1;32m    232\u001b[0m \u001b[39mreturn\u001b[39;00m y\n",
      "File \u001b[0;32m/local/data/anaconda3/envs/BT/lib/python3.11/copy.py:146\u001b[0m, in \u001b[0;36mdeepcopy\u001b[0;34m(x, memo, _nil)\u001b[0m\n\u001b[1;32m    144\u001b[0m copier \u001b[39m=\u001b[39m _deepcopy_dispatch\u001b[39m.\u001b[39mget(\u001b[39mcls\u001b[39m)\n\u001b[1;32m    145\u001b[0m \u001b[39mif\u001b[39;00m copier \u001b[39mis\u001b[39;00m \u001b[39mnot\u001b[39;00m \u001b[39mNone\u001b[39;00m:\n\u001b[0;32m--> 146\u001b[0m     y \u001b[39m=\u001b[39m copier(x, memo)\n\u001b[1;32m    147\u001b[0m \u001b[39melse\u001b[39;00m:\n\u001b[1;32m    148\u001b[0m     \u001b[39mif\u001b[39;00m \u001b[39missubclass\u001b[39m(\u001b[39mcls\u001b[39m, \u001b[39mtype\u001b[39m):\n",
      "File \u001b[0;32m/local/data/anaconda3/envs/BT/lib/python3.11/copy.py:206\u001b[0m, in \u001b[0;36m_deepcopy_list\u001b[0;34m(x, memo, deepcopy)\u001b[0m\n\u001b[1;32m    204\u001b[0m append \u001b[39m=\u001b[39m y\u001b[39m.\u001b[39mappend\n\u001b[1;32m    205\u001b[0m \u001b[39mfor\u001b[39;00m a \u001b[39min\u001b[39;00m x:\n\u001b[0;32m--> 206\u001b[0m     append(deepcopy(a, memo))\n\u001b[1;32m    207\u001b[0m \u001b[39mreturn\u001b[39;00m y\n",
      "\u001b[0;31mKeyboardInterrupt\u001b[0m: "
     ]
    }
   ],
   "source": [
    "bmMG = getBenchmarkResultsEpochs(adata,\"models/Final_MetEp_MG/\",400,10)"
   ]
  },
  {
   "cell_type": "code",
   "execution_count": 17,
   "metadata": {},
   "outputs": [
    {
     "name": "stdout",
     "output_type": "stream",
     "text": [
      "\u001b[34mINFO    \u001b[0m File models/Final_MetEp_VP/\u001b[33mepoch\u001b[0m=\u001b[1;36m9\u001b[0m/model.pt already downloaded                                            \n"
     ]
    },
    {
     "name": "stdout",
     "output_type": "stream",
     "text": [
      "\u001b[34mINFO    \u001b[0m File models/Final_MetEp_VP/\u001b[33mepoch\u001b[0m=\u001b[1;36m19\u001b[0m/model.pt already downloaded                                           \n",
      "\u001b[34mINFO    \u001b[0m File models/Final_MetEp_VP/\u001b[33mepoch\u001b[0m=\u001b[1;36m29\u001b[0m/model.pt already downloaded                                           \n",
      "\u001b[34mINFO    \u001b[0m File models/Final_MetEp_VP/\u001b[33mepoch\u001b[0m=\u001b[1;36m39\u001b[0m/model.pt already downloaded                                           \n",
      "\u001b[34mINFO    \u001b[0m File models/Final_MetEp_VP/\u001b[33mepoch\u001b[0m=\u001b[1;36m49\u001b[0m/model.pt already downloaded                                           \n",
      "\u001b[34mINFO    \u001b[0m File models/Final_MetEp_VP/\u001b[33mepoch\u001b[0m=\u001b[1;36m59\u001b[0m/model.pt already downloaded                                           \n",
      "\u001b[34mINFO    \u001b[0m File models/Final_MetEp_VP/\u001b[33mepoch\u001b[0m=\u001b[1;36m69\u001b[0m/model.pt already downloaded                                           \n",
      "\u001b[34mINFO    \u001b[0m File models/Final_MetEp_VP/\u001b[33mepoch\u001b[0m=\u001b[1;36m79\u001b[0m/model.pt already downloaded                                           \n",
      "\u001b[34mINFO    \u001b[0m File models/Final_MetEp_VP/\u001b[33mepoch\u001b[0m=\u001b[1;36m89\u001b[0m/model.pt already downloaded                                           \n",
      "\u001b[34mINFO    \u001b[0m File models/Final_MetEp_VP/\u001b[33mepoch\u001b[0m=\u001b[1;36m99\u001b[0m/model.pt already downloaded                                           \n",
      "\u001b[34mINFO    \u001b[0m File models/Final_MetEp_VP/\u001b[33mepoch\u001b[0m=\u001b[1;36m109\u001b[0m/model.pt already downloaded                                          \n",
      "\u001b[34mINFO    \u001b[0m File models/Final_MetEp_VP/\u001b[33mepoch\u001b[0m=\u001b[1;36m119\u001b[0m/model.pt already downloaded                                          \n",
      "\u001b[34mINFO    \u001b[0m File models/Final_MetEp_VP/\u001b[33mepoch\u001b[0m=\u001b[1;36m129\u001b[0m/model.pt already downloaded                                          \n",
      "\u001b[34mINFO    \u001b[0m File models/Final_MetEp_VP/\u001b[33mepoch\u001b[0m=\u001b[1;36m139\u001b[0m/model.pt already downloaded                                          \n",
      "\u001b[34mINFO    \u001b[0m File models/Final_MetEp_VP/\u001b[33mepoch\u001b[0m=\u001b[1;36m149\u001b[0m/model.pt already downloaded                                          \n",
      "\u001b[34mINFO    \u001b[0m File models/Final_MetEp_VP/\u001b[33mepoch\u001b[0m=\u001b[1;36m159\u001b[0m/model.pt already downloaded                                          \n",
      "\u001b[34mINFO    \u001b[0m File models/Final_MetEp_VP/\u001b[33mepoch\u001b[0m=\u001b[1;36m169\u001b[0m/model.pt already downloaded                                          \n",
      "\u001b[34mINFO    \u001b[0m File models/Final_MetEp_VP/\u001b[33mepoch\u001b[0m=\u001b[1;36m179\u001b[0m/model.pt already downloaded                                          \n",
      "\u001b[34mINFO    \u001b[0m File models/Final_MetEp_VP/\u001b[33mepoch\u001b[0m=\u001b[1;36m189\u001b[0m/model.pt already downloaded                                          \n",
      "\u001b[34mINFO    \u001b[0m File models/Final_MetEp_VP/\u001b[33mepoch\u001b[0m=\u001b[1;36m199\u001b[0m/model.pt already downloaded                                          \n",
      "\u001b[34mINFO    \u001b[0m File models/Final_MetEp_VP/\u001b[33mepoch\u001b[0m=\u001b[1;36m209\u001b[0m/model.pt already downloaded                                          \n",
      "\u001b[34mINFO    \u001b[0m File models/Final_MetEp_VP/\u001b[33mepoch\u001b[0m=\u001b[1;36m219\u001b[0m/model.pt already downloaded                                          \n",
      "\u001b[34mINFO    \u001b[0m File models/Final_MetEp_VP/\u001b[33mepoch\u001b[0m=\u001b[1;36m229\u001b[0m/model.pt already downloaded                                          \n",
      "\u001b[34mINFO    \u001b[0m File models/Final_MetEp_VP/\u001b[33mepoch\u001b[0m=\u001b[1;36m239\u001b[0m/model.pt already downloaded                                          \n",
      "\u001b[34mINFO    \u001b[0m File models/Final_MetEp_VP/\u001b[33mepoch\u001b[0m=\u001b[1;36m249\u001b[0m/model.pt already downloaded                                          \n",
      "\u001b[34mINFO    \u001b[0m File models/Final_MetEp_VP/\u001b[33mepoch\u001b[0m=\u001b[1;36m259\u001b[0m/model.pt already downloaded                                          \n",
      "\u001b[34mINFO    \u001b[0m File models/Final_MetEp_VP/\u001b[33mepoch\u001b[0m=\u001b[1;36m269\u001b[0m/model.pt already downloaded                                          \n",
      "\u001b[34mINFO    \u001b[0m File models/Final_MetEp_VP/\u001b[33mepoch\u001b[0m=\u001b[1;36m279\u001b[0m/model.pt already downloaded                                          \n",
      "\u001b[34mINFO    \u001b[0m File models/Final_MetEp_VP/\u001b[33mepoch\u001b[0m=\u001b[1;36m289\u001b[0m/model.pt already downloaded                                          \n",
      "\u001b[34mINFO    \u001b[0m File models/Final_MetEp_VP/\u001b[33mepoch\u001b[0m=\u001b[1;36m299\u001b[0m/model.pt already downloaded                                          \n",
      "\u001b[34mINFO    \u001b[0m File models/Final_MetEp_VP/\u001b[33mepoch\u001b[0m=\u001b[1;36m309\u001b[0m/model.pt already downloaded                                          \n",
      "\u001b[34mINFO    \u001b[0m File models/Final_MetEp_VP/\u001b[33mepoch\u001b[0m=\u001b[1;36m319\u001b[0m/model.pt already downloaded                                          \n",
      "\u001b[34mINFO    \u001b[0m File models/Final_MetEp_VP/\u001b[33mepoch\u001b[0m=\u001b[1;36m329\u001b[0m/model.pt already downloaded                                          \n",
      "\u001b[34mINFO    \u001b[0m File models/Final_MetEp_VP/\u001b[33mepoch\u001b[0m=\u001b[1;36m339\u001b[0m/model.pt already downloaded                                          \n",
      "\u001b[34mINFO    \u001b[0m File models/Final_MetEp_VP/\u001b[33mepoch\u001b[0m=\u001b[1;36m349\u001b[0m/model.pt already downloaded                                          \n",
      "\u001b[34mINFO    \u001b[0m File models/Final_MetEp_VP/\u001b[33mepoch\u001b[0m=\u001b[1;36m359\u001b[0m/model.pt already downloaded                                          \n",
      "\u001b[34mINFO    \u001b[0m File models/Final_MetEp_VP/\u001b[33mepoch\u001b[0m=\u001b[1;36m369\u001b[0m/model.pt already downloaded                                          \n",
      "\u001b[34mINFO    \u001b[0m File models/Final_MetEp_VP/\u001b[33mepoch\u001b[0m=\u001b[1;36m379\u001b[0m/model.pt already downloaded                                          \n",
      "\u001b[34mINFO    \u001b[0m File models/Final_MetEp_VP/\u001b[33mepoch\u001b[0m=\u001b[1;36m389\u001b[0m/model.pt already downloaded                                          \n"
     ]
    },
    {
     "name": "stderr",
     "output_type": "stream",
     "text": [
      "Computing neighbors: 100%|██████████| 39/39 [19:05<00:00, 29.36s/it]\n",
      "Embeddings: 100%|\u001b[32m██████████\u001b[0m| 39/39 [10:36<00:00, 16.33s/it]\n"
     ]
    }
   ],
   "source": [
    "bmVP = getBenchmarkResultsEpochs(adata,\"models/Final_MetEp_VP/\",400,10)"
   ]
  },
  {
   "cell_type": "code",
   "execution_count": 18,
   "metadata": {},
   "outputs": [
    {
     "name": "stdout",
     "output_type": "stream",
     "text": [
      "\u001b[34mINFO    \u001b[0m File models/Final_MetEp_NF/\u001b[33mepoch\u001b[0m=\u001b[1;36m9\u001b[0m/model.pt already downloaded                                            \n",
      "\u001b[34mINFO    \u001b[0m File models/Final_MetEp_NF/\u001b[33mepoch\u001b[0m=\u001b[1;36m19\u001b[0m/model.pt already downloaded                                           \n",
      "\u001b[34mINFO    \u001b[0m File models/Final_MetEp_NF/\u001b[33mepoch\u001b[0m=\u001b[1;36m29\u001b[0m/model.pt already downloaded                                           \n",
      "\u001b[34mINFO    \u001b[0m File models/Final_MetEp_NF/\u001b[33mepoch\u001b[0m=\u001b[1;36m39\u001b[0m/model.pt already downloaded                                           \n",
      "\u001b[34mINFO    \u001b[0m File models/Final_MetEp_NF/\u001b[33mepoch\u001b[0m=\u001b[1;36m49\u001b[0m/model.pt already downloaded                                           \n",
      "\u001b[34mINFO    \u001b[0m File models/Final_MetEp_NF/\u001b[33mepoch\u001b[0m=\u001b[1;36m59\u001b[0m/model.pt already downloaded                                           \n",
      "\u001b[34mINFO    \u001b[0m File models/Final_MetEp_NF/\u001b[33mepoch\u001b[0m=\u001b[1;36m69\u001b[0m/model.pt already downloaded                                           \n",
      "\u001b[34mINFO    \u001b[0m File models/Final_MetEp_NF/\u001b[33mepoch\u001b[0m=\u001b[1;36m79\u001b[0m/model.pt already downloaded                                           \n",
      "\u001b[34mINFO    \u001b[0m File models/Final_MetEp_NF/\u001b[33mepoch\u001b[0m=\u001b[1;36m89\u001b[0m/model.pt already downloaded                                           \n",
      "\u001b[34mINFO    \u001b[0m File models/Final_MetEp_NF/\u001b[33mepoch\u001b[0m=\u001b[1;36m99\u001b[0m/model.pt already downloaded                                           \n",
      "\u001b[34mINFO    \u001b[0m File models/Final_MetEp_NF/\u001b[33mepoch\u001b[0m=\u001b[1;36m109\u001b[0m/model.pt already downloaded                                          \n",
      "\u001b[34mINFO    \u001b[0m File models/Final_MetEp_NF/\u001b[33mepoch\u001b[0m=\u001b[1;36m119\u001b[0m/model.pt already downloaded                                          \n",
      "\u001b[34mINFO    \u001b[0m File models/Final_MetEp_NF/\u001b[33mepoch\u001b[0m=\u001b[1;36m129\u001b[0m/model.pt already downloaded                                          \n",
      "\u001b[34mINFO    \u001b[0m File models/Final_MetEp_NF/\u001b[33mepoch\u001b[0m=\u001b[1;36m139\u001b[0m/model.pt already downloaded                                          \n",
      "\u001b[34mINFO    \u001b[0m File models/Final_MetEp_NF/\u001b[33mepoch\u001b[0m=\u001b[1;36m149\u001b[0m/model.pt already downloaded                                          \n",
      "\u001b[34mINFO    \u001b[0m File models/Final_MetEp_NF/\u001b[33mepoch\u001b[0m=\u001b[1;36m159\u001b[0m/model.pt already downloaded                                          \n",
      "\u001b[34mINFO    \u001b[0m File models/Final_MetEp_NF/\u001b[33mepoch\u001b[0m=\u001b[1;36m169\u001b[0m/model.pt already downloaded                                          \n",
      "\u001b[34mINFO    \u001b[0m File models/Final_MetEp_NF/\u001b[33mepoch\u001b[0m=\u001b[1;36m179\u001b[0m/model.pt already downloaded                                          \n",
      "\u001b[34mINFO    \u001b[0m File models/Final_MetEp_NF/\u001b[33mepoch\u001b[0m=\u001b[1;36m189\u001b[0m/model.pt already downloaded                                          \n",
      "\u001b[34mINFO    \u001b[0m File models/Final_MetEp_NF/\u001b[33mepoch\u001b[0m=\u001b[1;36m199\u001b[0m/model.pt already downloaded                                          \n",
      "\u001b[34mINFO    \u001b[0m File models/Final_MetEp_NF/\u001b[33mepoch\u001b[0m=\u001b[1;36m209\u001b[0m/model.pt already downloaded                                          \n",
      "\u001b[34mINFO    \u001b[0m File models/Final_MetEp_NF/\u001b[33mepoch\u001b[0m=\u001b[1;36m219\u001b[0m/model.pt already downloaded                                          \n",
      "\u001b[34mINFO    \u001b[0m File models/Final_MetEp_NF/\u001b[33mepoch\u001b[0m=\u001b[1;36m229\u001b[0m/model.pt already downloaded                                          \n",
      "\u001b[34mINFO    \u001b[0m File models/Final_MetEp_NF/\u001b[33mepoch\u001b[0m=\u001b[1;36m239\u001b[0m/model.pt already downloaded                                          \n",
      "\u001b[34mINFO    \u001b[0m File models/Final_MetEp_NF/\u001b[33mepoch\u001b[0m=\u001b[1;36m249\u001b[0m/model.pt already downloaded                                          \n",
      "\u001b[34mINFO    \u001b[0m File models/Final_MetEp_NF/\u001b[33mepoch\u001b[0m=\u001b[1;36m259\u001b[0m/model.pt already downloaded                                          \n",
      "\u001b[34mINFO    \u001b[0m File models/Final_MetEp_NF/\u001b[33mepoch\u001b[0m=\u001b[1;36m269\u001b[0m/model.pt already downloaded                                          \n",
      "\u001b[34mINFO    \u001b[0m File models/Final_MetEp_NF/\u001b[33mepoch\u001b[0m=\u001b[1;36m279\u001b[0m/model.pt already downloaded                                          \n",
      "\u001b[34mINFO    \u001b[0m File models/Final_MetEp_NF/\u001b[33mepoch\u001b[0m=\u001b[1;36m289\u001b[0m/model.pt already downloaded                                          \n",
      "\u001b[34mINFO    \u001b[0m File models/Final_MetEp_NF/\u001b[33mepoch\u001b[0m=\u001b[1;36m299\u001b[0m/model.pt already downloaded                                          \n",
      "\u001b[34mINFO    \u001b[0m File models/Final_MetEp_NF/\u001b[33mepoch\u001b[0m=\u001b[1;36m309\u001b[0m/model.pt already downloaded                                          \n",
      "\u001b[34mINFO    \u001b[0m File models/Final_MetEp_NF/\u001b[33mepoch\u001b[0m=\u001b[1;36m319\u001b[0m/model.pt already downloaded                                          \n",
      "\u001b[34mINFO    \u001b[0m File models/Final_MetEp_NF/\u001b[33mepoch\u001b[0m=\u001b[1;36m329\u001b[0m/model.pt already downloaded                                          \n",
      "\u001b[34mINFO    \u001b[0m File models/Final_MetEp_NF/\u001b[33mepoch\u001b[0m=\u001b[1;36m339\u001b[0m/model.pt already downloaded                                          \n",
      "\u001b[34mINFO    \u001b[0m File models/Final_MetEp_NF/\u001b[33mepoch\u001b[0m=\u001b[1;36m349\u001b[0m/model.pt already downloaded                                          \n",
      "\u001b[34mINFO    \u001b[0m File models/Final_MetEp_NF/\u001b[33mepoch\u001b[0m=\u001b[1;36m359\u001b[0m/model.pt already downloaded                                          \n",
      "\u001b[34mINFO    \u001b[0m File models/Final_MetEp_NF/\u001b[33mepoch\u001b[0m=\u001b[1;36m369\u001b[0m/model.pt already downloaded                                          \n",
      "\u001b[34mINFO    \u001b[0m File models/Final_MetEp_NF/\u001b[33mepoch\u001b[0m=\u001b[1;36m379\u001b[0m/model.pt already downloaded                                          \n",
      "\u001b[34mINFO    \u001b[0m File models/Final_MetEp_NF/\u001b[33mepoch\u001b[0m=\u001b[1;36m389\u001b[0m/model.pt already downloaded                                          \n"
     ]
    },
    {
     "name": "stderr",
     "output_type": "stream",
     "text": [
      "Computing neighbors: 100%|██████████| 39/39 [19:05<00:00, 29.36s/it]\n",
      "Embeddings: 100%|\u001b[32m██████████\u001b[0m| 39/39 [10:26<00:00, 16.07s/it]\n"
     ]
    }
   ],
   "source": [
    "bmNF = getBenchmarkResultsEpochs(adata,\"models/Final_MetEp_NF/\",400,10)"
   ]
  },
  {
   "cell_type": "code",
   "execution_count": 19,
   "metadata": {},
   "outputs": [],
   "source": [
    "plotMetricsEpochsAll(bmSD,bmMG,bmVP,bmNF,395,10)"
   ]
  },
  {
   "cell_type": "code",
   "execution_count": 19,
   "metadata": {},
   "outputs": [],
   "source": [
    "plotMetricsEpochs(bmSD,395,\"StandardNormal\",10)"
   ]
  },
  {
   "cell_type": "code",
   "execution_count": 8,
   "metadata": {},
   "outputs": [],
   "source": [
    "plotMetricsEpochs(bmMG,395,\"MixtureOfGaussians\",10)"
   ]
  },
  {
   "cell_type": "code",
   "execution_count": 14,
   "metadata": {},
   "outputs": [],
   "source": [
    "plotMetricsEpochs(bmVP,395,\"Vamp\",10)"
   ]
  },
  {
   "cell_type": "code",
   "execution_count": 20,
   "metadata": {},
   "outputs": [],
   "source": [
    "plotMetricsEpochs(bmNF,395,\"NormalFlow\",10)"
   ]
  },
  {
   "cell_type": "code",
   "execution_count": 4,
   "metadata": {},
   "outputs": [],
   "source": [
    "import pandas as pd\n",
    "import numpy as np\n",
    "n_eps = 10\n",
    "max_epochs = 100\n",
    "results = pd.DataFrame()\n",
    "results[\"test\"] = np.linspace(n_eps-1,max_epochs-1, int(max_epochs/n_eps))"
   ]
  },
  {
   "cell_type": "code",
   "execution_count": 5,
   "metadata": {},
   "outputs": [
    {
     "data": {
      "text/html": [
       "<div>\n",
       "<style scoped>\n",
       "    .dataframe tbody tr th:only-of-type {\n",
       "        vertical-align: middle;\n",
       "    }\n",
       "\n",
       "    .dataframe tbody tr th {\n",
       "        vertical-align: top;\n",
       "    }\n",
       "\n",
       "    .dataframe thead th {\n",
       "        text-align: right;\n",
       "    }\n",
       "</style>\n",
       "<table border=\"1\" class=\"dataframe\">\n",
       "  <thead>\n",
       "    <tr style=\"text-align: right;\">\n",
       "      <th></th>\n",
       "      <th>test</th>\n",
       "    </tr>\n",
       "  </thead>\n",
       "  <tbody>\n",
       "    <tr>\n",
       "      <th>0</th>\n",
       "      <td>9.0</td>\n",
       "    </tr>\n",
       "    <tr>\n",
       "      <th>1</th>\n",
       "      <td>19.0</td>\n",
       "    </tr>\n",
       "    <tr>\n",
       "      <th>2</th>\n",
       "      <td>29.0</td>\n",
       "    </tr>\n",
       "    <tr>\n",
       "      <th>3</th>\n",
       "      <td>39.0</td>\n",
       "    </tr>\n",
       "    <tr>\n",
       "      <th>4</th>\n",
       "      <td>49.0</td>\n",
       "    </tr>\n",
       "    <tr>\n",
       "      <th>5</th>\n",
       "      <td>59.0</td>\n",
       "    </tr>\n",
       "    <tr>\n",
       "      <th>6</th>\n",
       "      <td>69.0</td>\n",
       "    </tr>\n",
       "    <tr>\n",
       "      <th>7</th>\n",
       "      <td>79.0</td>\n",
       "    </tr>\n",
       "    <tr>\n",
       "      <th>8</th>\n",
       "      <td>89.0</td>\n",
       "    </tr>\n",
       "    <tr>\n",
       "      <th>9</th>\n",
       "      <td>99.0</td>\n",
       "    </tr>\n",
       "  </tbody>\n",
       "</table>\n",
       "</div>"
      ],
      "text/plain": [
       "   test\n",
       "0   9.0\n",
       "1  19.0\n",
       "2  29.0\n",
       "3  39.0\n",
       "4  49.0\n",
       "5  59.0\n",
       "6  69.0\n",
       "7  79.0\n",
       "8  89.0\n",
       "9  99.0"
      ]
     },
     "execution_count": 5,
     "metadata": {},
     "output_type": "execute_result"
    }
   ],
   "source": [
    "results"
   ]
  },
  {
   "cell_type": "code",
   "execution_count": 1,
   "metadata": {},
   "outputs": [
    {
     "data": {
      "text/html": [
       "\n",
       "      <iframe id=\"tensorboard-frame-8ad5f83c5ee25a7e\" width=\"100%\" height=\"800\" frameborder=\"0\">\n",
       "      </iframe>\n",
       "      <script>\n",
       "        (function() {\n",
       "          const frame = document.getElementById(\"tensorboard-frame-8ad5f83c5ee25a7e\");\n",
       "          const url = new URL(\"/\", window.location);\n",
       "          const port = 6006;\n",
       "          if (port) {\n",
       "            url.port = port;\n",
       "          }\n",
       "          frame.src = url;\n",
       "        })();\n",
       "      </script>\n",
       "    "
      ],
      "text/plain": [
       "<IPython.core.display.HTML object>"
      ]
     },
     "metadata": {},
     "output_type": "display_data"
    }
   ],
   "source": [
    "%load_ext tensorboard\n",
    "%tensorboard --logdir lightning_logs/"
   ]
  },
  {
   "cell_type": "code",
   "execution_count": null,
   "metadata": {},
   "outputs": [],
   "source": []
  }
 ],
 "metadata": {
  "kernelspec": {
   "display_name": "scvi-tools-dev-n",
   "language": "python",
   "name": "python3"
  },
  "language_info": {
   "codemirror_mode": {
    "name": "ipython",
    "version": 3
   },
   "file_extension": ".py",
   "mimetype": "text/x-python",
   "name": "python",
   "nbconvert_exporter": "python",
   "pygments_lexer": "ipython3",
   "version": "3.11.4"
  },
  "orig_nbformat": 4
 },
 "nbformat": 4,
 "nbformat_minor": 2
}
