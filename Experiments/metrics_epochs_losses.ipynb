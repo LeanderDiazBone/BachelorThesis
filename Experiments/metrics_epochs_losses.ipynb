{
 "cells": [
  {
   "cell_type": "code",
   "execution_count": 12,
   "metadata": {},
   "outputs": [
    {
     "name": "stderr",
     "output_type": "stream",
     "text": [
      "/local/data/scvi-tools/scvi/_settings.py:63: UserWarning: Since v1.0.0, scvi-tools no longer uses a random seed by default. Run `scvi.settings.seed = 0` to reproduce results from previous versions.\n",
      "  self.seed = seed\n",
      "/local/data/scvi-tools/scvi/_settings.py:70: UserWarning: Setting `dl_pin_memory_gpu_training` is deprecated in v1.0 and will be removed in v1.1. Please pass in `pin_memory` to the data loaders instead.\n",
      "  self.dl_pin_memory_gpu_training = (\n",
      "/local/data/anaconda3/envs/BT/lib/python3.11/site-packages/numba/np/ufunc/dufunc.py:84: NumbaDeprecationWarning: \u001b[1mThe 'nopython' keyword argument was not supplied to the 'numba.jit' decorator. The implicit default value for this argument is currently False, but it will be changed to True in Numba 0.59.0. See https://numba.readthedocs.io/en/stable/reference/deprecation.html#deprecation-of-object-mode-fall-back-behaviour-when-using-jit for details.\u001b[0m\n",
      "  dispatcher = jit(_target='npyufunc',\n",
      "/local/data/anaconda3/envs/BT/lib/python3.11/site-packages/numba/np/ufunc/dufunc.py:84: NumbaDeprecationWarning: \u001b[1mThe 'nopython' keyword argument was not supplied to the 'numba.jit' decorator. The implicit default value for this argument is currently False, but it will be changed to True in Numba 0.59.0. See https://numba.readthedocs.io/en/stable/reference/deprecation.html#deprecation-of-object-mode-fall-back-behaviour-when-using-jit for details.\u001b[0m\n",
      "  dispatcher = jit(_target='npyufunc',\n",
      "/local/data/anaconda3/envs/BT/lib/python3.11/site-packages/numba/np/ufunc/dufunc.py:84: NumbaDeprecationWarning: \u001b[1mThe 'nopython' keyword argument was not supplied to the 'numba.jit' decorator. The implicit default value for this argument is currently False, but it will be changed to True in Numba 0.59.0. See https://numba.readthedocs.io/en/stable/reference/deprecation.html#deprecation-of-object-mode-fall-back-behaviour-when-using-jit for details.\u001b[0m\n",
      "  dispatcher = jit(_target='npyufunc',\n",
      "/local/data/anaconda3/envs/BT/lib/python3.11/site-packages/numba/np/ufunc/dufunc.py:84: NumbaDeprecationWarning: \u001b[1mThe 'nopython' keyword argument was not supplied to the 'numba.jit' decorator. The implicit default value for this argument is currently False, but it will be changed to True in Numba 0.59.0. See https://numba.readthedocs.io/en/stable/reference/deprecation.html#deprecation-of-object-mode-fall-back-behaviour-when-using-jit for details.\u001b[0m\n",
      "  dispatcher = jit(_target='npyufunc',\n",
      "/local/data/anaconda3/envs/BT/lib/python3.11/site-packages/umap/distances.py:1063: NumbaDeprecationWarning: \u001b[1mThe 'nopython' keyword argument was not supplied to the 'numba.jit' decorator. The implicit default value for this argument is currently False, but it will be changed to True in Numba 0.59.0. See https://numba.readthedocs.io/en/stable/reference/deprecation.html#deprecation-of-object-mode-fall-back-behaviour-when-using-jit for details.\u001b[0m\n",
      "/local/data/anaconda3/envs/BT/lib/python3.11/site-packages/umap/distances.py:1071: NumbaDeprecationWarning: \u001b[1mThe 'nopython' keyword argument was not supplied to the 'numba.jit' decorator. The implicit default value for this argument is currently False, but it will be changed to True in Numba 0.59.0. See https://numba.readthedocs.io/en/stable/reference/deprecation.html#deprecation-of-object-mode-fall-back-behaviour-when-using-jit for details.\u001b[0m\n",
      "/local/data/anaconda3/envs/BT/lib/python3.11/site-packages/umap/distances.py:1086: NumbaDeprecationWarning: \u001b[1mThe 'nopython' keyword argument was not supplied to the 'numba.jit' decorator. The implicit default value for this argument is currently False, but it will be changed to True in Numba 0.59.0. See https://numba.readthedocs.io/en/stable/reference/deprecation.html#deprecation-of-object-mode-fall-back-behaviour-when-using-jit for details.\u001b[0m\n",
      "/local/data/anaconda3/envs/BT/lib/python3.11/site-packages/umap/umap_.py:660: NumbaDeprecationWarning: \u001b[1mThe 'nopython' keyword argument was not supplied to the 'numba.jit' decorator. The implicit default value for this argument is currently False, but it will be changed to True in Numba 0.59.0. See https://numba.readthedocs.io/en/stable/reference/deprecation.html#deprecation-of-object-mode-fall-back-behaviour-when-using-jit for details.\u001b[0m\n",
      "2023-07-30 17:52:00.556918: W tensorflow/compiler/tf2tensorrt/utils/py_utils.cc:38] TF-TRT Warning: Could not find TensorRT\n",
      "/local/data/anaconda3/envs/BT/lib/python3.11/site-packages/numba/np/ufunc/dufunc.py:84: NumbaDeprecationWarning: \u001b[1mThe 'nopython' keyword argument was not supplied to the 'numba.jit' decorator. The implicit default value for this argument is currently False, but it will be changed to True in Numba 0.59.0. See https://numba.readthedocs.io/en/stable/reference/deprecation.html#deprecation-of-object-mode-fall-back-behaviour-when-using-jit for details.\u001b[0m\n",
      "/local/data/anaconda3/envs/BT/lib/python3.11/site-packages/numba/np/ufunc/dufunc.py:84: NumbaDeprecationWarning: \u001b[1mThe 'nopython' keyword argument was not supplied to the 'numba.jit' decorator. The implicit default value for this argument is currently False, but it will be changed to True in Numba 0.59.0. See https://numba.readthedocs.io/en/stable/reference/deprecation.html#deprecation-of-object-mode-fall-back-behaviour-when-using-jit for details.\u001b[0m\n",
      "/local/data/anaconda3/envs/BT/lib/python3.11/site-packages/numba/np/ufunc/dufunc.py:84: NumbaDeprecationWarning: \u001b[1mThe 'nopython' keyword argument was not supplied to the 'numba.jit' decorator. The implicit default value for this argument is currently False, but it will be changed to True in Numba 0.59.0. See https://numba.readthedocs.io/en/stable/reference/deprecation.html#deprecation-of-object-mode-fall-back-behaviour-when-using-jit for details.\u001b[0m\n",
      "/local/data/anaconda3/envs/BT/lib/python3.11/site-packages/umap/plot.py:203: NumbaDeprecationWarning: \u001b[1mThe 'nopython' keyword argument was not supplied to the 'numba.jit' decorator. The implicit default value for this argument is currently False, but it will be changed to True in Numba 0.59.0. See https://numba.readthedocs.io/en/stable/reference/deprecation.html#deprecation-of-object-mode-fall-back-behaviour-when-using-jit for details.\u001b[0m\n"
     ]
    }
   ],
   "source": [
    "import numpy as np\n",
    "import scanpy as sc\n",
    "import anndata\n",
    "import scvi\n",
    "from scib_metrics.benchmark import Benchmarker\n",
    "import torch\n",
    "import scib_metrics\n",
    "from lightning.pytorch.callbacks import ModelCheckpoint\n",
    "import copy\n",
    "%matplotlib inline\n",
    "import sys\n",
    "sys.path.append('..')\n",
    "from functions import *\n",
    "from SCVIModelCheckpoint import SCVIModelCheckpoint "
   ]
  },
  {
   "cell_type": "code",
   "execution_count": 13,
   "metadata": {},
   "outputs": [],
   "source": [
    "adata = anndata.read_h5ad(filename=\"../data/adataLung4.h5ad\")"
   ]
  },
  {
   "cell_type": "code",
   "execution_count": 14,
   "metadata": {},
   "outputs": [
    {
     "data": {
      "text/plain": [
       "AnnData object with n_obs × n_vars = 32472 × 4000\n",
       "    obs: 'dataset', 'location', 'nGene', 'nUMI', 'patientGroup', 'percent.mito', 'protocol', 'sanger_type', 'size_factors', 'sampling_method', 'batch', 'cell_type', 'donor'\n",
       "    var: 'highly_variable', 'means', 'dispersions', 'dispersions_norm', 'highly_variable_nbatches', 'highly_variable_intersection'\n",
       "    uns: 'hvg', 'pca'\n",
       "    obsm: 'Scanorama', 'Unintegrated', 'X_pca'\n",
       "    varm: 'PCs'\n",
       "    layers: 'counts'"
      ]
     },
     "execution_count": 14,
     "metadata": {},
     "output_type": "execute_result"
    }
   ],
   "source": [
    "adata"
   ]
  },
  {
   "cell_type": "code",
   "execution_count": 17,
   "metadata": {},
   "outputs": [
    {
     "name": "stderr",
     "output_type": "stream",
     "text": [
      "GPU available: True (cuda), used: True\n",
      "TPU available: False, using: 0 TPU cores\n",
      "IPU available: False, using: 0 IPUs\n",
      "HPU available: False, using: 0 HPUs\n",
      "LOCAL_RANK: 0 - CUDA_VISIBLE_DEVICES: [0]\n"
     ]
    },
    {
     "name": "stdout",
     "output_type": "stream",
     "text": [
      "Epoch 400/400: 100%|██████████| 400/400 [10:34<00:00,  1.59s/it, v_num=0, train_loss_step=958, train_loss_epoch=904]    "
     ]
    },
    {
     "name": "stderr",
     "output_type": "stream",
     "text": [
      "`Trainer.fit` stopped: `max_epochs=400` reached.\n"
     ]
    },
    {
     "name": "stdout",
     "output_type": "stream",
     "text": [
      "Epoch 400/400: 100%|██████████| 400/400 [10:34<00:00,  1.59s/it, v_num=0, train_loss_step=958, train_loss_epoch=904]\n"
     ]
    }
   ],
   "source": [
    "adataSD, vaeSD = trainModel(adata, 'sdnormal', checkpoint = True, checkpointFolder = \"Final_MetEp_SD\", every_n=10, log=True, logname=\"MetEps400SD\")"
   ]
  },
  {
   "cell_type": "code",
   "execution_count": 4,
   "metadata": {},
   "outputs": [
    {
     "name": "stderr",
     "output_type": "stream",
     "text": [
      "INFO:jax._src.xla_bridge:Unable to initialize backend 'cuda': module 'jaxlib.xla_extension' has no attribute 'GpuAllocatorConfig'\n",
      "INFO:jax._src.xla_bridge:Unable to initialize backend 'rocm': module 'jaxlib.xla_extension' has no attribute 'GpuAllocatorConfig'\n",
      "INFO:jax._src.xla_bridge:Unable to initialize backend 'tpu': INVALID_ARGUMENT: TpuPlatform is not available.\n",
      "WARNING:jax._src.xla_bridge:No GPU/TPU found, falling back to CPU. (Set TF_CPP_MIN_LOG_LEVEL=0 and rerun for more info.)\n"
     ]
    },
    {
     "name": "stderr",
     "output_type": "stream",
     "text": [
      "GPU available: True (cuda), used: True\n",
      "TPU available: False, using: 0 TPU cores\n",
      "IPU available: False, using: 0 IPUs\n",
      "HPU available: False, using: 0 HPUs\n",
      "LOCAL_RANK: 0 - CUDA_VISIBLE_DEVICES: [0]\n"
     ]
    },
    {
     "name": "stdout",
     "output_type": "stream",
     "text": [
      "Epoch 400/400: 100%|██████████| 400/400 [13:25<00:00,  2.06s/it, v_num=1, train_loss_step=897, train_loss_epoch=900]    "
     ]
    },
    {
     "name": "stderr",
     "output_type": "stream",
     "text": [
      "`Trainer.fit` stopped: `max_epochs=400` reached.\n"
     ]
    },
    {
     "name": "stdout",
     "output_type": "stream",
     "text": [
      "Epoch 400/400: 100%|██████████| 400/400 [13:25<00:00,  2.01s/it, v_num=1, train_loss_step=897, train_loss_epoch=900]\n"
     ]
    }
   ],
   "source": [
    "adataMG, vaeMG = trainModel(adata, 'mixofgaus', checkpoint = True, checkpointFolder = \"Final_MetEp_MG\", every_n=10, log=False, logname=\"MetEps400MG\")"
   ]
  },
  {
   "cell_type": "code",
   "execution_count": 12,
   "metadata": {},
   "outputs": [
    {
     "name": "stderr",
     "output_type": "stream",
     "text": [
      "GPU available: True (cuda), used: True\n",
      "TPU available: False, using: 0 TPU cores\n",
      "IPU available: False, using: 0 IPUs\n",
      "HPU available: False, using: 0 HPUs\n",
      "LOCAL_RANK: 0 - CUDA_VISIBLE_DEVICES: [0]\n"
     ]
    },
    {
     "name": "stdout",
     "output_type": "stream",
     "text": [
      "Epoch 400/400: 100%|██████████| 400/400 [14:13<00:00,  2.04s/it, v_num=1, train_loss_step=868, train_loss_epoch=900]    "
     ]
    },
    {
     "name": "stderr",
     "output_type": "stream",
     "text": [
      "`Trainer.fit` stopped: `max_epochs=400` reached.\n"
     ]
    },
    {
     "name": "stdout",
     "output_type": "stream",
     "text": [
      "Epoch 400/400: 100%|██████████| 400/400 [14:13<00:00,  2.13s/it, v_num=1, train_loss_step=868, train_loss_epoch=900]\n"
     ]
    }
   ],
   "source": [
    "adataVP, vaeVP = trainModel(adata, 'vamp', checkpoint = True, checkpointFolder = \"Final_MetEp_VP\", every_n=10, log=False, logname=\"MetEps400VP\")"
   ]
  },
  {
   "cell_type": "code",
   "execution_count": 15,
   "metadata": {},
   "outputs": [
    {
     "name": "stderr",
     "output_type": "stream",
     "text": [
      "GPU available: True (cuda), used: True\n",
      "TPU available: False, using: 0 TPU cores\n",
      "IPU available: False, using: 0 IPUs\n",
      "HPU available: False, using: 0 HPUs\n",
      "LOCAL_RANK: 0 - CUDA_VISIBLE_DEVICES: [0]\n"
     ]
    },
    {
     "name": "stdout",
     "output_type": "stream",
     "text": [
      "Epoch 400/400: 100%|██████████| 400/400 [21:22<00:00,  3.25s/it, v_num=1, train_loss_step=870, train_loss_epoch=901]    "
     ]
    },
    {
     "name": "stderr",
     "output_type": "stream",
     "text": [
      "`Trainer.fit` stopped: `max_epochs=400` reached.\n"
     ]
    },
    {
     "name": "stdout",
     "output_type": "stream",
     "text": [
      "Epoch 400/400: 100%|██████████| 400/400 [21:22<00:00,  3.21s/it, v_num=1, train_loss_step=870, train_loss_epoch=901]\n"
     ]
    }
   ],
   "source": [
    "adataNF, vaeNF = trainModel(adata, 'normalflow', checkpoint = True, checkpointFolder = \"Final_MetEp_NF\", every_n=10, log=False, logname=\"MetEps400NF\")"
   ]
  },
  {
   "cell_type": "code",
   "execution_count": 15,
   "metadata": {},
   "outputs": [
    {
     "name": "stdout",
     "output_type": "stream",
     "text": [
      "\u001b[34mINFO    \u001b[0m File models/Final_MetEp_SD/\u001b[33mepoch\u001b[0m=\u001b[1;36m9\u001b[0m/model.pt already downloaded                                            \n"
     ]
    },
    {
     "name": "stderr",
     "output_type": "stream",
     "text": [
      "INFO:jax._src.xla_bridge:Unable to initialize backend 'cuda': module 'jaxlib.xla_extension' has no attribute 'GpuAllocatorConfig'\n",
      "INFO:jax._src.xla_bridge:Unable to initialize backend 'rocm': module 'jaxlib.xla_extension' has no attribute 'GpuAllocatorConfig'\n",
      "INFO:jax._src.xla_bridge:Unable to initialize backend 'tpu': INVALID_ARGUMENT: TpuPlatform is not available.\n",
      "WARNING:jax._src.xla_bridge:No GPU/TPU found, falling back to CPU. (Set TF_CPP_MIN_LOG_LEVEL=0 and rerun for more info.)\n"
     ]
    },
    {
     "name": "stdout",
     "output_type": "stream",
     "text": [
      "\u001b[34mINFO    \u001b[0m File models/Final_MetEp_SD/\u001b[33mepoch\u001b[0m=\u001b[1;36m19\u001b[0m/model.pt already downloaded                                           \n",
      "\u001b[34mINFO    \u001b[0m File models/Final_MetEp_SD/\u001b[33mepoch\u001b[0m=\u001b[1;36m29\u001b[0m/model.pt already downloaded                                           \n",
      "\u001b[34mINFO    \u001b[0m File models/Final_MetEp_SD/\u001b[33mepoch\u001b[0m=\u001b[1;36m39\u001b[0m/model.pt already downloaded                                           \n",
      "\u001b[34mINFO    \u001b[0m File models/Final_MetEp_SD/\u001b[33mepoch\u001b[0m=\u001b[1;36m49\u001b[0m/model.pt already downloaded                                           \n",
      "\u001b[34mINFO    \u001b[0m File models/Final_MetEp_SD/\u001b[33mepoch\u001b[0m=\u001b[1;36m59\u001b[0m/model.pt already downloaded                                           \n",
      "\u001b[34mINFO    \u001b[0m File models/Final_MetEp_SD/\u001b[33mepoch\u001b[0m=\u001b[1;36m69\u001b[0m/model.pt already downloaded                                           \n",
      "\u001b[34mINFO    \u001b[0m File models/Final_MetEp_SD/\u001b[33mepoch\u001b[0m=\u001b[1;36m79\u001b[0m/model.pt already downloaded                                           \n",
      "\u001b[34mINFO    \u001b[0m File models/Final_MetEp_SD/\u001b[33mepoch\u001b[0m=\u001b[1;36m89\u001b[0m/model.pt already downloaded                                           \n",
      "\u001b[34mINFO    \u001b[0m File models/Final_MetEp_SD/\u001b[33mepoch\u001b[0m=\u001b[1;36m99\u001b[0m/model.pt already downloaded                                           \n",
      "\u001b[34mINFO    \u001b[0m File models/Final_MetEp_SD/\u001b[33mepoch\u001b[0m=\u001b[1;36m109\u001b[0m/model.pt already downloaded                                          \n",
      "\u001b[34mINFO    \u001b[0m File models/Final_MetEp_SD/\u001b[33mepoch\u001b[0m=\u001b[1;36m119\u001b[0m/model.pt already downloaded                                          \n",
      "\u001b[34mINFO    \u001b[0m File models/Final_MetEp_SD/\u001b[33mepoch\u001b[0m=\u001b[1;36m129\u001b[0m/model.pt already downloaded                                          \n",
      "\u001b[34mINFO    \u001b[0m File models/Final_MetEp_SD/\u001b[33mepoch\u001b[0m=\u001b[1;36m139\u001b[0m/model.pt already downloaded                                          \n",
      "\u001b[34mINFO    \u001b[0m File models/Final_MetEp_SD/\u001b[33mepoch\u001b[0m=\u001b[1;36m149\u001b[0m/model.pt already downloaded                                          \n",
      "\u001b[34mINFO    \u001b[0m File models/Final_MetEp_SD/\u001b[33mepoch\u001b[0m=\u001b[1;36m159\u001b[0m/model.pt already downloaded                                          \n",
      "\u001b[34mINFO    \u001b[0m File models/Final_MetEp_SD/\u001b[33mepoch\u001b[0m=\u001b[1;36m169\u001b[0m/model.pt already downloaded                                          \n",
      "\u001b[34mINFO    \u001b[0m File models/Final_MetEp_SD/\u001b[33mepoch\u001b[0m=\u001b[1;36m179\u001b[0m/model.pt already downloaded                                          \n",
      "\u001b[34mINFO    \u001b[0m File models/Final_MetEp_SD/\u001b[33mepoch\u001b[0m=\u001b[1;36m189\u001b[0m/model.pt already downloaded                                          \n",
      "\u001b[34mINFO    \u001b[0m File models/Final_MetEp_SD/\u001b[33mepoch\u001b[0m=\u001b[1;36m199\u001b[0m/model.pt already downloaded                                          \n",
      "\u001b[34mINFO    \u001b[0m File models/Final_MetEp_SD/\u001b[33mepoch\u001b[0m=\u001b[1;36m209\u001b[0m/model.pt already downloaded                                          \n",
      "\u001b[34mINFO    \u001b[0m File models/Final_MetEp_SD/\u001b[33mepoch\u001b[0m=\u001b[1;36m219\u001b[0m/model.pt already downloaded                                          \n",
      "\u001b[34mINFO    \u001b[0m File models/Final_MetEp_SD/\u001b[33mepoch\u001b[0m=\u001b[1;36m229\u001b[0m/model.pt already downloaded                                          \n",
      "\u001b[34mINFO    \u001b[0m File models/Final_MetEp_SD/\u001b[33mepoch\u001b[0m=\u001b[1;36m239\u001b[0m/model.pt already downloaded                                          \n",
      "\u001b[34mINFO    \u001b[0m File models/Final_MetEp_SD/\u001b[33mepoch\u001b[0m=\u001b[1;36m249\u001b[0m/model.pt already downloaded                                          \n",
      "\u001b[34mINFO    \u001b[0m File models/Final_MetEp_SD/\u001b[33mepoch\u001b[0m=\u001b[1;36m259\u001b[0m/model.pt already downloaded                                          \n",
      "\u001b[34mINFO    \u001b[0m File models/Final_MetEp_SD/\u001b[33mepoch\u001b[0m=\u001b[1;36m269\u001b[0m/model.pt already downloaded                                          \n",
      "\u001b[34mINFO    \u001b[0m File models/Final_MetEp_SD/\u001b[33mepoch\u001b[0m=\u001b[1;36m279\u001b[0m/model.pt already downloaded                                          \n",
      "\u001b[34mINFO    \u001b[0m File models/Final_MetEp_SD/\u001b[33mepoch\u001b[0m=\u001b[1;36m289\u001b[0m/model.pt already downloaded                                          \n",
      "\u001b[34mINFO    \u001b[0m File models/Final_MetEp_SD/\u001b[33mepoch\u001b[0m=\u001b[1;36m299\u001b[0m/model.pt already downloaded                                          \n",
      "\u001b[34mINFO    \u001b[0m File models/Final_MetEp_SD/\u001b[33mepoch\u001b[0m=\u001b[1;36m309\u001b[0m/model.pt already downloaded                                          \n",
      "\u001b[34mINFO    \u001b[0m File models/Final_MetEp_SD/\u001b[33mepoch\u001b[0m=\u001b[1;36m319\u001b[0m/model.pt already downloaded                                          \n",
      "\u001b[34mINFO    \u001b[0m File models/Final_MetEp_SD/\u001b[33mepoch\u001b[0m=\u001b[1;36m329\u001b[0m/model.pt already downloaded                                          \n",
      "\u001b[34mINFO    \u001b[0m File models/Final_MetEp_SD/\u001b[33mepoch\u001b[0m=\u001b[1;36m339\u001b[0m/model.pt already downloaded                                          \n",
      "\u001b[34mINFO    \u001b[0m File models/Final_MetEp_SD/\u001b[33mepoch\u001b[0m=\u001b[1;36m349\u001b[0m/model.pt already downloaded                                          \n",
      "\u001b[34mINFO    \u001b[0m File models/Final_MetEp_SD/\u001b[33mepoch\u001b[0m=\u001b[1;36m359\u001b[0m/model.pt already downloaded                                          \n",
      "\u001b[34mINFO    \u001b[0m File models/Final_MetEp_SD/\u001b[33mepoch\u001b[0m=\u001b[1;36m369\u001b[0m/model.pt already downloaded                                          \n",
      "\u001b[34mINFO    \u001b[0m File models/Final_MetEp_SD/\u001b[33mepoch\u001b[0m=\u001b[1;36m379\u001b[0m/model.pt already downloaded                                          \n",
      "\u001b[34mINFO    \u001b[0m File models/Final_MetEp_SD/\u001b[33mepoch\u001b[0m=\u001b[1;36m389\u001b[0m/model.pt already downloaded                                          \n"
     ]
    },
    {
     "name": "stderr",
     "output_type": "stream",
     "text": [
      "Computing neighbors: 100%|██████████| 39/39 [20:18<00:00, 31.26s/it]\n",
      "Embeddings: 100%|\u001b[32m██████████\u001b[0m| 39/39 [14:14<00:00, 21.91s/it]\n"
     ]
    }
   ],
   "source": [
    "bmSD = getBenchmarkResultsEpochs(adata,\"models/Final_MetEp_SD/\",400,10)"
   ]
  },
  {
   "cell_type": "code",
   "execution_count": 16,
   "metadata": {},
   "outputs": [
    {
     "name": "stdout",
     "output_type": "stream",
     "text": [
      "\u001b[34mINFO    \u001b[0m File models/Final_MetEp_MG/\u001b[33mepoch\u001b[0m=\u001b[1;36m9\u001b[0m/model.pt already downloaded                                            \n",
      "\u001b[34mINFO    \u001b[0m File models/Final_MetEp_MG/\u001b[33mepoch\u001b[0m=\u001b[1;36m19\u001b[0m/model.pt already downloaded                                           \n",
      "\u001b[34mINFO    \u001b[0m File models/Final_MetEp_MG/\u001b[33mepoch\u001b[0m=\u001b[1;36m29\u001b[0m/model.pt already downloaded                                           \n",
      "\u001b[34mINFO    \u001b[0m File models/Final_MetEp_MG/\u001b[33mepoch\u001b[0m=\u001b[1;36m39\u001b[0m/model.pt already downloaded                                           \n",
      "\u001b[34mINFO    \u001b[0m File models/Final_MetEp_MG/\u001b[33mepoch\u001b[0m=\u001b[1;36m49\u001b[0m/model.pt already downloaded                                           \n",
      "\u001b[34mINFO    \u001b[0m File models/Final_MetEp_MG/\u001b[33mepoch\u001b[0m=\u001b[1;36m59\u001b[0m/model.pt already downloaded                                           \n",
      "\u001b[34mINFO    \u001b[0m File models/Final_MetEp_MG/\u001b[33mepoch\u001b[0m=\u001b[1;36m69\u001b[0m/model.pt already downloaded                                           \n",
      "\u001b[34mINFO    \u001b[0m File models/Final_MetEp_MG/\u001b[33mepoch\u001b[0m=\u001b[1;36m79\u001b[0m/model.pt already downloaded                                           \n",
      "\u001b[34mINFO    \u001b[0m File models/Final_MetEp_MG/\u001b[33mepoch\u001b[0m=\u001b[1;36m89\u001b[0m/model.pt already downloaded                                           \n",
      "\u001b[34mINFO    \u001b[0m File models/Final_MetEp_MG/\u001b[33mepoch\u001b[0m=\u001b[1;36m99\u001b[0m/model.pt already downloaded                                           \n",
      "\u001b[34mINFO    \u001b[0m File models/Final_MetEp_MG/\u001b[33mepoch\u001b[0m=\u001b[1;36m109\u001b[0m/model.pt already downloaded                                          \n",
      "\u001b[34mINFO    \u001b[0m File models/Final_MetEp_MG/\u001b[33mepoch\u001b[0m=\u001b[1;36m119\u001b[0m/model.pt already downloaded                                          \n",
      "\u001b[34mINFO    \u001b[0m File models/Final_MetEp_MG/\u001b[33mepoch\u001b[0m=\u001b[1;36m129\u001b[0m/model.pt already downloaded                                          \n",
      "\u001b[34mINFO    \u001b[0m File models/Final_MetEp_MG/\u001b[33mepoch\u001b[0m=\u001b[1;36m139\u001b[0m/model.pt already downloaded                                          \n",
      "\u001b[34mINFO    \u001b[0m File models/Final_MetEp_MG/\u001b[33mepoch\u001b[0m=\u001b[1;36m149\u001b[0m/model.pt already downloaded                                          \n",
      "\u001b[34mINFO    \u001b[0m File models/Final_MetEp_MG/\u001b[33mepoch\u001b[0m=\u001b[1;36m159\u001b[0m/model.pt already downloaded                                          \n",
      "\u001b[34mINFO    \u001b[0m File models/Final_MetEp_MG/\u001b[33mepoch\u001b[0m=\u001b[1;36m169\u001b[0m/model.pt already downloaded                                          \n",
      "\u001b[34mINFO    \u001b[0m File models/Final_MetEp_MG/\u001b[33mepoch\u001b[0m=\u001b[1;36m179\u001b[0m/model.pt already downloaded                                          \n",
      "\u001b[34mINFO    \u001b[0m File models/Final_MetEp_MG/\u001b[33mepoch\u001b[0m=\u001b[1;36m189\u001b[0m/model.pt already downloaded                                          \n",
      "\u001b[34mINFO    \u001b[0m File models/Final_MetEp_MG/\u001b[33mepoch\u001b[0m=\u001b[1;36m199\u001b[0m/model.pt already downloaded                                          \n",
      "\u001b[34mINFO    \u001b[0m File models/Final_MetEp_MG/\u001b[33mepoch\u001b[0m=\u001b[1;36m209\u001b[0m/model.pt already downloaded                                          \n",
      "\u001b[34mINFO    \u001b[0m File models/Final_MetEp_MG/\u001b[33mepoch\u001b[0m=\u001b[1;36m219\u001b[0m/model.pt already downloaded                                          \n",
      "\u001b[34mINFO    \u001b[0m File models/Final_MetEp_MG/\u001b[33mepoch\u001b[0m=\u001b[1;36m229\u001b[0m/model.pt already downloaded                                          \n",
      "\u001b[34mINFO    \u001b[0m File models/Final_MetEp_MG/\u001b[33mepoch\u001b[0m=\u001b[1;36m239\u001b[0m/model.pt already downloaded                                          \n",
      "\u001b[34mINFO    \u001b[0m File models/Final_MetEp_MG/\u001b[33mepoch\u001b[0m=\u001b[1;36m249\u001b[0m/model.pt already downloaded                                          \n",
      "\u001b[34mINFO    \u001b[0m File models/Final_MetEp_MG/\u001b[33mepoch\u001b[0m=\u001b[1;36m259\u001b[0m/model.pt already downloaded                                          \n",
      "\u001b[34mINFO    \u001b[0m File models/Final_MetEp_MG/\u001b[33mepoch\u001b[0m=\u001b[1;36m269\u001b[0m/model.pt already downloaded                                          \n",
      "\u001b[34mINFO    \u001b[0m File models/Final_MetEp_MG/\u001b[33mepoch\u001b[0m=\u001b[1;36m279\u001b[0m/model.pt already downloaded                                          \n",
      "\u001b[34mINFO    \u001b[0m File models/Final_MetEp_MG/\u001b[33mepoch\u001b[0m=\u001b[1;36m289\u001b[0m/model.pt already downloaded                                          \n",
      "\u001b[34mINFO    \u001b[0m File models/Final_MetEp_MG/\u001b[33mepoch\u001b[0m=\u001b[1;36m299\u001b[0m/model.pt already downloaded                                          \n",
      "\u001b[34mINFO    \u001b[0m File models/Final_MetEp_MG/\u001b[33mepoch\u001b[0m=\u001b[1;36m309\u001b[0m/model.pt already downloaded                                          \n",
      "\u001b[34mINFO    \u001b[0m File models/Final_MetEp_MG/\u001b[33mepoch\u001b[0m=\u001b[1;36m319\u001b[0m/model.pt already downloaded                                          \n",
      "\u001b[34mINFO    \u001b[0m File models/Final_MetEp_MG/\u001b[33mepoch\u001b[0m=\u001b[1;36m329\u001b[0m/model.pt already downloaded                                          \n",
      "\u001b[34mINFO    \u001b[0m File models/Final_MetEp_MG/\u001b[33mepoch\u001b[0m=\u001b[1;36m339\u001b[0m/model.pt already downloaded                                          \n",
      "\u001b[34mINFO    \u001b[0m File models/Final_MetEp_MG/\u001b[33mepoch\u001b[0m=\u001b[1;36m349\u001b[0m/model.pt already downloaded                                          \n",
      "\u001b[34mINFO    \u001b[0m File models/Final_MetEp_MG/\u001b[33mepoch\u001b[0m=\u001b[1;36m359\u001b[0m/model.pt already downloaded                                          \n",
      "\u001b[34mINFO    \u001b[0m File models/Final_MetEp_MG/\u001b[33mepoch\u001b[0m=\u001b[1;36m369\u001b[0m/model.pt already downloaded                                          \n",
      "\u001b[34mINFO    \u001b[0m File models/Final_MetEp_MG/\u001b[33mepoch\u001b[0m=\u001b[1;36m379\u001b[0m/model.pt already downloaded                                          \n",
      "\u001b[34mINFO    \u001b[0m File models/Final_MetEp_MG/\u001b[33mepoch\u001b[0m=\u001b[1;36m389\u001b[0m/model.pt already downloaded                                          \n"
     ]
    },
    {
     "name": "stderr",
     "output_type": "stream",
     "text": [
      "Computing neighbors: 100%|██████████| 39/39 [18:56<00:00, 29.15s/it]\n",
      "Embeddings: 100%|\u001b[32m██████████\u001b[0m| 39/39 [10:49<00:00, 16.65s/it]\n"
     ]
    }
   ],
   "source": [
    "bmMG = getBenchmarkResultsEpochs(adata,\"models/Final_MetEp_MG/\",400,10)"
   ]
  },
  {
   "cell_type": "code",
   "execution_count": 17,
   "metadata": {},
   "outputs": [
    {
     "name": "stdout",
     "output_type": "stream",
     "text": [
      "\u001b[34mINFO    \u001b[0m File models/Final_MetEp_VP/\u001b[33mepoch\u001b[0m=\u001b[1;36m9\u001b[0m/model.pt already downloaded                                            \n"
     ]
    },
    {
     "name": "stdout",
     "output_type": "stream",
     "text": [
      "\u001b[34mINFO    \u001b[0m File models/Final_MetEp_VP/\u001b[33mepoch\u001b[0m=\u001b[1;36m19\u001b[0m/model.pt already downloaded                                           \n",
      "\u001b[34mINFO    \u001b[0m File models/Final_MetEp_VP/\u001b[33mepoch\u001b[0m=\u001b[1;36m29\u001b[0m/model.pt already downloaded                                           \n",
      "\u001b[34mINFO    \u001b[0m File models/Final_MetEp_VP/\u001b[33mepoch\u001b[0m=\u001b[1;36m39\u001b[0m/model.pt already downloaded                                           \n",
      "\u001b[34mINFO    \u001b[0m File models/Final_MetEp_VP/\u001b[33mepoch\u001b[0m=\u001b[1;36m49\u001b[0m/model.pt already downloaded                                           \n",
      "\u001b[34mINFO    \u001b[0m File models/Final_MetEp_VP/\u001b[33mepoch\u001b[0m=\u001b[1;36m59\u001b[0m/model.pt already downloaded                                           \n",
      "\u001b[34mINFO    \u001b[0m File models/Final_MetEp_VP/\u001b[33mepoch\u001b[0m=\u001b[1;36m69\u001b[0m/model.pt already downloaded                                           \n",
      "\u001b[34mINFO    \u001b[0m File models/Final_MetEp_VP/\u001b[33mepoch\u001b[0m=\u001b[1;36m79\u001b[0m/model.pt already downloaded                                           \n",
      "\u001b[34mINFO    \u001b[0m File models/Final_MetEp_VP/\u001b[33mepoch\u001b[0m=\u001b[1;36m89\u001b[0m/model.pt already downloaded                                           \n",
      "\u001b[34mINFO    \u001b[0m File models/Final_MetEp_VP/\u001b[33mepoch\u001b[0m=\u001b[1;36m99\u001b[0m/model.pt already downloaded                                           \n",
      "\u001b[34mINFO    \u001b[0m File models/Final_MetEp_VP/\u001b[33mepoch\u001b[0m=\u001b[1;36m109\u001b[0m/model.pt already downloaded                                          \n",
      "\u001b[34mINFO    \u001b[0m File models/Final_MetEp_VP/\u001b[33mepoch\u001b[0m=\u001b[1;36m119\u001b[0m/model.pt already downloaded                                          \n",
      "\u001b[34mINFO    \u001b[0m File models/Final_MetEp_VP/\u001b[33mepoch\u001b[0m=\u001b[1;36m129\u001b[0m/model.pt already downloaded                                          \n",
      "\u001b[34mINFO    \u001b[0m File models/Final_MetEp_VP/\u001b[33mepoch\u001b[0m=\u001b[1;36m139\u001b[0m/model.pt already downloaded                                          \n",
      "\u001b[34mINFO    \u001b[0m File models/Final_MetEp_VP/\u001b[33mepoch\u001b[0m=\u001b[1;36m149\u001b[0m/model.pt already downloaded                                          \n",
      "\u001b[34mINFO    \u001b[0m File models/Final_MetEp_VP/\u001b[33mepoch\u001b[0m=\u001b[1;36m159\u001b[0m/model.pt already downloaded                                          \n",
      "\u001b[34mINFO    \u001b[0m File models/Final_MetEp_VP/\u001b[33mepoch\u001b[0m=\u001b[1;36m169\u001b[0m/model.pt already downloaded                                          \n",
      "\u001b[34mINFO    \u001b[0m File models/Final_MetEp_VP/\u001b[33mepoch\u001b[0m=\u001b[1;36m179\u001b[0m/model.pt already downloaded                                          \n",
      "\u001b[34mINFO    \u001b[0m File models/Final_MetEp_VP/\u001b[33mepoch\u001b[0m=\u001b[1;36m189\u001b[0m/model.pt already downloaded                                          \n",
      "\u001b[34mINFO    \u001b[0m File models/Final_MetEp_VP/\u001b[33mepoch\u001b[0m=\u001b[1;36m199\u001b[0m/model.pt already downloaded                                          \n",
      "\u001b[34mINFO    \u001b[0m File models/Final_MetEp_VP/\u001b[33mepoch\u001b[0m=\u001b[1;36m209\u001b[0m/model.pt already downloaded                                          \n",
      "\u001b[34mINFO    \u001b[0m File models/Final_MetEp_VP/\u001b[33mepoch\u001b[0m=\u001b[1;36m219\u001b[0m/model.pt already downloaded                                          \n",
      "\u001b[34mINFO    \u001b[0m File models/Final_MetEp_VP/\u001b[33mepoch\u001b[0m=\u001b[1;36m229\u001b[0m/model.pt already downloaded                                          \n",
      "\u001b[34mINFO    \u001b[0m File models/Final_MetEp_VP/\u001b[33mepoch\u001b[0m=\u001b[1;36m239\u001b[0m/model.pt already downloaded                                          \n",
      "\u001b[34mINFO    \u001b[0m File models/Final_MetEp_VP/\u001b[33mepoch\u001b[0m=\u001b[1;36m249\u001b[0m/model.pt already downloaded                                          \n",
      "\u001b[34mINFO    \u001b[0m File models/Final_MetEp_VP/\u001b[33mepoch\u001b[0m=\u001b[1;36m259\u001b[0m/model.pt already downloaded                                          \n",
      "\u001b[34mINFO    \u001b[0m File models/Final_MetEp_VP/\u001b[33mepoch\u001b[0m=\u001b[1;36m269\u001b[0m/model.pt already downloaded                                          \n",
      "\u001b[34mINFO    \u001b[0m File models/Final_MetEp_VP/\u001b[33mepoch\u001b[0m=\u001b[1;36m279\u001b[0m/model.pt already downloaded                                          \n",
      "\u001b[34mINFO    \u001b[0m File models/Final_MetEp_VP/\u001b[33mepoch\u001b[0m=\u001b[1;36m289\u001b[0m/model.pt already downloaded                                          \n",
      "\u001b[34mINFO    \u001b[0m File models/Final_MetEp_VP/\u001b[33mepoch\u001b[0m=\u001b[1;36m299\u001b[0m/model.pt already downloaded                                          \n",
      "\u001b[34mINFO    \u001b[0m File models/Final_MetEp_VP/\u001b[33mepoch\u001b[0m=\u001b[1;36m309\u001b[0m/model.pt already downloaded                                          \n",
      "\u001b[34mINFO    \u001b[0m File models/Final_MetEp_VP/\u001b[33mepoch\u001b[0m=\u001b[1;36m319\u001b[0m/model.pt already downloaded                                          \n",
      "\u001b[34mINFO    \u001b[0m File models/Final_MetEp_VP/\u001b[33mepoch\u001b[0m=\u001b[1;36m329\u001b[0m/model.pt already downloaded                                          \n",
      "\u001b[34mINFO    \u001b[0m File models/Final_MetEp_VP/\u001b[33mepoch\u001b[0m=\u001b[1;36m339\u001b[0m/model.pt already downloaded                                          \n",
      "\u001b[34mINFO    \u001b[0m File models/Final_MetEp_VP/\u001b[33mepoch\u001b[0m=\u001b[1;36m349\u001b[0m/model.pt already downloaded                                          \n",
      "\u001b[34mINFO    \u001b[0m File models/Final_MetEp_VP/\u001b[33mepoch\u001b[0m=\u001b[1;36m359\u001b[0m/model.pt already downloaded                                          \n",
      "\u001b[34mINFO    \u001b[0m File models/Final_MetEp_VP/\u001b[33mepoch\u001b[0m=\u001b[1;36m369\u001b[0m/model.pt already downloaded                                          \n",
      "\u001b[34mINFO    \u001b[0m File models/Final_MetEp_VP/\u001b[33mepoch\u001b[0m=\u001b[1;36m379\u001b[0m/model.pt already downloaded                                          \n",
      "\u001b[34mINFO    \u001b[0m File models/Final_MetEp_VP/\u001b[33mepoch\u001b[0m=\u001b[1;36m389\u001b[0m/model.pt already downloaded                                          \n"
     ]
    },
    {
     "name": "stderr",
     "output_type": "stream",
     "text": [
      "Computing neighbors: 100%|██████████| 39/39 [19:05<00:00, 29.36s/it]\n",
      "Embeddings: 100%|\u001b[32m██████████\u001b[0m| 39/39 [10:36<00:00, 16.33s/it]\n"
     ]
    }
   ],
   "source": [
    "bmVP = getBenchmarkResultsEpochs(adata,\"models/Final_MetEp_VP/\",400,10)"
   ]
  },
  {
   "cell_type": "code",
   "execution_count": 18,
   "metadata": {},
   "outputs": [
    {
     "name": "stdout",
     "output_type": "stream",
     "text": [
      "\u001b[34mINFO    \u001b[0m File models/Final_MetEp_NF/\u001b[33mepoch\u001b[0m=\u001b[1;36m9\u001b[0m/model.pt already downloaded                                            \n",
      "\u001b[34mINFO    \u001b[0m File models/Final_MetEp_NF/\u001b[33mepoch\u001b[0m=\u001b[1;36m19\u001b[0m/model.pt already downloaded                                           \n",
      "\u001b[34mINFO    \u001b[0m File models/Final_MetEp_NF/\u001b[33mepoch\u001b[0m=\u001b[1;36m29\u001b[0m/model.pt already downloaded                                           \n",
      "\u001b[34mINFO    \u001b[0m File models/Final_MetEp_NF/\u001b[33mepoch\u001b[0m=\u001b[1;36m39\u001b[0m/model.pt already downloaded                                           \n",
      "\u001b[34mINFO    \u001b[0m File models/Final_MetEp_NF/\u001b[33mepoch\u001b[0m=\u001b[1;36m49\u001b[0m/model.pt already downloaded                                           \n",
      "\u001b[34mINFO    \u001b[0m File models/Final_MetEp_NF/\u001b[33mepoch\u001b[0m=\u001b[1;36m59\u001b[0m/model.pt already downloaded                                           \n",
      "\u001b[34mINFO    \u001b[0m File models/Final_MetEp_NF/\u001b[33mepoch\u001b[0m=\u001b[1;36m69\u001b[0m/model.pt already downloaded                                           \n",
      "\u001b[34mINFO    \u001b[0m File models/Final_MetEp_NF/\u001b[33mepoch\u001b[0m=\u001b[1;36m79\u001b[0m/model.pt already downloaded                                           \n",
      "\u001b[34mINFO    \u001b[0m File models/Final_MetEp_NF/\u001b[33mepoch\u001b[0m=\u001b[1;36m89\u001b[0m/model.pt already downloaded                                           \n",
      "\u001b[34mINFO    \u001b[0m File models/Final_MetEp_NF/\u001b[33mepoch\u001b[0m=\u001b[1;36m99\u001b[0m/model.pt already downloaded                                           \n",
      "\u001b[34mINFO    \u001b[0m File models/Final_MetEp_NF/\u001b[33mepoch\u001b[0m=\u001b[1;36m109\u001b[0m/model.pt already downloaded                                          \n",
      "\u001b[34mINFO    \u001b[0m File models/Final_MetEp_NF/\u001b[33mepoch\u001b[0m=\u001b[1;36m119\u001b[0m/model.pt already downloaded                                          \n",
      "\u001b[34mINFO    \u001b[0m File models/Final_MetEp_NF/\u001b[33mepoch\u001b[0m=\u001b[1;36m129\u001b[0m/model.pt already downloaded                                          \n",
      "\u001b[34mINFO    \u001b[0m File models/Final_MetEp_NF/\u001b[33mepoch\u001b[0m=\u001b[1;36m139\u001b[0m/model.pt already downloaded                                          \n",
      "\u001b[34mINFO    \u001b[0m File models/Final_MetEp_NF/\u001b[33mepoch\u001b[0m=\u001b[1;36m149\u001b[0m/model.pt already downloaded                                          \n",
      "\u001b[34mINFO    \u001b[0m File models/Final_MetEp_NF/\u001b[33mepoch\u001b[0m=\u001b[1;36m159\u001b[0m/model.pt already downloaded                                          \n",
      "\u001b[34mINFO    \u001b[0m File models/Final_MetEp_NF/\u001b[33mepoch\u001b[0m=\u001b[1;36m169\u001b[0m/model.pt already downloaded                                          \n",
      "\u001b[34mINFO    \u001b[0m File models/Final_MetEp_NF/\u001b[33mepoch\u001b[0m=\u001b[1;36m179\u001b[0m/model.pt already downloaded                                          \n",
      "\u001b[34mINFO    \u001b[0m File models/Final_MetEp_NF/\u001b[33mepoch\u001b[0m=\u001b[1;36m189\u001b[0m/model.pt already downloaded                                          \n",
      "\u001b[34mINFO    \u001b[0m File models/Final_MetEp_NF/\u001b[33mepoch\u001b[0m=\u001b[1;36m199\u001b[0m/model.pt already downloaded                                          \n",
      "\u001b[34mINFO    \u001b[0m File models/Final_MetEp_NF/\u001b[33mepoch\u001b[0m=\u001b[1;36m209\u001b[0m/model.pt already downloaded                                          \n",
      "\u001b[34mINFO    \u001b[0m File models/Final_MetEp_NF/\u001b[33mepoch\u001b[0m=\u001b[1;36m219\u001b[0m/model.pt already downloaded                                          \n",
      "\u001b[34mINFO    \u001b[0m File models/Final_MetEp_NF/\u001b[33mepoch\u001b[0m=\u001b[1;36m229\u001b[0m/model.pt already downloaded                                          \n",
      "\u001b[34mINFO    \u001b[0m File models/Final_MetEp_NF/\u001b[33mepoch\u001b[0m=\u001b[1;36m239\u001b[0m/model.pt already downloaded                                          \n",
      "\u001b[34mINFO    \u001b[0m File models/Final_MetEp_NF/\u001b[33mepoch\u001b[0m=\u001b[1;36m249\u001b[0m/model.pt already downloaded                                          \n",
      "\u001b[34mINFO    \u001b[0m File models/Final_MetEp_NF/\u001b[33mepoch\u001b[0m=\u001b[1;36m259\u001b[0m/model.pt already downloaded                                          \n",
      "\u001b[34mINFO    \u001b[0m File models/Final_MetEp_NF/\u001b[33mepoch\u001b[0m=\u001b[1;36m269\u001b[0m/model.pt already downloaded                                          \n",
      "\u001b[34mINFO    \u001b[0m File models/Final_MetEp_NF/\u001b[33mepoch\u001b[0m=\u001b[1;36m279\u001b[0m/model.pt already downloaded                                          \n",
      "\u001b[34mINFO    \u001b[0m File models/Final_MetEp_NF/\u001b[33mepoch\u001b[0m=\u001b[1;36m289\u001b[0m/model.pt already downloaded                                          \n",
      "\u001b[34mINFO    \u001b[0m File models/Final_MetEp_NF/\u001b[33mepoch\u001b[0m=\u001b[1;36m299\u001b[0m/model.pt already downloaded                                          \n",
      "\u001b[34mINFO    \u001b[0m File models/Final_MetEp_NF/\u001b[33mepoch\u001b[0m=\u001b[1;36m309\u001b[0m/model.pt already downloaded                                          \n",
      "\u001b[34mINFO    \u001b[0m File models/Final_MetEp_NF/\u001b[33mepoch\u001b[0m=\u001b[1;36m319\u001b[0m/model.pt already downloaded                                          \n",
      "\u001b[34mINFO    \u001b[0m File models/Final_MetEp_NF/\u001b[33mepoch\u001b[0m=\u001b[1;36m329\u001b[0m/model.pt already downloaded                                          \n",
      "\u001b[34mINFO    \u001b[0m File models/Final_MetEp_NF/\u001b[33mepoch\u001b[0m=\u001b[1;36m339\u001b[0m/model.pt already downloaded                                          \n",
      "\u001b[34mINFO    \u001b[0m File models/Final_MetEp_NF/\u001b[33mepoch\u001b[0m=\u001b[1;36m349\u001b[0m/model.pt already downloaded                                          \n",
      "\u001b[34mINFO    \u001b[0m File models/Final_MetEp_NF/\u001b[33mepoch\u001b[0m=\u001b[1;36m359\u001b[0m/model.pt already downloaded                                          \n",
      "\u001b[34mINFO    \u001b[0m File models/Final_MetEp_NF/\u001b[33mepoch\u001b[0m=\u001b[1;36m369\u001b[0m/model.pt already downloaded                                          \n",
      "\u001b[34mINFO    \u001b[0m File models/Final_MetEp_NF/\u001b[33mepoch\u001b[0m=\u001b[1;36m379\u001b[0m/model.pt already downloaded                                          \n",
      "\u001b[34mINFO    \u001b[0m File models/Final_MetEp_NF/\u001b[33mepoch\u001b[0m=\u001b[1;36m389\u001b[0m/model.pt already downloaded                                          \n"
     ]
    },
    {
     "name": "stderr",
     "output_type": "stream",
     "text": [
      "Computing neighbors: 100%|██████████| 39/39 [19:05<00:00, 29.36s/it]\n",
      "Embeddings: 100%|\u001b[32m██████████\u001b[0m| 39/39 [10:26<00:00, 16.07s/it]\n"
     ]
    }
   ],
   "source": [
    "bmNF = getBenchmarkResultsEpochs(adata,\"models/Final_MetEp_NF/\",400,10)"
   ]
  },
  {
   "cell_type": "code",
   "execution_count": 19,
   "metadata": {},
   "outputs": [],
   "source": [
    "plotMetricsEpochsAll(bmSD,bmMG,bmVP,bmNF,395,10)"
   ]
  },
  {
   "cell_type": "code",
   "execution_count": 19,
   "metadata": {},
   "outputs": [],
   "source": [
    "plotMetricsEpochs(bmSD,395,\"StandardNormal\",10)"
   ]
  },
  {
   "cell_type": "code",
   "execution_count": 8,
   "metadata": {},
   "outputs": [],
   "source": [
    "plotMetricsEpochs(bmMG,395,\"MixtureOfGaussians\",10)"
   ]
  },
  {
   "cell_type": "code",
   "execution_count": 14,
   "metadata": {},
   "outputs": [],
   "source": [
    "plotMetricsEpochs(bmVP,395,\"Vamp\",10)"
   ]
  },
  {
   "cell_type": "code",
   "execution_count": 20,
   "metadata": {},
   "outputs": [],
   "source": [
    "plotMetricsEpochs(bmNF,395,\"NormalFlow\",10)"
   ]
  },
  {
   "cell_type": "code",
   "execution_count": 11,
   "metadata": {},
   "outputs": [
    {
     "name": "stdout",
     "output_type": "stream",
     "text": [
      "The tensorboard extension is already loaded. To reload it, use:\n",
      "  %reload_ext tensorboard\n"
     ]
    },
    {
     "data": {
      "text/plain": [
       "Reusing TensorBoard on port 6006 (pid 312444), started 0:00:39 ago. (Use '!kill 312444' to kill it.)"
      ]
     },
     "metadata": {},
     "output_type": "display_data"
    },
    {
     "data": {
      "text/html": [
       "\n",
       "      <iframe id=\"tensorboard-frame-d9bfb8b3439334fb\" width=\"100%\" height=\"800\" frameborder=\"0\">\n",
       "      </iframe>\n",
       "      <script>\n",
       "        (function() {\n",
       "          const frame = document.getElementById(\"tensorboard-frame-d9bfb8b3439334fb\");\n",
       "          const url = new URL(\"http://localhost\");\n",
       "          const port = 6006;\n",
       "          if (port) {\n",
       "            url.port = port;\n",
       "          }\n",
       "          frame.src = url;\n",
       "        })();\n",
       "      </script>\n",
       "    "
      ],
      "text/plain": [
       "<IPython.core.display.HTML object>"
      ]
     },
     "metadata": {},
     "output_type": "display_data"
    }
   ],
   "source": [
    "%load_ext tensorboard\n",
    "%tensorboard --logdir lightning_logs/"
   ]
  },
  {
   "cell_type": "code",
   "execution_count": null,
   "metadata": {},
   "outputs": [],
   "source": []
  }
 ],
 "metadata": {
  "kernelspec": {
   "display_name": "scvi-tools-dev-n",
   "language": "python",
   "name": "python3"
  },
  "language_info": {
   "codemirror_mode": {
    "name": "ipython",
    "version": 3
   },
   "file_extension": ".py",
   "mimetype": "text/x-python",
   "name": "python",
   "nbconvert_exporter": "python",
   "pygments_lexer": "ipython3",
   "version": "3.11.4"
  },
  "orig_nbformat": 4
 },
 "nbformat": 4,
 "nbformat_minor": 2
}
