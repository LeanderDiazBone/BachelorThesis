{
 "cells": [
  {
   "cell_type": "code",
   "execution_count": 1,
   "metadata": {},
   "outputs": [
    {
     "name": "stderr",
     "output_type": "stream",
     "text": [
      "/local/data/scvi-tools/scvi/_settings.py:63: UserWarning: Since v1.0.0, scvi-tools no longer uses a random seed by default. Run `scvi.settings.seed = 0` to reproduce results from previous versions.\n",
      "  self.seed = seed\n",
      "/local/data/scvi-tools/scvi/_settings.py:70: UserWarning: Setting `dl_pin_memory_gpu_training` is deprecated in v1.0 and will be removed in v1.1. Please pass in `pin_memory` to the data loaders instead.\n",
      "  self.dl_pin_memory_gpu_training = (\n",
      "/local/data/anaconda3/envs/BT/lib/python3.11/site-packages/numba/np/ufunc/dufunc.py:84: NumbaDeprecationWarning: \u001b[1mThe 'nopython' keyword argument was not supplied to the 'numba.jit' decorator. The implicit default value for this argument is currently False, but it will be changed to True in Numba 0.59.0. See https://numba.readthedocs.io/en/stable/reference/deprecation.html#deprecation-of-object-mode-fall-back-behaviour-when-using-jit for details.\u001b[0m\n",
      "  dispatcher = jit(_target='npyufunc',\n",
      "/local/data/anaconda3/envs/BT/lib/python3.11/site-packages/numba/np/ufunc/dufunc.py:84: NumbaDeprecationWarning: \u001b[1mThe 'nopython' keyword argument was not supplied to the 'numba.jit' decorator. The implicit default value for this argument is currently False, but it will be changed to True in Numba 0.59.0. See https://numba.readthedocs.io/en/stable/reference/deprecation.html#deprecation-of-object-mode-fall-back-behaviour-when-using-jit for details.\u001b[0m\n",
      "  dispatcher = jit(_target='npyufunc',\n",
      "/local/data/anaconda3/envs/BT/lib/python3.11/site-packages/numba/np/ufunc/dufunc.py:84: NumbaDeprecationWarning: \u001b[1mThe 'nopython' keyword argument was not supplied to the 'numba.jit' decorator. The implicit default value for this argument is currently False, but it will be changed to True in Numba 0.59.0. See https://numba.readthedocs.io/en/stable/reference/deprecation.html#deprecation-of-object-mode-fall-back-behaviour-when-using-jit for details.\u001b[0m\n",
      "  dispatcher = jit(_target='npyufunc',\n",
      "/local/data/anaconda3/envs/BT/lib/python3.11/site-packages/numba/np/ufunc/dufunc.py:84: NumbaDeprecationWarning: \u001b[1mThe 'nopython' keyword argument was not supplied to the 'numba.jit' decorator. The implicit default value for this argument is currently False, but it will be changed to True in Numba 0.59.0. See https://numba.readthedocs.io/en/stable/reference/deprecation.html#deprecation-of-object-mode-fall-back-behaviour-when-using-jit for details.\u001b[0m\n",
      "  dispatcher = jit(_target='npyufunc',\n",
      "/local/data/anaconda3/envs/BT/lib/python3.11/site-packages/umap/distances.py:1063: NumbaDeprecationWarning: \u001b[1mThe 'nopython' keyword argument was not supplied to the 'numba.jit' decorator. The implicit default value for this argument is currently False, but it will be changed to True in Numba 0.59.0. See https://numba.readthedocs.io/en/stable/reference/deprecation.html#deprecation-of-object-mode-fall-back-behaviour-when-using-jit for details.\u001b[0m\n",
      "/local/data/anaconda3/envs/BT/lib/python3.11/site-packages/umap/distances.py:1071: NumbaDeprecationWarning: \u001b[1mThe 'nopython' keyword argument was not supplied to the 'numba.jit' decorator. The implicit default value for this argument is currently False, but it will be changed to True in Numba 0.59.0. See https://numba.readthedocs.io/en/stable/reference/deprecation.html#deprecation-of-object-mode-fall-back-behaviour-when-using-jit for details.\u001b[0m\n",
      "/local/data/anaconda3/envs/BT/lib/python3.11/site-packages/umap/distances.py:1086: NumbaDeprecationWarning: \u001b[1mThe 'nopython' keyword argument was not supplied to the 'numba.jit' decorator. The implicit default value for this argument is currently False, but it will be changed to True in Numba 0.59.0. See https://numba.readthedocs.io/en/stable/reference/deprecation.html#deprecation-of-object-mode-fall-back-behaviour-when-using-jit for details.\u001b[0m\n",
      "/local/data/anaconda3/envs/BT/lib/python3.11/site-packages/umap/umap_.py:660: NumbaDeprecationWarning: \u001b[1mThe 'nopython' keyword argument was not supplied to the 'numba.jit' decorator. The implicit default value for this argument is currently False, but it will be changed to True in Numba 0.59.0. See https://numba.readthedocs.io/en/stable/reference/deprecation.html#deprecation-of-object-mode-fall-back-behaviour-when-using-jit for details.\u001b[0m\n",
      "/local/data/anaconda3/envs/BT/lib/python3.11/site-packages/numba/np/ufunc/dufunc.py:84: NumbaDeprecationWarning: \u001b[1mThe 'nopython' keyword argument was not supplied to the 'numba.jit' decorator. The implicit default value for this argument is currently False, but it will be changed to True in Numba 0.59.0. See https://numba.readthedocs.io/en/stable/reference/deprecation.html#deprecation-of-object-mode-fall-back-behaviour-when-using-jit for details.\u001b[0m\n",
      "/local/data/anaconda3/envs/BT/lib/python3.11/site-packages/numba/np/ufunc/dufunc.py:84: NumbaDeprecationWarning: \u001b[1mThe 'nopython' keyword argument was not supplied to the 'numba.jit' decorator. The implicit default value for this argument is currently False, but it will be changed to True in Numba 0.59.0. See https://numba.readthedocs.io/en/stable/reference/deprecation.html#deprecation-of-object-mode-fall-back-behaviour-when-using-jit for details.\u001b[0m\n",
      "/local/data/anaconda3/envs/BT/lib/python3.11/site-packages/numba/np/ufunc/dufunc.py:84: NumbaDeprecationWarning: \u001b[1mThe 'nopython' keyword argument was not supplied to the 'numba.jit' decorator. The implicit default value for this argument is currently False, but it will be changed to True in Numba 0.59.0. See https://numba.readthedocs.io/en/stable/reference/deprecation.html#deprecation-of-object-mode-fall-back-behaviour-when-using-jit for details.\u001b[0m\n",
      "/local/data/anaconda3/envs/BT/lib/python3.11/site-packages/umap/plot.py:203: NumbaDeprecationWarning: \u001b[1mThe 'nopython' keyword argument was not supplied to the 'numba.jit' decorator. The implicit default value for this argument is currently False, but it will be changed to True in Numba 0.59.0. See https://numba.readthedocs.io/en/stable/reference/deprecation.html#deprecation-of-object-mode-fall-back-behaviour-when-using-jit for details.\u001b[0m\n"
     ]
    }
   ],
   "source": [
    "import numpy as np\n",
    "import scanpy as sc\n",
    "import anndata\n",
    "import scvi\n",
    "from scib_metrics.benchmark import Benchmarker\n",
    "%matplotlib inline\n",
    "import torch\n",
    "from functions import *\n",
    "import scib_metrics"
   ]
  },
  {
   "cell_type": "code",
   "execution_count": 2,
   "metadata": {},
   "outputs": [],
   "source": [
    "adata = sc.read(\n",
    "    \"data/Immune_ALL_hum_mou.h5ad\"\n",
    ")"
   ]
  },
  {
   "cell_type": "code",
   "execution_count": 5,
   "metadata": {},
   "outputs": [
    {
     "data": {
      "text/plain": [
       "AnnData object with n_obs × n_vars = 97861 × 8135\n",
       "    obs: 'batch', 'chemistry', 'data_type', 'dpt_pseudotime', 'final_annotation', 'mt_frac', 'n_counts', 'n_genes', 'size_factors', 'species', 'study', 'tissue'\n",
       "    obsm: 'Scanorama'\n",
       "    layers: 'counts'"
      ]
     },
     "execution_count": 5,
     "metadata": {},
     "output_type": "execute_result"
    }
   ],
   "source": [
    "adata"
   ]
  },
  {
   "cell_type": "code",
   "execution_count": 4,
   "metadata": {},
   "outputs": [
    {
     "name": "stdout",
     "output_type": "stream",
     "text": [
      "Found 8135 genes among all datasets\n",
      "[[0.00000000e+00 0.00000000e+00 0.00000000e+00 0.00000000e+00\n",
      "  0.00000000e+00 4.98954287e-02 0.00000000e+00 0.00000000e+00\n",
      "  0.00000000e+00 0.00000000e+00 0.00000000e+00 0.00000000e+00\n",
      "  0.00000000e+00 0.00000000e+00 0.00000000e+00 1.36890951e-01\n",
      "  5.81929556e-03 2.01361052e-02 3.01449275e-02 8.76808417e-03\n",
      "  3.32917187e-03 3.26279482e-03 1.10567515e-01]\n",
      " [0.00000000e+00 0.00000000e+00 3.91504018e-01 1.73491517e-02\n",
      "  9.56754688e-03 0.00000000e+00 0.00000000e+00 0.00000000e+00\n",
      "  0.00000000e+00 0.00000000e+00 0.00000000e+00 0.00000000e+00\n",
      "  0.00000000e+00 0.00000000e+00 0.00000000e+00 0.00000000e+00\n",
      "  0.00000000e+00 0.00000000e+00 0.00000000e+00 0.00000000e+00\n",
      "  0.00000000e+00 0.00000000e+00 0.00000000e+00]\n",
      " [0.00000000e+00 0.00000000e+00 0.00000000e+00 8.96911299e-01\n",
      "  6.32384533e-01 0.00000000e+00 0.00000000e+00 0.00000000e+00\n",
      "  0.00000000e+00 0.00000000e+00 0.00000000e+00 0.00000000e+00\n",
      "  0.00000000e+00 0.00000000e+00 0.00000000e+00 0.00000000e+00\n",
      "  0.00000000e+00 0.00000000e+00 0.00000000e+00 0.00000000e+00\n",
      "  0.00000000e+00 0.00000000e+00 0.00000000e+00]\n",
      " [0.00000000e+00 0.00000000e+00 0.00000000e+00 0.00000000e+00\n",
      "  7.08378088e-01 0.00000000e+00 0.00000000e+00 0.00000000e+00\n",
      "  0.00000000e+00 0.00000000e+00 0.00000000e+00 0.00000000e+00\n",
      "  0.00000000e+00 0.00000000e+00 0.00000000e+00 0.00000000e+00\n",
      "  0.00000000e+00 0.00000000e+00 0.00000000e+00 0.00000000e+00\n",
      "  0.00000000e+00 0.00000000e+00 0.00000000e+00]\n",
      " [0.00000000e+00 0.00000000e+00 0.00000000e+00 0.00000000e+00\n",
      "  0.00000000e+00 0.00000000e+00 2.83768445e-03 0.00000000e+00\n",
      "  0.00000000e+00 0.00000000e+00 0.00000000e+00 0.00000000e+00\n",
      "  0.00000000e+00 0.00000000e+00 0.00000000e+00 3.86697602e-03\n",
      "  0.00000000e+00 0.00000000e+00 0.00000000e+00 0.00000000e+00\n",
      "  0.00000000e+00 0.00000000e+00 4.01174168e-02]\n",
      " [0.00000000e+00 0.00000000e+00 0.00000000e+00 0.00000000e+00\n",
      "  0.00000000e+00 0.00000000e+00 5.97550045e-04 0.00000000e+00\n",
      "  0.00000000e+00 0.00000000e+00 0.00000000e+00 0.00000000e+00\n",
      "  0.00000000e+00 0.00000000e+00 0.00000000e+00 4.78040036e-03\n",
      "  9.18836141e-04 4.48162534e-03 6.71304348e-01 2.49451995e-01\n",
      "  4.66387810e-01 3.40902301e-01 0.00000000e+00]\n",
      " [0.00000000e+00 0.00000000e+00 0.00000000e+00 0.00000000e+00\n",
      "  0.00000000e+00 0.00000000e+00 0.00000000e+00 6.32046916e-01\n",
      "  2.39689747e-01 2.13375796e-01 1.97480548e-01 6.53834403e-02\n",
      "  8.67346939e-02 2.04778157e-02 1.40845070e-02 0.00000000e+00\n",
      "  0.00000000e+00 0.00000000e+00 0.00000000e+00 0.00000000e+00\n",
      "  0.00000000e+00 0.00000000e+00 0.00000000e+00]\n",
      " [0.00000000e+00 0.00000000e+00 0.00000000e+00 0.00000000e+00\n",
      "  0.00000000e+00 0.00000000e+00 0.00000000e+00 0.00000000e+00\n",
      "  6.37677609e-01 9.55414013e-03 7.30270471e-01 2.29147571e-02\n",
      "  3.06122449e-02 6.82593857e-03 2.81690141e-03 0.00000000e+00\n",
      "  0.00000000e+00 0.00000000e+00 0.00000000e+00 0.00000000e+00\n",
      "  0.00000000e+00 0.00000000e+00 0.00000000e+00]\n",
      " [0.00000000e+00 0.00000000e+00 0.00000000e+00 0.00000000e+00\n",
      "  0.00000000e+00 0.00000000e+00 0.00000000e+00 0.00000000e+00\n",
      "  0.00000000e+00 0.00000000e+00 4.29788811e-01 3.05530095e-04\n",
      "  5.10204082e-03 0.00000000e+00 0.00000000e+00 0.00000000e+00\n",
      "  0.00000000e+00 0.00000000e+00 0.00000000e+00 4.38404209e-04\n",
      "  0.00000000e+00 0.00000000e+00 0.00000000e+00]\n",
      " [0.00000000e+00 0.00000000e+00 0.00000000e+00 0.00000000e+00\n",
      "  0.00000000e+00 0.00000000e+00 0.00000000e+00 0.00000000e+00\n",
      "  0.00000000e+00 0.00000000e+00 4.45859873e-02 9.74522293e-01\n",
      "  7.65306122e-02 1.26279863e-01 2.70700637e-01 0.00000000e+00\n",
      "  0.00000000e+00 0.00000000e+00 0.00000000e+00 0.00000000e+00\n",
      "  0.00000000e+00 0.00000000e+00 0.00000000e+00]\n",
      " [0.00000000e+00 0.00000000e+00 0.00000000e+00 0.00000000e+00\n",
      "  0.00000000e+00 0.00000000e+00 0.00000000e+00 0.00000000e+00\n",
      "  0.00000000e+00 0.00000000e+00 0.00000000e+00 1.92483960e-01\n",
      "  1.98979592e-01 5.46075085e-02 2.67605634e-02 3.86697602e-04\n",
      "  0.00000000e+00 0.00000000e+00 0.00000000e+00 0.00000000e+00\n",
      "  0.00000000e+00 0.00000000e+00 0.00000000e+00]\n",
      " [0.00000000e+00 0.00000000e+00 0.00000000e+00 0.00000000e+00\n",
      "  0.00000000e+00 0.00000000e+00 0.00000000e+00 0.00000000e+00\n",
      "  0.00000000e+00 0.00000000e+00 0.00000000e+00 0.00000000e+00\n",
      "  9.08163265e-01 8.80546075e-01 9.50704225e-01 0.00000000e+00\n",
      "  0.00000000e+00 0.00000000e+00 0.00000000e+00 0.00000000e+00\n",
      "  0.00000000e+00 0.00000000e+00 0.00000000e+00]\n",
      " [0.00000000e+00 0.00000000e+00 0.00000000e+00 0.00000000e+00\n",
      "  0.00000000e+00 0.00000000e+00 0.00000000e+00 0.00000000e+00\n",
      "  0.00000000e+00 0.00000000e+00 0.00000000e+00 0.00000000e+00\n",
      "  0.00000000e+00 9.14675768e-01 3.52040816e-01 0.00000000e+00\n",
      "  0.00000000e+00 0.00000000e+00 0.00000000e+00 0.00000000e+00\n",
      "  0.00000000e+00 0.00000000e+00 0.00000000e+00]\n",
      " [0.00000000e+00 0.00000000e+00 0.00000000e+00 0.00000000e+00\n",
      "  0.00000000e+00 0.00000000e+00 0.00000000e+00 0.00000000e+00\n",
      "  0.00000000e+00 0.00000000e+00 0.00000000e+00 0.00000000e+00\n",
      "  0.00000000e+00 0.00000000e+00 5.32423208e-01 0.00000000e+00\n",
      "  0.00000000e+00 0.00000000e+00 0.00000000e+00 1.02389078e-02\n",
      "  0.00000000e+00 0.00000000e+00 0.00000000e+00]\n",
      " [0.00000000e+00 0.00000000e+00 0.00000000e+00 0.00000000e+00\n",
      "  0.00000000e+00 0.00000000e+00 0.00000000e+00 0.00000000e+00\n",
      "  0.00000000e+00 0.00000000e+00 0.00000000e+00 0.00000000e+00\n",
      "  0.00000000e+00 0.00000000e+00 0.00000000e+00 0.00000000e+00\n",
      "  0.00000000e+00 0.00000000e+00 2.81690141e-03 0.00000000e+00\n",
      "  0.00000000e+00 0.00000000e+00 0.00000000e+00]\n",
      " [0.00000000e+00 0.00000000e+00 0.00000000e+00 0.00000000e+00\n",
      "  0.00000000e+00 0.00000000e+00 0.00000000e+00 0.00000000e+00\n",
      "  0.00000000e+00 0.00000000e+00 0.00000000e+00 0.00000000e+00\n",
      "  0.00000000e+00 0.00000000e+00 0.00000000e+00 0.00000000e+00\n",
      "  6.24129930e-01 8.94818252e-01 9.27536232e-03 2.63042525e-03\n",
      "  3.82854765e-02 7.34725445e-03 0.00000000e+00]\n",
      " [0.00000000e+00 0.00000000e+00 0.00000000e+00 0.00000000e+00\n",
      "  0.00000000e+00 0.00000000e+00 0.00000000e+00 0.00000000e+00\n",
      "  0.00000000e+00 0.00000000e+00 0.00000000e+00 0.00000000e+00\n",
      "  0.00000000e+00 0.00000000e+00 0.00000000e+00 0.00000000e+00\n",
      "  0.00000000e+00 5.83154671e-01 1.50724638e-02 3.06278714e-03\n",
      "  6.73813170e-03 8.26446281e-04 0.00000000e+00]\n",
      " [0.00000000e+00 0.00000000e+00 0.00000000e+00 0.00000000e+00\n",
      "  0.00000000e+00 0.00000000e+00 0.00000000e+00 0.00000000e+00\n",
      "  0.00000000e+00 0.00000000e+00 0.00000000e+00 0.00000000e+00\n",
      "  0.00000000e+00 0.00000000e+00 0.00000000e+00 0.00000000e+00\n",
      "  0.00000000e+00 0.00000000e+00 5.39130435e-02 1.35905305e-02\n",
      "  8.44504021e-02 2.97587131e-02 0.00000000e+00]\n",
      " [0.00000000e+00 0.00000000e+00 0.00000000e+00 0.00000000e+00\n",
      "  0.00000000e+00 0.00000000e+00 0.00000000e+00 0.00000000e+00\n",
      "  0.00000000e+00 0.00000000e+00 0.00000000e+00 0.00000000e+00\n",
      "  0.00000000e+00 0.00000000e+00 0.00000000e+00 0.00000000e+00\n",
      "  0.00000000e+00 0.00000000e+00 0.00000000e+00 7.13623188e-01\n",
      "  5.50144928e-01 3.83768116e-01 0.00000000e+00]\n",
      " [0.00000000e+00 0.00000000e+00 0.00000000e+00 0.00000000e+00\n",
      "  0.00000000e+00 0.00000000e+00 0.00000000e+00 0.00000000e+00\n",
      "  0.00000000e+00 0.00000000e+00 0.00000000e+00 0.00000000e+00\n",
      "  0.00000000e+00 0.00000000e+00 0.00000000e+00 0.00000000e+00\n",
      "  0.00000000e+00 0.00000000e+00 0.00000000e+00 0.00000000e+00\n",
      "  4.79614204e-01 3.17404647e-01 1.95694716e-03]\n",
      " [0.00000000e+00 0.00000000e+00 0.00000000e+00 0.00000000e+00\n",
      "  0.00000000e+00 0.00000000e+00 0.00000000e+00 0.00000000e+00\n",
      "  0.00000000e+00 0.00000000e+00 0.00000000e+00 0.00000000e+00\n",
      "  0.00000000e+00 0.00000000e+00 0.00000000e+00 0.00000000e+00\n",
      "  0.00000000e+00 0.00000000e+00 0.00000000e+00 0.00000000e+00\n",
      "  0.00000000e+00 8.87224303e-01 0.00000000e+00]\n",
      " [0.00000000e+00 0.00000000e+00 0.00000000e+00 0.00000000e+00\n",
      "  0.00000000e+00 0.00000000e+00 0.00000000e+00 0.00000000e+00\n",
      "  0.00000000e+00 0.00000000e+00 0.00000000e+00 0.00000000e+00\n",
      "  0.00000000e+00 0.00000000e+00 0.00000000e+00 0.00000000e+00\n",
      "  0.00000000e+00 0.00000000e+00 0.00000000e+00 0.00000000e+00\n",
      "  0.00000000e+00 0.00000000e+00 9.78473581e-04]\n",
      " [0.00000000e+00 0.00000000e+00 0.00000000e+00 0.00000000e+00\n",
      "  0.00000000e+00 0.00000000e+00 0.00000000e+00 0.00000000e+00\n",
      "  0.00000000e+00 0.00000000e+00 0.00000000e+00 0.00000000e+00\n",
      "  0.00000000e+00 0.00000000e+00 0.00000000e+00 0.00000000e+00\n",
      "  0.00000000e+00 0.00000000e+00 0.00000000e+00 0.00000000e+00\n",
      "  0.00000000e+00 0.00000000e+00 0.00000000e+00]]\n",
      "Processing datasets (9, 11)\n",
      "Processing datasets (11, 14)\n",
      "Processing datasets (12, 13)\n",
      "Processing datasets (11, 12)\n",
      "Processing datasets (2, 3)\n",
      "Processing datasets (15, 17)\n",
      "Processing datasets (20, 21)\n",
      "Processing datasets (11, 13)\n",
      "Processing datasets (7, 10)\n",
      "Processing datasets (18, 19)\n",
      "Processing datasets (3, 4)\n",
      "Processing datasets (5, 18)\n",
      "Processing datasets (7, 8)\n",
      "Processing datasets (2, 4)\n",
      "Processing datasets (6, 7)\n",
      "Processing datasets (15, 16)\n",
      "Processing datasets (16, 17)\n",
      "Processing datasets (18, 20)\n",
      "Processing datasets (13, 14)\n",
      "Processing datasets (19, 20)\n",
      "Processing datasets (5, 20)\n",
      "Processing datasets (8, 10)\n",
      "Processing datasets (1, 2)\n",
      "Processing datasets (18, 21)\n",
      "Processing datasets (12, 14)\n",
      "Processing datasets (5, 21)\n",
      "Processing datasets (19, 21)\n",
      "Processing datasets (9, 14)\n",
      "Processing datasets (5, 19)\n",
      "Processing datasets (6, 8)\n",
      "Processing datasets (6, 9)\n",
      "Processing datasets (10, 12)\n",
      "Processing datasets (6, 10)\n",
      "Processing datasets (10, 11)\n",
      "Processing datasets (0, 15)\n",
      "Processing datasets (9, 13)\n",
      "Processing datasets (0, 22)\n"
     ]
    }
   ],
   "source": [
    "scanoramaPredict(adata)"
   ]
  },
  {
   "cell_type": "code",
   "execution_count": 7,
   "metadata": {},
   "outputs": [
    {
     "name": "stderr",
     "output_type": "stream",
     "text": [
      "INFO:jax._src.xla_bridge:Unable to initialize backend 'cuda': module 'jaxlib.xla_extension' has no attribute 'GpuAllocatorConfig'\n",
      "INFO:jax._src.xla_bridge:Unable to initialize backend 'rocm': module 'jaxlib.xla_extension' has no attribute 'GpuAllocatorConfig'\n",
      "INFO:jax._src.xla_bridge:Unable to initialize backend 'tpu': INVALID_ARGUMENT: TpuPlatform is not available.\n",
      "WARNING:jax._src.xla_bridge:No GPU/TPU found, falling back to CPU. (Set TF_CPP_MIN_LOG_LEVEL=0 and rerun for more info.)\n",
      "GPU available: True (cuda), used: True\n",
      "TPU available: False, using: 0 TPU cores\n",
      "IPU available: False, using: 0 IPUs\n",
      "HPU available: False, using: 0 HPUs\n",
      "LOCAL_RANK: 0 - CUDA_VISIBLE_DEVICES: [0]\n"
     ]
    },
    {
     "name": "stdout",
     "output_type": "stream",
     "text": [
      "Epoch 200/200: 100%|██████████| 200/200 [26:29<00:00, 11.64s/it, v_num=1, train_loss_step=3.71e+3, train_loss_epoch=3.79e+3]"
     ]
    },
    {
     "name": "stderr",
     "output_type": "stream",
     "text": [
      "`Trainer.fit` stopped: `max_epochs=200` reached.\n"
     ]
    },
    {
     "name": "stdout",
     "output_type": "stream",
     "text": [
      "Epoch 200/200: 100%|██████████| 200/200 [26:29<00:00,  7.95s/it, v_num=1, train_loss_step=3.71e+3, train_loss_epoch=3.79e+3]\n"
     ]
    }
   ],
   "source": [
    "sdnormalAdata, vaeSD = trainModelBenchmark(adata, \"sdnormal\", max_epochs=200)"
   ]
  },
  {
   "cell_type": "code",
   "execution_count": 10,
   "metadata": {},
   "outputs": [
    {
     "name": "stderr",
     "output_type": "stream",
     "text": [
      "GPU available: True (cuda), used: True\n",
      "TPU available: False, using: 0 TPU cores\n",
      "IPU available: False, using: 0 IPUs\n",
      "HPU available: False, using: 0 HPUs\n",
      "LOCAL_RANK: 0 - CUDA_VISIBLE_DEVICES: [0]\n"
     ]
    },
    {
     "name": "stdout",
     "output_type": "stream",
     "text": [
      "Epoch 115/200:  57%|█████▋    | 114/200 [18:50<11:23,  7.95s/it, v_num=1, train_loss_step=5.34e+3, train_loss_epoch=3.79e+3]"
     ]
    }
   ],
   "source": [
    "mogAdata, vaeMG = trainModelBenchmark(adata, \"mixofgaus\", max_epochs=200)"
   ]
  },
  {
   "cell_type": "code",
   "execution_count": null,
   "metadata": {},
   "outputs": [],
   "source": [
    "vampAdata, vaeVP = trainModelBenchmark(adata, \"vamp\", max_epochs=200)"
   ]
  },
  {
   "cell_type": "code",
   "execution_count": 9,
   "metadata": {},
   "outputs": [
    {
     "name": "stderr",
     "output_type": "stream",
     "text": [
      "Computing neighbors: 100%|██████████| 2/2 [03:35<00:00, 107.88s/it]\n",
      "Embeddings:   0%|\u001b[32m          \u001b[0m| 0/2 [00:00<?, ?it/s]INFO:root:isolated labels: no more than 1 batches per label\n",
      "INFO:root:T cells: 0.47859971411526203\n",
      "Embeddings:   0%|\u001b[32m          \u001b[0m| 0/2 [22:12<?, ?it/s]\n"
     ]
    },
    {
     "ename": "KeyboardInterrupt",
     "evalue": "",
     "output_type": "error",
     "traceback": [
      "\u001b[0;31m---------------------------------------------------------------------------\u001b[0m",
      "\u001b[0;31mKeyboardInterrupt\u001b[0m                         Traceback (most recent call last)",
      "Cell \u001b[0;32mIn[9], line 1\u001b[0m\n\u001b[0;32m----> 1\u001b[0m plotBenchmarkResults(adata\u001b[39m=\u001b[39;49msdnormalAdata,keys\u001b[39m=\u001b[39;49m[\u001b[39m\"\u001b[39;49m\u001b[39mScanorama\u001b[39;49m\u001b[39m\"\u001b[39;49m,\u001b[39m\"\u001b[39;49m\u001b[39mscVI\u001b[39;49m\u001b[39m\"\u001b[39;49m],label_key\u001b[39m=\u001b[39;49m\u001b[39m\"\u001b[39;49m\u001b[39mfinal_annotation\u001b[39;49m\u001b[39m\"\u001b[39;49m)\n",
      "File \u001b[0;32m/local/data/BachelorThesis/functions.py:174\u001b[0m, in \u001b[0;36mplotBenchmarkResults\u001b[0;34m(adata, keys, label_key, batch_key)\u001b[0m\n\u001b[1;32m    165\u001b[0m     keys \u001b[39m=\u001b[39m [\u001b[39m\"\u001b[39m\u001b[39mUnintegrated\u001b[39m\u001b[39m\"\u001b[39m, \u001b[39m\"\u001b[39m\u001b[39mLIGER\u001b[39m\u001b[39m\"\u001b[39m, \u001b[39m\"\u001b[39m\u001b[39mScanorama\u001b[39m\u001b[39m\"\u001b[39m, \u001b[39m\"\u001b[39m\u001b[39mscVI\u001b[39m\u001b[39m\"\u001b[39m]\n\u001b[1;32m    166\u001b[0m bm \u001b[39m=\u001b[39m Benchmarker(\n\u001b[1;32m    167\u001b[0m adata,\n\u001b[1;32m    168\u001b[0m batch_key\u001b[39m=\u001b[39mbatch_key,\n\u001b[0;32m   (...)\u001b[0m\n\u001b[1;32m    172\u001b[0m n_jobs\u001b[39m=\u001b[39m\u001b[39m6\u001b[39m,\n\u001b[1;32m    173\u001b[0m )\n\u001b[0;32m--> 174\u001b[0m bm\u001b[39m.\u001b[39;49mbenchmark()\n\u001b[1;32m    175\u001b[0m bm\u001b[39m.\u001b[39mplot_results_table(min_max_scale\u001b[39m=\u001b[39m\u001b[39mFalse\u001b[39;00m)\n",
      "File \u001b[0;32m/local/data/anaconda3/envs/BT/lib/python3.11/site-packages/scib_metrics/benchmark/_core.py:226\u001b[0m, in \u001b[0;36mBenchmarker.benchmark\u001b[0;34m(self)\u001b[0m\n\u001b[1;32m    223\u001b[0m \u001b[39mif\u001b[39;00m \u001b[39misinstance\u001b[39m(use_metric_or_kwargs, \u001b[39mdict\u001b[39m):\n\u001b[1;32m    224\u001b[0m     \u001b[39m# Kwargs in this case\u001b[39;00m\n\u001b[1;32m    225\u001b[0m     metric_fn \u001b[39m=\u001b[39m partial(metric_fn, \u001b[39m*\u001b[39m\u001b[39m*\u001b[39muse_metric_or_kwargs)\n\u001b[0;32m--> 226\u001b[0m metric_value \u001b[39m=\u001b[39m \u001b[39mgetattr\u001b[39;49m(MetricAnnDataAPI, metric_name)(ad, metric_fn)\n\u001b[1;32m    227\u001b[0m \u001b[39m# nmi/ari metrics return a dict\u001b[39;00m\n\u001b[1;32m    228\u001b[0m \u001b[39mif\u001b[39;00m \u001b[39misinstance\u001b[39m(metric_value, \u001b[39mdict\u001b[39m):\n",
      "File \u001b[0;32m/local/data/anaconda3/envs/BT/lib/python3.11/site-packages/scib_metrics/benchmark/_core.py:87\u001b[0m, in \u001b[0;36mMetricAnnDataAPI.<lambda>\u001b[0;34m(ad, fn)\u001b[0m\n\u001b[1;32m     85\u001b[0m nmi_ari_cluster_labels_leiden \u001b[39m=\u001b[39m \u001b[39mlambda\u001b[39;00m ad, fn: fn(ad\u001b[39m.\u001b[39mobsp[\u001b[39m\"\u001b[39m\u001b[39m15_connectivities\u001b[39m\u001b[39m\"\u001b[39m], ad\u001b[39m.\u001b[39mobs[_LABELS])\n\u001b[1;32m     86\u001b[0m nmi_ari_cluster_labels_kmeans \u001b[39m=\u001b[39m \u001b[39mlambda\u001b[39;00m ad, fn: fn(ad\u001b[39m.\u001b[39mX, ad\u001b[39m.\u001b[39mobs[_LABELS])\n\u001b[0;32m---> 87\u001b[0m silhouette_label \u001b[39m=\u001b[39m \u001b[39mlambda\u001b[39;00m ad, fn: fn(ad\u001b[39m.\u001b[39;49mX, ad\u001b[39m.\u001b[39;49mobs[_LABELS])\n\u001b[1;32m     88\u001b[0m clisi_knn \u001b[39m=\u001b[39m \u001b[39mlambda\u001b[39;00m ad, fn: fn(ad\u001b[39m.\u001b[39mobsp[\u001b[39m\"\u001b[39m\u001b[39m90_distances\u001b[39m\u001b[39m\"\u001b[39m], ad\u001b[39m.\u001b[39mobs[_LABELS])\n\u001b[1;32m     89\u001b[0m graph_connectivity \u001b[39m=\u001b[39m \u001b[39mlambda\u001b[39;00m ad, fn: fn(ad\u001b[39m.\u001b[39mobsp[\u001b[39m\"\u001b[39m\u001b[39m15_distances\u001b[39m\u001b[39m\"\u001b[39m], ad\u001b[39m.\u001b[39mobs[_LABELS])\n",
      "File \u001b[0;32m/local/data/anaconda3/envs/BT/lib/python3.11/site-packages/scib_metrics/_silhouette.py:25\u001b[0m, in \u001b[0;36msilhouette_label\u001b[0;34m(X, labels, rescale, chunk_size)\u001b[0m\n\u001b[1;32m      7\u001b[0m \u001b[39mdef\u001b[39;00m \u001b[39msilhouette_label\u001b[39m(X: np\u001b[39m.\u001b[39mndarray, labels: np\u001b[39m.\u001b[39mndarray, rescale: \u001b[39mbool\u001b[39m \u001b[39m=\u001b[39m \u001b[39mTrue\u001b[39;00m, chunk_size: \u001b[39mint\u001b[39m \u001b[39m=\u001b[39m \u001b[39m256\u001b[39m) \u001b[39m-\u001b[39m\u001b[39m>\u001b[39m \u001b[39mfloat\u001b[39m:\n\u001b[1;32m      8\u001b[0m \u001b[39m    \u001b[39m\u001b[39m\"\"\"Average silhouette width (ASW) :cite:p:`luecken2022benchmarking`.\u001b[39;00m\n\u001b[1;32m      9\u001b[0m \n\u001b[1;32m     10\u001b[0m \u001b[39m    Parameters\u001b[39;00m\n\u001b[0;32m   (...)\u001b[0m\n\u001b[1;32m     23\u001b[0m \u001b[39m    silhouette score\u001b[39;00m\n\u001b[1;32m     24\u001b[0m \u001b[39m    \"\"\"\u001b[39;00m\n\u001b[0;32m---> 25\u001b[0m     asw \u001b[39m=\u001b[39m np\u001b[39m.\u001b[39mmean(silhouette_samples(X, labels, chunk_size\u001b[39m=\u001b[39;49mchunk_size))\n\u001b[1;32m     26\u001b[0m     \u001b[39mif\u001b[39;00m rescale:\n\u001b[1;32m     27\u001b[0m         asw \u001b[39m=\u001b[39m (asw \u001b[39m+\u001b[39m \u001b[39m1\u001b[39m) \u001b[39m/\u001b[39m \u001b[39m2\u001b[39m\n",
      "File \u001b[0;32m/local/data/anaconda3/envs/BT/lib/python3.11/site-packages/scib_metrics/utils/_silhouette.py:102\u001b[0m, in \u001b[0;36msilhouette_samples\u001b[0;34m(X, labels, chunk_size)\u001b[0m\n\u001b[1;32m    100\u001b[0m label_freqs \u001b[39m=\u001b[39m jnp\u001b[39m.\u001b[39mbincount(labels)\n\u001b[1;32m    101\u001b[0m reduce_fn \u001b[39m=\u001b[39m partial(_silhouette_reduce, labels\u001b[39m=\u001b[39mlabels, label_freqs\u001b[39m=\u001b[39mlabel_freqs)\n\u001b[0;32m--> 102\u001b[0m results \u001b[39m=\u001b[39m _pairwise_distances_chunked(X, chunk_size\u001b[39m=\u001b[39;49mchunk_size, reduce_fn\u001b[39m=\u001b[39;49mreduce_fn)\n\u001b[1;32m    103\u001b[0m intra_clust_dists, inter_clust_dists \u001b[39m=\u001b[39m results\n\u001b[1;32m    105\u001b[0m denom \u001b[39m=\u001b[39m jnp\u001b[39m.\u001b[39mtake(label_freqs \u001b[39m-\u001b[39m \u001b[39m1\u001b[39m, labels, mode\u001b[39m=\u001b[39m\u001b[39m\"\u001b[39m\u001b[39mclip\u001b[39m\u001b[39m\"\u001b[39m)\n",
      "File \u001b[0;32m/local/data/anaconda3/envs/BT/lib/python3.11/site-packages/scib_metrics/utils/_silhouette.py:70\u001b[0m, in \u001b[0;36m_pairwise_distances_chunked\u001b[0;34m(X, chunk_size, reduce_fn)\u001b[0m\n\u001b[1;32m     68\u001b[0m start \u001b[39m=\u001b[39m i \u001b[39m*\u001b[39m chunk_size\n\u001b[1;32m     69\u001b[0m end \u001b[39m=\u001b[39m \u001b[39mmin\u001b[39m((i \u001b[39m+\u001b[39m \u001b[39m1\u001b[39m) \u001b[39m*\u001b[39m chunk_size, n_samples)\n\u001b[0;32m---> 70\u001b[0m intra_cluster_dists, inter_cluster_dists \u001b[39m=\u001b[39m reduce_fn(cdist(X[start:end], X), start\u001b[39m=\u001b[39mstart)\n\u001b[1;32m     71\u001b[0m intra_dists_all\u001b[39m.\u001b[39mappend(intra_cluster_dists)\n\u001b[1;32m     72\u001b[0m inter_dists_all\u001b[39m.\u001b[39mappend(inter_cluster_dists)\n",
      "\u001b[0;31mKeyboardInterrupt\u001b[0m: "
     ]
    }
   ],
   "source": [
    "plotBenchmarkResults(adata=sdnormalAdata,keys=[\"Scanorama\",\"scVI\"],label_key=\"final_annotation\")"
   ]
  }
 ],
 "metadata": {
  "kernelspec": {
   "display_name": "Python 3",
   "language": "python",
   "name": "python3"
  },
  "language_info": {
   "codemirror_mode": {
    "name": "ipython",
    "version": 3
   },
   "file_extension": ".py",
   "mimetype": "text/x-python",
   "name": "python",
   "nbconvert_exporter": "python",
   "pygments_lexer": "ipython3",
   "version": "3.11.4"
  },
  "orig_nbformat": 4
 },
 "nbformat": 4,
 "nbformat_minor": 2
}
