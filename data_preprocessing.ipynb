{
 "cells": [
  {
   "cell_type": "code",
   "execution_count": 1,
   "metadata": {},
   "outputs": [
    {
     "name": "stderr",
     "output_type": "stream",
     "text": [
      "/local/data/scvi-tools/scvi/_settings.py:63: UserWarning: Since v1.0.0, scvi-tools no longer uses a random seed by default. Run `scvi.settings.seed = 0` to reproduce results from previous versions.\n",
      "  self.seed = seed\n",
      "/local/data/scvi-tools/scvi/_settings.py:70: UserWarning: Setting `dl_pin_memory_gpu_training` is deprecated in v1.0 and will be removed in v1.1. Please pass in `pin_memory` to the data loaders instead.\n",
      "  self.dl_pin_memory_gpu_training = (\n",
      "/local/data/anaconda3/envs/BT/lib/python3.11/site-packages/numba/np/ufunc/dufunc.py:84: NumbaDeprecationWarning: \u001b[1mThe 'nopython' keyword argument was not supplied to the 'numba.jit' decorator. The implicit default value for this argument is currently False, but it will be changed to True in Numba 0.59.0. See https://numba.readthedocs.io/en/stable/reference/deprecation.html#deprecation-of-object-mode-fall-back-behaviour-when-using-jit for details.\u001b[0m\n",
      "  dispatcher = jit(_target='npyufunc',\n",
      "/local/data/anaconda3/envs/BT/lib/python3.11/site-packages/numba/np/ufunc/dufunc.py:84: NumbaDeprecationWarning: \u001b[1mThe 'nopython' keyword argument was not supplied to the 'numba.jit' decorator. The implicit default value for this argument is currently False, but it will be changed to True in Numba 0.59.0. See https://numba.readthedocs.io/en/stable/reference/deprecation.html#deprecation-of-object-mode-fall-back-behaviour-when-using-jit for details.\u001b[0m\n",
      "  dispatcher = jit(_target='npyufunc',\n",
      "/local/data/anaconda3/envs/BT/lib/python3.11/site-packages/numba/np/ufunc/dufunc.py:84: NumbaDeprecationWarning: \u001b[1mThe 'nopython' keyword argument was not supplied to the 'numba.jit' decorator. The implicit default value for this argument is currently False, but it will be changed to True in Numba 0.59.0. See https://numba.readthedocs.io/en/stable/reference/deprecation.html#deprecation-of-object-mode-fall-back-behaviour-when-using-jit for details.\u001b[0m\n",
      "  dispatcher = jit(_target='npyufunc',\n",
      "/local/data/anaconda3/envs/BT/lib/python3.11/site-packages/numba/np/ufunc/dufunc.py:84: NumbaDeprecationWarning: \u001b[1mThe 'nopython' keyword argument was not supplied to the 'numba.jit' decorator. The implicit default value for this argument is currently False, but it will be changed to True in Numba 0.59.0. See https://numba.readthedocs.io/en/stable/reference/deprecation.html#deprecation-of-object-mode-fall-back-behaviour-when-using-jit for details.\u001b[0m\n",
      "  dispatcher = jit(_target='npyufunc',\n",
      "/local/data/anaconda3/envs/BT/lib/python3.11/site-packages/umap/distances.py:1063: NumbaDeprecationWarning: \u001b[1mThe 'nopython' keyword argument was not supplied to the 'numba.jit' decorator. The implicit default value for this argument is currently False, but it will be changed to True in Numba 0.59.0. See https://numba.readthedocs.io/en/stable/reference/deprecation.html#deprecation-of-object-mode-fall-back-behaviour-when-using-jit for details.\u001b[0m\n",
      "/local/data/anaconda3/envs/BT/lib/python3.11/site-packages/umap/distances.py:1071: NumbaDeprecationWarning: \u001b[1mThe 'nopython' keyword argument was not supplied to the 'numba.jit' decorator. The implicit default value for this argument is currently False, but it will be changed to True in Numba 0.59.0. See https://numba.readthedocs.io/en/stable/reference/deprecation.html#deprecation-of-object-mode-fall-back-behaviour-when-using-jit for details.\u001b[0m\n",
      "/local/data/anaconda3/envs/BT/lib/python3.11/site-packages/umap/distances.py:1086: NumbaDeprecationWarning: \u001b[1mThe 'nopython' keyword argument was not supplied to the 'numba.jit' decorator. The implicit default value for this argument is currently False, but it will be changed to True in Numba 0.59.0. See https://numba.readthedocs.io/en/stable/reference/deprecation.html#deprecation-of-object-mode-fall-back-behaviour-when-using-jit for details.\u001b[0m\n",
      "/local/data/anaconda3/envs/BT/lib/python3.11/site-packages/umap/umap_.py:660: NumbaDeprecationWarning: \u001b[1mThe 'nopython' keyword argument was not supplied to the 'numba.jit' decorator. The implicit default value for this argument is currently False, but it will be changed to True in Numba 0.59.0. See https://numba.readthedocs.io/en/stable/reference/deprecation.html#deprecation-of-object-mode-fall-back-behaviour-when-using-jit for details.\u001b[0m\n",
      "2023-07-27 11:43:54.143536: W tensorflow/compiler/tf2tensorrt/utils/py_utils.cc:38] TF-TRT Warning: Could not find TensorRT\n",
      "/local/data/anaconda3/envs/BT/lib/python3.11/site-packages/numba/np/ufunc/dufunc.py:84: NumbaDeprecationWarning: \u001b[1mThe 'nopython' keyword argument was not supplied to the 'numba.jit' decorator. The implicit default value for this argument is currently False, but it will be changed to True in Numba 0.59.0. See https://numba.readthedocs.io/en/stable/reference/deprecation.html#deprecation-of-object-mode-fall-back-behaviour-when-using-jit for details.\u001b[0m\n",
      "/local/data/anaconda3/envs/BT/lib/python3.11/site-packages/numba/np/ufunc/dufunc.py:84: NumbaDeprecationWarning: \u001b[1mThe 'nopython' keyword argument was not supplied to the 'numba.jit' decorator. The implicit default value for this argument is currently False, but it will be changed to True in Numba 0.59.0. See https://numba.readthedocs.io/en/stable/reference/deprecation.html#deprecation-of-object-mode-fall-back-behaviour-when-using-jit for details.\u001b[0m\n",
      "/local/data/anaconda3/envs/BT/lib/python3.11/site-packages/numba/np/ufunc/dufunc.py:84: NumbaDeprecationWarning: \u001b[1mThe 'nopython' keyword argument was not supplied to the 'numba.jit' decorator. The implicit default value for this argument is currently False, but it will be changed to True in Numba 0.59.0. See https://numba.readthedocs.io/en/stable/reference/deprecation.html#deprecation-of-object-mode-fall-back-behaviour-when-using-jit for details.\u001b[0m\n",
      "/local/data/anaconda3/envs/BT/lib/python3.11/site-packages/umap/plot.py:203: NumbaDeprecationWarning: \u001b[1mThe 'nopython' keyword argument was not supplied to the 'numba.jit' decorator. The implicit default value for this argument is currently False, but it will be changed to True in Numba 0.59.0. See https://numba.readthedocs.io/en/stable/reference/deprecation.html#deprecation-of-object-mode-fall-back-behaviour-when-using-jit for details.\u001b[0m\n"
     ]
    }
   ],
   "source": [
    "import numpy as np\n",
    "import scanpy as sc\n",
    "import anndata\n",
    "import scvi\n",
    "from scib_metrics.benchmark import Benchmarker\n",
    "import torch\n",
    "import scib_metrics\n",
    "from functions import *"
   ]
  },
  {
   "cell_type": "code",
   "execution_count": null,
   "metadata": {},
   "outputs": [],
   "source": [
    "adata = sc.read(\n",
    "    \"data/lung_atlas.h5ad\",\n",
    "    backup_url=\"https://figshare.com/ndownloader/files/24539942\",\n",
    ")\n",
    "sc.pp.highly_variable_genes(adata, n_top_genes=4000, flavor=\"cell_ranger\", batch_key=\"batch\")\n",
    "sc.tl.pca(adata, n_comps=30, use_highly_variable=True)\n",
    "adata = adata[:, adata.var.highly_variable].copy()\n",
    "adata.obsm[\"Unintegrated\"] = adata.obsm[\"X_pca\"]\n",
    "scanoramaPredict(adata)\n",
    "adata.write_h5ad(filename=\"data/adataLung4.h5ad\")"
   ]
  },
  {
   "cell_type": "code",
   "execution_count": null,
   "metadata": {},
   "outputs": [],
   "source": [
    "adata = sc.read(\n",
    "    \"data/human_pancreas_norm_complexBatch.h5ad\"\n",
    ")\n",
    "sc.pp.highly_variable_genes(adata, n_top_genes=4000, flavor=\"cell_ranger\", batch_key=\"tech\")\n",
    "sc.tl.pca(adata, n_comps=30, use_highly_variable=True)\n",
    "adata = adata[:, adata.var.highly_variable].copy()\n",
    "adata.obsm[\"Unintegrated\"] = adata.obsm[\"X_pca\"]\n",
    "scanoramaPredict(adata,batch_label=\"tech\")\n",
    "adata.write_h5ad(filename=\"data/adataHumPan4.h5ad\")"
   ]
  },
  {
   "cell_type": "code",
   "execution_count": null,
   "metadata": {},
   "outputs": [],
   "source": [
    "adata = sc.read(\n",
    "    \"data/Immune_ALL_human.h5ad\"\n",
    ")\n",
    "sc.pp.highly_variable_genes(adata, n_top_genes=4000, flavor=\"cell_ranger\", batch_key=\"batch\")\n",
    "sc.tl.pca(adata, n_comps=30, use_highly_variable=True)\n",
    "adata = adata[:, adata.var.highly_variable].copy()\n",
    "adata.obsm[\"Unintegrated\"] = adata.obsm[\"X_pca\"]\n",
    "scanoramaPredict(adata)\n",
    "adata.write_h5ad(filename=\"data/adataImmHum4.h5ad\")"
   ]
  },
  {
   "cell_type": "code",
   "execution_count": 2,
   "metadata": {},
   "outputs": [
    {
     "name": "stdout",
     "output_type": "stream",
     "text": [
      "\u001b[34mINFO    \u001b[0m File ..\u001b[35m/data/\u001b[0m\u001b[95mbrain_large.h5\u001b[0m already downloaded                                                            \n",
      "\u001b[34mINFO    \u001b[0m Preprocessing Brain Large data                                                                            \n",
      "../data/brain_large.h5\n",
      "\u001b[34mINFO    \u001b[0m loaded \u001b[1;36m100000\u001b[0m \u001b[35m/\u001b[0m \u001b[1;36m1306127\u001b[0m cells                                                                             \n",
      "\u001b[34mINFO    \u001b[0m loaded \u001b[1;36m200000\u001b[0m \u001b[35m/\u001b[0m \u001b[1;36m1306127\u001b[0m cells                                                                             \n",
      "\u001b[34mINFO    \u001b[0m loaded \u001b[1;36m300000\u001b[0m \u001b[35m/\u001b[0m \u001b[1;36m1306127\u001b[0m cells                                                                             \n",
      "\u001b[34mINFO    \u001b[0m loaded \u001b[1;36m400000\u001b[0m \u001b[35m/\u001b[0m \u001b[1;36m1306127\u001b[0m cells                                                                             \n",
      "\u001b[34mINFO    \u001b[0m loaded \u001b[1;36m500000\u001b[0m \u001b[35m/\u001b[0m \u001b[1;36m1306127\u001b[0m cells                                                                             \n",
      "\u001b[34mINFO    \u001b[0m loaded \u001b[1;36m600000\u001b[0m \u001b[35m/\u001b[0m \u001b[1;36m1306127\u001b[0m cells                                                                             \n",
      "\u001b[34mINFO    \u001b[0m loaded \u001b[1;36m700000\u001b[0m \u001b[35m/\u001b[0m \u001b[1;36m1306127\u001b[0m cells                                                                             \n",
      "\u001b[34mINFO    \u001b[0m loaded \u001b[1;36m800000\u001b[0m \u001b[35m/\u001b[0m \u001b[1;36m1306127\u001b[0m cells                                                                             \n",
      "\u001b[34mINFO    \u001b[0m loaded \u001b[1;36m900000\u001b[0m \u001b[35m/\u001b[0m \u001b[1;36m1306127\u001b[0m cells                                                                             \n",
      "\u001b[34mINFO    \u001b[0m loaded \u001b[1;36m1000000\u001b[0m \u001b[35m/\u001b[0m \u001b[1;36m1306127\u001b[0m cells                                                                            \n",
      "\u001b[34mINFO    \u001b[0m loaded \u001b[1;36m1100000\u001b[0m \u001b[35m/\u001b[0m \u001b[1;36m1306127\u001b[0m cells                                                                            \n",
      "\u001b[34mINFO    \u001b[0m loaded \u001b[1;36m1200000\u001b[0m \u001b[35m/\u001b[0m \u001b[1;36m1306127\u001b[0m cells                                                                            \n",
      "\u001b[34mINFO    \u001b[0m loaded \u001b[1;36m1300000\u001b[0m \u001b[35m/\u001b[0m \u001b[1;36m1306127\u001b[0m cells                                                                            \n",
      "\u001b[34mINFO    \u001b[0m loaded \u001b[1;36m1306127\u001b[0m \u001b[35m/\u001b[0m \u001b[1;36m1306127\u001b[0m cells                                                                            \n",
      "\u001b[34mINFO    \u001b[0m \u001b[1;36m1306127\u001b[0m cells subsampled                                                                                  \n",
      "\u001b[34mINFO    \u001b[0m \u001b[1;36m4000\u001b[0m genes subsampled                                                                                     \n"
     ]
    },
    {
     "ename": "",
     "evalue": "",
     "output_type": "error",
     "traceback": [
      "\u001b[1;31mCannot execute code, session has been disposed. Please try restarting the Kernel."
     ]
    },
    {
     "ename": "",
     "evalue": "",
     "output_type": "error",
     "traceback": [
      "\u001b[1;31mThe Kernel crashed while executing code in the the current cell or a previous cell. Please review the code in the cell(s) to identify a possible cause of the failure. Click <a href='https://aka.ms/vscodeJupyterKernelCrash'>here</a> for more info. View Jupyter <a href='command:jupyter.viewOutput'>log</a> for further details."
     ]
    }
   ],
   "source": [
    "adata = sc.read(\n",
    "    \"data/Immune_ALL_hum_mou\"\n",
    ")\n",
    "sc.pp.highly_variable_genes(adata, n_top_genes=4000, flavor=\"cell_ranger\", batch_key=\"batch\")\n",
    "sc.tl.pca(adata, n_comps=30, use_highly_variable=True)\n",
    "adata = adata[:, adata.var.highly_variable].copy()\n",
    "adata.obsm[\"Unintegrated\"] = adata.obsm[\"X_pca\"]\n",
    "scanoramaPredict(adata)\n",
    "adata.write_h5ad(filename=\"data/adataMou4.h5ad\")"
   ]
  },
  {
   "cell_type": "code",
   "execution_count": null,
   "metadata": {},
   "outputs": [],
   "source": []
  },
  {
   "cell_type": "code",
   "execution_count": null,
   "metadata": {},
   "outputs": [],
   "source": []
  }
 ],
 "metadata": {
  "kernelspec": {
   "display_name": "Python 3",
   "language": "python",
   "name": "python3"
  },
  "language_info": {
   "codemirror_mode": {
    "name": "ipython",
    "version": 3
   },
   "file_extension": ".py",
   "mimetype": "text/x-python",
   "name": "python",
   "nbconvert_exporter": "python",
   "pygments_lexer": "ipython3",
   "version": "3.11.4"
  },
  "orig_nbformat": 4
 },
 "nbformat": 4,
 "nbformat_minor": 2
}
