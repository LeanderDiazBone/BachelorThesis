{
 "cells": [
  {
   "cell_type": "code",
   "execution_count": null,
   "metadata": {},
   "outputs": [],
   "source": [
    "import numpy as np\n",
    "import scanpy as sc\n",
    "import anndata\n",
    "import scvi\n",
    "from scib_metrics.benchmark import Benchmarker\n",
    "import torch\n",
    "import scib_metrics\n",
    "from functions import *"
   ]
  },
  {
   "cell_type": "code",
   "execution_count": null,
   "metadata": {},
   "outputs": [],
   "source": [
    "adata = sc.read(\n",
    "    \"data/lung_atlas.h5ad\",\n",
    "    backup_url=\"https://figshare.com/ndownloader/files/24539942\",\n",
    ")\n",
    "sc.pp.highly_variable_genes(adata, n_top_genes=4000, flavor=\"cell_ranger\", batch_key=\"batch\")\n",
    "sc.tl.pca(adata, n_comps=30, use_highly_variable=True)\n",
    "adata = adata[:, adata.var.highly_variable].copy()\n",
    "adata.obsm[\"Unintegrated\"] = adata.obsm[\"X_pca\"]\n",
    "scanoramaPredict(adata)\n",
    "adata.write_h5ad(filename=\"data/adataLung4.h5ad\")"
   ]
  },
  {
   "cell_type": "code",
   "execution_count": null,
   "metadata": {},
   "outputs": [],
   "source": [
    "adata = sc.read(\n",
    "    \"data/human_pancreas_norm_complexBatch.h5ad\"\n",
    ")\n",
    "sc.pp.highly_variable_genes(adata, n_top_genes=4000, flavor=\"cell_ranger\", batch_key=\"tech\")\n",
    "sc.tl.pca(adata, n_comps=30, use_highly_variable=True)\n",
    "adata = adata[:, adata.var.highly_variable].copy()\n",
    "adata.obsm[\"Unintegrated\"] = adata.obsm[\"X_pca\"]\n",
    "scanoramaPredict(adata,batch_label=\"tech\")\n",
    "adata.write_h5ad(filename=\"data/adataHumPan4.h5ad\")"
   ]
  },
  {
   "cell_type": "code",
   "execution_count": null,
   "metadata": {},
   "outputs": [],
   "source": [
    "adata = sc.read(\n",
    "    \"data/Immune_ALL_human.h5ad\"\n",
    ")\n",
    "sc.pp.highly_variable_genes(adata, n_top_genes=4000, flavor=\"cell_ranger\", batch_key=\"batch\")\n",
    "sc.tl.pca(adata, n_comps=30, use_highly_variable=True)\n",
    "adata = adata[:, adata.var.highly_variable].copy()\n",
    "adata.obsm[\"Unintegrated\"] = adata.obsm[\"X_pca\"]\n",
    "scanoramaPredict(adata)\n",
    "adata.write_h5ad(filename=\"data/adataImmHum4.h5ad\")"
   ]
  },
  {
   "cell_type": "code",
   "execution_count": null,
   "metadata": {},
   "outputs": [],
   "source": []
  }
 ],
 "metadata": {
  "language_info": {
   "name": "python"
  },
  "orig_nbformat": 4
 },
 "nbformat": 4,
 "nbformat_minor": 2
}
