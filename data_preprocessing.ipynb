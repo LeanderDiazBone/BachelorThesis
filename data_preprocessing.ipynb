{
 "cells": [
  {
   "cell_type": "code",
   "execution_count": 11,
   "metadata": {},
   "outputs": [],
   "source": [
    "import numpy as np\n",
    "import scanpy as sc\n",
    "import anndata\n",
    "import scvi\n",
    "from scib_metrics.benchmark import Benchmarker\n",
    "import torch\n",
    "import scib_metrics\n",
    "from functions import *"
   ]
  },
  {
   "cell_type": "code",
   "execution_count": null,
   "metadata": {},
   "outputs": [],
   "source": [
    "adata = sc.read(\n",
    "    \"data/lung_atlas.h5ad\",\n",
    "    backup_url=\"https://figshare.com/ndownloader/files/24539942\",\n",
    ")\n",
    "sc.pp.highly_variable_genes(adata, n_top_genes=4000, flavor=\"cell_ranger\", batch_key=\"batch\")\n",
    "sc.tl.pca(adata, n_comps=30, use_highly_variable=True)\n",
    "adata = adata[:, adata.var.highly_variable].copy()\n",
    "adata.obsm[\"Unintegrated\"] = adata.obsm[\"X_pca\"]\n",
    "scanoramaPredict(adata)\n",
    "adata.write_h5ad(filename=\"data/adataLung4.h5ad\")"
   ]
  },
  {
   "cell_type": "code",
   "execution_count": null,
   "metadata": {},
   "outputs": [],
   "source": [
    "adata = sc.read(\n",
    "    \"data/lung_atlas.h5ad\",\n",
    "    backup_url=\"https://figshare.com/ndownloader/files/24539942\",\n",
    ")\n",
    "sc.pp.highly_variable_genes(adata, n_top_genes=4000, flavor=\"cell_ranger\", batch_key=\"batch\")\n",
    "sc.tl.pca(adata, n_comps=30, use_highly_variable=True)\n",
    "adata = adata[:, adata.var.highly_variable].copy()\n",
    "adata.obsm[\"Unintegrated\"] = adata.obsm[\"X_pca\"]\n",
    "scanoramaPredict(adata)\n",
    "adata.write_h5ad(filename=\"data/adataLung4.h5ad\")"
   ]
  },
  {
   "cell_type": "code",
   "execution_count": null,
   "metadata": {},
   "outputs": [],
   "source": [
    "adata = sc.read(\n",
    "    \"data/human_pancreas_norm_complexBatch.h5ad\"\n",
    ")\n",
    "sc.pp.highly_variable_genes(adata, n_top_genes=4000, flavor=\"cell_ranger\", batch_key=\"tech\")\n",
    "sc.tl.pca(adata, n_comps=30, use_highly_variable=True)\n",
    "adata = adata[:, adata.var.highly_variable].copy()\n",
    "adata.obsm[\"Unintegrated\"] = adata.obsm[\"X_pca\"]\n",
    "scanoramaPredict(adata,batch_label=\"tech\")\n",
    "adata.write_h5ad(filename=\"data/adataHumPan4.h5ad\")"
   ]
  },
  {
   "cell_type": "code",
   "execution_count": null,
   "metadata": {},
   "outputs": [],
   "source": [
    "adata = sc.read(\n",
    "    \"data/Immune_ALL_human.h5ad\"\n",
    ")\n",
    "sc.pp.highly_variable_genes(adata, n_top_genes=4000, flavor=\"cell_ranger\", batch_key=\"batch\")\n",
    "sc.tl.pca(adata, n_comps=30, use_highly_variable=True)\n",
    "adata = adata[:, adata.var.highly_variable].copy()\n",
    "adata.obsm[\"Unintegrated\"] = adata.obsm[\"X_pca\"]\n",
    "scanoramaPredict(adata)\n",
    "adata.write_h5ad(filename=\"data/adataImmHum4.h5ad\")"
   ]
  },
  {
   "cell_type": "code",
   "execution_count": 2,
   "metadata": {},
   "outputs": [
    {
     "name": "stdout",
     "output_type": "stream",
     "text": [
      "\u001b[34mINFO    \u001b[0m File ..\u001b[35m/data/\u001b[0m\u001b[95mbrain_large.h5\u001b[0m already downloaded                                                            \n",
      "\u001b[34mINFO    \u001b[0m Preprocessing Brain Large data                                                                            \n",
      "../data/brain_large.h5\n",
      "\u001b[34mINFO    \u001b[0m loaded \u001b[1;36m100000\u001b[0m \u001b[35m/\u001b[0m \u001b[1;36m1306127\u001b[0m cells                                                                             \n",
      "\u001b[34mINFO    \u001b[0m loaded \u001b[1;36m200000\u001b[0m \u001b[35m/\u001b[0m \u001b[1;36m1306127\u001b[0m cells                                                                             \n",
      "\u001b[34mINFO    \u001b[0m loaded \u001b[1;36m300000\u001b[0m \u001b[35m/\u001b[0m \u001b[1;36m1306127\u001b[0m cells                                                                             \n",
      "\u001b[34mINFO    \u001b[0m loaded \u001b[1;36m400000\u001b[0m \u001b[35m/\u001b[0m \u001b[1;36m1306127\u001b[0m cells                                                                             \n",
      "\u001b[34mINFO    \u001b[0m loaded \u001b[1;36m500000\u001b[0m \u001b[35m/\u001b[0m \u001b[1;36m1306127\u001b[0m cells                                                                             \n",
      "\u001b[34mINFO    \u001b[0m loaded \u001b[1;36m600000\u001b[0m \u001b[35m/\u001b[0m \u001b[1;36m1306127\u001b[0m cells                                                                             \n",
      "\u001b[34mINFO    \u001b[0m loaded \u001b[1;36m700000\u001b[0m \u001b[35m/\u001b[0m \u001b[1;36m1306127\u001b[0m cells                                                                             \n",
      "\u001b[34mINFO    \u001b[0m loaded \u001b[1;36m800000\u001b[0m \u001b[35m/\u001b[0m \u001b[1;36m1306127\u001b[0m cells                                                                             \n",
      "\u001b[34mINFO    \u001b[0m loaded \u001b[1;36m900000\u001b[0m \u001b[35m/\u001b[0m \u001b[1;36m1306127\u001b[0m cells                                                                             \n",
      "\u001b[34mINFO    \u001b[0m loaded \u001b[1;36m1000000\u001b[0m \u001b[35m/\u001b[0m \u001b[1;36m1306127\u001b[0m cells                                                                            \n",
      "\u001b[34mINFO    \u001b[0m loaded \u001b[1;36m1100000\u001b[0m \u001b[35m/\u001b[0m \u001b[1;36m1306127\u001b[0m cells                                                                            \n",
      "\u001b[34mINFO    \u001b[0m loaded \u001b[1;36m1200000\u001b[0m \u001b[35m/\u001b[0m \u001b[1;36m1306127\u001b[0m cells                                                                            \n",
      "\u001b[34mINFO    \u001b[0m loaded \u001b[1;36m1300000\u001b[0m \u001b[35m/\u001b[0m \u001b[1;36m1306127\u001b[0m cells                                                                            \n",
      "\u001b[34mINFO    \u001b[0m loaded \u001b[1;36m1306127\u001b[0m \u001b[35m/\u001b[0m \u001b[1;36m1306127\u001b[0m cells                                                                            \n",
      "\u001b[34mINFO    \u001b[0m \u001b[1;36m1306127\u001b[0m cells subsampled                                                                                  \n",
      "\u001b[34mINFO    \u001b[0m \u001b[1;36m4000\u001b[0m genes subsampled                                                                                     \n"
     ]
    },
    {
     "ename": "",
     "evalue": "",
     "output_type": "error",
     "traceback": [
      "\u001b[1;31mCannot execute code, session has been disposed. Please try restarting the Kernel."
     ]
    },
    {
     "ename": "",
     "evalue": "",
     "output_type": "error",
     "traceback": [
      "\u001b[1;31mThe Kernel crashed while executing code in the the current cell or a previous cell. Please review the code in the cell(s) to identify a possible cause of the failure. Click <a href='https://aka.ms/vscodeJupyterKernelCrash'>here</a> for more info. View Jupyter <a href='command:jupyter.viewOutput'>log</a> for further details."
     ]
    }
   ],
   "source": [
    "adata = sc.read(\n",
    "    \"data/Immune_ALL_hum_mou\"\n",
    ")\n",
    "sc.pp.highly_variable_genes(adata, n_top_genes=4000, flavor=\"cell_ranger\", batch_key=\"batch\")\n",
    "sc.tl.pca(adata, n_comps=30, use_highly_variable=True)\n",
    "adata = adata[:, adata.var.highly_variable].copy()\n",
    "adata.obsm[\"Unintegrated\"] = adata.obsm[\"X_pca\"]\n",
    "scanoramaPredict(adata)\n",
    "adata.write_h5ad(filename=\"data/adataMou4.h5ad\")"
   ]
  }
 ],
 "metadata": {
  "kernelspec": {
   "display_name": "Python 3",
   "language": "python",
   "name": "python3"
  },
  "language_info": {
   "codemirror_mode": {
    "name": "ipython",
    "version": 3
   },
   "file_extension": ".py",
   "mimetype": "text/x-python",
   "name": "python",
   "nbconvert_exporter": "python",
   "pygments_lexer": "ipython3",
   "version": "3.11.4"
  },
  "orig_nbformat": 4
 },
 "nbformat": 4,
 "nbformat_minor": 2
}
